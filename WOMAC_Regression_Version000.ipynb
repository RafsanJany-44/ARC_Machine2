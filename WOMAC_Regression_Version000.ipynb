{
  "nbformat": 4,
  "nbformat_minor": 0,
  "metadata": {
    "colab": {
      "name": "WOMAC_Regression_Version000.ipynb",
      "provenance": [],
      "include_colab_link": true
    },
    "kernelspec": {
      "name": "python3",
      "display_name": "Python 3"
    },
    "language_info": {
      "name": "python"
    }
  },
  "cells": [
    {
      "cell_type": "markdown",
      "metadata": {
        "id": "view-in-github",
        "colab_type": "text"
      },
      "source": [
        "<a href=\"https://colab.research.google.com/github/RafsanJany-44/ARC_Machine2/blob/main/WOMAC_Regression_Version000.ipynb\" target=\"_parent\"><img src=\"https://colab.research.google.com/assets/colab-badge.svg\" alt=\"Open In Colab\"/></a>"
      ]
    },
    {
      "cell_type": "code",
      "execution_count": null,
      "metadata": {
        "colab": {
          "base_uri": "https://localhost:8080/"
        },
        "id": "vj6jHu9WkVnY",
        "outputId": "1af8c596-47ab-41d6-fd42-a4fe66c087c4"
      },
      "outputs": [
        {
          "output_type": "stream",
          "name": "stdout",
          "text": [
            "Drive already mounted at /content/drive; to attempt to forcibly remount, call drive.mount(\"/content/drive\", force_remount=True).\n"
          ]
        }
      ],
      "source": [
        "from google.colab import drive\n",
        "drive.mount('/content/drive')"
      ]
    },
    {
      "cell_type": "code",
      "source": [
        "import numpy as np\n",
        "import pandas as pd\n",
        "dataset=pd.read_csv(\"/content/drive/MyDrive/SNU Research/KOA-EMG/KOA_EMG_WOMAC__2022.08.29_Final_W-tempo-spatial.csv\")\n"
      ],
      "metadata": {
        "id": "j77BeUU4sbVU"
      },
      "execution_count": null,
      "outputs": []
    },
    {
      "cell_type": "code",
      "source": [
        "dataset.head(10)"
      ],
      "metadata": {
        "colab": {
          "base_uri": "https://localhost:8080/",
          "height": 437
        },
        "id": "G14KmjKWsn2_",
        "outputId": "a1e21b1b-0f2c-461c-e531-a32f0a288d8f"
      },
      "execution_count": null,
      "outputs": [
        {
          "output_type": "execute_result",
          "data": {
            "text/plain": [
              "   Patient ID  WOMAC_total WOMAC Severity  DataType  CCI_TA-RF  CCI_G-MH  \\\n",
              "0       13308           22           Mild  Training       49.2      92.1   \n",
              "1       13489           35           Mild  Training      116.0     232.8   \n",
              "2       13489           35           Mild  Training      101.4      55.7   \n",
              "3       13532           33           Mild  Training      139.7      46.0   \n",
              "4       13549           30           Mild  Training      113.5      40.2   \n",
              "5       13603           24           Mild  Training      138.9      46.9   \n",
              "6       13603           24           Mild  Training      115.7     116.3   \n",
              "7       14017           27           Mild  Training      120.9     117.8   \n",
              "8       14315           22           Mild  Training      383.6      90.8   \n",
              "9       14320           32           Mild  Training      516.5     112.9   \n",
              "\n",
              "   CCI_TA-MH  CCI_G-RF  CCI_TA-G  CCI_MH-RF  ...   Lyapunov_TIBIALIS ANT  \\\n",
              "0       51.8     101.6      91.7       88.8  ...                    0.20   \n",
              "1      104.6     225.5      79.7      120.1  ...                    0.26   \n",
              "2       76.0      63.9     122.8       74.3  ...                    0.25   \n",
              "3       69.5      88.5     169.0       35.8  ...                    0.30   \n",
              "4      112.2      38.5     276.0      107.6  ...                    0.40   \n",
              "5       88.5      75.0     196.4       59.9  ...                    0.30   \n",
              "6       59.4      98.7     105.5      111.5  ...                    0.20   \n",
              "7      148.3     111.1     134.5      113.2  ...                    0.20   \n",
              "8      248.2     116.0     316.6       71.2  ...                    0.50   \n",
              "9      476.1     120.8     642.5       53.6  ...                    0.51   \n",
              "\n",
              "   Stance_CCI_TA-RF  Stance_CCI_G-MH  Stance_CCI_TA-G  Swing_CCI_TA-RF  \\\n",
              "0         48.935608       120.815090        86.949185        49.662771   \n",
              "1         52.187204       244.146045        46.506634       189.255449   \n",
              "2         70.259125        70.225682        75.729112       141.818740   \n",
              "3        151.986792        28.925641       219.105386       123.184526   \n",
              "4        145.992226        53.319007       377.515540        79.111070   \n",
              "5        117.810653        73.077828       110.776839       162.105887   \n",
              "6        145.036660       170.309456       111.502357        81.943900   \n",
              "7        112.554201       129.825565       113.366679       131.194966   \n",
              "8        272.857378       113.760720       269.374236       527.035183   \n",
              "9        450.214119       168.273023       322.676333       602.362752   \n",
              "\n",
              "   Swing_CCI_G-MH  Swing_CCI_TA-G  swing/stance_cci(TA_RF)  \\\n",
              "0       30.602679      101.914340                 1.014860   \n",
              "1      211.104414      134.602751                 3.626472   \n",
              "2       28.911669      211.453368                 2.018510   \n",
              "3       78.659590       70.327124                 0.810495   \n",
              "4       20.960417      121.125857                 0.541885   \n",
              "5       12.947782      332.512464                 1.375987   \n",
              "6       28.319855       95.662700                 0.564987   \n",
              "7       96.447210      172.600617                 1.165616   \n",
              "8       53.072994      405.670765                 1.931541   \n",
              "9       18.657880     1245.728157                 1.337947   \n",
              "\n",
              "   swing/stance_cci(G-MH)  swing/stance_CCI(TA-G)  \n",
              "0                0.253302                1.172114  \n",
              "1                0.864664                2.894270  \n",
              "2                0.411697                2.792234  \n",
              "3                2.719372                0.320974  \n",
              "4                0.393113                0.320850  \n",
              "5                0.177178                3.001642  \n",
              "6                0.166285                0.857943  \n",
              "7                0.742898                1.522499  \n",
              "8                0.466532                1.505975  \n",
              "9                0.110879                3.860612  \n",
              "\n",
              "[10 rows x 88 columns]"
            ],
            "text/html": [
              "\n",
              "  <div id=\"df-f753a20b-2507-4533-86c1-29a8ea3250a4\">\n",
              "    <div class=\"colab-df-container\">\n",
              "      <div>\n",
              "<style scoped>\n",
              "    .dataframe tbody tr th:only-of-type {\n",
              "        vertical-align: middle;\n",
              "    }\n",
              "\n",
              "    .dataframe tbody tr th {\n",
              "        vertical-align: top;\n",
              "    }\n",
              "\n",
              "    .dataframe thead th {\n",
              "        text-align: right;\n",
              "    }\n",
              "</style>\n",
              "<table border=\"1\" class=\"dataframe\">\n",
              "  <thead>\n",
              "    <tr style=\"text-align: right;\">\n",
              "      <th></th>\n",
              "      <th>Patient ID</th>\n",
              "      <th>WOMAC_total</th>\n",
              "      <th>WOMAC Severity</th>\n",
              "      <th>DataType</th>\n",
              "      <th>CCI_TA-RF</th>\n",
              "      <th>CCI_G-MH</th>\n",
              "      <th>CCI_TA-MH</th>\n",
              "      <th>CCI_G-RF</th>\n",
              "      <th>CCI_TA-G</th>\n",
              "      <th>CCI_MH-RF</th>\n",
              "      <th>...</th>\n",
              "      <th>Lyapunov_TIBIALIS ANT</th>\n",
              "      <th>Stance_CCI_TA-RF</th>\n",
              "      <th>Stance_CCI_G-MH</th>\n",
              "      <th>Stance_CCI_TA-G</th>\n",
              "      <th>Swing_CCI_TA-RF</th>\n",
              "      <th>Swing_CCI_G-MH</th>\n",
              "      <th>Swing_CCI_TA-G</th>\n",
              "      <th>swing/stance_cci(TA_RF)</th>\n",
              "      <th>swing/stance_cci(G-MH)</th>\n",
              "      <th>swing/stance_CCI(TA-G)</th>\n",
              "    </tr>\n",
              "  </thead>\n",
              "  <tbody>\n",
              "    <tr>\n",
              "      <th>0</th>\n",
              "      <td>13308</td>\n",
              "      <td>22</td>\n",
              "      <td>Mild</td>\n",
              "      <td>Training</td>\n",
              "      <td>49.2</td>\n",
              "      <td>92.1</td>\n",
              "      <td>51.8</td>\n",
              "      <td>101.6</td>\n",
              "      <td>91.7</td>\n",
              "      <td>88.8</td>\n",
              "      <td>...</td>\n",
              "      <td>0.20</td>\n",
              "      <td>48.935608</td>\n",
              "      <td>120.815090</td>\n",
              "      <td>86.949185</td>\n",
              "      <td>49.662771</td>\n",
              "      <td>30.602679</td>\n",
              "      <td>101.914340</td>\n",
              "      <td>1.014860</td>\n",
              "      <td>0.253302</td>\n",
              "      <td>1.172114</td>\n",
              "    </tr>\n",
              "    <tr>\n",
              "      <th>1</th>\n",
              "      <td>13489</td>\n",
              "      <td>35</td>\n",
              "      <td>Mild</td>\n",
              "      <td>Training</td>\n",
              "      <td>116.0</td>\n",
              "      <td>232.8</td>\n",
              "      <td>104.6</td>\n",
              "      <td>225.5</td>\n",
              "      <td>79.7</td>\n",
              "      <td>120.1</td>\n",
              "      <td>...</td>\n",
              "      <td>0.26</td>\n",
              "      <td>52.187204</td>\n",
              "      <td>244.146045</td>\n",
              "      <td>46.506634</td>\n",
              "      <td>189.255449</td>\n",
              "      <td>211.104414</td>\n",
              "      <td>134.602751</td>\n",
              "      <td>3.626472</td>\n",
              "      <td>0.864664</td>\n",
              "      <td>2.894270</td>\n",
              "    </tr>\n",
              "    <tr>\n",
              "      <th>2</th>\n",
              "      <td>13489</td>\n",
              "      <td>35</td>\n",
              "      <td>Mild</td>\n",
              "      <td>Training</td>\n",
              "      <td>101.4</td>\n",
              "      <td>55.7</td>\n",
              "      <td>76.0</td>\n",
              "      <td>63.9</td>\n",
              "      <td>122.8</td>\n",
              "      <td>74.3</td>\n",
              "      <td>...</td>\n",
              "      <td>0.25</td>\n",
              "      <td>70.259125</td>\n",
              "      <td>70.225682</td>\n",
              "      <td>75.729112</td>\n",
              "      <td>141.818740</td>\n",
              "      <td>28.911669</td>\n",
              "      <td>211.453368</td>\n",
              "      <td>2.018510</td>\n",
              "      <td>0.411697</td>\n",
              "      <td>2.792234</td>\n",
              "    </tr>\n",
              "    <tr>\n",
              "      <th>3</th>\n",
              "      <td>13532</td>\n",
              "      <td>33</td>\n",
              "      <td>Mild</td>\n",
              "      <td>Training</td>\n",
              "      <td>139.7</td>\n",
              "      <td>46.0</td>\n",
              "      <td>69.5</td>\n",
              "      <td>88.5</td>\n",
              "      <td>169.0</td>\n",
              "      <td>35.8</td>\n",
              "      <td>...</td>\n",
              "      <td>0.30</td>\n",
              "      <td>151.986792</td>\n",
              "      <td>28.925641</td>\n",
              "      <td>219.105386</td>\n",
              "      <td>123.184526</td>\n",
              "      <td>78.659590</td>\n",
              "      <td>70.327124</td>\n",
              "      <td>0.810495</td>\n",
              "      <td>2.719372</td>\n",
              "      <td>0.320974</td>\n",
              "    </tr>\n",
              "    <tr>\n",
              "      <th>4</th>\n",
              "      <td>13549</td>\n",
              "      <td>30</td>\n",
              "      <td>Mild</td>\n",
              "      <td>Training</td>\n",
              "      <td>113.5</td>\n",
              "      <td>40.2</td>\n",
              "      <td>112.2</td>\n",
              "      <td>38.5</td>\n",
              "      <td>276.0</td>\n",
              "      <td>107.6</td>\n",
              "      <td>...</td>\n",
              "      <td>0.40</td>\n",
              "      <td>145.992226</td>\n",
              "      <td>53.319007</td>\n",
              "      <td>377.515540</td>\n",
              "      <td>79.111070</td>\n",
              "      <td>20.960417</td>\n",
              "      <td>121.125857</td>\n",
              "      <td>0.541885</td>\n",
              "      <td>0.393113</td>\n",
              "      <td>0.320850</td>\n",
              "    </tr>\n",
              "    <tr>\n",
              "      <th>5</th>\n",
              "      <td>13603</td>\n",
              "      <td>24</td>\n",
              "      <td>Mild</td>\n",
              "      <td>Training</td>\n",
              "      <td>138.9</td>\n",
              "      <td>46.9</td>\n",
              "      <td>88.5</td>\n",
              "      <td>75.0</td>\n",
              "      <td>196.4</td>\n",
              "      <td>59.9</td>\n",
              "      <td>...</td>\n",
              "      <td>0.30</td>\n",
              "      <td>117.810653</td>\n",
              "      <td>73.077828</td>\n",
              "      <td>110.776839</td>\n",
              "      <td>162.105887</td>\n",
              "      <td>12.947782</td>\n",
              "      <td>332.512464</td>\n",
              "      <td>1.375987</td>\n",
              "      <td>0.177178</td>\n",
              "      <td>3.001642</td>\n",
              "    </tr>\n",
              "    <tr>\n",
              "      <th>6</th>\n",
              "      <td>13603</td>\n",
              "      <td>24</td>\n",
              "      <td>Mild</td>\n",
              "      <td>Training</td>\n",
              "      <td>115.7</td>\n",
              "      <td>116.3</td>\n",
              "      <td>59.4</td>\n",
              "      <td>98.7</td>\n",
              "      <td>105.5</td>\n",
              "      <td>111.5</td>\n",
              "      <td>...</td>\n",
              "      <td>0.20</td>\n",
              "      <td>145.036660</td>\n",
              "      <td>170.309456</td>\n",
              "      <td>111.502357</td>\n",
              "      <td>81.943900</td>\n",
              "      <td>28.319855</td>\n",
              "      <td>95.662700</td>\n",
              "      <td>0.564987</td>\n",
              "      <td>0.166285</td>\n",
              "      <td>0.857943</td>\n",
              "    </tr>\n",
              "    <tr>\n",
              "      <th>7</th>\n",
              "      <td>14017</td>\n",
              "      <td>27</td>\n",
              "      <td>Mild</td>\n",
              "      <td>Training</td>\n",
              "      <td>120.9</td>\n",
              "      <td>117.8</td>\n",
              "      <td>148.3</td>\n",
              "      <td>111.1</td>\n",
              "      <td>134.5</td>\n",
              "      <td>113.2</td>\n",
              "      <td>...</td>\n",
              "      <td>0.20</td>\n",
              "      <td>112.554201</td>\n",
              "      <td>129.825565</td>\n",
              "      <td>113.366679</td>\n",
              "      <td>131.194966</td>\n",
              "      <td>96.447210</td>\n",
              "      <td>172.600617</td>\n",
              "      <td>1.165616</td>\n",
              "      <td>0.742898</td>\n",
              "      <td>1.522499</td>\n",
              "    </tr>\n",
              "    <tr>\n",
              "      <th>8</th>\n",
              "      <td>14315</td>\n",
              "      <td>22</td>\n",
              "      <td>Mild</td>\n",
              "      <td>Training</td>\n",
              "      <td>383.6</td>\n",
              "      <td>90.8</td>\n",
              "      <td>248.2</td>\n",
              "      <td>116.0</td>\n",
              "      <td>316.6</td>\n",
              "      <td>71.2</td>\n",
              "      <td>...</td>\n",
              "      <td>0.50</td>\n",
              "      <td>272.857378</td>\n",
              "      <td>113.760720</td>\n",
              "      <td>269.374236</td>\n",
              "      <td>527.035183</td>\n",
              "      <td>53.072994</td>\n",
              "      <td>405.670765</td>\n",
              "      <td>1.931541</td>\n",
              "      <td>0.466532</td>\n",
              "      <td>1.505975</td>\n",
              "    </tr>\n",
              "    <tr>\n",
              "      <th>9</th>\n",
              "      <td>14320</td>\n",
              "      <td>32</td>\n",
              "      <td>Mild</td>\n",
              "      <td>Training</td>\n",
              "      <td>516.5</td>\n",
              "      <td>112.9</td>\n",
              "      <td>476.1</td>\n",
              "      <td>120.8</td>\n",
              "      <td>642.5</td>\n",
              "      <td>53.6</td>\n",
              "      <td>...</td>\n",
              "      <td>0.51</td>\n",
              "      <td>450.214119</td>\n",
              "      <td>168.273023</td>\n",
              "      <td>322.676333</td>\n",
              "      <td>602.362752</td>\n",
              "      <td>18.657880</td>\n",
              "      <td>1245.728157</td>\n",
              "      <td>1.337947</td>\n",
              "      <td>0.110879</td>\n",
              "      <td>3.860612</td>\n",
              "    </tr>\n",
              "  </tbody>\n",
              "</table>\n",
              "<p>10 rows × 88 columns</p>\n",
              "</div>\n",
              "      <button class=\"colab-df-convert\" onclick=\"convertToInteractive('df-f753a20b-2507-4533-86c1-29a8ea3250a4')\"\n",
              "              title=\"Convert this dataframe to an interactive table.\"\n",
              "              style=\"display:none;\">\n",
              "        \n",
              "  <svg xmlns=\"http://www.w3.org/2000/svg\" height=\"24px\"viewBox=\"0 0 24 24\"\n",
              "       width=\"24px\">\n",
              "    <path d=\"M0 0h24v24H0V0z\" fill=\"none\"/>\n",
              "    <path d=\"M18.56 5.44l.94 2.06.94-2.06 2.06-.94-2.06-.94-.94-2.06-.94 2.06-2.06.94zm-11 1L8.5 8.5l.94-2.06 2.06-.94-2.06-.94L8.5 2.5l-.94 2.06-2.06.94zm10 10l.94 2.06.94-2.06 2.06-.94-2.06-.94-.94-2.06-.94 2.06-2.06.94z\"/><path d=\"M17.41 7.96l-1.37-1.37c-.4-.4-.92-.59-1.43-.59-.52 0-1.04.2-1.43.59L10.3 9.45l-7.72 7.72c-.78.78-.78 2.05 0 2.83L4 21.41c.39.39.9.59 1.41.59.51 0 1.02-.2 1.41-.59l7.78-7.78 2.81-2.81c.8-.78.8-2.07 0-2.86zM5.41 20L4 18.59l7.72-7.72 1.47 1.35L5.41 20z\"/>\n",
              "  </svg>\n",
              "      </button>\n",
              "      \n",
              "  <style>\n",
              "    .colab-df-container {\n",
              "      display:flex;\n",
              "      flex-wrap:wrap;\n",
              "      gap: 12px;\n",
              "    }\n",
              "\n",
              "    .colab-df-convert {\n",
              "      background-color: #E8F0FE;\n",
              "      border: none;\n",
              "      border-radius: 50%;\n",
              "      cursor: pointer;\n",
              "      display: none;\n",
              "      fill: #1967D2;\n",
              "      height: 32px;\n",
              "      padding: 0 0 0 0;\n",
              "      width: 32px;\n",
              "    }\n",
              "\n",
              "    .colab-df-convert:hover {\n",
              "      background-color: #E2EBFA;\n",
              "      box-shadow: 0px 1px 2px rgba(60, 64, 67, 0.3), 0px 1px 3px 1px rgba(60, 64, 67, 0.15);\n",
              "      fill: #174EA6;\n",
              "    }\n",
              "\n",
              "    [theme=dark] .colab-df-convert {\n",
              "      background-color: #3B4455;\n",
              "      fill: #D2E3FC;\n",
              "    }\n",
              "\n",
              "    [theme=dark] .colab-df-convert:hover {\n",
              "      background-color: #434B5C;\n",
              "      box-shadow: 0px 1px 3px 1px rgba(0, 0, 0, 0.15);\n",
              "      filter: drop-shadow(0px 1px 2px rgba(0, 0, 0, 0.3));\n",
              "      fill: #FFFFFF;\n",
              "    }\n",
              "  </style>\n",
              "\n",
              "      <script>\n",
              "        const buttonEl =\n",
              "          document.querySelector('#df-f753a20b-2507-4533-86c1-29a8ea3250a4 button.colab-df-convert');\n",
              "        buttonEl.style.display =\n",
              "          google.colab.kernel.accessAllowed ? 'block' : 'none';\n",
              "\n",
              "        async function convertToInteractive(key) {\n",
              "          const element = document.querySelector('#df-f753a20b-2507-4533-86c1-29a8ea3250a4');\n",
              "          const dataTable =\n",
              "            await google.colab.kernel.invokeFunction('convertToInteractive',\n",
              "                                                     [key], {});\n",
              "          if (!dataTable) return;\n",
              "\n",
              "          const docLinkHtml = 'Like what you see? Visit the ' +\n",
              "            '<a target=\"_blank\" href=https://colab.research.google.com/notebooks/data_table.ipynb>data table notebook</a>'\n",
              "            + ' to learn more about interactive tables.';\n",
              "          element.innerHTML = '';\n",
              "          dataTable['output_type'] = 'display_data';\n",
              "          await google.colab.output.renderOutput(dataTable, element);\n",
              "          const docLink = document.createElement('div');\n",
              "          docLink.innerHTML = docLinkHtml;\n",
              "          element.appendChild(docLink);\n",
              "        }\n",
              "      </script>\n",
              "    </div>\n",
              "  </div>\n",
              "  "
            ]
          },
          "metadata": {},
          "execution_count": 44
        }
      ]
    },
    {
      "cell_type": "code",
      "source": [
        "dataset.shape"
      ],
      "metadata": {
        "colab": {
          "base_uri": "https://localhost:8080/"
        },
        "id": "CSHw6o9psp-a",
        "outputId": "83d36b2a-a848-4599-8e6b-47fdc0940dfb"
      },
      "execution_count": null,
      "outputs": [
        {
          "output_type": "execute_result",
          "data": {
            "text/plain": [
              "(150, 88)"
            ]
          },
          "metadata": {},
          "execution_count": 45
        }
      ]
    },
    {
      "cell_type": "code",
      "source": [
        "X = dataset.iloc[:,4:]\n",
        "y = dataset.iloc[:, 1]"
      ],
      "metadata": {
        "id": "AiTKRXiY0mdy"
      },
      "execution_count": null,
      "outputs": []
    },
    {
      "cell_type": "code",
      "source": [
        "'''\n",
        "from sklearn.model_selection import train_test_split\n",
        "X_train, X_test, y_train, y_test = train_test_split(X, y, test_size = 0.2, random_state = 0)\n",
        "'''"
      ],
      "metadata": {
        "id": "gzJ19cN22KsU",
        "colab": {
          "base_uri": "https://localhost:8080/",
          "height": 35
        },
        "outputId": "01b55187-8e53-42e3-9413-9089ce8f5156"
      },
      "execution_count": null,
      "outputs": [
        {
          "output_type": "execute_result",
          "data": {
            "text/plain": [
              "'\\nfrom sklearn.model_selection import train_test_split\\nX_train, X_test, y_train, y_test = train_test_split(X, y, test_size = 0.2, random_state = 0)\\n'"
            ],
            "application/vnd.google.colaboratory.intrinsic+json": {
              "type": "string"
            }
          },
          "metadata": {},
          "execution_count": 47
        }
      ]
    },
    {
      "cell_type": "code",
      "source": [
        "from sklearn.feature_selection import SelectKBest\n",
        "bestfeatures = SelectKBest(k=10)\n",
        "fit = bestfeatures.fit(X,y)"
      ],
      "metadata": {
        "id": "7SpMLBfwJhMa"
      },
      "execution_count": null,
      "outputs": []
    },
    {
      "cell_type": "code",
      "source": [
        "dfscores = pd.DataFrame(fit.scores_)\n",
        "dfcolumns = pd.DataFrame(X.columns)"
      ],
      "metadata": {
        "id": "PxTD8_-jJjtJ"
      },
      "execution_count": null,
      "outputs": []
    },
    {
      "cell_type": "code",
      "source": [
        "featureScores = pd.concat([dfcolumns,dfscores],axis=1)\n",
        "featureScores.columns = ['Specs','Score']"
      ],
      "metadata": {
        "id": "NJpll3U8Jljl"
      },
      "execution_count": null,
      "outputs": []
    },
    {
      "cell_type": "code",
      "source": [
        "number_of_feat=int(input(\"Number Of Best Features: \"))"
      ],
      "metadata": {
        "colab": {
          "base_uri": "https://localhost:8080/"
        },
        "id": "373RpO7uJnRv",
        "outputId": "abebf2d4-0710-42c6-9fb7-becc1c346b4e"
      },
      "execution_count": null,
      "outputs": [
        {
          "name": "stdout",
          "output_type": "stream",
          "text": [
            "Number Of Best Features: 30\n"
          ]
        }
      ]
    },
    {
      "cell_type": "code",
      "source": [
        "imp=featureScores.nlargest(number_of_feat,'Score')\n",
        "print(imp)"
      ],
      "metadata": {
        "colab": {
          "base_uri": "https://localhost:8080/"
        },
        "id": "wpio-fXlJpVd",
        "outputId": "6bdc3ec3-89e4-4dd0-b3b6-d8d8b99df291"
      },
      "execution_count": null,
      "outputs": [
        {
          "output_type": "stream",
          "name": "stdout",
          "text": [
            "                      Specs     Score\n",
            "80           Swing_CCI_TA-G  3.824733\n",
            "81  swing/stance_cci(TA_RF)  3.055398\n",
            "12                Step_Time  2.256754\n",
            "11              Step_Length  2.011332\n",
            "10            Stride_Length  1.991660\n",
            "8                   Cadence  1.916946\n",
            "34     Max-Min T_MEDIAL HAM  1.815930\n",
            "83   swing/stance_CCI(TA-G)  1.724589\n",
            "58     Lin_reg_TIBIALIS ANT  1.650605\n",
            "3                  CCI_G-RF  1.594176\n",
            "9                     Speed  1.547062\n",
            "53            Average_AUC_F  1.430273\n",
            "26         Max T_MEDIAL HAM  1.401292\n",
            "4                  CCI_TA-G  1.314952\n",
            "71          Lyapunov_RECTUS  1.311960\n",
            "43       Average_Integral_U  1.311572\n",
            "46              Area_RECTUS  1.310099\n",
            "67            Stddev_RECTUS  1.277695\n",
            "78          Swing_CCI_TA-RF  1.240789\n",
            "21               Min_RECTUS  1.237807\n",
            "56       Lin_reg_MEDIAL HAM  1.225179\n",
            "57    Lin_reg_GASTROCNEMIUS  1.212877\n",
            "6                   CCI_L-H  1.206483\n",
            "37          Integral_RECTUS  1.188077\n",
            "72      Lyapunov_MEDIAL HAM  1.173754\n",
            "2                 CCI_TA-MH  1.133316\n",
            "70      Stddev_TIBIALIS ANT  1.121735\n",
            "7                   CCI_F-B  1.106094\n",
            "48       Area_GASTROCNEMIUS  1.099323\n",
            "49        Area_TIBIALIS ANT  1.096584\n"
          ]
        }
      ]
    },
    {
      "cell_type": "code",
      "source": [
        "list_of_feat=[]\n",
        "\n",
        "for i in range(number_of_feat):\n",
        "  list_of_feat.append(imp.iloc[:,0:1].values[i][0])"
      ],
      "metadata": {
        "id": "Y2yoQPagJwWu"
      },
      "execution_count": null,
      "outputs": []
    },
    {
      "cell_type": "code",
      "source": [
        "X_new = dataset[list_of_feat]\n",
        "y_new = dataset.iloc[:, 1]"
      ],
      "metadata": {
        "id": "Avu3cnS0JyV-"
      },
      "execution_count": null,
      "outputs": []
    },
    {
      "cell_type": "code",
      "source": [
        "X_train=X_new.iloc[:120,:]  \n",
        "X_test=X_new.iloc[120:,:]\n",
        "y_train=y_new.iloc[:120]\n",
        "y_test=y_new.iloc[120:]"
      ],
      "metadata": {
        "id": "mf2hSZmlAygT"
      },
      "execution_count": null,
      "outputs": []
    },
    {
      "cell_type": "code",
      "source": [
        "from sklearn.linear_model import LinearRegression\n",
        "\n",
        "lin_reg = LinearRegression()\n",
        "lin_reg.fit(X_train, y_train)\n",
        "y_pred = lin_reg.predict(X_test)\n"
      ],
      "metadata": {
        "id": "lU9NGIxw2RWg"
      },
      "execution_count": null,
      "outputs": []
    },
    {
      "cell_type": "code",
      "source": [
        "print(y_pred.shape)"
      ],
      "metadata": {
        "colab": {
          "base_uri": "https://localhost:8080/"
        },
        "id": "-nXdhO21uHFE",
        "outputId": "1105dc15-470f-473e-ebfc-e81d0b350309"
      },
      "execution_count": null,
      "outputs": [
        {
          "output_type": "stream",
          "name": "stdout",
          "text": [
            "(30,)\n"
          ]
        }
      ]
    },
    {
      "cell_type": "code",
      "source": [
        "from sklearn.metrics import r2_score,mean_squared_error\n",
        "r2_score(y_test,y_pred)"
      ],
      "metadata": {
        "colab": {
          "base_uri": "https://localhost:8080/"
        },
        "id": "mRj0_o_wuTG4",
        "outputId": "bad9d9c0-988b-451f-de9c-86d8306a7336"
      },
      "execution_count": null,
      "outputs": [
        {
          "output_type": "execute_result",
          "data": {
            "text/plain": [
              "0.14032251131333906"
            ]
          },
          "metadata": {},
          "execution_count": 58
        }
      ]
    },
    {
      "cell_type": "code",
      "source": [
        "r_sq = lin_reg.score(X_new, y_new)\n",
        "print(r_sq)"
      ],
      "metadata": {
        "colab": {
          "base_uri": "https://localhost:8080/"
        },
        "id": "U8wTF7MHvh3S",
        "outputId": "c4afe81f-b471-4d37-aadb-ce155223534d"
      },
      "execution_count": null,
      "outputs": [
        {
          "output_type": "stream",
          "name": "stdout",
          "text": [
            "0.37140451200586344\n"
          ]
        }
      ]
    },
    {
      "cell_type": "code",
      "source": [
        "r_sq_test = lin_reg.score(X_test, y_pred)\n",
        "print(r_sq_test)"
      ],
      "metadata": {
        "colab": {
          "base_uri": "https://localhost:8080/"
        },
        "id": "ItP1GkjXL2qM",
        "outputId": "4dc2b203-2494-4930-dd8e-5b9b01cc74ca"
      },
      "execution_count": null,
      "outputs": [
        {
          "output_type": "stream",
          "name": "stdout",
          "text": [
            "0.7188598970531929\n"
          ]
        }
      ]
    },
    {
      "cell_type": "code",
      "source": [],
      "metadata": {
        "id": "Axa1EpuNw6bs"
      },
      "execution_count": null,
      "outputs": []
    },
    {
      "cell_type": "code",
      "source": [
        "import matplotlib.pyplot as plt\n",
        "plt.figure(figsize=(15,10))\n",
        "plt.scatter(y_test, y_pred, color = \"red\")\n",
        "plt.xlabel(\"Actual\")\n",
        "plt.ylabel(\"Predicted\")\n",
        "plt.show()"
      ],
      "metadata": {
        "colab": {
          "base_uri": "https://localhost:8080/",
          "height": 611
        },
        "id": "bqDGyYc8vjk1",
        "outputId": "191f9f26-63ab-4968-adf5-73e43e4d79a5"
      },
      "execution_count": null,
      "outputs": [
        {
          "output_type": "display_data",
          "data": {
            "text/plain": [
              "<Figure size 1080x720 with 1 Axes>"
            ],
            "image/png": "[encoded data removed]"
          },
          "metadata": {}
        }
      ]
    },
    {
      "cell_type": "code",
      "source": [
        "pred_y_df=pd.DataFrame(\n",
        "    {\n",
        "        \"Actual Value\":y_test,\n",
        "        \"Predicted Value\":y_pred,\n",
        "        \"Difference\":y_test-y_pred\n",
        "    }\n",
        ")\n",
        "\n",
        "pred_y_df\n"
      ],
      "metadata": {
        "colab": {
          "base_uri": "https://localhost:8080/",
          "height": 990
        },
        "id": "we5fm-kfxYww",
        "outputId": "d03a2698-10c8-483e-dc30-b250f66549ba"
      },
      "execution_count": null,
      "outputs": [
        {
          "output_type": "execute_result",
          "data": {
            "text/plain": [
              "     Actual Value  Predicted Value  Difference\n",
              "120            23        35.939797  -12.939797\n",
              "121            19        33.270489  -14.270489\n",
              "122            11        38.112780  -27.112780\n",
              "123            30        39.566238   -9.566238\n",
              "124            23        37.512483  -14.512483\n",
              "125            34        36.153943   -2.153943\n",
              "126            28        25.396453    2.603547\n",
              "127            40        46.416083   -6.416083\n",
              "128            42        66.340449  -24.340449\n",
              "129            42        50.852712   -8.852712\n",
              "130            41        39.846317    1.153683\n",
              "131            47        34.352265   12.647735\n",
              "132            53        42.157025   10.842975\n",
              "133            53        54.115191   -1.115191\n",
              "134            41        40.719527    0.280473\n",
              "135            38        38.830298   -0.830298\n",
              "136            55        57.917324   -2.917324\n",
              "137            45        44.455586    0.544414\n",
              "138            56        51.294702    4.705298\n",
              "139            53        42.759199   10.240801\n",
              "140            53        57.322756   -4.322756\n",
              "141            54        35.524309   18.475691\n",
              "142            54        24.612356   29.387644\n",
              "143            54        63.688202   -9.688202\n",
              "144            74        58.055888   15.944112\n",
              "145            74        50.067925   23.932075\n",
              "146            95        38.779620   56.220380\n",
              "147            95        61.257492   33.742508\n",
              "148            63        39.826303   23.173697\n",
              "149            68        50.789467   17.210533"
            ],
            "text/html": [
              "\n",
              "  <div id=\"df-85c0824d-0c17-4627-a12b-037d52fb9713\">\n",
              "    <div class=\"colab-df-container\">\n",
              "      <div>\n",
              "<style scoped>\n",
              "    .dataframe tbody tr th:only-of-type {\n",
              "        vertical-align: middle;\n",
              "    }\n",
              "\n",
              "    .dataframe tbody tr th {\n",
              "        vertical-align: top;\n",
              "    }\n",
              "\n",
              "    .dataframe thead th {\n",
              "        text-align: right;\n",
              "    }\n",
              "</style>\n",
              "<table border=\"1\" class=\"dataframe\">\n",
              "  <thead>\n",
              "    <tr style=\"text-align: right;\">\n",
              "      <th></th>\n",
              "      <th>Actual Value</th>\n",
              "      <th>Predicted Value</th>\n",
              "      <th>Difference</th>\n",
              "    </tr>\n",
              "  </thead>\n",
              "  <tbody>\n",
              "    <tr>\n",
              "      <th>120</th>\n",
              "      <td>23</td>\n",
              "      <td>35.939797</td>\n",
              "      <td>-12.939797</td>\n",
              "    </tr>\n",
              "    <tr>\n",
              "      <th>121</th>\n",
              "      <td>19</td>\n",
              "      <td>33.270489</td>\n",
              "      <td>-14.270489</td>\n",
              "    </tr>\n",
              "    <tr>\n",
              "      <th>122</th>\n",
              "      <td>11</td>\n",
              "      <td>38.112780</td>\n",
              "      <td>-27.112780</td>\n",
              "    </tr>\n",
              "    <tr>\n",
              "      <th>123</th>\n",
              "      <td>30</td>\n",
              "      <td>39.566238</td>\n",
              "      <td>-9.566238</td>\n",
              "    </tr>\n",
              "    <tr>\n",
              "      <th>124</th>\n",
              "      <td>23</td>\n",
              "      <td>37.512483</td>\n",
              "      <td>-14.512483</td>\n",
              "    </tr>\n",
              "    <tr>\n",
              "      <th>125</th>\n",
              "      <td>34</td>\n",
              "      <td>36.153943</td>\n",
              "      <td>-2.153943</td>\n",
              "    </tr>\n",
              "    <tr>\n",
              "      <th>126</th>\n",
              "      <td>28</td>\n",
              "      <td>25.396453</td>\n",
              "      <td>2.603547</td>\n",
              "    </tr>\n",
              "    <tr>\n",
              "      <th>127</th>\n",
              "      <td>40</td>\n",
              "      <td>46.416083</td>\n",
              "      <td>-6.416083</td>\n",
              "    </tr>\n",
              "    <tr>\n",
              "      <th>128</th>\n",
              "      <td>42</td>\n",
              "      <td>66.340449</td>\n",
              "      <td>-24.340449</td>\n",
              "    </tr>\n",
              "    <tr>\n",
              "      <th>129</th>\n",
              "      <td>42</td>\n",
              "      <td>50.852712</td>\n",
              "      <td>-8.852712</td>\n",
              "    </tr>\n",
              "    <tr>\n",
              "      <th>130</th>\n",
              "      <td>41</td>\n",
              "      <td>39.846317</td>\n",
              "      <td>1.153683</td>\n",
              "    </tr>\n",
              "    <tr>\n",
              "      <th>131</th>\n",
              "      <td>47</td>\n",
              "      <td>34.352265</td>\n",
              "      <td>12.647735</td>\n",
              "    </tr>\n",
              "    <tr>\n",
              "      <th>132</th>\n",
              "      <td>53</td>\n",
              "      <td>42.157025</td>\n",
              "      <td>10.842975</td>\n",
              "    </tr>\n",
              "    <tr>\n",
              "      <th>133</th>\n",
              "      <td>53</td>\n",
              "      <td>54.115191</td>\n",
              "      <td>-1.115191</td>\n",
              "    </tr>\n",
              "    <tr>\n",
              "      <th>134</th>\n",
              "      <td>41</td>\n",
              "      <td>40.719527</td>\n",
              "      <td>0.280473</td>\n",
              "    </tr>\n",
              "    <tr>\n",
              "      <th>135</th>\n",
              "      <td>38</td>\n",
              "      <td>38.830298</td>\n",
              "      <td>-0.830298</td>\n",
              "    </tr>\n",
              "    <tr>\n",
              "      <th>136</th>\n",
              "      <td>55</td>\n",
              "      <td>57.917324</td>\n",
              "      <td>-2.917324</td>\n",
              "    </tr>\n",
              "    <tr>\n",
              "      <th>137</th>\n",
              "      <td>45</td>\n",
              "      <td>44.455586</td>\n",
              "      <td>0.544414</td>\n",
              "    </tr>\n",
              "    <tr>\n",
              "      <th>138</th>\n",
              "      <td>56</td>\n",
              "      <td>51.294702</td>\n",
              "      <td>4.705298</td>\n",
              "    </tr>\n",
              "    <tr>\n",
              "      <th>139</th>\n",
              "      <td>53</td>\n",
              "      <td>42.759199</td>\n",
              "      <td>10.240801</td>\n",
              "    </tr>\n",
              "    <tr>\n",
              "      <th>140</th>\n",
              "      <td>53</td>\n",
              "      <td>57.322756</td>\n",
              "      <td>-4.322756</td>\n",
              "    </tr>\n",
              "    <tr>\n",
              "      <th>141</th>\n",
              "      <td>54</td>\n",
              "      <td>35.524309</td>\n",
              "      <td>18.475691</td>\n",
              "    </tr>\n",
              "    <tr>\n",
              "      <th>142</th>\n",
              "      <td>54</td>\n",
              "      <td>24.612356</td>\n",
              "      <td>29.387644</td>\n",
              "    </tr>\n",
              "    <tr>\n",
              "      <th>143</th>\n",
              "      <td>54</td>\n",
              "      <td>63.688202</td>\n",
              "      <td>-9.688202</td>\n",
              "    </tr>\n",
              "    <tr>\n",
              "      <th>144</th>\n",
              "      <td>74</td>\n",
              "      <td>58.055888</td>\n",
              "      <td>15.944112</td>\n",
              "    </tr>\n",
              "    <tr>\n",
              "      <th>145</th>\n",
              "      <td>74</td>\n",
              "      <td>50.067925</td>\n",
              "      <td>23.932075</td>\n",
              "    </tr>\n",
              "    <tr>\n",
              "      <th>146</th>\n",
              "      <td>95</td>\n",
              "      <td>38.779620</td>\n",
              "      <td>56.220380</td>\n",
              "    </tr>\n",
              "    <tr>\n",
              "      <th>147</th>\n",
              "      <td>95</td>\n",
              "      <td>61.257492</td>\n",
              "      <td>33.742508</td>\n",
              "    </tr>\n",
              "    <tr>\n",
              "      <th>148</th>\n",
              "      <td>63</td>\n",
              "      <td>39.826303</td>\n",
              "      <td>23.173697</td>\n",
              "    </tr>\n",
              "    <tr>\n",
              "      <th>149</th>\n",
              "      <td>68</td>\n",
              "      <td>50.789467</td>\n",
              "      <td>17.210533</td>\n",
              "    </tr>\n",
              "  </tbody>\n",
              "</table>\n",
              "</div>\n",
              "      <button class=\"colab-df-convert\" onclick=\"convertToInteractive('df-85c0824d-0c17-4627-a12b-037d52fb9713')\"\n",
              "              title=\"Convert this dataframe to an interactive table.\"\n",
              "              style=\"display:none;\">\n",
              "        \n",
              "  <svg xmlns=\"http://www.w3.org/2000/svg\" height=\"24px\"viewBox=\"0 0 24 24\"\n",
              "       width=\"24px\">\n",
              "    <path d=\"M0 0h24v24H0V0z\" fill=\"none\"/>\n",
              "    <path d=\"M18.56 5.44l.94 2.06.94-2.06 2.06-.94-2.06-.94-.94-2.06-.94 2.06-2.06.94zm-11 1L8.5 8.5l.94-2.06 2.06-.94-2.06-.94L8.5 2.5l-.94 2.06-2.06.94zm10 10l.94 2.06.94-2.06 2.06-.94-2.06-.94-.94-2.06-.94 2.06-2.06.94z\"/><path d=\"M17.41 7.96l-1.37-1.37c-.4-.4-.92-.59-1.43-.59-.52 0-1.04.2-1.43.59L10.3 9.45l-7.72 7.72c-.78.78-.78 2.05 0 2.83L4 21.41c.39.39.9.59 1.41.59.51 0 1.02-.2 1.41-.59l7.78-7.78 2.81-2.81c.8-.78.8-2.07 0-2.86zM5.41 20L4 18.59l7.72-7.72 1.47 1.35L5.41 20z\"/>\n",
              "  </svg>\n",
              "      </button>\n",
              "      \n",
              "  <style>\n",
              "    .colab-df-container {\n",
              "      display:flex;\n",
              "      flex-wrap:wrap;\n",
              "      gap: 12px;\n",
              "    }\n",
              "\n",
              "    .colab-df-convert {\n",
              "      background-color: #E8F0FE;\n",
              "      border: none;\n",
              "      border-radius: 50%;\n",
              "      cursor: pointer;\n",
              "      display: none;\n",
              "      fill: #1967D2;\n",
              "      height: 32px;\n",
              "      padding: 0 0 0 0;\n",
              "      width: 32px;\n",
              "    }\n",
              "\n",
              "    .colab-df-convert:hover {\n",
              "      background-color: #E2EBFA;\n",
              "      box-shadow: 0px 1px 2px rgba(60, 64, 67, 0.3), 0px 1px 3px 1px rgba(60, 64, 67, 0.15);\n",
              "      fill: #174EA6;\n",
              "    }\n",
              "\n",
              "    [theme=dark] .colab-df-convert {\n",
              "      background-color: #3B4455;\n",
              "      fill: #D2E3FC;\n",
              "    }\n",
              "\n",
              "    [theme=dark] .colab-df-convert:hover {\n",
              "      background-color: #434B5C;\n",
              "      box-shadow: 0px 1px 3px 1px rgba(0, 0, 0, 0.15);\n",
              "      filter: drop-shadow(0px 1px 2px rgba(0, 0, 0, 0.3));\n",
              "      fill: #FFFFFF;\n",
              "    }\n",
              "  </style>\n",
              "\n",
              "      <script>\n",
              "        const buttonEl =\n",
              "          document.querySelector('#df-85c0824d-0c17-4627-a12b-037d52fb9713 button.colab-df-convert');\n",
              "        buttonEl.style.display =\n",
              "          google.colab.kernel.accessAllowed ? 'block' : 'none';\n",
              "\n",
              "        async function convertToInteractive(key) {\n",
              "          const element = document.querySelector('#df-85c0824d-0c17-4627-a12b-037d52fb9713');\n",
              "          const dataTable =\n",
              "            await google.colab.kernel.invokeFunction('convertToInteractive',\n",
              "                                                     [key], {});\n",
              "          if (!dataTable) return;\n",
              "\n",
              "          const docLinkHtml = 'Like what you see? Visit the ' +\n",
              "            '<a target=\"_blank\" href=https://colab.research.google.com/notebooks/data_table.ipynb>data table notebook</a>'\n",
              "            + ' to learn more about interactive tables.';\n",
              "          element.innerHTML = '';\n",
              "          dataTable['output_type'] = 'display_data';\n",
              "          await google.colab.output.renderOutput(dataTable, element);\n",
              "          const docLink = document.createElement('div');\n",
              "          docLink.innerHTML = docLinkHtml;\n",
              "          element.appendChild(docLink);\n",
              "        }\n",
              "      </script>\n",
              "    </div>\n",
              "  </div>\n",
              "  "
            ]
          },
          "metadata": {},
          "execution_count": 62
        }
      ]
    },
    {
      "cell_type": "code",
      "source": [
        "# The coefficients\n",
        "print(\"Coefficients: \\n\", lin_reg.coef_)\n",
        "# The mean squared error\n",
        "print(\"Mean squared error: %.2f\" % mean_squared_error(y_test, y_pred))\n",
        "# The coefficient of determination: 1 is perfect prediction\n",
        "print(\"Coefficient of determination: %.2f\" % r2_score(y_test, y_pred))\n"
      ],
      "metadata": {
        "colab": {
          "base_uri": "https://localhost:8080/"
        },
        "id": "6tYsIrvqxrvH",
        "outputId": "2bfc1436-ae26-4836-d3b2-15d88058cd0c"
      },
      "execution_count": null,
      "outputs": [
        {
          "output_type": "stream",
          "name": "stdout",
          "text": [
            "Coefficients: \n",
            " [-0.022120 0.404034 118.792904 -0.652799 0.278744 1.139336 0.116561\n",
            " 0.393041 5.033508 -0.043281 -0.282174 196.475861 0.130494 0.024930\n",
            " 40.453767 -0.001977 -98.237411 0.316888 -0.032954 0.250342 2.016267\n",
            " 4.306507 0.109311 -0.002818 -21.216149 -0.040271 0.195137 -0.000600\n",
            " -0.006106 -98.236068]\n",
            "Mean squared error: 327.51\n",
            "Coefficient of determination: 0.14\n"
          ]
        }
      ]
    },
    {
      "cell_type": "code",
      "source": [],
      "metadata": {
        "id": "UJwChuVqxrPJ"
      },
      "execution_count": null,
      "outputs": []
    },
    {
      "cell_type": "code",
      "source": [
        "import seaborn as sns\n",
        "\n",
        "\n",
        "scatter_poly2 = sns.lmplot(\n",
        "    data = pred_y_df, \n",
        "    x = \"Actual Value\",\n",
        "    y = \"Predicted Value\",\n",
        "    order = 2\n",
        ")"
      ],
      "metadata": {
        "colab": {
          "base_uri": "https://localhost:8080/",
          "height": 365
        },
        "id": "BTZtbOs9xrLb",
        "outputId": "288b901c-d214-4550-dd0a-b1b0762296c0"
      },
      "execution_count": null,
      "outputs": [
        {
          "output_type": "display_data",
          "data": {
            "text/plain": [
              "<Figure size 360x360 with 1 Axes>"
            ],
            "image/png": "[encoded data removed]"
          },
          "metadata": {}
        }
      ]
    },
    {
      "cell_type": "code",
      "source": [
        "sns.regplot(x=\"Actual Value\", y=\"Predicted Value\", data=pred_y_df);"
      ],
      "metadata": {
        "colab": {
          "base_uri": "https://localhost:8080/",
          "height": 611
        },
        "id": "RmChHz5JxrHD",
        "outputId": "b7e378d6-ca6a-44a9-87fe-dcb1335d495a"
      },
      "execution_count": null,
      "outputs": [
        {
          "output_type": "display_data",
          "data": {
            "text/plain": [
              "<Figure size 864x720 with 1 Axes>"
            ],
            "image/png": "[encoded data removed]"
          },
          "metadata": {}
        }
      ]
    },
    {
      "cell_type": "code",
      "source": [
        "# Packages / libraries\n",
        "import os #provides functions for interacting with the operating system\n",
        "import numpy as np \n",
        "import pandas as pd\n",
        "from matplotlib import pyplot as plt\n",
        "import seaborn as sns\n",
        "from sklearn.linear_model import LinearRegression\n",
        "from sklearn.tree import DecisionTreeClassifier\n",
        "from sklearn.model_selection import train_test_split\n",
        "from sklearn.metrics import r2_score, explained_variance_score, mean_absolute_error, mean_squared_error\n",
        "from math import sqrt\n",
        "\n",
        "%matplotlib inline\n",
        "\n",
        "\n",
        "np.set_printoptions(formatter={'float_kind':'{:f}'.format})\n",
        "\n",
        "# Increases the size of sns plots\n",
        "sns.set(rc={'figure.figsize':(12,10)})\n",
        "\n"
      ],
      "metadata": {
        "id": "sSWiXtmvIpa5"
      },
      "execution_count": null,
      "outputs": []
    },
    {
      "cell_type": "code",
      "source": [
        "raw_data = pd.read_csv(\"/content/drive/MyDrive/SNU Research/KOA-EMG/KOA_EMG_WOMAC__2022.08.29_Final_W-tempo-spatial.csv\")\n",
        "\n",
        "# print the shape\n",
        "print(raw_data.shape)\n",
        "\n",
        "#runs the first 5 rows\n",
        "raw_data.head()"
      ],
      "metadata": {
        "colab": {
          "base_uri": "https://localhost:8080/",
          "height": 297
        },
        "id": "NOptRT6QI-Jy",
        "outputId": "01d6e204-a658-4454-cb30-aa04c425f4f0"
      },
      "execution_count": null,
      "outputs": [
        {
          "output_type": "stream",
          "name": "stdout",
          "text": [
            "(150, 88)\n"
          ]
        },
        {
          "output_type": "execute_result",
          "data": {
            "text/plain": [
              "   Patient ID  WOMAC_total WOMAC Severity  DataType  CCI_TA-RF  CCI_G-MH  \\\n",
              "0       13308           22           Mild  Training       49.2      92.1   \n",
              "1       13489           35           Mild  Training      116.0     232.8   \n",
              "2       13489           35           Mild  Training      101.4      55.7   \n",
              "3       13532           33           Mild  Training      139.7      46.0   \n",
              "4       13549           30           Mild  Training      113.5      40.2   \n",
              "\n",
              "   CCI_TA-MH  CCI_G-RF  CCI_TA-G  CCI_MH-RF  ...   Lyapunov_TIBIALIS ANT  \\\n",
              "0       51.8     101.6      91.7       88.8  ...                    0.20   \n",
              "1      104.6     225.5      79.7      120.1  ...                    0.26   \n",
              "2       76.0      63.9     122.8       74.3  ...                    0.25   \n",
              "3       69.5      88.5     169.0       35.8  ...                    0.30   \n",
              "4      112.2      38.5     276.0      107.6  ...                    0.40   \n",
              "\n",
              "   Stance_CCI_TA-RF  Stance_CCI_G-MH  Stance_CCI_TA-G  Swing_CCI_TA-RF  \\\n",
              "0         48.935608       120.815090        86.949185        49.662771   \n",
              "1         52.187204       244.146045        46.506634       189.255449   \n",
              "2         70.259125        70.225682        75.729112       141.818740   \n",
              "3        151.986792        28.925641       219.105386       123.184526   \n",
              "4        145.992226        53.319007       377.515540        79.111070   \n",
              "\n",
              "   Swing_CCI_G-MH  Swing_CCI_TA-G  swing/stance_cci(TA_RF)  \\\n",
              "0       30.602679      101.914340                 1.014860   \n",
              "1      211.104414      134.602751                 3.626472   \n",
              "2       28.911669      211.453368                 2.018510   \n",
              "3       78.659590       70.327124                 0.810495   \n",
              "4       20.960417      121.125857                 0.541885   \n",
              "\n",
              "   swing/stance_cci(G-MH)  swing/stance_CCI(TA-G)  \n",
              "0                0.253302                1.172114  \n",
              "1                0.864664                2.894270  \n",
              "2                0.411697                2.792234  \n",
              "3                2.719372                0.320974  \n",
              "4                0.393113                0.320850  \n",
              "\n",
              "[5 rows x 88 columns]"
            ],
            "text/html": [
              "\n",
              "  <div id=\"df-e1e14d66-e4ed-4e23-aec0-22d50457b84b\">\n",
              "    <div class=\"colab-df-container\">\n",
              "      <div>\n",
              "<style scoped>\n",
              "    .dataframe tbody tr th:only-of-type {\n",
              "        vertical-align: middle;\n",
              "    }\n",
              "\n",
              "    .dataframe tbody tr th {\n",
              "        vertical-align: top;\n",
              "    }\n",
              "\n",
              "    .dataframe thead th {\n",
              "        text-align: right;\n",
              "    }\n",
              "</style>\n",
              "<table border=\"1\" class=\"dataframe\">\n",
              "  <thead>\n",
              "    <tr style=\"text-align: right;\">\n",
              "      <th></th>\n",
              "      <th>Patient ID</th>\n",
              "      <th>WOMAC_total</th>\n",
              "      <th>WOMAC Severity</th>\n",
              "      <th>DataType</th>\n",
              "      <th>CCI_TA-RF</th>\n",
              "      <th>CCI_G-MH</th>\n",
              "      <th>CCI_TA-MH</th>\n",
              "      <th>CCI_G-RF</th>\n",
              "      <th>CCI_TA-G</th>\n",
              "      <th>CCI_MH-RF</th>\n",
              "      <th>...</th>\n",
              "      <th>Lyapunov_TIBIALIS ANT</th>\n",
              "      <th>Stance_CCI_TA-RF</th>\n",
              "      <th>Stance_CCI_G-MH</th>\n",
              "      <th>Stance_CCI_TA-G</th>\n",
              "      <th>Swing_CCI_TA-RF</th>\n",
              "      <th>Swing_CCI_G-MH</th>\n",
              "      <th>Swing_CCI_TA-G</th>\n",
              "      <th>swing/stance_cci(TA_RF)</th>\n",
              "      <th>swing/stance_cci(G-MH)</th>\n",
              "      <th>swing/stance_CCI(TA-G)</th>\n",
              "    </tr>\n",
              "  </thead>\n",
              "  <tbody>\n",
              "    <tr>\n",
              "      <th>0</th>\n",
              "      <td>13308</td>\n",
              "      <td>22</td>\n",
              "      <td>Mild</td>\n",
              "      <td>Training</td>\n",
              "      <td>49.2</td>\n",
              "      <td>92.1</td>\n",
              "      <td>51.8</td>\n",
              "      <td>101.6</td>\n",
              "      <td>91.7</td>\n",
              "      <td>88.8</td>\n",
              "      <td>...</td>\n",
              "      <td>0.20</td>\n",
              "      <td>48.935608</td>\n",
              "      <td>120.815090</td>\n",
              "      <td>86.949185</td>\n",
              "      <td>49.662771</td>\n",
              "      <td>30.602679</td>\n",
              "      <td>101.914340</td>\n",
              "      <td>1.014860</td>\n",
              "      <td>0.253302</td>\n",
              "      <td>1.172114</td>\n",
              "    </tr>\n",
              "    <tr>\n",
              "      <th>1</th>\n",
              "      <td>13489</td>\n",
              "      <td>35</td>\n",
              "      <td>Mild</td>\n",
              "      <td>Training</td>\n",
              "      <td>116.0</td>\n",
              "      <td>232.8</td>\n",
              "      <td>104.6</td>\n",
              "      <td>225.5</td>\n",
              "      <td>79.7</td>\n",
              "      <td>120.1</td>\n",
              "      <td>...</td>\n",
              "      <td>0.26</td>\n",
              "      <td>52.187204</td>\n",
              "      <td>244.146045</td>\n",
              "      <td>46.506634</td>\n",
              "      <td>189.255449</td>\n",
              "      <td>211.104414</td>\n",
              "      <td>134.602751</td>\n",
              "      <td>3.626472</td>\n",
              "      <td>0.864664</td>\n",
              "      <td>2.894270</td>\n",
              "    </tr>\n",
              "    <tr>\n",
              "      <th>2</th>\n",
              "      <td>13489</td>\n",
              "      <td>35</td>\n",
              "      <td>Mild</td>\n",
              "      <td>Training</td>\n",
              "      <td>101.4</td>\n",
              "      <td>55.7</td>\n",
              "      <td>76.0</td>\n",
              "      <td>63.9</td>\n",
              "      <td>122.8</td>\n",
              "      <td>74.3</td>\n",
              "      <td>...</td>\n",
              "      <td>0.25</td>\n",
              "      <td>70.259125</td>\n",
              "      <td>70.225682</td>\n",
              "      <td>75.729112</td>\n",
              "      <td>141.818740</td>\n",
              "      <td>28.911669</td>\n",
              "      <td>211.453368</td>\n",
              "      <td>2.018510</td>\n",
              "      <td>0.411697</td>\n",
              "      <td>2.792234</td>\n",
              "    </tr>\n",
              "    <tr>\n",
              "      <th>3</th>\n",
              "      <td>13532</td>\n",
              "      <td>33</td>\n",
              "      <td>Mild</td>\n",
              "      <td>Training</td>\n",
              "      <td>139.7</td>\n",
              "      <td>46.0</td>\n",
              "      <td>69.5</td>\n",
              "      <td>88.5</td>\n",
              "      <td>169.0</td>\n",
              "      <td>35.8</td>\n",
              "      <td>...</td>\n",
              "      <td>0.30</td>\n",
              "      <td>151.986792</td>\n",
              "      <td>28.925641</td>\n",
              "      <td>219.105386</td>\n",
              "      <td>123.184526</td>\n",
              "      <td>78.659590</td>\n",
              "      <td>70.327124</td>\n",
              "      <td>0.810495</td>\n",
              "      <td>2.719372</td>\n",
              "      <td>0.320974</td>\n",
              "    </tr>\n",
              "    <tr>\n",
              "      <th>4</th>\n",
              "      <td>13549</td>\n",
              "      <td>30</td>\n",
              "      <td>Mild</td>\n",
              "      <td>Training</td>\n",
              "      <td>113.5</td>\n",
              "      <td>40.2</td>\n",
              "      <td>112.2</td>\n",
              "      <td>38.5</td>\n",
              "      <td>276.0</td>\n",
              "      <td>107.6</td>\n",
              "      <td>...</td>\n",
              "      <td>0.40</td>\n",
              "      <td>145.992226</td>\n",
              "      <td>53.319007</td>\n",
              "      <td>377.515540</td>\n",
              "      <td>79.111070</td>\n",
              "      <td>20.960417</td>\n",
              "      <td>121.125857</td>\n",
              "      <td>0.541885</td>\n",
              "      <td>0.393113</td>\n",
              "      <td>0.320850</td>\n",
              "    </tr>\n",
              "  </tbody>\n",
              "</table>\n",
              "<p>5 rows × 88 columns</p>\n",
              "</div>\n",
              "      <button class=\"colab-df-convert\" onclick=\"convertToInteractive('df-e1e14d66-e4ed-4e23-aec0-22d50457b84b')\"\n",
              "              title=\"Convert this dataframe to an interactive table.\"\n",
              "              style=\"display:none;\">\n",
              "        \n",
              "  <svg xmlns=\"http://www.w3.org/2000/svg\" height=\"24px\"viewBox=\"0 0 24 24\"\n",
              "       width=\"24px\">\n",
              "    <path d=\"M0 0h24v24H0V0z\" fill=\"none\"/>\n",
              "    <path d=\"M18.56 5.44l.94 2.06.94-2.06 2.06-.94-2.06-.94-.94-2.06-.94 2.06-2.06.94zm-11 1L8.5 8.5l.94-2.06 2.06-.94-2.06-.94L8.5 2.5l-.94 2.06-2.06.94zm10 10l.94 2.06.94-2.06 2.06-.94-2.06-.94-.94-2.06-.94 2.06-2.06.94z\"/><path d=\"M17.41 7.96l-1.37-1.37c-.4-.4-.92-.59-1.43-.59-.52 0-1.04.2-1.43.59L10.3 9.45l-7.72 7.72c-.78.78-.78 2.05 0 2.83L4 21.41c.39.39.9.59 1.41.59.51 0 1.02-.2 1.41-.59l7.78-7.78 2.81-2.81c.8-.78.8-2.07 0-2.86zM5.41 20L4 18.59l7.72-7.72 1.47 1.35L5.41 20z\"/>\n",
              "  </svg>\n",
              "      </button>\n",
              "      \n",
              "  <style>\n",
              "    .colab-df-container {\n",
              "      display:flex;\n",
              "      flex-wrap:wrap;\n",
              "      gap: 12px;\n",
              "    }\n",
              "\n",
              "    .colab-df-convert {\n",
              "      background-color: #E8F0FE;\n",
              "      border: none;\n",
              "      border-radius: 50%;\n",
              "      cursor: pointer;\n",
              "      display: none;\n",
              "      fill: #1967D2;\n",
              "      height: 32px;\n",
              "      padding: 0 0 0 0;\n",
              "      width: 32px;\n",
              "    }\n",
              "\n",
              "    .colab-df-convert:hover {\n",
              "      background-color: #E2EBFA;\n",
              "      box-shadow: 0px 1px 2px rgba(60, 64, 67, 0.3), 0px 1px 3px 1px rgba(60, 64, 67, 0.15);\n",
              "      fill: #174EA6;\n",
              "    }\n",
              "\n",
              "    [theme=dark] .colab-df-convert {\n",
              "      background-color: #3B4455;\n",
              "      fill: #D2E3FC;\n",
              "    }\n",
              "\n",
              "    [theme=dark] .colab-df-convert:hover {\n",
              "      background-color: #434B5C;\n",
              "      box-shadow: 0px 1px 3px 1px rgba(0, 0, 0, 0.15);\n",
              "      filter: drop-shadow(0px 1px 2px rgba(0, 0, 0, 0.3));\n",
              "      fill: #FFFFFF;\n",
              "    }\n",
              "  </style>\n",
              "\n",
              "      <script>\n",
              "        const buttonEl =\n",
              "          document.querySelector('#df-e1e14d66-e4ed-4e23-aec0-22d50457b84b button.colab-df-convert');\n",
              "        buttonEl.style.display =\n",
              "          google.colab.kernel.accessAllowed ? 'block' : 'none';\n",
              "\n",
              "        async function convertToInteractive(key) {\n",
              "          const element = document.querySelector('#df-e1e14d66-e4ed-4e23-aec0-22d50457b84b');\n",
              "          const dataTable =\n",
              "            await google.colab.kernel.invokeFunction('convertToInteractive',\n",
              "                                                     [key], {});\n",
              "          if (!dataTable) return;\n",
              "\n",
              "          const docLinkHtml = 'Like what you see? Visit the ' +\n",
              "            '<a target=\"_blank\" href=https://colab.research.google.com/notebooks/data_table.ipynb>data table notebook</a>'\n",
              "            + ' to learn more about interactive tables.';\n",
              "          element.innerHTML = '';\n",
              "          dataTable['output_type'] = 'display_data';\n",
              "          await google.colab.output.renderOutput(dataTable, element);\n",
              "          const docLink = document.createElement('div');\n",
              "          docLink.innerHTML = docLinkHtml;\n",
              "          element.appendChild(docLink);\n",
              "        }\n",
              "      </script>\n",
              "    </div>\n",
              "  </div>\n",
              "  "
            ]
          },
          "metadata": {},
          "execution_count": 67
        }
      ]
    },
    {
      "cell_type": "code",
      "source": [
        "# Checking for null values\n",
        "\n",
        "raw_data.isnull().sum()"
      ],
      "metadata": {
        "colab": {
          "base_uri": "https://localhost:8080/"
        },
        "id": "SWPYzuQKJYip",
        "outputId": "4b7e1267-3347-4fab-b6a5-803c3e9bbe5a"
      },
      "execution_count": null,
      "outputs": [
        {
          "output_type": "execute_result",
          "data": {
            "text/plain": [
              "Patient ID                 0\n",
              "WOMAC_total                0\n",
              "WOMAC Severity             0\n",
              "DataType                   0\n",
              "CCI_TA-RF                  0\n",
              "                          ..\n",
              "Swing_CCI_G-MH             0\n",
              "Swing_CCI_TA-G             0\n",
              "swing/stance_cci(TA_RF)    0\n",
              "swing/stance_cci(G-MH)     0\n",
              "swing/stance_CCI(TA-G)     0\n",
              "Length: 88, dtype: int64"
            ]
          },
          "metadata": {},
          "execution_count": 68
        }
      ]
    },
    {
      "cell_type": "code",
      "source": [
        "# Investigate all the elements whithin each Feature \n",
        "for column in raw_data:\n",
        "    unique_vals = np.unique(raw_data[column])\n",
        "    nr_values = len(unique_vals)\n",
        "    if nr_values < 10:\n",
        "        print('The number of values for feature {} :{} -- {}'.format(column, nr_values,unique_vals))\n",
        "    else:\n",
        "        print('The number of values for feature {} :{}'.format(column, nr_values))"
      ],
      "metadata": {
        "colab": {
          "base_uri": "https://localhost:8080/"
        },
        "id": "KKn48jjhJbwa",
        "outputId": "2092d255-436c-4774-bd71-eae27f211304"
      },
      "execution_count": null,
      "outputs": [
        {
          "output_type": "stream",
          "name": "stdout",
          "text": [
            "The number of values for feature Patient ID :89\n",
            "The number of values for feature WOMAC_total :55\n",
            "The number of values for feature WOMAC Severity :3 -- ['Mild' 'Moderate' 'Severe']\n",
            "The number of values for feature DataType :2 -- ['Testing' 'Training']\n",
            "The number of values for feature CCI_TA-RF :147\n",
            "The number of values for feature CCI_G-MH :144\n",
            "The number of values for feature CCI_TA-MH :146\n",
            "The number of values for feature CCI_G-RF :140\n",
            "The number of values for feature CCI_TA-G :144\n",
            "The number of values for feature CCI_MH-RF :148\n",
            "The number of values for feature CCI_L-H :144\n",
            "The number of values for feature CCI_F-B :148\n",
            "The number of values for feature Cadence :118\n",
            "The number of values for feature Speed :132\n",
            "The number of values for feature Stride_Length :130\n",
            "The number of values for feature Step_Length :107\n",
            "The number of values for feature Step_Time :6 -- [0.400000 0.500000 0.600000 0.700000 0.800000 1.000000]\n",
            "The number of values for feature Single_Support :91\n",
            "The number of values for feature IDS :82\n",
            "The number of values for feature TDS :77\n",
            "The number of values for feature Total_Support :88\n",
            "The number of values for feature Weight_Accept :82\n",
            "The number of values for feature Weight_Release :85\n",
            "The number of values for feature Stance :88\n",
            "The number of values for feature Swing :88\n",
            "The number of values for feature  Min_RECTUS :139\n",
            "The number of values for feature  Min_MEDIAL HAM :141\n",
            "The number of values for feature  Min_GASTROCNEMIUS :133\n",
            "The number of values for feature  Min_TIBIALIS ANT :137\n",
            "The number of values for feature  Max T_RECTUS :55\n",
            "The number of values for feature  Max T_MEDIAL HAM :48\n",
            "The number of values for feature  Max T_GASTROCNEMIUS :66\n",
            "The number of values for feature  Max T_TIBIALIS ANT :61\n",
            "The number of values for feature  Min T_RECTUS :54\n",
            "The number of values for feature  Min T_MEDIAL HAM :62\n",
            "The number of values for feature  Min T_GASTROCNEMIUS :53\n",
            "The number of values for feature  Min T_TIBIALIS ANT :64\n",
            "The number of values for feature Max-Min T_RECTUS :83\n",
            "The number of values for feature Max-Min T_MEDIAL HAM :74\n",
            "The number of values for feature  Max-Min T_GASTROCNEMIUS :81\n",
            "The number of values for feature  Max-Min T_TIBIALIS ANT :86\n",
            "The number of values for feature  Integral_RECTUS :150\n",
            "The number of values for feature  Integral_MEDIAL HAM :150\n",
            "The number of values for feature  Integral_GASTROCNEMIUS :150\n",
            "The number of values for feature  Integral_TIBIALIS ANT :150\n",
            "The number of values for feature Average_Integral :150\n",
            "The number of values for feature Average_Integral_L :150\n",
            "The number of values for feature Average_Integral_U :150\n",
            "The number of values for feature Average_Integral_F :150\n",
            "The number of values for feature Average_Integral_B :150\n",
            "The number of values for feature  Area_RECTUS :150\n",
            "The number of values for feature  Area_MEDIAL HAM :150\n",
            "The number of values for feature  Area_GASTROCNEMIUS :150\n",
            "The number of values for feature  Area_TIBIALIS ANT :150\n",
            "The number of values for feature Average_AUC :150\n",
            "The number of values for feature Average_AUC_L :150\n",
            "The number of values for feature Average_AUC_U :150\n",
            "The number of values for feature Average_AUC_F :150\n",
            "The number of values for feature Average_AUC_B :150\n",
            "The number of values for feature  Lin_reg_RECTUS :44\n",
            "The number of values for feature  Lin_reg_MEDIAL HAM :39\n",
            "The number of values for feature  Lin_reg_GASTROCNEMIUS :50\n",
            "The number of values for feature  Lin_reg_TIBIALIS ANT :48\n",
            "The number of values for feature  Skew_RECTUS :79\n",
            "The number of values for feature  Skew_MEDIAL HAM :68\n",
            "The number of values for feature  Skew_GASTROCNEMIUS :76\n",
            "The number of values for feature  Skew_TIBIALIS ANT :67\n",
            "The number of values for feature  Kurtosis_RECTUS :96\n",
            "The number of values for feature  Kurtosis_MEDIAL HAM :85\n",
            "The number of values for feature  Kurtosis_GASTROCNEMIUS :95\n",
            "The number of values for feature  Kurtosis_TIBIALIS ANT :82\n",
            "The number of values for feature  Stddev_RECTUS :121\n",
            "The number of values for feature  Stddev_MEDIAL HAM :126\n",
            "The number of values for feature  Stddev_GASTROCNEMIUS :120\n",
            "The number of values for feature  Stddev_TIBIALIS ANT :126\n",
            "The number of values for feature  Lyapunov_RECTUS :27\n",
            "The number of values for feature  Lyapunov_MEDIAL HAM :27\n",
            "The number of values for feature  Lyapunov_GASTROCNEMIUS :30\n",
            "The number of values for feature  Lyapunov_TIBIALIS ANT :29\n",
            "The number of values for feature Stance_CCI_TA-RF :150\n",
            "The number of values for feature Stance_CCI_G-MH :150\n",
            "The number of values for feature Stance_CCI_TA-G :150\n",
            "The number of values for feature Swing_CCI_TA-RF :150\n",
            "The number of values for feature Swing_CCI_G-MH :150\n",
            "The number of values for feature Swing_CCI_TA-G :150\n",
            "The number of values for feature swing/stance_cci(TA_RF) :150\n",
            "The number of values for feature swing/stance_cci(G-MH) :150\n",
            "The number of values for feature swing/stance_CCI(TA-G) :150\n"
          ]
        }
      ]
    },
    {
      "cell_type": "code",
      "source": [
        "# Visualize the data using seaborn Pairplots\n",
        "\n",
        "#g = sns.pairplot(raw_data)\n",
        "\n",
        "# Notes: Do not run this on a big dataset. Filter the columns first"
      ],
      "metadata": {
        "id": "z1Ivu_W1Jvem"
      },
      "execution_count": null,
      "outputs": []
    },
    {
      "cell_type": "code",
      "source": [
        "raw_data.columns"
      ],
      "metadata": {
        "colab": {
          "base_uri": "https://localhost:8080/"
        },
        "id": "2Qkd1aMoKkw8",
        "outputId": "0e717cc7-87d7-44ee-d580-761c1f3262a3"
      },
      "execution_count": null,
      "outputs": [
        {
          "output_type": "execute_result",
          "data": {
            "text/plain": [
              "Index(['Patient ID', 'WOMAC_total', 'WOMAC Severity', 'DataType', 'CCI_TA-RF',\n",
              "       'CCI_G-MH', 'CCI_TA-MH', 'CCI_G-RF', 'CCI_TA-G', 'CCI_MH-RF', 'CCI_L-H',\n",
              "       'CCI_F-B', 'Cadence', 'Speed', 'Stride_Length', 'Step_Length',\n",
              "       'Step_Time', 'Single_Support', 'IDS', 'TDS', 'Total_Support',\n",
              "       'Weight_Accept', 'Weight_Release', 'Stance', 'Swing', ' Min_RECTUS',\n",
              "       ' Min_MEDIAL HAM', ' Min_GASTROCNEMIUS', ' Min_TIBIALIS ANT',\n",
              "       ' Max T_RECTUS', ' Max T_MEDIAL HAM', ' Max T_GASTROCNEMIUS',\n",
              "       ' Max T_TIBIALIS ANT', ' Min T_RECTUS', ' Min T_MEDIAL HAM',\n",
              "       ' Min T_GASTROCNEMIUS', ' Min T_TIBIALIS ANT', 'Max-Min T_RECTUS',\n",
              "       'Max-Min T_MEDIAL HAM', ' Max-Min T_GASTROCNEMIUS',\n",
              "       ' Max-Min T_TIBIALIS ANT', ' Integral_RECTUS', ' Integral_MEDIAL HAM',\n",
              "       ' Integral_GASTROCNEMIUS', ' Integral_TIBIALIS ANT', 'Average_Integral',\n",
              "       'Average_Integral_L', 'Average_Integral_U', 'Average_Integral_F',\n",
              "       'Average_Integral_B', ' Area_RECTUS', ' Area_MEDIAL HAM',\n",
              "       ' Area_GASTROCNEMIUS', ' Area_TIBIALIS ANT', 'Average_AUC',\n",
              "       'Average_AUC_L', 'Average_AUC_U', 'Average_AUC_F', 'Average_AUC_B',\n",
              "       ' Lin_reg_RECTUS', ' Lin_reg_MEDIAL HAM', ' Lin_reg_GASTROCNEMIUS',\n",
              "       ' Lin_reg_TIBIALIS ANT', ' Skew_RECTUS', ' Skew_MEDIAL HAM',\n",
              "       ' Skew_GASTROCNEMIUS', ' Skew_TIBIALIS ANT', ' Kurtosis_RECTUS',\n",
              "       ' Kurtosis_MEDIAL HAM', ' Kurtosis_GASTROCNEMIUS',\n",
              "       ' Kurtosis_TIBIALIS ANT', ' Stddev_RECTUS', ' Stddev_MEDIAL HAM',\n",
              "       ' Stddev_GASTROCNEMIUS', ' Stddev_TIBIALIS ANT', ' Lyapunov_RECTUS',\n",
              "       ' Lyapunov_MEDIAL HAM', ' Lyapunov_GASTROCNEMIUS',\n",
              "       ' Lyapunov_TIBIALIS ANT', 'Stance_CCI_TA-RF', 'Stance_CCI_G-MH',\n",
              "       'Stance_CCI_TA-G', 'Swing_CCI_TA-RF', 'Swing_CCI_G-MH',\n",
              "       'Swing_CCI_TA-G', 'swing/stance_cci(TA_RF)', 'swing/stance_cci(G-MH)',\n",
              "       'swing/stance_CCI(TA-G)'],\n",
              "      dtype='object')"
            ]
          },
          "metadata": {},
          "execution_count": 71
        }
      ]
    },
    {
      "cell_type": "code",
      "source": [
        "# Visualising a Subset of our data - important features\n",
        "\n",
        "g = sns.pairplot(raw_data[['WOMAC Severity', 'WOMAC_total', 'CCI_TA-RF']], hue = 'WOMAC Severity', height = 5)"
      ],
      "metadata": {
        "colab": {
          "base_uri": "https://localhost:8080/",
          "height": 724
        },
        "id": "kWj2n5agKvCj",
        "outputId": "0d68bdd7-b910-43b3-ec52-285d30897e10"
      },
      "execution_count": null,
      "outputs": [
        {
          "output_type": "display_data",
          "data": {
            "text/plain": [
              "<Figure size 830.175x720 with 6 Axes>"
            ],
            "image/png": "[encoded data removed]"
          },
          "metadata": {}
        }
      ]
    },
    {
      "cell_type": "code",
      "source": [
        "# Visualising a Subset of our data - important features\n",
        "\n",
        "'''g = sns.lmplot(x = 'Marketing Spend', y = 'Revenue', data = raw_data, col = 'Day_Name', col_wrap = 3, height = 5, \n",
        "              scatter_kws = {'color':'green'}, ci = False)'''"
      ],
      "metadata": {
        "colab": {
          "base_uri": "https://localhost:8080/",
          "height": 35
        },
        "id": "tLN0DmLHMOvZ",
        "outputId": "0790cd8f-9636-4ed6-f218-4a24c3b1a322"
      },
      "execution_count": null,
      "outputs": [
        {
          "output_type": "execute_result",
          "data": {
            "text/plain": [
              "\"g = sns.lmplot(x = 'Marketing Spend', y = 'Revenue', data = raw_data, col = 'Day_Name', col_wrap = 3, height = 5, \\n              scatter_kws = {'color':'green'}, ci = False)\""
            ],
            "application/vnd.google.colaboratory.intrinsic+json": {
              "type": "string"
            }
          },
          "metadata": {},
          "execution_count": 73
        }
      ]
    },
    {
      "cell_type": "code",
      "source": [
        "# Visualising a Subset of our data - important features\n",
        "\n",
        "g = sns.lmplot(x=\"Actual Value\", y=\"Predicted Value\", data = pred_y_df, height = 5, \n",
        "              scatter_kws = {'color':'green'}, ci = False)"
      ],
      "metadata": {
        "colab": {
          "base_uri": "https://localhost:8080/",
          "height": 365
        },
        "id": "8tzRXn-TLcg2",
        "outputId": "c3603461-6d56-4d31-ee0f-737bf65611dd"
      },
      "execution_count": null,
      "outputs": [
        {
          "output_type": "display_data",
          "data": {
            "text/plain": [
              "<Figure size 360x360 with 1 Axes>"
            ],
            "image/png": "[encoded data removed]"
          },
          "metadata": {}
        }
      ]
    },
    {
      "cell_type": "code",
      "source": [
        "lm = LinearRegression(fit_intercept = True)\n",
        "lm.fit(X_train, y_train)\n",
        "\n",
        "y_pred = lm.predict(X_train)\n",
        "# SK-Learn official doc: https://scikit-learn.org/stable/modules/generated/sklearn.linear_model.LinearRegression.html"
      ],
      "metadata": {
        "id": "2cYL0G2kMMSx"
      },
      "execution_count": null,
      "outputs": []
    },
    {
      "cell_type": "code",
      "source": [
        "# Model Accuracy on training dataset\n",
        "\n",
        "print('The Accuracy  on the training dataset is: ', lm.score(X_train, y_train) )\n",
        "print('The Accuracy n2  on the training dataset is: ',r2_score(y_train,y_pred) )   \n",
        "\n",
        "print(\"\")\n",
        "# Model Accuracy on testing dataset\n",
        "print('The Accuracy  on the testing dataset is: ', lm.score(X_test, y_test) )\n",
        "\n",
        "print(\"\")\n",
        "# The Root Mean Squared Error (RMSE)\n",
        "print('The RMSE  on the training dataset is: ',sqrt(mean_squared_error(y_train,y_pred)))\n",
        "print('The RMSE  on the testing dataset is: ',sqrt(mean_squared_error(y_test,lm.predict(X_test))))\n",
        "\n",
        "print(\"\")\n",
        "# The Mean Absolute Error (MAE)\n",
        "print('The MAE  on the training dataset is: ',mean_absolute_error(y_train,y_pred))\n",
        "print('The MAE  on the testing dataset is: ',mean_absolute_error(y_test,lm.predict(X_test)))\n",
        "\n",
        "\n",
        "print(\"\")\n",
        "# Coefficients\n",
        "#print('Coefficients: ', lm.coef_ )\n",
        "\n",
        "print(\"\")\n",
        "# The Intercept\n",
        "print('Intercept: ', lm.intercept_)\n",
        "\n",
        "\n",
        "# R2 Link: https://scikit-learn.org/stable/modules/generated/sklearn.metrics.r2_score.html\n",
        "# RMSE Link: https://scikit-learn.org/stable/modules/generated/sklearn.metrics.mean_squared_error.html\n",
        "# MAE Link: https://scikit-learn.org/stable/modules/generated/sklearn.metrics.mean_absolute_error.html"
      ],
      "metadata": {
        "colab": {
          "base_uri": "https://localhost:8080/"
        },
        "id": "I71RYZZ8MsJx",
        "outputId": "193d1cd7-0e5e-4bef-a315-712a175bac7b"
      },
      "execution_count": null,
      "outputs": [
        {
          "output_type": "stream",
          "name": "stdout",
          "text": [
            "The Accuracy  on the training dataset is:  0.4481385350549415\n",
            "The Accuracy n2  on the training dataset is:  0.4481385350549415\n",
            "\n",
            "The Accuracy  on the testing dataset is:  0.14032251131333906\n",
            "\n",
            "The RMSE  on the training dataset is:  12.505403723289717\n",
            "The RMSE  on the testing dataset is:  18.097353355023664\n",
            "\n",
            "The MAE  on the training dataset is:  10.0707556263496\n",
            "The MAE  on the testing dataset is:  13.338143747702611\n",
            "\n",
            "\n",
            "Intercept:  -118.87427937698666\n"
          ]
        }
      ]
    },
    {
      "cell_type": "code",
      "source": [
        "# Plotting Actuals Vs Predicted for training\n",
        "\n",
        "plt.figure(figsize=(15,10))\n",
        "\n",
        "plt.scatter(y_train, y_pred, c='green')\n",
        "plt.plot([y_train.min(), y_train.max()], [y_train.min(), y_train.max()], 'k--', c='red', lw=3)\n",
        "plt.xlabel('Actuals')\n",
        "plt.ylabel('Predicted Values')\n",
        "plt.title('Actuals Vs Predicted Values')"
      ],
      "metadata": {
        "colab": {
          "base_uri": "https://localhost:8080/",
          "height": 644
        },
        "id": "5Pg7evmVM1EX",
        "outputId": "84651ac8-2d24-4be6-fb47-d5cfb7e1d136"
      },
      "execution_count": null,
      "outputs": [
        {
          "output_type": "execute_result",
          "data": {
            "text/plain": [
              "Text(0.5, 1.0, 'Actuals Vs Predicted Values')"
            ]
          },
          "metadata": {},
          "execution_count": 77
        },
        {
          "output_type": "display_data",
          "data": {
            "text/plain": [
              "<Figure size 1080x720 with 1 Axes>"
            ],
            "image/png": "[encoded data removed]"
          },
          "metadata": {}
        }
      ]
    },
    {
      "cell_type": "code",
      "source": [
        "# Ploting Residuals\n",
        "\n",
        "plt.figure(figsize=(15,10))\n",
        "\n",
        "sns.residplot(y_train, y_pred, color='green')\n",
        "plt.xlabel('Actual Revenue')\n",
        "plt.ylabel('Residuals')\n",
        "plt.title('Actuals Vs Residuals')"
      ],
      "metadata": {
        "colab": {
          "base_uri": "https://localhost:8080/",
          "height": 679
        },
        "id": "7P9U7f1WM8tg",
        "outputId": "df24fdfb-b033-4ad1-cb10-b944854f1bfc"
      },
      "execution_count": null,
      "outputs": [
        {
          "output_type": "stream",
          "name": "stderr",
          "text": [
            "/usr/local/lib/python3.7/dist-packages/seaborn/_decorators.py:43: FutureWarning: Pass the following variables as keyword args: x, y. From version 0.12, the only valid positional argument will be `data`, and passing other arguments without an explicit keyword will result in an error or misinterpretation.\n",
            "  FutureWarning\n"
          ]
        },
        {
          "output_type": "execute_result",
          "data": {
            "text/plain": [
              "Text(0.5, 1.0, 'Actuals Vs Residuals')"
            ]
          },
          "metadata": {},
          "execution_count": 78
        },
        {
          "output_type": "display_data",
          "data": {
            "text/plain": [
              "<Figure size 1080x720 with 1 Axes>"
            ],
            "image/png": "[encoded data removed]"
          },
          "metadata": {}
        }
      ]
    },
    {
      "cell_type": "markdown",
      "source": [],
      "metadata": {
        "id": "8Gvi_s3dPpii"
      }
    },
    {
      "cell_type": "code",
      "source": [
        "from sklearn import linear_model\n",
        "reg = linear_model.Ridge(alpha=.5)\n",
        "reg.fit(X_train, y_train)\n",
        "y_pred =reg.predict(X_test)\n",
        "print(reg.coef_)\n",
        "reg.intercept_"
      ],
      "metadata": {
        "colab": {
          "base_uri": "https://localhost:8080/"
        },
        "id": "miH2ZJ9ZPqME",
        "outputId": "1e1c238f-39ee-40e6-ae7b-1bbd309c0b4f"
      },
      "execution_count": null,
      "outputs": [
        {
          "output_type": "stream",
          "name": "stdout",
          "text": [
            "[-0.019996 2.020274 17.431553 -0.300037 0.357674 0.718215 0.105981\n",
            " -0.667228 4.456435 -0.039811 -0.544711 0.407274 0.124335 0.021729\n",
            " 16.412993 -0.001627 -0.203401 0.424807 -0.038371 0.237804 4.265162\n",
            " 2.392905 0.088270 -0.001035 -9.032809 0.005235 0.221190 -0.025391\n",
            " -0.006178 -0.201921]\n"
          ]
        },
        {
          "output_type": "execute_result",
          "data": {
            "text/plain": [
              "-20.77353817784391"
            ]
          },
          "metadata": {},
          "execution_count": 79
        }
      ]
    },
    {
      "cell_type": "code",
      "source": [
        "from sklearn import linear_model\n",
        "reg = linear_model.Lasso(alpha=0.1)\n",
        "reg.fit(X_train, y_train)\n",
        "\n",
        "reg.predict(X_test)\n",
        "reg.coef_"
      ],
      "metadata": {
        "colab": {
          "base_uri": "https://localhost:8080/"
        },
        "id": "SSBQn6_JQMrP",
        "outputId": "eea7a2a1-7dc8-4ef2-c1d3-8d3f9e2a4c7d"
      },
      "execution_count": null,
      "outputs": [
        {
          "output_type": "stream",
          "name": "stderr",
          "text": [
            "/usr/local/lib/python3.7/dist-packages/sklearn/linear_model/_coordinate_descent.py:648: ConvergenceWarning: Objective did not converge. You might want to increase the number of iterations, check the scale of the features or consider increasing regularisation. Duality gap: 3.928e+02, tolerance: 3.401e+00\n",
            "  coef_, l1_reg, l2_reg, X, y, max_iter, tol, rng, random, positive\n"
          ]
        },
        {
          "output_type": "execute_result",
          "data": {
            "text/plain": [
              "array([-0.021968, 2.416115, 0.000000, -0.132408, 0.274110, 0.613412,\n",
              "       0.085434, -0.003097, 0.000000, -0.037981, -0.540661, 0.000193,\n",
              "       0.124218, 0.023657, 6.982057, -0.001434, -0.000054, 0.456559,\n",
              "       -0.039902, 0.207413, 0.637454, 0.489548, 0.087450, -0.000351,\n",
              "       -0.000000, 0.011529, 0.194089, -0.027799, -0.006189, 0.001312])"
            ]
          },
          "metadata": {},
          "execution_count": 80
        }
      ]
    },
    {
      "cell_type": "code",
      "source": [
        "from sklearn import linear_model\n",
        "reg = linear_model.LassoLars(alpha=.1, normalize=False)\n",
        "reg.fit(X_train, y_train)\n",
        "reg.predict(X_test)\n",
        "reg.coef_\n"
      ],
      "metadata": {
        "colab": {
          "base_uri": "https://localhost:8080/"
        },
        "id": "BxByvstqRU70",
        "outputId": "4ae06149-f4e8-4d4a-93cf-6135baa218e5"
      },
      "execution_count": null,
      "outputs": [
        {
          "output_type": "execute_result",
          "data": {
            "text/plain": [
              "array([-0.021971, 2.416015, 0.000000, -0.132368, 0.274099, 0.613409,\n",
              "       0.085435, -0.002731, 0.000000, -0.037979, -0.540662, 0.000081,\n",
              "       0.124220, 0.023659, 6.983733, -0.001434, 0.000000, 0.456737,\n",
              "       -0.039900, 0.207378, 0.637377, 0.489713, 0.087448, -0.000350,\n",
              "       0.000000, 0.011527, 0.193895, -0.027803, -0.006189, 0.001370])"
            ]
          },
          "metadata": {},
          "execution_count": 81
        }
      ]
    },
    {
      "cell_type": "code",
      "source": [
        "from sklearn import linear_model\n",
        "\n",
        "reg = linear_model.BayesianRidge()\n",
        "reg.fit(X_train, y_train)\n",
        "reg.predict(X_test)\n",
        "reg.coef_\n"
      ],
      "metadata": {
        "colab": {
          "base_uri": "https://localhost:8080/"
        },
        "id": "tDXxtc_3RzWL",
        "outputId": "3a3e16f2-16d3-4e3f-be72-4a416edb9078"
      },
      "execution_count": null,
      "outputs": [
        {
          "output_type": "execute_result",
          "data": {
            "text/plain": [
              "array([-0.004807, 0.000003, -0.000001, -0.000239, -0.000469, 0.000346,\n",
              "       0.000078, -0.000012, 0.000000, 0.001077, -0.000206, 0.001215,\n",
              "       0.000284, -0.001639, 0.000000, 0.000349, 0.000128, 0.000013,\n",
              "       -0.000556, 0.000003, 0.000001, 0.000003, 0.001435, -0.000119,\n",
              "       -0.000001, 0.000275, 0.000018, -0.000688, -0.005565, 0.002302])"
            ]
          },
          "metadata": {},
          "execution_count": 82
        }
      ]
    },
    {
      "cell_type": "code",
      "source": [
        "from sklearn.linear_model import TweedieRegressor\n",
        "\n",
        "reg = TweedieRegressor(power=1, alpha=0.5, link='log')\n",
        "reg.fit(X_train, y_train)\n",
        "reg.predict(X_test)\n",
        "reg.coef_\n",
        "\n",
        "\n",
        "reg.intercept_\n"
      ],
      "metadata": {
        "colab": {
          "base_uri": "https://localhost:8080/"
        },
        "id": "C04yUDotR2qi",
        "outputId": "bd132e1a-d20c-4bed-c723-678634885d24"
      },
      "execution_count": null,
      "outputs": [
        {
          "output_type": "stream",
          "name": "stderr",
          "text": [
            "/usr/local/lib/python3.7/dist-packages/sklearn/linear_model/_glm/link.py:90: RuntimeWarning: overflow encountered in exp\n",
            "  return np.exp(lin_pred)\n",
            "/usr/local/lib/python3.7/dist-packages/sklearn/linear_model/_glm/link.py:93: RuntimeWarning: overflow encountered in exp\n",
            "  return np.exp(lin_pred)\n",
            "/usr/local/lib/python3.7/dist-packages/sklearn/_loss/glm_distribution.py:132: RuntimeWarning: invalid value encountered in true_divide\n",
            "  return -2 * (y - y_pred) / self.unit_variance(y_pred)\n",
            "/usr/local/lib/python3.7/dist-packages/sklearn/_loss/glm_distribution.py:323: RuntimeWarning: invalid value encountered in add\n",
            "  dev = 2 * (xlogy(y, y / y_pred) - y + y_pred)\n",
            "/usr/local/lib/python3.7/dist-packages/sklearn/_loss/glm_distribution.py:132: RuntimeWarning: divide by zero encountered in true_divide\n",
            "  return -2 * (y - y_pred) / self.unit_variance(y_pred)\n",
            "/usr/local/lib/python3.7/dist-packages/sklearn/linear_model/_glm/glm.py:42: RuntimeWarning: invalid value encountered in multiply\n",
            "  temp = d1 * family.deviance_derivative(y, y_pred, weights)\n",
            "/usr/local/lib/python3.7/dist-packages/sklearn/_loss/glm_distribution.py:323: RuntimeWarning: divide by zero encountered in true_divide\n",
            "  dev = 2 * (xlogy(y, y / y_pred) - y + y_pred)\n",
            "/usr/local/lib/python3.7/dist-packages/sklearn/linear_model/_glm/glm.py:323: ConvergenceWarning: lbfgs failed to converge (status=2):\n",
            "ABNORMAL_TERMINATION_IN_LNSRCH.\n",
            "\n",
            "Increase the number of iterations (max_iter) or scale the data as shown in:\n",
            "    https://scikit-learn.org/stable/modules/preprocessing.html\n",
            "  self.n_iter_ = _check_optimize_result(\"lbfgs\", opt_res)\n"
          ]
        },
        {
          "output_type": "execute_result",
          "data": {
            "text/plain": [
              "3.8533340090794668"
            ]
          },
          "metadata": {},
          "execution_count": 83
        }
      ]
    },
    {
      "cell_type": "code",
      "source": [
        "from sklearn.preprocessing import PolynomialFeatures\n",
        "import numpy as np\n",
        "\n",
        "\n",
        "\n",
        "poly = PolynomialFeatures(degree=2)\n",
        "poly.fit_transform(X)\n",
        "\n"
      ],
      "metadata": {
        "colab": {
          "base_uri": "https://localhost:8080/"
        },
        "id": "jWAW3h9MSdo0",
        "outputId": "0c14237a-4174-43d8-e1ea-24b61d829957"
      },
      "execution_count": null,
      "outputs": [
        {
          "output_type": "execute_result",
          "data": {
            "text/plain": [
              "array([[1.000000, 49.200000, 92.100000, ..., 0.064162, 0.296899,\n",
              "        1.373851],\n",
              "       [1.000000, 116.000000, 232.800000, ..., 0.747645, 2.502572,\n",
              "        8.376798],\n",
              "       [1.000000, 101.400000, 55.700000, ..., 0.169494, 1.149553,\n",
              "        7.796568],\n",
              "       ...,\n",
              "       [1.000000, 108.000000, 185.100000, ..., 3.715430, 4.366200,\n",
              "        5.130956],\n",
              "       [1.000000, 99.500000, 95.300000, ..., 0.039990, 0.548786,\n",
              "        7.530985],\n",
              "       [1.000000, 153.700000, 98.500000, ..., 0.037638, 0.441634,\n",
              "        5.181952]])"
            ]
          },
          "metadata": {},
          "execution_count": 84
        }
      ]
    },
    {
      "cell_type": "code",
      "source": [
        "from sklearn.preprocessing import PolynomialFeatures\n",
        "from sklearn.linear_model import LinearRegression\n",
        "from sklearn.pipeline import Pipeline\n",
        "import numpy as np\n",
        "model = Pipeline([('poly', PolynomialFeatures(degree=3)),\n",
        "                  ('linear', LinearRegression(fit_intercept=False))])\n",
        "# fit to an order-3 polynomial data\n",
        "x = np.arange(5)\n",
        "y = 3 - 2 * x + x ** 2 - x ** 3\n",
        "model = model.fit(x[:, np.newaxis], y)\n",
        "model.named_steps['linear'].coef_\n"
      ],
      "metadata": {
        "colab": {
          "base_uri": "https://localhost:8080/"
        },
        "id": "0ZWuLNztSjUV",
        "outputId": "4bccb1dd-697b-4e0b-9449-503fb1a4f159"
      },
      "execution_count": null,
      "outputs": [
        {
          "output_type": "execute_result",
          "data": {
            "text/plain": [
              "array([3.000000, -2.000000, 1.000000, -1.000000])"
            ]
          },
          "metadata": {},
          "execution_count": 85
        }
      ]
    }
  ]
}