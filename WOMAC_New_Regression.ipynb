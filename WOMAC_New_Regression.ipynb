{
  "nbformat": 4,
  "nbformat_minor": 0,
  "metadata": {
    "colab": {
      "provenance": [],
      "authorship_tag": "ABX9TyN9YQFY3rXEXS3WPvAuuvD/",
      "include_colab_link": true
    },
    "kernelspec": {
      "name": "python3",
      "display_name": "Python 3"
    },
    "language_info": {
      "name": "python"
    }
  },
  "cells": [
    {
      "cell_type": "markdown",
      "metadata": {
        "id": "view-in-github",
        "colab_type": "text"
      },
      "source": [
        "<a href=\"https://colab.research.google.com/github/RafsanJany-44/ARC_Machine2/blob/main/WOMAC_New_Regression.ipynb\" target=\"_parent\"><img src=\"https://colab.research.google.com/assets/colab-badge.svg\" alt=\"Open In Colab\"/></a>"
      ]
    },
    {
      "cell_type": "code",
      "execution_count": 52,
      "metadata": {
        "colab": {
          "base_uri": "https://localhost:8080/"
        },
        "id": "oPzQ7EtdLHqY",
        "outputId": "384ed6a2-252f-4c1f-c454-6b1cc31a3fa7"
      },
      "outputs": [
        {
          "output_type": "stream",
          "name": "stdout",
          "text": [
            "Drive already mounted at /content/drive; to attempt to forcibly remount, call drive.mount(\"/content/drive\", force_remount=True).\n"
          ]
        }
      ],
      "source": [
        "from google.colab import drive\n",
        "drive.mount('/content/drive')"
      ]
    },
    {
      "cell_type": "code",
      "source": [
        "import numpy as np\n",
        "import pandas as pd\n",
        "import seaborn as sns\n",
        "import matplotlib.pyplot as plt\n",
        "from sklearn import preprocessing, svm\n",
        "from sklearn.model_selection import train_test_split\n",
        "from sklearn.linear_model import LinearRegression\n",
        "\n",
        "\n",
        "\n",
        "#dataset=pd.read_csv(\"/content/drive/MyDrive/Iqram Sir/KOA_EMG_WOMAC__2022.08.29_Final_W-tempo-spatial.csv\")\n",
        "d=pd.read_csv(\"/content/drive/MyDrive/Iqram Sir/KOA_EMG_WOMAC__2022.08.31_Final_Original.csv\")\n"
      ],
      "metadata": {
        "id": "_rIMH7RIZYcc"
      },
      "execution_count": 53,
      "outputs": []
    },
    {
      "cell_type": "code",
      "source": [
        "!pip install smogn\n",
        "import smogn\n",
        "dataset = smogn.smoter(\n",
        "    \n",
        "    data = d, \n",
        "    y = \"WOMAC_total\"\n",
        ")"
      ],
      "metadata": {
        "colab": {
          "base_uri": "https://localhost:8080/"
        },
        "id": "Zd3a5XKcZbfe",
        "outputId": "f6ed6e5e-0827-4e99-f51b-757d6cc822f3"
      },
      "execution_count": 54,
      "outputs": [
        {
          "output_type": "stream",
          "name": "stdout",
          "text": [
            "Looking in indexes: https://pypi.org/simple, https://us-python.pkg.dev/colab-wheels/public/simple/\n",
            "Requirement already satisfied: smogn in /usr/local/lib/python3.7/dist-packages (0.1.2)\n",
            "Requirement already satisfied: pandas in /usr/local/lib/python3.7/dist-packages (from smogn) (1.3.5)\n",
            "Requirement already satisfied: numpy in /usr/local/lib/python3.7/dist-packages (from smogn) (1.21.6)\n",
            "Requirement already satisfied: tqdm in /usr/local/lib/python3.7/dist-packages (from smogn) (4.64.1)\n",
            "Requirement already satisfied: python-dateutil>=2.7.3 in /usr/local/lib/python3.7/dist-packages (from pandas->smogn) (2.8.2)\n",
            "Requirement already satisfied: pytz>=2017.3 in /usr/local/lib/python3.7/dist-packages (from pandas->smogn) (2022.4)\n",
            "Requirement already satisfied: six>=1.5 in /usr/local/lib/python3.7/dist-packages (from python-dateutil>=2.7.3->pandas->smogn) (1.15.0)\n"
          ]
        },
        {
          "output_type": "stream",
          "name": "stderr",
          "text": [
            "dist_matrix: 100%|##########| 25/25 [00:08<00:00,  3.08it/s]\n",
            "synth_matrix: 100%|##########| 25/25 [00:08<00:00,  3.09it/s]\n",
            "dist_matrix: 100%|##########| 24/24 [00:07<00:00,  3.22it/s]\n",
            "synth_matrix: 100%|##########| 24/24 [00:07<00:00,  3.19it/s]\n",
            "r_index: 100%|##########| 2/2 [00:00<00:00,  2.97it/s]\n"
          ]
        }
      ]
    },
    {
      "cell_type": "code",
      "source": [
        "X = dataset.iloc[:,17:]\n",
        "y = dataset.iloc[:, 9]"
      ],
      "metadata": {
        "id": "UKkqhcLDZeu1"
      },
      "execution_count": 55,
      "outputs": []
    },
    {
      "cell_type": "code",
      "source": [
        "from sklearn.feature_selection import SelectKBest\n",
        "bestfeatures = SelectKBest(k=10)\n",
        "fit = bestfeatures.fit(X,y)\n",
        "\n",
        "\n",
        "dfscores = pd.DataFrame(fit.scores_)\n",
        "dfcolumns = pd.DataFrame(X.columns)\n",
        "\n",
        "\n",
        "\n",
        "featureScores = pd.concat([dfcolumns,dfscores],axis=1)\n",
        "featureScores.columns = ['Specs','Score']\n",
        "\n",
        "\n",
        "number_of_feat=int(input(\"Number Of Best Features: \"))\n",
        "\n",
        "\n",
        "imp=featureScores.nlargest(number_of_feat,'Score')\n",
        "print(imp)"
      ],
      "metadata": {
        "colab": {
          "base_uri": "https://localhost:8080/"
        },
        "id": "AKrEDdfPaIav",
        "outputId": "d27e8463-041f-4b19-82bc-284affee5383"
      },
      "execution_count": 56,
      "outputs": [
        {
          "output_type": "stream",
          "name": "stderr",
          "text": [
            "/usr/local/lib/python3.7/dist-packages/sklearn/feature_selection/_univariate_selection.py:112: UserWarning: Features [21 22 23 24] are constant.\n",
            "  warnings.warn(\"Features %s are constant.\" % constant_features_idx, UserWarning)\n",
            "/usr/local/lib/python3.7/dist-packages/sklearn/feature_selection/_univariate_selection.py:113: RuntimeWarning: invalid value encountered in true_divide\n",
            "  f = msb / msw\n"
          ]
        },
        {
          "output_type": "stream",
          "name": "stdout",
          "text": [
            "Number Of Best Features: 50\n",
            "              Specs      Score\n",
            "777         TA-G-92  13.209328\n",
            "776         TA-G-91  12.770648\n",
            "778         TA-G-93  12.269450\n",
            "784         TA-G-99  12.008091\n",
            "785        TA-G-100  12.008072\n",
            "779         TA-G-94  11.059943\n",
            "775         TA-G-90  10.620536\n",
            "783         TA-G-98  10.077505\n",
            "780         TA-G-95   9.237172\n",
            "782         TA-G-97   8.569117\n",
            "781         TA-G-96   8.257822\n",
            "774         TA-G-89   8.066573\n",
            "791  Swing_CCI_TA-G   6.817581\n",
            "773         TA-G-88   6.254869\n",
            "685          TA-G-0   5.306077\n",
            "772         TA-G-87   5.003849\n",
            "686          TA-G-1   4.904858\n",
            "758         TA-G-73   4.652880\n",
            "759         TA-G-74   4.633516\n",
            "687          TA-G-2   4.269759\n",
            "571        TA-RF-88   4.201363\n",
            "760         TA-G-75   4.197395\n",
            "771         TA-G-86   4.097113\n",
            "570        TA-RF-87   4.020726\n",
            "572        TA-RF-89   3.999637\n",
            "147             G68   3.876700\n",
            "688          TA-G-3   3.737074\n",
            "146             G67   3.723097\n",
            "573        TA-RF-90   3.683091\n",
            "148             G69   3.625478\n",
            "761         TA-G-76   3.611979\n",
            "569        TA-RF-86   3.610220\n",
            "757         TA-G-72   3.605437\n",
            "770         TA-G-85   3.600302\n",
            "695         TA-G-10   3.584661\n",
            "696         TA-G-11   3.574742\n",
            "694          TA-G-9   3.437881\n",
            "689          TA-G-4   3.433891\n",
            "496        TA-RF-13   3.405089\n",
            "145             G66   3.365547\n",
            "574        TA-RF-91   3.341675\n",
            "568        TA-RF-85   3.316361\n",
            "697         TA-G-12   3.290239\n",
            "693          TA-G-8   3.255785\n",
            "769         TA-G-84   3.221754\n",
            "149             G70   3.217546\n",
            "690          TA-G-5   3.201696\n",
            "495        TA-RF-12   3.184542\n",
            "692          TA-G-7   3.116781\n",
            "691          TA-G-6   3.087985\n"
          ]
        }
      ]
    },
    {
      "cell_type": "code",
      "source": [
        "index = 0 #enter the serial of features\n",
        "\n",
        "X_new = dataset[[imp.iloc[:,0:1].values[index][0]]]\n",
        "y_new = dataset.iloc[:, 9]"
      ],
      "metadata": {
        "id": "-HJtB8rxaL-t"
      },
      "execution_count": 57,
      "outputs": []
    },
    {
      "cell_type": "code",
      "source": [
        "sns.lmplot(x = imp.iloc[:,0:1].values[index][0], y =\"WOMAC_total\", data = dataset, order = 2, ci = None)"
      ],
      "metadata": {
        "colab": {
          "base_uri": "https://localhost:8080/",
          "height": 387
        },
        "id": "sXzxQBeCijfS",
        "outputId": "66340a6d-6e03-4bef-d2b3-c1afb308b72c"
      },
      "execution_count": 58,
      "outputs": [
        {
          "output_type": "execute_result",
          "data": {
            "text/plain": [
              "<seaborn.axisgrid.FacetGrid at 0x7f147b51fdd0>"
            ]
          },
          "metadata": {},
          "execution_count": 58
        },
        {
          "output_type": "display_data",
          "data": {
            "text/plain": [
              "<Figure size 360x360 with 1 Axes>"
            ],
            "image/png": "[encoded data removed]"
          },
          "metadata": {
            "needs_background": "light"
          }
        }
      ]
    },
    {
      "cell_type": "code",
      "source": [
        "X_train=X_new.iloc[:120,:]  \n",
        "X_test=X_new.iloc[120:,:]\n",
        "y_train=y_new.iloc[:120]\n",
        "y_test=y_new.iloc[120:]"
      ],
      "metadata": {
        "id": "uTkL3aCUaOll"
      },
      "execution_count": 59,
      "outputs": []
    },
    {
      "cell_type": "code",
      "source": [
        "\n",
        "from sklearn.linear_model import LinearRegression\n",
        "model = LinearRegression().fit(X_train, y_train) \n",
        "\n",
        "\n",
        "r_2 = model.score(X_test, y_test)\n",
        "print('coefficient of determination (r2):', r_2)\n",
        "\n",
        "\n",
        "print('intercept:', model.intercept_)\n",
        "\n",
        "print('slope:', model.coef_) \n",
        "\n",
        "y_pred = model.predict(X_test)\n",
        "print('Predicted response:', y_pred, sep='\\n')\n"
      ],
      "metadata": {
        "colab": {
          "base_uri": "https://localhost:8080/"
        },
        "id": "4S_qdLvrb72N",
        "outputId": "f0860a04-0816-4495-8be3-60bc649494da"
      },
      "execution_count": 60,
      "outputs": [
        {
          "output_type": "stream",
          "name": "stdout",
          "text": [
            "coefficient of determination (r2): -0.6224611080466531\n",
            "intercept: 54.68919744856928\n",
            "slope: [-0.01601888]\n",
            "Predicted response:\n",
            "[54.4757271  53.96866278 53.29407762 52.11955404 50.44459216 54.22970884\n",
            " -0.96457769 53.61594286 45.65646511 53.82456239 51.29122253 53.63688445\n",
            " 54.14596782 36.37663537 53.68522646 41.94608026 53.9643726  47.69484111\n",
            " 54.15167849 54.25024782 54.68919745 53.59163197 52.90678203 53.62472461\n",
            " 52.64337409 52.11610297 54.30305396 50.2719098  53.28325207 52.02911748\n",
            " 46.97671465]\n"
          ]
        }
      ]
    },
    {
      "cell_type": "code",
      "source": [
        "\n",
        "plt.scatter(X_test, y_test, color ='b')\n",
        "plt.plot(X_test, y_pred, color ='k')\n",
        "  \n",
        "plt.show()"
      ],
      "metadata": {
        "colab": {
          "base_uri": "https://localhost:8080/",
          "height": 265
        },
        "id": "-2nSfGh_h-mK",
        "outputId": "aaa8964a-2b08-439f-f83a-f235bf72595c"
      },
      "execution_count": 61,
      "outputs": [
        {
          "output_type": "display_data",
          "data": {
            "text/plain": [
              "<Figure size 432x288 with 1 Axes>"
            ],
            "image/png": "[encoded data removed]"
          },
          "metadata": {
            "needs_background": "light"
          }
        }
      ]
    },
    {
      "cell_type": "code",
      "source": [
        "\n",
        "from sklearn.metrics import mean_absolute_error,mean_squared_error\n",
        "  \n",
        "mae = mean_absolute_error(y_true=y_test,y_pred=y_pred)\n",
        "#squared True returns MSE value, False returns RMSE value.\n",
        "mse = mean_squared_error(y_true=y_test,y_pred=y_pred) #default=True\n",
        "rmse = mean_squared_error(y_true=y_test,y_pred=y_pred,squared=False)\n",
        "  \n",
        "print(\"MAE:\",mae)\n",
        "print(\"MSE:\",mse)\n",
        "print(\"RMSE:\",rmse)"
      ],
      "metadata": {
        "colab": {
          "base_uri": "https://localhost:8080/"
        },
        "id": "bUJls14aiPVL",
        "outputId": "7f237a62-87cd-48cd-d2dc-f63fa101bbe9"
      },
      "execution_count": 62,
      "outputs": [
        {
          "output_type": "stream",
          "name": "stdout",
          "text": [
            "MAE: 27.26155624192931\n",
            "MSE: 830.31853038917\n",
            "RMSE: 28.815248227096188\n"
          ]
        }
      ]
    }
  ]
}