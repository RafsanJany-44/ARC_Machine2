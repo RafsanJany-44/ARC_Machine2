{
  "nbformat": 4,
  "nbformat_minor": 0,
  "metadata": {
    "colab": {
      "provenance": [],
      "authorship_tag": "ABX9TyMtEK0bXKJVRYoUMjhdNkUa",
      "include_colab_link": true
    },
    "kernelspec": {
      "name": "python3",
      "display_name": "Python 3"
    },
    "language_info": {
      "name": "python"
    }
  },
  "cells": [
    {
      "cell_type": "markdown",
      "metadata": {
        "id": "view-in-github",
        "colab_type": "text"
      },
      "source": [
        "<a href=\"https://colab.research.google.com/github/RafsanJany-44/ARC_Machine2/blob/main/WOMAC_New_Regression.ipynb\" target=\"_parent\"><img src=\"https://colab.research.google.com/assets/colab-badge.svg\" alt=\"Open In Colab\"/></a>"
      ]
    },
    {
      "cell_type": "code",
      "execution_count": 1,
      "metadata": {
        "colab": {
          "base_uri": "https://localhost:8080/"
        },
        "id": "oPzQ7EtdLHqY",
        "outputId": "a1a2cbec-ea12-4fbe-c7b8-37b4db90997b"
      },
      "outputs": [
        {
          "output_type": "stream",
          "name": "stdout",
          "text": [
            "Mounted at /content/drive\n"
          ]
        }
      ],
      "source": [
        "from google.colab import drive\n",
        "drive.mount('/content/drive')"
      ]
    },
    {
      "cell_type": "code",
      "source": [
        "import numpy as np\n",
        "import pandas as pd\n",
        "import smogn\n",
        "#dataset=pd.read_csv(\"/content/drive/MyDrive/Iqram Sir/KOA_EMG_WOMAC__2022.08.29_Final_W-tempo-spatial.csv\")\n",
        "d=pd.read_csv(\"/content/drive/MyDrive/Iqram Sir/KOA_EMG_WOMAC__2022.08.31_Final_Original.csv\")\n"
      ],
      "metadata": {
        "id": "_rIMH7RIZYcc"
      },
      "execution_count": 5,
      "outputs": []
    },
    {
      "cell_type": "code",
      "source": [
        "!pip install smogn\n",
        "\n",
        "dataset = smogn.smoter(\n",
        "    \n",
        "    data = d, \n",
        "    y = \"WOMAC_total\"\n",
        ")"
      ],
      "metadata": {
        "colab": {
          "base_uri": "https://localhost:8080/"
        },
        "id": "Zd3a5XKcZbfe",
        "outputId": "2b8815e4-1931-42da-89f9-c13227560d07"
      },
      "execution_count": 6,
      "outputs": [
        {
          "output_type": "stream",
          "name": "stdout",
          "text": [
            "Looking in indexes: https://pypi.org/simple, https://us-python.pkg.dev/colab-wheels/public/simple/\n",
            "Requirement already satisfied: smogn in /usr/local/lib/python3.7/dist-packages (0.1.2)\n",
            "Requirement already satisfied: tqdm in /usr/local/lib/python3.7/dist-packages (from smogn) (4.64.1)\n",
            "Requirement already satisfied: numpy in /usr/local/lib/python3.7/dist-packages (from smogn) (1.21.6)\n",
            "Requirement already satisfied: pandas in /usr/local/lib/python3.7/dist-packages (from smogn) (1.3.5)\n",
            "Requirement already satisfied: python-dateutil>=2.7.3 in /usr/local/lib/python3.7/dist-packages (from pandas->smogn) (2.8.2)\n",
            "Requirement already satisfied: pytz>=2017.3 in /usr/local/lib/python3.7/dist-packages (from pandas->smogn) (2022.4)\n",
            "Requirement already satisfied: six>=1.5 in /usr/local/lib/python3.7/dist-packages (from python-dateutil>=2.7.3->pandas->smogn) (1.15.0)\n"
          ]
        },
        {
          "output_type": "stream",
          "name": "stderr",
          "text": [
            "dist_matrix: 100%|##########| 25/25 [00:08<00:00,  3.08it/s]\n",
            "synth_matrix: 100%|##########| 25/25 [00:08<00:00,  3.12it/s]\n",
            "dist_matrix: 100%|##########| 24/24 [00:07<00:00,  3.24it/s]\n",
            "synth_matrix: 100%|##########| 24/24 [00:07<00:00,  3.31it/s]\n",
            "r_index: 100%|##########| 2/2 [00:00<00:00,  2.97it/s]\n"
          ]
        }
      ]
    },
    {
      "cell_type": "code",
      "source": [
        "X = dataset.iloc[:,17:]\n",
        "y = dataset.iloc[:, 9]"
      ],
      "metadata": {
        "id": "UKkqhcLDZeu1"
      },
      "execution_count": 7,
      "outputs": []
    },
    {
      "cell_type": "code",
      "source": [
        "from sklearn.feature_selection import SelectKBest\n",
        "bestfeatures = SelectKBest(k=10)\n",
        "fit = bestfeatures.fit(X,y)\n",
        "\n",
        "\n",
        "dfscores = pd.DataFrame(fit.scores_)\n",
        "dfcolumns = pd.DataFrame(X.columns)\n",
        "\n",
        "\n",
        "\n",
        "featureScores = pd.concat([dfcolumns,dfscores],axis=1)\n",
        "featureScores.columns = ['Specs','Score']\n",
        "\n",
        "\n",
        "number_of_feat=int(input(\"Number Of Best Features: \"))\n",
        "\n",
        "\n",
        "imp=featureScores.nlargest(number_of_feat,'Score')\n",
        "print(imp)"
      ],
      "metadata": {
        "colab": {
          "base_uri": "https://localhost:8080/"
        },
        "id": "AKrEDdfPaIav",
        "outputId": "2630dcc2-6281-4ebe-8678-9068c76743e0"
      },
      "execution_count": 14,
      "outputs": [
        {
          "output_type": "stream",
          "name": "stderr",
          "text": [
            "/usr/local/lib/python3.7/dist-packages/sklearn/feature_selection/_univariate_selection.py:112: UserWarning: Features [21 22 23 24] are constant.\n",
            "  warnings.warn(\"Features %s are constant.\" % constant_features_idx, UserWarning)\n",
            "/usr/local/lib/python3.7/dist-packages/sklearn/feature_selection/_univariate_selection.py:113: RuntimeWarning: invalid value encountered in true_divide\n",
            "  f = msb / msw\n"
          ]
        },
        {
          "output_type": "stream",
          "name": "stdout",
          "text": [
            "Number Of Best Features: 10\n",
            "       Specs      Score\n",
            "779  TA-G-94  14.687784\n",
            "778  TA-G-93  13.861102\n",
            "780  TA-G-95  13.678220\n",
            "777  TA-G-92  13.597417\n",
            "776  TA-G-91  13.077957\n",
            "781  TA-G-96  12.666130\n",
            "782  TA-G-97  12.170416\n",
            "783  TA-G-98  11.306259\n",
            "775  TA-G-90  11.128742\n",
            "784  TA-G-99  10.681846\n"
          ]
        }
      ]
    },
    {
      "cell_type": "code",
      "source": [],
      "metadata": {
        "colab": {
          "base_uri": "https://localhost:8080/"
        },
        "id": "vucxu88Ac3z4",
        "outputId": "4912db35-0eff-4e0f-b26a-c44a1c2d2932"
      },
      "execution_count": 20,
      "outputs": [
        {
          "output_type": "stream",
          "name": "stdout",
          "text": [
            "['TA-G-96']\n"
          ]
        }
      ]
    },
    {
      "cell_type": "code",
      "source": [
        "index = 1 #enter the serial of features\n",
        "\n",
        "X_new = dataset[[imp.iloc[:,0:1].values[index][0]]]\n",
        "y_new = dataset.iloc[:, 9]"
      ],
      "metadata": {
        "id": "-HJtB8rxaL-t"
      },
      "execution_count": 23,
      "outputs": []
    },
    {
      "cell_type": "code",
      "source": [
        "X_train=X_new.iloc[:120,:]  \n",
        "X_test=X_new.iloc[120:,:]\n",
        "y_train=y_new.iloc[:120]\n",
        "y_test=y_new.iloc[120:]"
      ],
      "metadata": {
        "id": "uTkL3aCUaOll"
      },
      "execution_count": 25,
      "outputs": []
    },
    {
      "cell_type": "code",
      "source": [
        "\n",
        "from sklearn.linear_model import LinearRegression\n",
        "model = LinearRegression().fit(X_train, y_train) \n",
        "\n",
        "\n",
        "r_2 = model.score(X_test, y_test)\n",
        "print('coefficient of determination (r2):', r_2)\n",
        "\n",
        "\n",
        "print('intercept:', model.intercept_)\n",
        "\n",
        "print('slope:', model.coef_) \n",
        "\n",
        "y_pred = model.predict(X_test)\n",
        "print('Predicted response:', y_pred, sep='\\n')\n"
      ],
      "metadata": {
        "colab": {
          "base_uri": "https://localhost:8080/"
        },
        "id": "4S_qdLvrb72N",
        "outputId": "69c615d3-3faf-4c0b-d8bd-4fd899df5249"
      },
      "execution_count": 28,
      "outputs": [
        {
          "output_type": "stream",
          "name": "stdout",
          "text": [
            "coefficient of determination (r2): -0.6238640575201275\n",
            "intercept: 54.86902410665963\n",
            "slope: [-0.01498799]\n",
            "Predicted response:\n",
            "[54.47059849 53.83832255 53.95350633 52.82296135 53.1650825  54.27739684\n",
            "  5.29781799 53.67516022 43.85549662 54.10951981 52.05300684 54.07134941\n",
            " 53.72079881 47.77923742 53.74237652 39.11951699 54.6015813  50.69682667\n",
            " 54.06795599 53.08160853 54.07538434 53.83509997 49.53867913 52.6931949\n",
            " 53.57515636 54.40319869 54.31401506 46.55187033 53.41151081 52.01161867\n",
            " 45.03165644]\n"
          ]
        }
      ]
    }
  ]
}