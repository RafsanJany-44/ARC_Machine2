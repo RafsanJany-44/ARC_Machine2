{
  "nbformat": 4,
  "nbformat_minor": 0,
  "metadata": {
    "colab": {
      "provenance": [],
      "include_colab_link": true
    },
    "kernelspec": {
      "name": "python3",
      "display_name": "Python 3"
    },
    "language_info": {
      "name": "python"
    }
  },
  "cells": [
    {
      "cell_type": "markdown",
      "metadata": {
        "id": "view-in-github",
        "colab_type": "text"
      },
      "source": [
        "<a href=\"https://colab.research.google.com/github/RafsanJany-44/ARC_Machine2/blob/main/WOMAC_Total_Regression_Version321.ipynb\" target=\"_parent\"><img src=\"https://colab.research.google.com/assets/colab-badge.svg\" alt=\"Open In Colab\"/></a>"
      ]
    },
    {
      "cell_type": "code",
      "execution_count": 2,
      "metadata": {
        "colab": {
          "base_uri": "https://localhost:8080/"
        },
        "id": "vj6jHu9WkVnY",
        "outputId": "c31a6a91-4f81-4315-d67e-53f6e1fdae85"
      },
      "outputs": [
        {
          "output_type": "stream",
          "name": "stdout",
          "text": [
            "Mounted at /content/drive\n"
          ]
        }
      ],
      "source": [
        "from google.colab import drive\n",
        "drive.mount('/content/drive')"
      ]
    },
    {
      "cell_type": "code",
      "source": [
        "!pip install smogn"
      ],
      "metadata": {
        "colab": {
          "base_uri": "https://localhost:8080/"
        },
        "id": "_fm7MJap1Jga",
        "outputId": "83e7c9bd-b8b5-4e6f-cf00-0773f0e2c8c3"
      },
      "execution_count": 3,
      "outputs": [
        {
          "output_type": "stream",
          "name": "stdout",
          "text": [
            "Looking in indexes: https://pypi.org/simple, https://us-python.pkg.dev/colab-wheels/public/simple/\n",
            "Collecting smogn\n",
            "  Downloading smogn-0.1.2-py3-none-any.whl (30 kB)\n",
            "Requirement already satisfied: tqdm in /usr/local/lib/python3.7/dist-packages (from smogn) (4.64.0)\n",
            "Requirement already satisfied: numpy in /usr/local/lib/python3.7/dist-packages (from smogn) (1.21.6)\n",
            "Requirement already satisfied: pandas in /usr/local/lib/python3.7/dist-packages (from smogn) (1.3.5)\n",
            "Requirement already satisfied: pytz>=2017.3 in /usr/local/lib/python3.7/dist-packages (from pandas->smogn) (2022.2.1)\n",
            "Requirement already satisfied: python-dateutil>=2.7.3 in /usr/local/lib/python3.7/dist-packages (from pandas->smogn) (2.8.2)\n",
            "Requirement already satisfied: six>=1.5 in /usr/local/lib/python3.7/dist-packages (from python-dateutil>=2.7.3->pandas->smogn) (1.15.0)\n",
            "Installing collected packages: smogn\n",
            "Successfully installed smogn-0.1.2\n"
          ]
        }
      ]
    },
    {
      "cell_type": "code",
      "source": [
        "import numpy as np\n",
        "import pandas as pd\n",
        "import smogn\n",
        "#dataset=pd.read_csv(\"/content/drive/MyDrive/Iqram Sir/KOA_EMG_WOMAC__2022.08.29_Final_W-tempo-spatial.csv\")\n",
        "d=pd.read_csv(\"/content/drive/MyDrive/Iqram Sir/KOA_EMG_WOMAC__2022.08.31_Final_Original.csv\")\n",
        "\n",
        "dataset = smogn.smoter(\n",
        "    \n",
        "    data = d, \n",
        "    y = \"WOMAC_total\"\n",
        ")"
      ],
      "metadata": {
        "id": "j77BeUU4sbVU",
        "colab": {
          "base_uri": "https://localhost:8080/"
        },
        "outputId": "3fd5f3c1-6ae0-4925-d723-110c54617425"
      },
      "execution_count": 4,
      "outputs": [
        {
          "output_type": "stream",
          "name": "stderr",
          "text": [
            "dist_matrix: 100%|##########| 25/25 [00:07<00:00,  3.28it/s]\n",
            "synth_matrix: 100%|##########| 25/25 [00:06<00:00,  3.94it/s]\n",
            "dist_matrix: 100%|##########| 24/24 [00:07<00:00,  3.40it/s]\n",
            "synth_matrix: 100%|##########| 24/24 [00:06<00:00,  3.97it/s]\n",
            "r_index: 100%|##########| 2/2 [00:00<00:00,  4.15it/s]\n"
          ]
        }
      ]
    },
    {
      "cell_type": "code",
      "source": [
        "dataset.head(10)"
      ],
      "metadata": {
        "colab": {
          "base_uri": "https://localhost:8080/",
          "height": 473
        },
        "id": "G14KmjKWsn2_",
        "outputId": "3436699a-4479-414b-e10e-e417073d931d"
      },
      "execution_count": 5,
      "outputs": [
        {
          "output_type": "execute_result",
          "data": {
            "text/plain": [
              "   Patient ID Data Type Bone-Attribution  WOMAC_Pain WOMAC_Pain Grade  \\\n",
              "0       13490   Testing                O          12         Moderate   \n",
              "1       14071   Testing                O          10         Moderate   \n",
              "2       14064   Testing                O           9         Moderate   \n",
              "3       14463   Testing                O          14         Moderate   \n",
              "4       14460   Testing                O          15         Moderate   \n",
              "5       13248   Testing                O           9         Moderate   \n",
              "6       13350   Testing                O          14         Moderate   \n",
              "7       13355   Testing                O          13         Moderate   \n",
              "8       13524   Testing                O          14         Moderate   \n",
              "9       14146   Testing                O          12         Moderate   \n",
              "\n",
              "   WOMAC_Stiffness WOMAC_Stiffness Grade  WOMAC_Physical function  \\\n",
              "0                1                  Mild                       51   \n",
              "1                6                  Mild                       49   \n",
              "2                5                  Mild                       49   \n",
              "3                5                  Mild                       46   \n",
              "4                5                  Mild                       46   \n",
              "5                5                  Mild                       52   \n",
              "6                6                  Mild                       50   \n",
              "7                6                  Mild                       50   \n",
              "8                6                  Mild                       49   \n",
              "9                5                  Mild                       51   \n",
              "\n",
              "  WOMAC_MHhysical function Grade  WOMAC_total  ...    TA-G-100  \\\n",
              "0                         Severe           66  ...   80.080600   \n",
              "1                         Severe           66  ...   45.955399   \n",
              "2                         Severe           66  ...   39.155617   \n",
              "3                         Severe           66  ...   82.221631   \n",
              "4                         Severe           66  ...  871.652730   \n",
              "5                         Severe           68  ...   98.972562   \n",
              "6                         Severe           69  ...  102.802363   \n",
              "7                         Severe           70  ...   61.167784   \n",
              "8                         Severe           69  ...  196.259093   \n",
              "9                         Severe           69  ...  257.938342   \n",
              "\n",
              "   Stance_CCI_TA-RF Stance_CCI_G-MH  Stance_CCI_TA-G Swing_CCI_TA-RF  \\\n",
              "0         23.714214      195.879405        23.004550      117.750717   \n",
              "1         28.657786      302.585929        27.348073       65.277088   \n",
              "2        138.104427      159.963024       123.783568       86.704138   \n",
              "3        100.616082       72.845600        83.156595      110.654905   \n",
              "4        247.053137       75.419781       478.974022      325.417419   \n",
              "5         95.148632      139.021021        95.991607      224.614593   \n",
              "6        126.242925      133.704187       128.446044      109.966688   \n",
              "7        287.785020      104.584531       132.258914      157.303137   \n",
              "8         81.502558       63.690699       158.983670      112.536916   \n",
              "9        221.805798      101.838821       255.572029      282.030150   \n",
              "\n",
              "  Swing_CCI_G-MH Swing_CCI_TA-G  swing/stance_cci(TA_RF)  \\\n",
              "0      82.182115     116.889299                 5.447944   \n",
              "1     341.553158      80.082589                 2.462042   \n",
              "2      73.662338     118.927347                 0.643192   \n",
              "3      53.440038     169.776741                 1.106497   \n",
              "4      13.109512     807.426989                 1.347623   \n",
              "5      29.298810     221.900296                 2.323623   \n",
              "6     109.994904     125.816241                 0.882192   \n",
              "7      75.986804     179.723614                 0.518769   \n",
              "8      22.367839     331.063099                 1.376381   \n",
              "9      33.812695     404.823080                 1.252290   \n",
              "\n",
              "   swing/stance_cci(G-MH)  swing/stance_CCI(TA-G)  \n",
              "0                0.401610                5.650180  \n",
              "1                1.117771                2.903544  \n",
              "2                0.455010                0.938581  \n",
              "3                0.735839                1.931125  \n",
              "4                0.220784                1.699184  \n",
              "5                0.183988                2.321121  \n",
              "6                0.830351                0.998033  \n",
              "7                0.708553                1.364856  \n",
              "8                0.368928                2.033562  \n",
              "9                0.338323                1.606359  \n",
              "\n",
              "[10 rows x 812 columns]"
            ],
            "text/html": [
              "\n",
              "  <div id=\"df-a14ea4fb-0c3d-4040-beb9-c88b7a18205c\">\n",
              "    <div class=\"colab-df-container\">\n",
              "      <div>\n",
              "<style scoped>\n",
              "    .dataframe tbody tr th:only-of-type {\n",
              "        vertical-align: middle;\n",
              "    }\n",
              "\n",
              "    .dataframe tbody tr th {\n",
              "        vertical-align: top;\n",
              "    }\n",
              "\n",
              "    .dataframe thead th {\n",
              "        text-align: right;\n",
              "    }\n",
              "</style>\n",
              "<table border=\"1\" class=\"dataframe\">\n",
              "  <thead>\n",
              "    <tr style=\"text-align: right;\">\n",
              "      <th></th>\n",
              "      <th>Patient ID</th>\n",
              "      <th>Data Type</th>\n",
              "      <th>Bone-Attribution</th>\n",
              "      <th>WOMAC_Pain</th>\n",
              "      <th>WOMAC_Pain Grade</th>\n",
              "      <th>WOMAC_Stiffness</th>\n",
              "      <th>WOMAC_Stiffness Grade</th>\n",
              "      <th>WOMAC_Physical function</th>\n",
              "      <th>WOMAC_MHhysical function Grade</th>\n",
              "      <th>WOMAC_total</th>\n",
              "      <th>...</th>\n",
              "      <th>TA-G-100</th>\n",
              "      <th>Stance_CCI_TA-RF</th>\n",
              "      <th>Stance_CCI_G-MH</th>\n",
              "      <th>Stance_CCI_TA-G</th>\n",
              "      <th>Swing_CCI_TA-RF</th>\n",
              "      <th>Swing_CCI_G-MH</th>\n",
              "      <th>Swing_CCI_TA-G</th>\n",
              "      <th>swing/stance_cci(TA_RF)</th>\n",
              "      <th>swing/stance_cci(G-MH)</th>\n",
              "      <th>swing/stance_CCI(TA-G)</th>\n",
              "    </tr>\n",
              "  </thead>\n",
              "  <tbody>\n",
              "    <tr>\n",
              "      <th>0</th>\n",
              "      <td>13490</td>\n",
              "      <td>Testing</td>\n",
              "      <td>O</td>\n",
              "      <td>12</td>\n",
              "      <td>Moderate</td>\n",
              "      <td>1</td>\n",
              "      <td>Mild</td>\n",
              "      <td>51</td>\n",
              "      <td>Severe</td>\n",
              "      <td>66</td>\n",
              "      <td>...</td>\n",
              "      <td>80.080600</td>\n",
              "      <td>23.714214</td>\n",
              "      <td>195.879405</td>\n",
              "      <td>23.004550</td>\n",
              "      <td>117.750717</td>\n",
              "      <td>82.182115</td>\n",
              "      <td>116.889299</td>\n",
              "      <td>5.447944</td>\n",
              "      <td>0.401610</td>\n",
              "      <td>5.650180</td>\n",
              "    </tr>\n",
              "    <tr>\n",
              "      <th>1</th>\n",
              "      <td>14071</td>\n",
              "      <td>Testing</td>\n",
              "      <td>O</td>\n",
              "      <td>10</td>\n",
              "      <td>Moderate</td>\n",
              "      <td>6</td>\n",
              "      <td>Mild</td>\n",
              "      <td>49</td>\n",
              "      <td>Severe</td>\n",
              "      <td>66</td>\n",
              "      <td>...</td>\n",
              "      <td>45.955399</td>\n",
              "      <td>28.657786</td>\n",
              "      <td>302.585929</td>\n",
              "      <td>27.348073</td>\n",
              "      <td>65.277088</td>\n",
              "      <td>341.553158</td>\n",
              "      <td>80.082589</td>\n",
              "      <td>2.462042</td>\n",
              "      <td>1.117771</td>\n",
              "      <td>2.903544</td>\n",
              "    </tr>\n",
              "    <tr>\n",
              "      <th>2</th>\n",
              "      <td>14064</td>\n",
              "      <td>Testing</td>\n",
              "      <td>O</td>\n",
              "      <td>9</td>\n",
              "      <td>Moderate</td>\n",
              "      <td>5</td>\n",
              "      <td>Mild</td>\n",
              "      <td>49</td>\n",
              "      <td>Severe</td>\n",
              "      <td>66</td>\n",
              "      <td>...</td>\n",
              "      <td>39.155617</td>\n",
              "      <td>138.104427</td>\n",
              "      <td>159.963024</td>\n",
              "      <td>123.783568</td>\n",
              "      <td>86.704138</td>\n",
              "      <td>73.662338</td>\n",
              "      <td>118.927347</td>\n",
              "      <td>0.643192</td>\n",
              "      <td>0.455010</td>\n",
              "      <td>0.938581</td>\n",
              "    </tr>\n",
              "    <tr>\n",
              "      <th>3</th>\n",
              "      <td>14463</td>\n",
              "      <td>Testing</td>\n",
              "      <td>O</td>\n",
              "      <td>14</td>\n",
              "      <td>Moderate</td>\n",
              "      <td>5</td>\n",
              "      <td>Mild</td>\n",
              "      <td>46</td>\n",
              "      <td>Severe</td>\n",
              "      <td>66</td>\n",
              "      <td>...</td>\n",
              "      <td>82.221631</td>\n",
              "      <td>100.616082</td>\n",
              "      <td>72.845600</td>\n",
              "      <td>83.156595</td>\n",
              "      <td>110.654905</td>\n",
              "      <td>53.440038</td>\n",
              "      <td>169.776741</td>\n",
              "      <td>1.106497</td>\n",
              "      <td>0.735839</td>\n",
              "      <td>1.931125</td>\n",
              "    </tr>\n",
              "    <tr>\n",
              "      <th>4</th>\n",
              "      <td>14460</td>\n",
              "      <td>Testing</td>\n",
              "      <td>O</td>\n",
              "      <td>15</td>\n",
              "      <td>Moderate</td>\n",
              "      <td>5</td>\n",
              "      <td>Mild</td>\n",
              "      <td>46</td>\n",
              "      <td>Severe</td>\n",
              "      <td>66</td>\n",
              "      <td>...</td>\n",
              "      <td>871.652730</td>\n",
              "      <td>247.053137</td>\n",
              "      <td>75.419781</td>\n",
              "      <td>478.974022</td>\n",
              "      <td>325.417419</td>\n",
              "      <td>13.109512</td>\n",
              "      <td>807.426989</td>\n",
              "      <td>1.347623</td>\n",
              "      <td>0.220784</td>\n",
              "      <td>1.699184</td>\n",
              "    </tr>\n",
              "    <tr>\n",
              "      <th>5</th>\n",
              "      <td>13248</td>\n",
              "      <td>Testing</td>\n",
              "      <td>O</td>\n",
              "      <td>9</td>\n",
              "      <td>Moderate</td>\n",
              "      <td>5</td>\n",
              "      <td>Mild</td>\n",
              "      <td>52</td>\n",
              "      <td>Severe</td>\n",
              "      <td>68</td>\n",
              "      <td>...</td>\n",
              "      <td>98.972562</td>\n",
              "      <td>95.148632</td>\n",
              "      <td>139.021021</td>\n",
              "      <td>95.991607</td>\n",
              "      <td>224.614593</td>\n",
              "      <td>29.298810</td>\n",
              "      <td>221.900296</td>\n",
              "      <td>2.323623</td>\n",
              "      <td>0.183988</td>\n",
              "      <td>2.321121</td>\n",
              "    </tr>\n",
              "    <tr>\n",
              "      <th>6</th>\n",
              "      <td>13350</td>\n",
              "      <td>Testing</td>\n",
              "      <td>O</td>\n",
              "      <td>14</td>\n",
              "      <td>Moderate</td>\n",
              "      <td>6</td>\n",
              "      <td>Mild</td>\n",
              "      <td>50</td>\n",
              "      <td>Severe</td>\n",
              "      <td>69</td>\n",
              "      <td>...</td>\n",
              "      <td>102.802363</td>\n",
              "      <td>126.242925</td>\n",
              "      <td>133.704187</td>\n",
              "      <td>128.446044</td>\n",
              "      <td>109.966688</td>\n",
              "      <td>109.994904</td>\n",
              "      <td>125.816241</td>\n",
              "      <td>0.882192</td>\n",
              "      <td>0.830351</td>\n",
              "      <td>0.998033</td>\n",
              "    </tr>\n",
              "    <tr>\n",
              "      <th>7</th>\n",
              "      <td>13355</td>\n",
              "      <td>Testing</td>\n",
              "      <td>O</td>\n",
              "      <td>13</td>\n",
              "      <td>Moderate</td>\n",
              "      <td>6</td>\n",
              "      <td>Mild</td>\n",
              "      <td>50</td>\n",
              "      <td>Severe</td>\n",
              "      <td>70</td>\n",
              "      <td>...</td>\n",
              "      <td>61.167784</td>\n",
              "      <td>287.785020</td>\n",
              "      <td>104.584531</td>\n",
              "      <td>132.258914</td>\n",
              "      <td>157.303137</td>\n",
              "      <td>75.986804</td>\n",
              "      <td>179.723614</td>\n",
              "      <td>0.518769</td>\n",
              "      <td>0.708553</td>\n",
              "      <td>1.364856</td>\n",
              "    </tr>\n",
              "    <tr>\n",
              "      <th>8</th>\n",
              "      <td>13524</td>\n",
              "      <td>Testing</td>\n",
              "      <td>O</td>\n",
              "      <td>14</td>\n",
              "      <td>Moderate</td>\n",
              "      <td>6</td>\n",
              "      <td>Mild</td>\n",
              "      <td>49</td>\n",
              "      <td>Severe</td>\n",
              "      <td>69</td>\n",
              "      <td>...</td>\n",
              "      <td>196.259093</td>\n",
              "      <td>81.502558</td>\n",
              "      <td>63.690699</td>\n",
              "      <td>158.983670</td>\n",
              "      <td>112.536916</td>\n",
              "      <td>22.367839</td>\n",
              "      <td>331.063099</td>\n",
              "      <td>1.376381</td>\n",
              "      <td>0.368928</td>\n",
              "      <td>2.033562</td>\n",
              "    </tr>\n",
              "    <tr>\n",
              "      <th>9</th>\n",
              "      <td>14146</td>\n",
              "      <td>Testing</td>\n",
              "      <td>O</td>\n",
              "      <td>12</td>\n",
              "      <td>Moderate</td>\n",
              "      <td>5</td>\n",
              "      <td>Mild</td>\n",
              "      <td>51</td>\n",
              "      <td>Severe</td>\n",
              "      <td>69</td>\n",
              "      <td>...</td>\n",
              "      <td>257.938342</td>\n",
              "      <td>221.805798</td>\n",
              "      <td>101.838821</td>\n",
              "      <td>255.572029</td>\n",
              "      <td>282.030150</td>\n",
              "      <td>33.812695</td>\n",
              "      <td>404.823080</td>\n",
              "      <td>1.252290</td>\n",
              "      <td>0.338323</td>\n",
              "      <td>1.606359</td>\n",
              "    </tr>\n",
              "  </tbody>\n",
              "</table>\n",
              "<p>10 rows × 812 columns</p>\n",
              "</div>\n",
              "      <button class=\"colab-df-convert\" onclick=\"convertToInteractive('df-a14ea4fb-0c3d-4040-beb9-c88b7a18205c')\"\n",
              "              title=\"Convert this dataframe to an interactive table.\"\n",
              "              style=\"display:none;\">\n",
              "        \n",
              "  <svg xmlns=\"http://www.w3.org/2000/svg\" height=\"24px\"viewBox=\"0 0 24 24\"\n",
              "       width=\"24px\">\n",
              "    <path d=\"M0 0h24v24H0V0z\" fill=\"none\"/>\n",
              "    <path d=\"M18.56 5.44l.94 2.06.94-2.06 2.06-.94-2.06-.94-.94-2.06-.94 2.06-2.06.94zm-11 1L8.5 8.5l.94-2.06 2.06-.94-2.06-.94L8.5 2.5l-.94 2.06-2.06.94zm10 10l.94 2.06.94-2.06 2.06-.94-2.06-.94-.94-2.06-.94 2.06-2.06.94z\"/><path d=\"M17.41 7.96l-1.37-1.37c-.4-.4-.92-.59-1.43-.59-.52 0-1.04.2-1.43.59L10.3 9.45l-7.72 7.72c-.78.78-.78 2.05 0 2.83L4 21.41c.39.39.9.59 1.41.59.51 0 1.02-.2 1.41-.59l7.78-7.78 2.81-2.81c.8-.78.8-2.07 0-2.86zM5.41 20L4 18.59l7.72-7.72 1.47 1.35L5.41 20z\"/>\n",
              "  </svg>\n",
              "      </button>\n",
              "      \n",
              "  <style>\n",
              "    .colab-df-container {\n",
              "      display:flex;\n",
              "      flex-wrap:wrap;\n",
              "      gap: 12px;\n",
              "    }\n",
              "\n",
              "    .colab-df-convert {\n",
              "      background-color: #E8F0FE;\n",
              "      border: none;\n",
              "      border-radius: 50%;\n",
              "      cursor: pointer;\n",
              "      display: none;\n",
              "      fill: #1967D2;\n",
              "      height: 32px;\n",
              "      padding: 0 0 0 0;\n",
              "      width: 32px;\n",
              "    }\n",
              "\n",
              "    .colab-df-convert:hover {\n",
              "      background-color: #E2EBFA;\n",
              "      box-shadow: 0px 1px 2px rgba(60, 64, 67, 0.3), 0px 1px 3px 1px rgba(60, 64, 67, 0.15);\n",
              "      fill: #174EA6;\n",
              "    }\n",
              "\n",
              "    [theme=dark] .colab-df-convert {\n",
              "      background-color: #3B4455;\n",
              "      fill: #D2E3FC;\n",
              "    }\n",
              "\n",
              "    [theme=dark] .colab-df-convert:hover {\n",
              "      background-color: #434B5C;\n",
              "      box-shadow: 0px 1px 3px 1px rgba(0, 0, 0, 0.15);\n",
              "      filter: drop-shadow(0px 1px 2px rgba(0, 0, 0, 0.3));\n",
              "      fill: #FFFFFF;\n",
              "    }\n",
              "  </style>\n",
              "\n",
              "      <script>\n",
              "        const buttonEl =\n",
              "          document.querySelector('#df-a14ea4fb-0c3d-4040-beb9-c88b7a18205c button.colab-df-convert');\n",
              "        buttonEl.style.display =\n",
              "          google.colab.kernel.accessAllowed ? 'block' : 'none';\n",
              "\n",
              "        async function convertToInteractive(key) {\n",
              "          const element = document.querySelector('#df-a14ea4fb-0c3d-4040-beb9-c88b7a18205c');\n",
              "          const dataTable =\n",
              "            await google.colab.kernel.invokeFunction('convertToInteractive',\n",
              "                                                     [key], {});\n",
              "          if (!dataTable) return;\n",
              "\n",
              "          const docLinkHtml = 'Like what you see? Visit the ' +\n",
              "            '<a target=\"_blank\" href=https://colab.research.google.com/notebooks/data_table.ipynb>data table notebook</a>'\n",
              "            + ' to learn more about interactive tables.';\n",
              "          element.innerHTML = '';\n",
              "          dataTable['output_type'] = 'display_data';\n",
              "          await google.colab.output.renderOutput(dataTable, element);\n",
              "          const docLink = document.createElement('div');\n",
              "          docLink.innerHTML = docLinkHtml;\n",
              "          element.appendChild(docLink);\n",
              "        }\n",
              "      </script>\n",
              "    </div>\n",
              "  </div>\n",
              "  "
            ]
          },
          "metadata": {},
          "execution_count": 5
        }
      ]
    },
    {
      "cell_type": "code",
      "source": [
        "dataset.shape"
      ],
      "metadata": {
        "colab": {
          "base_uri": "https://localhost:8080/"
        },
        "id": "CSHw6o9psp-a",
        "outputId": "9f878f4f-5b91-4a17-c2ea-3f0aff1b43e9"
      },
      "execution_count": 6,
      "outputs": [
        {
          "output_type": "execute_result",
          "data": {
            "text/plain": [
              "(151, 812)"
            ]
          },
          "metadata": {},
          "execution_count": 6
        }
      ]
    },
    {
      "cell_type": "code",
      "source": [
        "X = dataset.iloc[:,17:]\n",
        "y = dataset.iloc[:, 9]"
      ],
      "metadata": {
        "id": "AiTKRXiY0mdy"
      },
      "execution_count": 7,
      "outputs": []
    },
    {
      "cell_type": "code",
      "source": [
        "'''\n",
        "from sklearn.model_selection import train_test_split\n",
        "X_train, X_test, y_train, y_test = train_test_split(X, y, test_size = 0.2, random_state = 0)\n",
        "'''"
      ],
      "metadata": {
        "id": "gzJ19cN22KsU",
        "colab": {
          "base_uri": "https://localhost:8080/",
          "height": 36
        },
        "outputId": "657e6369-6508-45aa-a680-d9b43bfda28a"
      },
      "execution_count": 8,
      "outputs": [
        {
          "output_type": "execute_result",
          "data": {
            "text/plain": [
              "'\\nfrom sklearn.model_selection import train_test_split\\nX_train, X_test, y_train, y_test = train_test_split(X, y, test_size = 0.2, random_state = 0)\\n'"
            ],
            "application/vnd.google.colaboratory.intrinsic+json": {
              "type": "string"
            }
          },
          "metadata": {},
          "execution_count": 8
        }
      ]
    },
    {
      "cell_type": "code",
      "source": [
        "from sklearn.feature_selection import SelectKBest\n",
        "bestfeatures = SelectKBest(k=10)\n",
        "fit = bestfeatures.fit(X,y)"
      ],
      "metadata": {
        "id": "7SpMLBfwJhMa",
        "colab": {
          "base_uri": "https://localhost:8080/"
        },
        "outputId": "a60c8058-a17d-4cc1-ad10-67a8f76b3247"
      },
      "execution_count": 9,
      "outputs": [
        {
          "output_type": "stream",
          "name": "stderr",
          "text": [
            "/usr/local/lib/python3.7/dist-packages/sklearn/feature_selection/_univariate_selection.py:112: UserWarning: Features [21 22 23 24] are constant.\n",
            "  warnings.warn(\"Features %s are constant.\" % constant_features_idx, UserWarning)\n",
            "/usr/local/lib/python3.7/dist-packages/sklearn/feature_selection/_univariate_selection.py:113: RuntimeWarning: invalid value encountered in true_divide\n",
            "  f = msb / msw\n"
          ]
        }
      ]
    },
    {
      "cell_type": "code",
      "source": [
        "dfscores = pd.DataFrame(fit.scores_)\n",
        "dfcolumns = pd.DataFrame(X.columns)"
      ],
      "metadata": {
        "id": "PxTD8_-jJjtJ"
      },
      "execution_count": 10,
      "outputs": []
    },
    {
      "cell_type": "code",
      "source": [
        "featureScores = pd.concat([dfcolumns,dfscores],axis=1)\n",
        "featureScores.columns = ['Specs','Score']"
      ],
      "metadata": {
        "id": "NJpll3U8Jljl"
      },
      "execution_count": 11,
      "outputs": []
    },
    {
      "cell_type": "code",
      "source": [
        "number_of_feat=int(input(\"Number Of Best Features: \"))"
      ],
      "metadata": {
        "colab": {
          "base_uri": "https://localhost:8080/"
        },
        "id": "373RpO7uJnRv",
        "outputId": "b8fb41a2-fe38-4d16-8ba2-c9ad0d920cd1"
      },
      "execution_count": 12,
      "outputs": [
        {
          "name": "stdout",
          "output_type": "stream",
          "text": [
            "Number Of Best Features: 20\n"
          ]
        }
      ]
    },
    {
      "cell_type": "code",
      "source": [
        "imp=featureScores.nlargest(number_of_feat,'Score')\n",
        "print(imp)"
      ],
      "metadata": {
        "colab": {
          "base_uri": "https://localhost:8080/"
        },
        "id": "wpio-fXlJpVd",
        "outputId": "6eb5feec-0b55-4ff3-baf4-91c45791f830"
      },
      "execution_count": 13,
      "outputs": [
        {
          "output_type": "stream",
          "name": "stdout",
          "text": [
            "              Specs      Score\n",
            "777         TA-G-92  13.738405\n",
            "776         TA-G-91  13.509876\n",
            "778         TA-G-93  13.118408\n",
            "779         TA-G-94  12.216673\n",
            "775         TA-G-90  11.616445\n",
            "784         TA-G-99  11.284778\n",
            "785        TA-G-100  11.160011\n",
            "780         TA-G-95  10.129515\n",
            "783         TA-G-98   9.929360\n",
            "782         TA-G-97   9.065626\n",
            "774         TA-G-89   8.971900\n",
            "781         TA-G-96   8.895064\n",
            "773         TA-G-88   6.839514\n",
            "791  Swing_CCI_TA-G   6.561777\n",
            "772         TA-G-87   5.283166\n",
            "759         TA-G-74   5.148562\n",
            "758         TA-G-73   4.853361\n",
            "760         TA-G-75   4.650424\n",
            "685          TA-G-0   4.522051\n",
            "686          TA-G-1   4.094921\n"
          ]
        }
      ]
    },
    {
      "cell_type": "code",
      "source": [
        "list_of_feat=[]\n",
        "\n",
        "for i in range(number_of_feat):\n",
        "  list_of_feat.append(imp.iloc[:,0:1].values[i][0])"
      ],
      "metadata": {
        "id": "Y2yoQPagJwWu"
      },
      "execution_count": 14,
      "outputs": []
    },
    {
      "cell_type": "code",
      "source": [
        "X_new = dataset[list_of_feat]\n",
        "y_new = dataset.iloc[:, 9]"
      ],
      "metadata": {
        "id": "Avu3cnS0JyV-"
      },
      "execution_count": 15,
      "outputs": []
    },
    {
      "cell_type": "code",
      "source": [
        "X_train=X_new.iloc[:120,:]  \n",
        "X_test=X_new.iloc[120:,:]\n",
        "y_train=y_new.iloc[:120]\n",
        "y_test=y_new.iloc[120:]"
      ],
      "metadata": {
        "id": "mf2hSZmlAygT"
      },
      "execution_count": 16,
      "outputs": []
    },
    {
      "cell_type": "code",
      "source": [
        "from sklearn.linear_model import LinearRegression\n",
        "\n",
        "lin_reg = LinearRegression()\n",
        "lin_reg.fit(X_train, y_train)\n",
        "y_pred = lin_reg.predict(X_test)\n"
      ],
      "metadata": {
        "id": "lU9NGIxw2RWg"
      },
      "execution_count": 17,
      "outputs": []
    },
    {
      "cell_type": "markdown",
      "source": [
        "#Taining Ploting and Result"
      ],
      "metadata": {
        "id": "sx7QykGeXzjI"
      }
    },
    {
      "cell_type": "code",
      "source": [
        "y_pred_train = lin_reg.predict(X_train)\n",
        "\n",
        "print(y_pred.shape)\n",
        "from sklearn.metrics import r2_score,mean_squared_error\n",
        "print(\"Training r2: \",r2_score(y_train,y_pred_train))\n",
        "\n",
        "\n",
        "r_sq = lin_reg.score(X_new, y_new)\n",
        "print(\"Training r_sq: \",r_sq)\n",
        "\n",
        "\n",
        "\n"
      ],
      "metadata": {
        "colab": {
          "base_uri": "https://localhost:8080/"
        },
        "id": "6eZ9f8KJWSec",
        "outputId": "7747e109-d3f7-4686-fda5-5bf9a202a781"
      },
      "execution_count": 18,
      "outputs": [
        {
          "output_type": "stream",
          "name": "stdout",
          "text": [
            "(31,)\n",
            "Training r2:  0.23500305303976565\n",
            "Training r_sq:  0.02483959046072115\n"
          ]
        }
      ]
    },
    {
      "cell_type": "code",
      "source": [
        "r_sq_train = lin_reg.score(X_train, y_pred_train)\n",
        "print(r_sq_train)"
      ],
      "metadata": {
        "colab": {
          "base_uri": "https://localhost:8080/"
        },
        "id": "NWPqv1CwWmNH",
        "outputId": "aa321155-4da0-4be1-83f5-a5c461bfc78f"
      },
      "execution_count": 19,
      "outputs": [
        {
          "output_type": "stream",
          "name": "stdout",
          "text": [
            "1.0\n"
          ]
        }
      ]
    },
    {
      "cell_type": "code",
      "source": [
        "import matplotlib.pyplot as plt\n",
        "plt.figure(figsize=(15,10))\n",
        "plt.scatter(y_train, y_pred_train, color = \"red\")\n",
        "plt.xlabel(\"Actual\")\n",
        "plt.ylabel(\"Predicted\")\n",
        "plt.show()\n"
      ],
      "metadata": {
        "colab": {
          "base_uri": "https://localhost:8080/",
          "height": 611
        },
        "id": "2El54YfuWn1O",
        "outputId": "bf477ddd-3da9-4e4f-9730-1307916f8900"
      },
      "execution_count": 20,
      "outputs": [
        {
          "output_type": "display_data",
          "data": {
            "text/plain": [
              "<Figure size 1080x720 with 1 Axes>"
            ],
            "image/png": "[encoded data removed]"
          },
          "metadata": {}
        }
      ]
    },
    {
      "cell_type": "code",
      "source": [],
      "metadata": {
        "id": "nyvdkd8yaRy4"
      },
      "execution_count": 20,
      "outputs": []
    },
    {
      "cell_type": "code",
      "source": [
        "pred_y_df=pd.DataFrame(\n",
        "    {\n",
        "        \"Actual Value\":y_train,\n",
        "        \"Predicted Value\":y_pred_train,\n",
        "        \"Difference\":y_train-y_pred_train\n",
        "    }\n",
        ")\n",
        "\n",
        "pred_y_df"
      ],
      "metadata": {
        "colab": {
          "base_uri": "https://localhost:8080/",
          "height": 423
        },
        "id": "FWD91cWGWqQV",
        "outputId": "62f26e7f-1e13-4e25-835f-9bb4b19ddd39"
      },
      "execution_count": 21,
      "outputs": [
        {
          "output_type": "execute_result",
          "data": {
            "text/plain": [
              "     Actual Value  Predicted Value  Difference\n",
              "0              66        51.752362   14.247638\n",
              "1              66        46.248628   19.751372\n",
              "2              66        61.983257    4.016743\n",
              "3              66        40.894838   25.105162\n",
              "4              66        60.614626    5.385374\n",
              "..            ...              ...         ...\n",
              "136            47        53.624656   -6.624656\n",
              "137            48        60.279159  -12.279159\n",
              "139            52        47.560393    4.439607\n",
              "140            53        59.698921   -6.698921\n",
              "141            55        48.032886    6.967114\n",
              "\n",
              "[120 rows x 3 columns]"
            ],
            "text/html": [
              "\n",
              "  <div id=\"df-26746e4a-84dd-486a-906d-b33be0997dd5\">\n",
              "    <div class=\"colab-df-container\">\n",
              "      <div>\n",
              "<style scoped>\n",
              "    .dataframe tbody tr th:only-of-type {\n",
              "        vertical-align: middle;\n",
              "    }\n",
              "\n",
              "    .dataframe tbody tr th {\n",
              "        vertical-align: top;\n",
              "    }\n",
              "\n",
              "    .dataframe thead th {\n",
              "        text-align: right;\n",
              "    }\n",
              "</style>\n",
              "<table border=\"1\" class=\"dataframe\">\n",
              "  <thead>\n",
              "    <tr style=\"text-align: right;\">\n",
              "      <th></th>\n",
              "      <th>Actual Value</th>\n",
              "      <th>Predicted Value</th>\n",
              "      <th>Difference</th>\n",
              "    </tr>\n",
              "  </thead>\n",
              "  <tbody>\n",
              "    <tr>\n",
              "      <th>0</th>\n",
              "      <td>66</td>\n",
              "      <td>51.752362</td>\n",
              "      <td>14.247638</td>\n",
              "    </tr>\n",
              "    <tr>\n",
              "      <th>1</th>\n",
              "      <td>66</td>\n",
              "      <td>46.248628</td>\n",
              "      <td>19.751372</td>\n",
              "    </tr>\n",
              "    <tr>\n",
              "      <th>2</th>\n",
              "      <td>66</td>\n",
              "      <td>61.983257</td>\n",
              "      <td>4.016743</td>\n",
              "    </tr>\n",
              "    <tr>\n",
              "      <th>3</th>\n",
              "      <td>66</td>\n",
              "      <td>40.894838</td>\n",
              "      <td>25.105162</td>\n",
              "    </tr>\n",
              "    <tr>\n",
              "      <th>4</th>\n",
              "      <td>66</td>\n",
              "      <td>60.614626</td>\n",
              "      <td>5.385374</td>\n",
              "    </tr>\n",
              "    <tr>\n",
              "      <th>...</th>\n",
              "      <td>...</td>\n",
              "      <td>...</td>\n",
              "      <td>...</td>\n",
              "    </tr>\n",
              "    <tr>\n",
              "      <th>136</th>\n",
              "      <td>47</td>\n",
              "      <td>53.624656</td>\n",
              "      <td>-6.624656</td>\n",
              "    </tr>\n",
              "    <tr>\n",
              "      <th>137</th>\n",
              "      <td>48</td>\n",
              "      <td>60.279159</td>\n",
              "      <td>-12.279159</td>\n",
              "    </tr>\n",
              "    <tr>\n",
              "      <th>139</th>\n",
              "      <td>52</td>\n",
              "      <td>47.560393</td>\n",
              "      <td>4.439607</td>\n",
              "    </tr>\n",
              "    <tr>\n",
              "      <th>140</th>\n",
              "      <td>53</td>\n",
              "      <td>59.698921</td>\n",
              "      <td>-6.698921</td>\n",
              "    </tr>\n",
              "    <tr>\n",
              "      <th>141</th>\n",
              "      <td>55</td>\n",
              "      <td>48.032886</td>\n",
              "      <td>6.967114</td>\n",
              "    </tr>\n",
              "  </tbody>\n",
              "</table>\n",
              "<p>120 rows × 3 columns</p>\n",
              "</div>\n",
              "      <button class=\"colab-df-convert\" onclick=\"convertToInteractive('df-26746e4a-84dd-486a-906d-b33be0997dd5')\"\n",
              "              title=\"Convert this dataframe to an interactive table.\"\n",
              "              style=\"display:none;\">\n",
              "        \n",
              "  <svg xmlns=\"http://www.w3.org/2000/svg\" height=\"24px\"viewBox=\"0 0 24 24\"\n",
              "       width=\"24px\">\n",
              "    <path d=\"M0 0h24v24H0V0z\" fill=\"none\"/>\n",
              "    <path d=\"M18.56 5.44l.94 2.06.94-2.06 2.06-.94-2.06-.94-.94-2.06-.94 2.06-2.06.94zm-11 1L8.5 8.5l.94-2.06 2.06-.94-2.06-.94L8.5 2.5l-.94 2.06-2.06.94zm10 10l.94 2.06.94-2.06 2.06-.94-2.06-.94-.94-2.06-.94 2.06-2.06.94z\"/><path d=\"M17.41 7.96l-1.37-1.37c-.4-.4-.92-.59-1.43-.59-.52 0-1.04.2-1.43.59L10.3 9.45l-7.72 7.72c-.78.78-.78 2.05 0 2.83L4 21.41c.39.39.9.59 1.41.59.51 0 1.02-.2 1.41-.59l7.78-7.78 2.81-2.81c.8-.78.8-2.07 0-2.86zM5.41 20L4 18.59l7.72-7.72 1.47 1.35L5.41 20z\"/>\n",
              "  </svg>\n",
              "      </button>\n",
              "      \n",
              "  <style>\n",
              "    .colab-df-container {\n",
              "      display:flex;\n",
              "      flex-wrap:wrap;\n",
              "      gap: 12px;\n",
              "    }\n",
              "\n",
              "    .colab-df-convert {\n",
              "      background-color: #E8F0FE;\n",
              "      border: none;\n",
              "      border-radius: 50%;\n",
              "      cursor: pointer;\n",
              "      display: none;\n",
              "      fill: #1967D2;\n",
              "      height: 32px;\n",
              "      padding: 0 0 0 0;\n",
              "      width: 32px;\n",
              "    }\n",
              "\n",
              "    .colab-df-convert:hover {\n",
              "      background-color: #E2EBFA;\n",
              "      box-shadow: 0px 1px 2px rgba(60, 64, 67, 0.3), 0px 1px 3px 1px rgba(60, 64, 67, 0.15);\n",
              "      fill: #174EA6;\n",
              "    }\n",
              "\n",
              "    [theme=dark] .colab-df-convert {\n",
              "      background-color: #3B4455;\n",
              "      fill: #D2E3FC;\n",
              "    }\n",
              "\n",
              "    [theme=dark] .colab-df-convert:hover {\n",
              "      background-color: #434B5C;\n",
              "      box-shadow: 0px 1px 3px 1px rgba(0, 0, 0, 0.15);\n",
              "      filter: drop-shadow(0px 1px 2px rgba(0, 0, 0, 0.3));\n",
              "      fill: #FFFFFF;\n",
              "    }\n",
              "  </style>\n",
              "\n",
              "      <script>\n",
              "        const buttonEl =\n",
              "          document.querySelector('#df-26746e4a-84dd-486a-906d-b33be0997dd5 button.colab-df-convert');\n",
              "        buttonEl.style.display =\n",
              "          google.colab.kernel.accessAllowed ? 'block' : 'none';\n",
              "\n",
              "        async function convertToInteractive(key) {\n",
              "          const element = document.querySelector('#df-26746e4a-84dd-486a-906d-b33be0997dd5');\n",
              "          const dataTable =\n",
              "            await google.colab.kernel.invokeFunction('convertToInteractive',\n",
              "                                                     [key], {});\n",
              "          if (!dataTable) return;\n",
              "\n",
              "          const docLinkHtml = 'Like what you see? Visit the ' +\n",
              "            '<a target=\"_blank\" href=https://colab.research.google.com/notebooks/data_table.ipynb>data table notebook</a>'\n",
              "            + ' to learn more about interactive tables.';\n",
              "          element.innerHTML = '';\n",
              "          dataTable['output_type'] = 'display_data';\n",
              "          await google.colab.output.renderOutput(dataTable, element);\n",
              "          const docLink = document.createElement('div');\n",
              "          docLink.innerHTML = docLinkHtml;\n",
              "          element.appendChild(docLink);\n",
              "        }\n",
              "      </script>\n",
              "    </div>\n",
              "  </div>\n",
              "  "
            ]
          },
          "metadata": {},
          "execution_count": 21
        }
      ]
    },
    {
      "cell_type": "code",
      "source": [
        "# The mean squared error\n",
        "print(\"Mean squared error: %.2f\" % mean_squared_error(y_train, y_pred_train))\n",
        "# The coefficient of determination: 1 is perfect prediction\n",
        "print(\"Coefficient of determination: %.2f\" % r2_score(y_train, y_pred_train))\n",
        "\n"
      ],
      "metadata": {
        "colab": {
          "base_uri": "https://localhost:8080/"
        },
        "id": "G5RI5cjnWq0z",
        "outputId": "dda7d727-5eea-4913-8f35-fd5cca152e7e"
      },
      "execution_count": 22,
      "outputs": [
        {
          "output_type": "stream",
          "name": "stdout",
          "text": [
            "Mean squared error: 361.90\n",
            "Coefficient of determination: 0.24\n"
          ]
        }
      ]
    },
    {
      "cell_type": "code",
      "source": [
        "import seaborn as sns\n",
        "\n",
        "sns.set(rc={'figure.figsize':(12,10)})\n",
        "scatter_poly2 = sns.lmplot(\n",
        "    data = pred_y_df, \n",
        "    x = \"Actual Value\",\n",
        "    y = \"Predicted Value\",\n",
        "    order = 2\n",
        ")\n",
        "\n"
      ],
      "metadata": {
        "colab": {
          "base_uri": "https://localhost:8080/",
          "height": 365
        },
        "id": "hwJSCaBbWuV6",
        "outputId": "4eb2dff9-6ef0-43b4-8568-3df00fb6ca91"
      },
      "execution_count": 23,
      "outputs": [
        {
          "output_type": "display_data",
          "data": {
            "text/plain": [
              "<Figure size 360x360 with 1 Axes>"
            ],
            "image/png": "[encoded data removed]"
          },
          "metadata": {}
        }
      ]
    },
    {
      "cell_type": "code",
      "source": [
        "sns.regplot(x=\"Actual Value\", y=\"Predicted Value\", data=pred_y_df);\n",
        "\n",
        "\n"
      ],
      "metadata": {
        "colab": {
          "base_uri": "https://localhost:8080/",
          "height": 611
        },
        "id": "qXyh7HGwWw_6",
        "outputId": "d4b1fe3d-a448-445f-b60d-b6dc2ff352a1"
      },
      "execution_count": 24,
      "outputs": [
        {
          "output_type": "display_data",
          "data": {
            "text/plain": [
              "<Figure size 864x720 with 1 Axes>"
            ],
            "image/png": "[encoded data removed]"
          },
          "metadata": {}
        }
      ]
    },
    {
      "cell_type": "markdown",
      "source": [
        "#Testing Ploting and Result"
      ],
      "metadata": {
        "id": "qXdK1hpkYVmJ"
      }
    },
    {
      "cell_type": "code",
      "source": [
        "y_pred_test = lin_reg.predict(X_test)\n",
        "\n",
        "\n",
        "from sklearn.metrics import r2_score,mean_squared_error\n",
        "print(\"Testing r2: \",r2_score(y_test,y_pred_test))\n",
        "\n",
        "r_sq = lin_reg.score(X_new, y_new)\n",
        "print(\"R_sq: \",r_sq)"
      ],
      "metadata": {
        "colab": {
          "base_uri": "https://localhost:8080/"
        },
        "id": "mRj0_o_wuTG4",
        "outputId": "ba6ddec7-77e6-4351-b91d-053b6beb2692"
      },
      "execution_count": 25,
      "outputs": [
        {
          "output_type": "stream",
          "name": "stdout",
          "text": [
            "Testing r2:  -1.386907556947346\n",
            "R_sq:  0.02483959046072115\n"
          ]
        }
      ]
    },
    {
      "cell_type": "code",
      "source": [
        "r_sq_test = lin_reg.score(X_test, y_pred_test)\n",
        "print(r_sq_test)"
      ],
      "metadata": {
        "colab": {
          "base_uri": "https://localhost:8080/"
        },
        "id": "ItP1GkjXL2qM",
        "outputId": "3446587e-07f7-422f-c2df-18d04bcddd73"
      },
      "execution_count": 26,
      "outputs": [
        {
          "output_type": "stream",
          "name": "stdout",
          "text": [
            "1.0\n"
          ]
        }
      ]
    },
    {
      "cell_type": "code",
      "source": [
        "import matplotlib.pyplot as plt\n",
        "plt.figure(figsize=(15,10))\n",
        "plt.scatter(y_test, y_pred_test, color = \"red\")\n",
        "plt.xlabel(\"Actual\")\n",
        "plt.ylabel(\"Predicted\")\n",
        "plt.show()"
      ],
      "metadata": {
        "colab": {
          "base_uri": "https://localhost:8080/",
          "height": 611
        },
        "id": "bqDGyYc8vjk1",
        "outputId": "50a1bb8d-f33b-401e-a25a-8c1565c180ba"
      },
      "execution_count": 27,
      "outputs": [
        {
          "output_type": "display_data",
          "data": {
            "text/plain": [
              "<Figure size 1080x720 with 1 Axes>"
            ],
            "image/png": "[encoded data removed]"
          },
          "metadata": {}
        }
      ]
    },
    {
      "cell_type": "code",
      "source": [
        "pred_y_df=pd.DataFrame(\n",
        "    {\n",
        "        \"Actual Value\":y_test,\n",
        "        \"Predicted Value\":y_pred_test,\n",
        "        \"Difference\":y_test-y_pred_test\n",
        "    }\n",
        ")\n",
        "\n",
        "pred_y_df\n"
      ],
      "metadata": {
        "colab": {
          "base_uri": "https://localhost:8080/",
          "height": 1000
        },
        "id": "we5fm-kfxYww",
        "outputId": "5d8638e7-ba5f-426f-feb1-eecd33b6f7af"
      },
      "execution_count": 28,
      "outputs": [
        {
          "output_type": "execute_result",
          "data": {
            "text/plain": [
              "     Actual Value  Predicted Value  Difference\n",
              "144            62        54.370430    7.629570\n",
              "145            66        50.883585   15.116415\n",
              "146            70        52.086018   17.913982\n",
              "147            72        57.835892   14.164108\n",
              "148            83        69.354275   13.645725\n",
              "149            95        56.040820   38.959180\n",
              "0               1       -22.947555   23.947555\n",
              "1              11        40.865691  -29.865691\n",
              "2              12        40.131175  -28.131175\n",
              "3              14        55.574726  -41.574726\n",
              "4              15        67.300876  -52.300876\n",
              "5              15        69.807781  -54.807781\n",
              "6              19        30.468477  -11.468477\n",
              "7              19        -2.240011   21.240011\n",
              "8              18        60.155222  -42.155222\n",
              "9              21        -7.046292   28.046292\n",
              "10             22        34.557700  -12.557700\n",
              "11             21        40.968510  -19.968510\n",
              "12             22        41.143019  -19.143019\n",
              "13             22        61.098563  -39.098563\n",
              "14             24        61.561419  -37.561419\n",
              "15             23        98.389824  -75.389824\n",
              "16             24        91.858603  -67.858603\n",
              "17             25        76.218925  -51.218925\n",
              "18             26        14.530741   11.469259\n",
              "19             27        74.644157  -47.644157\n",
              "20             27        71.466728  -44.466728\n",
              "21             26        28.363290   -2.363290\n",
              "22             26        56.381448  -30.381448\n",
              "23             28        11.008916   16.991084\n",
              "24             27        14.740637   12.259363"
            ],
            "text/html": [
              "\n",
              "  <div id=\"df-60d99ce8-4022-4a21-82d7-df93452aa1f6\">\n",
              "    <div class=\"colab-df-container\">\n",
              "      <div>\n",
              "<style scoped>\n",
              "    .dataframe tbody tr th:only-of-type {\n",
              "        vertical-align: middle;\n",
              "    }\n",
              "\n",
              "    .dataframe tbody tr th {\n",
              "        vertical-align: top;\n",
              "    }\n",
              "\n",
              "    .dataframe thead th {\n",
              "        text-align: right;\n",
              "    }\n",
              "</style>\n",
              "<table border=\"1\" class=\"dataframe\">\n",
              "  <thead>\n",
              "    <tr style=\"text-align: right;\">\n",
              "      <th></th>\n",
              "      <th>Actual Value</th>\n",
              "      <th>Predicted Value</th>\n",
              "      <th>Difference</th>\n",
              "    </tr>\n",
              "  </thead>\n",
              "  <tbody>\n",
              "    <tr>\n",
              "      <th>144</th>\n",
              "      <td>62</td>\n",
              "      <td>54.370430</td>\n",
              "      <td>7.629570</td>\n",
              "    </tr>\n",
              "    <tr>\n",
              "      <th>145</th>\n",
              "      <td>66</td>\n",
              "      <td>50.883585</td>\n",
              "      <td>15.116415</td>\n",
              "    </tr>\n",
              "    <tr>\n",
              "      <th>146</th>\n",
              "      <td>70</td>\n",
              "      <td>52.086018</td>\n",
              "      <td>17.913982</td>\n",
              "    </tr>\n",
              "    <tr>\n",
              "      <th>147</th>\n",
              "      <td>72</td>\n",
              "      <td>57.835892</td>\n",
              "      <td>14.164108</td>\n",
              "    </tr>\n",
              "    <tr>\n",
              "      <th>148</th>\n",
              "      <td>83</td>\n",
              "      <td>69.354275</td>\n",
              "      <td>13.645725</td>\n",
              "    </tr>\n",
              "    <tr>\n",
              "      <th>149</th>\n",
              "      <td>95</td>\n",
              "      <td>56.040820</td>\n",
              "      <td>38.959180</td>\n",
              "    </tr>\n",
              "    <tr>\n",
              "      <th>0</th>\n",
              "      <td>1</td>\n",
              "      <td>-22.947555</td>\n",
              "      <td>23.947555</td>\n",
              "    </tr>\n",
              "    <tr>\n",
              "      <th>1</th>\n",
              "      <td>11</td>\n",
              "      <td>40.865691</td>\n",
              "      <td>-29.865691</td>\n",
              "    </tr>\n",
              "    <tr>\n",
              "      <th>2</th>\n",
              "      <td>12</td>\n",
              "      <td>40.131175</td>\n",
              "      <td>-28.131175</td>\n",
              "    </tr>\n",
              "    <tr>\n",
              "      <th>3</th>\n",
              "      <td>14</td>\n",
              "      <td>55.574726</td>\n",
              "      <td>-41.574726</td>\n",
              "    </tr>\n",
              "    <tr>\n",
              "      <th>4</th>\n",
              "      <td>15</td>\n",
              "      <td>67.300876</td>\n",
              "      <td>-52.300876</td>\n",
              "    </tr>\n",
              "    <tr>\n",
              "      <th>5</th>\n",
              "      <td>15</td>\n",
              "      <td>69.807781</td>\n",
              "      <td>-54.807781</td>\n",
              "    </tr>\n",
              "    <tr>\n",
              "      <th>6</th>\n",
              "      <td>19</td>\n",
              "      <td>30.468477</td>\n",
              "      <td>-11.468477</td>\n",
              "    </tr>\n",
              "    <tr>\n",
              "      <th>7</th>\n",
              "      <td>19</td>\n",
              "      <td>-2.240011</td>\n",
              "      <td>21.240011</td>\n",
              "    </tr>\n",
              "    <tr>\n",
              "      <th>8</th>\n",
              "      <td>18</td>\n",
              "      <td>60.155222</td>\n",
              "      <td>-42.155222</td>\n",
              "    </tr>\n",
              "    <tr>\n",
              "      <th>9</th>\n",
              "      <td>21</td>\n",
              "      <td>-7.046292</td>\n",
              "      <td>28.046292</td>\n",
              "    </tr>\n",
              "    <tr>\n",
              "      <th>10</th>\n",
              "      <td>22</td>\n",
              "      <td>34.557700</td>\n",
              "      <td>-12.557700</td>\n",
              "    </tr>\n",
              "    <tr>\n",
              "      <th>11</th>\n",
              "      <td>21</td>\n",
              "      <td>40.968510</td>\n",
              "      <td>-19.968510</td>\n",
              "    </tr>\n",
              "    <tr>\n",
              "      <th>12</th>\n",
              "      <td>22</td>\n",
              "      <td>41.143019</td>\n",
              "      <td>-19.143019</td>\n",
              "    </tr>\n",
              "    <tr>\n",
              "      <th>13</th>\n",
              "      <td>22</td>\n",
              "      <td>61.098563</td>\n",
              "      <td>-39.098563</td>\n",
              "    </tr>\n",
              "    <tr>\n",
              "      <th>14</th>\n",
              "      <td>24</td>\n",
              "      <td>61.561419</td>\n",
              "      <td>-37.561419</td>\n",
              "    </tr>\n",
              "    <tr>\n",
              "      <th>15</th>\n",
              "      <td>23</td>\n",
              "      <td>98.389824</td>\n",
              "      <td>-75.389824</td>\n",
              "    </tr>\n",
              "    <tr>\n",
              "      <th>16</th>\n",
              "      <td>24</td>\n",
              "      <td>91.858603</td>\n",
              "      <td>-67.858603</td>\n",
              "    </tr>\n",
              "    <tr>\n",
              "      <th>17</th>\n",
              "      <td>25</td>\n",
              "      <td>76.218925</td>\n",
              "      <td>-51.218925</td>\n",
              "    </tr>\n",
              "    <tr>\n",
              "      <th>18</th>\n",
              "      <td>26</td>\n",
              "      <td>14.530741</td>\n",
              "      <td>11.469259</td>\n",
              "    </tr>\n",
              "    <tr>\n",
              "      <th>19</th>\n",
              "      <td>27</td>\n",
              "      <td>74.644157</td>\n",
              "      <td>-47.644157</td>\n",
              "    </tr>\n",
              "    <tr>\n",
              "      <th>20</th>\n",
              "      <td>27</td>\n",
              "      <td>71.466728</td>\n",
              "      <td>-44.466728</td>\n",
              "    </tr>\n",
              "    <tr>\n",
              "      <th>21</th>\n",
              "      <td>26</td>\n",
              "      <td>28.363290</td>\n",
              "      <td>-2.363290</td>\n",
              "    </tr>\n",
              "    <tr>\n",
              "      <th>22</th>\n",
              "      <td>26</td>\n",
              "      <td>56.381448</td>\n",
              "      <td>-30.381448</td>\n",
              "    </tr>\n",
              "    <tr>\n",
              "      <th>23</th>\n",
              "      <td>28</td>\n",
              "      <td>11.008916</td>\n",
              "      <td>16.991084</td>\n",
              "    </tr>\n",
              "    <tr>\n",
              "      <th>24</th>\n",
              "      <td>27</td>\n",
              "      <td>14.740637</td>\n",
              "      <td>12.259363</td>\n",
              "    </tr>\n",
              "  </tbody>\n",
              "</table>\n",
              "</div>\n",
              "      <button class=\"colab-df-convert\" onclick=\"convertToInteractive('df-60d99ce8-4022-4a21-82d7-df93452aa1f6')\"\n",
              "              title=\"Convert this dataframe to an interactive table.\"\n",
              "              style=\"display:none;\">\n",
              "        \n",
              "  <svg xmlns=\"http://www.w3.org/2000/svg\" height=\"24px\"viewBox=\"0 0 24 24\"\n",
              "       width=\"24px\">\n",
              "    <path d=\"M0 0h24v24H0V0z\" fill=\"none\"/>\n",
              "    <path d=\"M18.56 5.44l.94 2.06.94-2.06 2.06-.94-2.06-.94-.94-2.06-.94 2.06-2.06.94zm-11 1L8.5 8.5l.94-2.06 2.06-.94-2.06-.94L8.5 2.5l-.94 2.06-2.06.94zm10 10l.94 2.06.94-2.06 2.06-.94-2.06-.94-.94-2.06-.94 2.06-2.06.94z\"/><path d=\"M17.41 7.96l-1.37-1.37c-.4-.4-.92-.59-1.43-.59-.52 0-1.04.2-1.43.59L10.3 9.45l-7.72 7.72c-.78.78-.78 2.05 0 2.83L4 21.41c.39.39.9.59 1.41.59.51 0 1.02-.2 1.41-.59l7.78-7.78 2.81-2.81c.8-.78.8-2.07 0-2.86zM5.41 20L4 18.59l7.72-7.72 1.47 1.35L5.41 20z\"/>\n",
              "  </svg>\n",
              "      </button>\n",
              "      \n",
              "  <style>\n",
              "    .colab-df-container {\n",
              "      display:flex;\n",
              "      flex-wrap:wrap;\n",
              "      gap: 12px;\n",
              "    }\n",
              "\n",
              "    .colab-df-convert {\n",
              "      background-color: #E8F0FE;\n",
              "      border: none;\n",
              "      border-radius: 50%;\n",
              "      cursor: pointer;\n",
              "      display: none;\n",
              "      fill: #1967D2;\n",
              "      height: 32px;\n",
              "      padding: 0 0 0 0;\n",
              "      width: 32px;\n",
              "    }\n",
              "\n",
              "    .colab-df-convert:hover {\n",
              "      background-color: #E2EBFA;\n",
              "      box-shadow: 0px 1px 2px rgba(60, 64, 67, 0.3), 0px 1px 3px 1px rgba(60, 64, 67, 0.15);\n",
              "      fill: #174EA6;\n",
              "    }\n",
              "\n",
              "    [theme=dark] .colab-df-convert {\n",
              "      background-color: #3B4455;\n",
              "      fill: #D2E3FC;\n",
              "    }\n",
              "\n",
              "    [theme=dark] .colab-df-convert:hover {\n",
              "      background-color: #434B5C;\n",
              "      box-shadow: 0px 1px 3px 1px rgba(0, 0, 0, 0.15);\n",
              "      filter: drop-shadow(0px 1px 2px rgba(0, 0, 0, 0.3));\n",
              "      fill: #FFFFFF;\n",
              "    }\n",
              "  </style>\n",
              "\n",
              "      <script>\n",
              "        const buttonEl =\n",
              "          document.querySelector('#df-60d99ce8-4022-4a21-82d7-df93452aa1f6 button.colab-df-convert');\n",
              "        buttonEl.style.display =\n",
              "          google.colab.kernel.accessAllowed ? 'block' : 'none';\n",
              "\n",
              "        async function convertToInteractive(key) {\n",
              "          const element = document.querySelector('#df-60d99ce8-4022-4a21-82d7-df93452aa1f6');\n",
              "          const dataTable =\n",
              "            await google.colab.kernel.invokeFunction('convertToInteractive',\n",
              "                                                     [key], {});\n",
              "          if (!dataTable) return;\n",
              "\n",
              "          const docLinkHtml = 'Like what you see? Visit the ' +\n",
              "            '<a target=\"_blank\" href=https://colab.research.google.com/notebooks/data_table.ipynb>data table notebook</a>'\n",
              "            + ' to learn more about interactive tables.';\n",
              "          element.innerHTML = '';\n",
              "          dataTable['output_type'] = 'display_data';\n",
              "          await google.colab.output.renderOutput(dataTable, element);\n",
              "          const docLink = document.createElement('div');\n",
              "          docLink.innerHTML = docLinkHtml;\n",
              "          element.appendChild(docLink);\n",
              "        }\n",
              "      </script>\n",
              "    </div>\n",
              "  </div>\n",
              "  "
            ]
          },
          "metadata": {},
          "execution_count": 28
        }
      ]
    },
    {
      "cell_type": "code",
      "source": [
        "\n",
        "# The mean squared error\n",
        "print(\"Mean squared error: %.2f\" % mean_squared_error(y_test, y_pred_test))\n",
        "# The coefficient of determination: 1 is perfect prediction\n",
        "print(\"Coefficient of determination: %.2f\" % r2_score(y_test, y_pred_test))\n"
      ],
      "metadata": {
        "colab": {
          "base_uri": "https://localhost:8080/"
        },
        "id": "6tYsIrvqxrvH",
        "outputId": "dac2dd37-d8c6-4f7f-eba4-3d53853ee0ee"
      },
      "execution_count": 29,
      "outputs": [
        {
          "output_type": "stream",
          "name": "stdout",
          "text": [
            "Mean squared error: 1222.70\n",
            "Coefficient of determination: -1.39\n"
          ]
        }
      ]
    },
    {
      "cell_type": "code",
      "source": [],
      "metadata": {
        "id": "UJwChuVqxrPJ"
      },
      "execution_count": 29,
      "outputs": []
    },
    {
      "cell_type": "code",
      "source": [
        "import seaborn as sns\n",
        "\n",
        "sns.set(rc={'figure.figsize':(12,10)})\n",
        "scatter_poly2 = sns.lmplot(\n",
        "    data = pred_y_df, \n",
        "    x = \"Actual Value\",\n",
        "    y = \"Predicted Value\",\n",
        "    order = 2\n",
        ")\n",
        "\n"
      ],
      "metadata": {
        "colab": {
          "base_uri": "https://localhost:8080/",
          "height": 611
        },
        "id": "BTZtbOs9xrLb",
        "outputId": "b2278086-c298-4aa5-ce5b-34bae2579bb4"
      },
      "execution_count": 42,
      "outputs": [
        {
          "output_type": "display_data",
          "data": {
            "text/plain": [
              "<Figure size 864x720 with 1 Axes>"
            ],
            "image/png": "[encoded data removed]"
          },
          "metadata": {}
        }
      ]
    },
    {
      "cell_type": "code",
      "source": [
        "sns.regplot(x=\"Actual Value\", y=\"Predicted Value\", data=pred_y_df);"
      ],
      "metadata": {
        "colab": {
          "base_uri": "https://localhost:8080/",
          "height": 611
        },
        "id": "RmChHz5JxrHD",
        "outputId": "2adf6b00-0267-42f4-e7a8-28bc2d40f270"
      },
      "execution_count": 31,
      "outputs": [
        {
          "output_type": "display_data",
          "data": {
            "text/plain": [
              "<Figure size 864x720 with 1 Axes>"
            ],
            "image/png": "[encoded data removed]"
          },
          "metadata": {}
        }
      ]
    },
    {
      "cell_type": "markdown",
      "source": [],
      "metadata": {
        "id": "JCbQpuqzaZw2"
      }
    },
    {
      "cell_type": "markdown",
      "source": [
        "#Over All dataset Ploting and Results"
      ],
      "metadata": {
        "id": "A-U9P6eSa3yC"
      }
    },
    {
      "cell_type": "code",
      "source": [
        "y_pred_new = lin_reg.predict(X_new)\n",
        "\n",
        "\n",
        "from sklearn.metrics import r2_score,mean_squared_error\n",
        "print(\"Testing r2: \",r2_score(y_new,y_pred_new))\n",
        "\n",
        "r_sq = lin_reg.score(X_new, y_new)\n",
        "print(\"R_sq: \",r_sq)"
      ],
      "metadata": {
        "colab": {
          "base_uri": "https://localhost:8080/"
        },
        "id": "wnT5dZ4CbEVf",
        "outputId": "145685c0-15a2-404d-f2d7-ac6f1ab2c432"
      },
      "execution_count": 32,
      "outputs": [
        {
          "output_type": "stream",
          "name": "stdout",
          "text": [
            "Testing r2:  0.02483959046072115\n",
            "R_sq:  0.02483959046072115\n"
          ]
        }
      ]
    },
    {
      "cell_type": "code",
      "source": [
        "r_sq_test = lin_reg.score(X_new, y_pred_new)\n",
        "print(r_sq_test)"
      ],
      "metadata": {
        "colab": {
          "base_uri": "https://localhost:8080/"
        },
        "id": "36ruj76fbPRQ",
        "outputId": "05d6a7be-8093-4977-89a4-2855213231df"
      },
      "execution_count": 33,
      "outputs": [
        {
          "output_type": "stream",
          "name": "stdout",
          "text": [
            "1.0\n"
          ]
        }
      ]
    },
    {
      "cell_type": "code",
      "source": [
        "import matplotlib.pyplot as plt\n",
        "plt.figure(figsize=(15,10))\n",
        "plt.scatter(y_test, y_pred_test, color = \"red\")\n",
        "plt.xlabel(\"Actual\")\n",
        "plt.ylabel(\"Predicted\")\n",
        "plt.show()"
      ],
      "metadata": {
        "colab": {
          "base_uri": "https://localhost:8080/",
          "height": 0
        },
        "id": "0iXWJp6zbRWk",
        "outputId": "9b2567c8-d819-4c3d-e787-009552329cba"
      },
      "execution_count": 34,
      "outputs": [
        {
          "output_type": "display_data",
          "data": {
            "text/plain": [
              "<Figure size 1080x720 with 1 Axes>"
            ],
            "image/png": "[encoded data removed]"
          },
          "metadata": {}
        }
      ]
    },
    {
      "cell_type": "code",
      "source": [
        "pred_y_df=pd.DataFrame(\n",
        "    {\n",
        "        \"Actual Value\":y_new,\n",
        "        \"Predicted Value\":y_pred_new,\n",
        "        \"Difference\":y_new-y_pred_new\n",
        "    }\n",
        ")\n",
        "\n",
        "pred_y_df\n"
      ],
      "metadata": {
        "colab": {
          "base_uri": "https://localhost:8080/",
          "height": 0
        },
        "id": "vPSfv7bybUTs",
        "outputId": "bd137e31-0544-4008-fbba-dfcefcdf9728"
      },
      "execution_count": 35,
      "outputs": [
        {
          "output_type": "execute_result",
          "data": {
            "text/plain": [
              "    Actual Value  Predicted Value  Difference\n",
              "0             66        51.752362   14.247638\n",
              "1             66        46.248628   19.751372\n",
              "2             66        61.983257    4.016743\n",
              "3             66        40.894838   25.105162\n",
              "4             66        60.614626    5.385374\n",
              "..           ...              ...         ...\n",
              "20            27        71.466728  -44.466728\n",
              "21            26        28.363290   -2.363290\n",
              "22            26        56.381448  -30.381448\n",
              "23            28        11.008916   16.991084\n",
              "24            27        14.740637   12.259363\n",
              "\n",
              "[151 rows x 3 columns]"
            ],
            "text/html": [
              "\n",
              "  <div id=\"df-d41cba81-5655-4594-8f41-bc44b7ff72e6\">\n",
              "    <div class=\"colab-df-container\">\n",
              "      <div>\n",
              "<style scoped>\n",
              "    .dataframe tbody tr th:only-of-type {\n",
              "        vertical-align: middle;\n",
              "    }\n",
              "\n",
              "    .dataframe tbody tr th {\n",
              "        vertical-align: top;\n",
              "    }\n",
              "\n",
              "    .dataframe thead th {\n",
              "        text-align: right;\n",
              "    }\n",
              "</style>\n",
              "<table border=\"1\" class=\"dataframe\">\n",
              "  <thead>\n",
              "    <tr style=\"text-align: right;\">\n",
              "      <th></th>\n",
              "      <th>Actual Value</th>\n",
              "      <th>Predicted Value</th>\n",
              "      <th>Difference</th>\n",
              "    </tr>\n",
              "  </thead>\n",
              "  <tbody>\n",
              "    <tr>\n",
              "      <th>0</th>\n",
              "      <td>66</td>\n",
              "      <td>51.752362</td>\n",
              "      <td>14.247638</td>\n",
              "    </tr>\n",
              "    <tr>\n",
              "      <th>1</th>\n",
              "      <td>66</td>\n",
              "      <td>46.248628</td>\n",
              "      <td>19.751372</td>\n",
              "    </tr>\n",
              "    <tr>\n",
              "      <th>2</th>\n",
              "      <td>66</td>\n",
              "      <td>61.983257</td>\n",
              "      <td>4.016743</td>\n",
              "    </tr>\n",
              "    <tr>\n",
              "      <th>3</th>\n",
              "      <td>66</td>\n",
              "      <td>40.894838</td>\n",
              "      <td>25.105162</td>\n",
              "    </tr>\n",
              "    <tr>\n",
              "      <th>4</th>\n",
              "      <td>66</td>\n",
              "      <td>60.614626</td>\n",
              "      <td>5.385374</td>\n",
              "    </tr>\n",
              "    <tr>\n",
              "      <th>...</th>\n",
              "      <td>...</td>\n",
              "      <td>...</td>\n",
              "      <td>...</td>\n",
              "    </tr>\n",
              "    <tr>\n",
              "      <th>20</th>\n",
              "      <td>27</td>\n",
              "      <td>71.466728</td>\n",
              "      <td>-44.466728</td>\n",
              "    </tr>\n",
              "    <tr>\n",
              "      <th>21</th>\n",
              "      <td>26</td>\n",
              "      <td>28.363290</td>\n",
              "      <td>-2.363290</td>\n",
              "    </tr>\n",
              "    <tr>\n",
              "      <th>22</th>\n",
              "      <td>26</td>\n",
              "      <td>56.381448</td>\n",
              "      <td>-30.381448</td>\n",
              "    </tr>\n",
              "    <tr>\n",
              "      <th>23</th>\n",
              "      <td>28</td>\n",
              "      <td>11.008916</td>\n",
              "      <td>16.991084</td>\n",
              "    </tr>\n",
              "    <tr>\n",
              "      <th>24</th>\n",
              "      <td>27</td>\n",
              "      <td>14.740637</td>\n",
              "      <td>12.259363</td>\n",
              "    </tr>\n",
              "  </tbody>\n",
              "</table>\n",
              "<p>151 rows × 3 columns</p>\n",
              "</div>\n",
              "      <button class=\"colab-df-convert\" onclick=\"convertToInteractive('df-d41cba81-5655-4594-8f41-bc44b7ff72e6')\"\n",
              "              title=\"Convert this dataframe to an interactive table.\"\n",
              "              style=\"display:none;\">\n",
              "        \n",
              "  <svg xmlns=\"http://www.w3.org/2000/svg\" height=\"24px\"viewBox=\"0 0 24 24\"\n",
              "       width=\"24px\">\n",
              "    <path d=\"M0 0h24v24H0V0z\" fill=\"none\"/>\n",
              "    <path d=\"M18.56 5.44l.94 2.06.94-2.06 2.06-.94-2.06-.94-.94-2.06-.94 2.06-2.06.94zm-11 1L8.5 8.5l.94-2.06 2.06-.94-2.06-.94L8.5 2.5l-.94 2.06-2.06.94zm10 10l.94 2.06.94-2.06 2.06-.94-2.06-.94-.94-2.06-.94 2.06-2.06.94z\"/><path d=\"M17.41 7.96l-1.37-1.37c-.4-.4-.92-.59-1.43-.59-.52 0-1.04.2-1.43.59L10.3 9.45l-7.72 7.72c-.78.78-.78 2.05 0 2.83L4 21.41c.39.39.9.59 1.41.59.51 0 1.02-.2 1.41-.59l7.78-7.78 2.81-2.81c.8-.78.8-2.07 0-2.86zM5.41 20L4 18.59l7.72-7.72 1.47 1.35L5.41 20z\"/>\n",
              "  </svg>\n",
              "      </button>\n",
              "      \n",
              "  <style>\n",
              "    .colab-df-container {\n",
              "      display:flex;\n",
              "      flex-wrap:wrap;\n",
              "      gap: 12px;\n",
              "    }\n",
              "\n",
              "    .colab-df-convert {\n",
              "      background-color: #E8F0FE;\n",
              "      border: none;\n",
              "      border-radius: 50%;\n",
              "      cursor: pointer;\n",
              "      display: none;\n",
              "      fill: #1967D2;\n",
              "      height: 32px;\n",
              "      padding: 0 0 0 0;\n",
              "      width: 32px;\n",
              "    }\n",
              "\n",
              "    .colab-df-convert:hover {\n",
              "      background-color: #E2EBFA;\n",
              "      box-shadow: 0px 1px 2px rgba(60, 64, 67, 0.3), 0px 1px 3px 1px rgba(60, 64, 67, 0.15);\n",
              "      fill: #174EA6;\n",
              "    }\n",
              "\n",
              "    [theme=dark] .colab-df-convert {\n",
              "      background-color: #3B4455;\n",
              "      fill: #D2E3FC;\n",
              "    }\n",
              "\n",
              "    [theme=dark] .colab-df-convert:hover {\n",
              "      background-color: #434B5C;\n",
              "      box-shadow: 0px 1px 3px 1px rgba(0, 0, 0, 0.15);\n",
              "      filter: drop-shadow(0px 1px 2px rgba(0, 0, 0, 0.3));\n",
              "      fill: #FFFFFF;\n",
              "    }\n",
              "  </style>\n",
              "\n",
              "      <script>\n",
              "        const buttonEl =\n",
              "          document.querySelector('#df-d41cba81-5655-4594-8f41-bc44b7ff72e6 button.colab-df-convert');\n",
              "        buttonEl.style.display =\n",
              "          google.colab.kernel.accessAllowed ? 'block' : 'none';\n",
              "\n",
              "        async function convertToInteractive(key) {\n",
              "          const element = document.querySelector('#df-d41cba81-5655-4594-8f41-bc44b7ff72e6');\n",
              "          const dataTable =\n",
              "            await google.colab.kernel.invokeFunction('convertToInteractive',\n",
              "                                                     [key], {});\n",
              "          if (!dataTable) return;\n",
              "\n",
              "          const docLinkHtml = 'Like what you see? Visit the ' +\n",
              "            '<a target=\"_blank\" href=https://colab.research.google.com/notebooks/data_table.ipynb>data table notebook</a>'\n",
              "            + ' to learn more about interactive tables.';\n",
              "          element.innerHTML = '';\n",
              "          dataTable['output_type'] = 'display_data';\n",
              "          await google.colab.output.renderOutput(dataTable, element);\n",
              "          const docLink = document.createElement('div');\n",
              "          docLink.innerHTML = docLinkHtml;\n",
              "          element.appendChild(docLink);\n",
              "        }\n",
              "      </script>\n",
              "    </div>\n",
              "  </div>\n",
              "  "
            ]
          },
          "metadata": {},
          "execution_count": 35
        }
      ]
    },
    {
      "cell_type": "code",
      "source": [
        "\n",
        "# The mean squared error\n",
        "print(\"Mean squared error: %.2f\" % mean_squared_error(y_new, y_pred_new))\n",
        "# The coefficient of determination: 1 is perfect prediction\n",
        "print(\"Coefficient of determination: %.2f\" % r2_score(y_new, y_pred_new))\n"
      ],
      "metadata": {
        "colab": {
          "base_uri": "https://localhost:8080/"
        },
        "id": "3TRjerOebZ6S",
        "outputId": "580301d2-be86-4008-f57e-251cd77f6504"
      },
      "execution_count": 36,
      "outputs": [
        {
          "output_type": "stream",
          "name": "stdout",
          "text": [
            "Mean squared error: 538.62\n",
            "Coefficient of determination: 0.02\n"
          ]
        }
      ]
    },
    {
      "cell_type": "code",
      "source": [
        "import seaborn as sns\n",
        "\n",
        "sns.set(rc={'figure.figsize':(12,10)})\n",
        "scatter_poly2 = sns.lmplot(\n",
        "    data = pred_y_df, \n",
        "    x = \"Actual Value\",\n",
        "    y = \"Predicted Value\",\n",
        "    order = 2\n",
        ")"
      ],
      "metadata": {
        "colab": {
          "base_uri": "https://localhost:8080/",
          "height": 0
        },
        "id": "8jyo4T5tbcX7",
        "outputId": "20cecf0a-3a9f-4902-b1e0-cd0ca3b1b8ab"
      },
      "execution_count": 37,
      "outputs": [
        {
          "output_type": "display_data",
          "data": {
            "text/plain": [
              "<Figure size 360x360 with 1 Axes>"
            ],
            "image/png": "[encoded data removed]"
          },
          "metadata": {}
        }
      ]
    },
    {
      "cell_type": "code",
      "source": [
        "sns.regplot(x=\"Actual Value\", y=\"Predicted Value\", data=pred_y_df);"
      ],
      "metadata": {
        "colab": {
          "base_uri": "https://localhost:8080/",
          "height": 0
        },
        "id": "q2_P8WDGbe9D",
        "outputId": "77737c84-f5ca-459a-a228-2b10ec9f56ae"
      },
      "execution_count": 38,
      "outputs": [
        {
          "output_type": "display_data",
          "data": {
            "text/plain": [
              "<Figure size 864x720 with 1 Axes>"
            ],
            "image/png": "[encoded data removed]"
          },
          "metadata": {}
        }
      ]
    },
    {
      "cell_type": "markdown",
      "source": [
        "#Support Vector Regression (SVR) using linear and non-linear kernels"
      ],
      "metadata": {
        "id": "snS9BT-_cNzs"
      }
    },
    {
      "cell_type": "code",
      "source": [
        "from sklearn.svm import SVR\n",
        "from sklearn.pipeline import make_pipeline\n",
        "from sklearn.preprocessing import StandardScaler\n",
        "\n",
        "regr = make_pipeline(StandardScaler(), SVR(C=1.0, epsilon=0.2))\n",
        "regr.fit(X_train, y_train)\n",
        "\n",
        "y_pred = lin_reg.predict(X_test)"
      ],
      "metadata": {
        "id": "RRuT-AeeKo-f"
      },
      "execution_count": 44,
      "outputs": []
    },
    {
      "cell_type": "code",
      "source": [
        "from sklearn.metrics import r2_score,mean_squared_error\n",
        "print(\"Testing r2: \",r2_score(y_test,y_pred))\n",
        "\n",
        "r_sq = lin_reg.score(X_new, y_new)\n",
        "print(\"R_sq: \",r_sq)"
      ],
      "metadata": {
        "colab": {
          "base_uri": "https://localhost:8080/"
        },
        "id": "3KSx95umQjJK",
        "outputId": "f351352f-a44a-4099-828b-b39e0785e0bf"
      },
      "execution_count": 47,
      "outputs": [
        {
          "output_type": "stream",
          "name": "stdout",
          "text": [
            "Testing r2:  -1.386907556947346\n",
            "R_sq:  0.02483959046072115\n"
          ]
        }
      ]
    },
    {
      "cell_type": "markdown",
      "source": [
        "#RandomForestRegressor"
      ],
      "metadata": {
        "id": "bLF86x1YYAtl"
      }
    },
    {
      "cell_type": "code",
      "source": [
        "from sklearn.ensemble import RandomForestRegressor\n",
        "from sklearn.datasets import make_regression\n",
        "\n",
        "regr = RandomForestRegressor(max_depth=2, random_state=0)\n",
        "regr.fit(X_train, y_train)\n",
        "\n",
        "y_pred_1 = regr.predict(X_test)"
      ],
      "metadata": {
        "id": "zCZbnXR1RLOu"
      },
      "execution_count": 55,
      "outputs": []
    },
    {
      "cell_type": "code",
      "source": [
        "from sklearn.metrics import r2_score,mean_squared_error\n",
        "print(\"Testing r2: \",r2_score(y_test,y_pred_1))\n",
        "\n",
        "r_sq = regr.score(X_new, y_new)\n",
        "print(\"R_sq: \",r_sq)"
      ],
      "metadata": {
        "colab": {
          "base_uri": "https://localhost:8080/"
        },
        "id": "eCs9M3P4RXHD",
        "outputId": "378579de-9308-457f-a1f0-58ff4a4a79e7"
      },
      "execution_count": 60,
      "outputs": [
        {
          "output_type": "stream",
          "name": "stdout",
          "text": [
            "Testing r2:  -0.2894821260439071\n",
            "R_sq:  0.2988872132729654\n"
          ]
        }
      ]
    },
    {
      "cell_type": "markdown",
      "source": [
        "#Ridge\n",
        "\n",
        "[DOC](https://scikit-learn.org/stable/modules/generated/sklearn.linear_model.Ridge.html)"
      ],
      "metadata": {
        "id": "ah3C8rM5VjHJ"
      }
    },
    {
      "cell_type": "code",
      "source": [
        "from sklearn.linear_model import Ridge\n",
        "clf = Ridge(alpha=1.0)\n",
        "clf.fit(X_train, y_train)\n",
        "\n",
        "y_pred_2 = clf.predict(X_test)"
      ],
      "metadata": {
        "id": "9gnOJda-Vlwr"
      },
      "execution_count": 57,
      "outputs": []
    },
    {
      "cell_type": "code",
      "source": [
        "from sklearn.metrics import r2_score,mean_squared_error\n",
        "print(\"Testing r2: \",r2_score(y_test,y_pred_2))\n",
        "\n",
        "r_sq = clf.score(X_new, y_new)\n",
        "print(\"R_sq: \",r_sq)"
      ],
      "metadata": {
        "colab": {
          "base_uri": "https://localhost:8080/"
        },
        "id": "k5TZb8EKWYHU",
        "outputId": "09cdb29c-b478-45d2-895c-67c01d442588"
      },
      "execution_count": 59,
      "outputs": [
        {
          "output_type": "stream",
          "name": "stdout",
          "text": [
            "Testing r2:  -1.383458653534377\n",
            "R_sq:  0.025496204845425474\n"
          ]
        }
      ]
    },
    {
      "cell_type": "markdown",
      "source": [
        "#Lasso\n",
        "\n",
        "[DOC](https://scikit-learn.org/stable/modules/generated/sklearn.linear_model.Lasso.html)"
      ],
      "metadata": {
        "id": "roHLD6D1XxbG"
      }
    },
    {
      "cell_type": "code",
      "source": [
        "from sklearn import linear_model\n",
        "clf = linear_model.Lasso(alpha=0.1)\n",
        "clf.fit(X_train, y_train)\n",
        "\n",
        "y_pred_2 = clf.predict(X_test)"
      ],
      "metadata": {
        "colab": {
          "base_uri": "https://localhost:8080/"
        },
        "id": "O_Wr-9iQXzcy",
        "outputId": "116a1166-5dd3-4d7b-dacf-0159eb27247b"
      },
      "execution_count": 65,
      "outputs": [
        {
          "output_type": "stream",
          "name": "stderr",
          "text": [
            "Objective did not converge. You might want to increase the number of iterations, check the scale of the features or consider increasing regularisation. Duality gap: 2.271e+04, tolerance: 5.677e+00\n"
          ]
        }
      ]
    },
    {
      "cell_type": "code",
      "source": [
        "from sklearn.metrics import r2_score,mean_squared_error\n",
        "print(\"Testing r2: \",r2_score(y_test,y_pred_2))\n",
        "\n",
        "r_sq = clf.score(X_new, y_new)\n",
        "print(\"R_sq: \",r_sq)"
      ],
      "metadata": {
        "colab": {
          "base_uri": "https://localhost:8080/"
        },
        "id": "PAnVFxSNYSJD",
        "outputId": "71a60ad8-96b0-42a1-9ea8-2c672c22341c"
      },
      "execution_count": 66,
      "outputs": [
        {
          "output_type": "stream",
          "name": "stdout",
          "text": [
            "Testing r2:  -0.5880170326831076\n",
            "R_sq:  0.14950617214498996\n"
          ]
        }
      ]
    },
    {
      "cell_type": "markdown",
      "source": [
        "#Polynomial"
      ],
      "metadata": {
        "id": "e4ZgpniMY7m4"
      }
    },
    {
      "cell_type": "code",
      "source": [
        "import numpy as np\n",
        "from sklearn.preprocessing import PolynomialFeatures\n",
        "\n",
        "poly = PolynomialFeatures(2)\n",
        "poly.fit_transform(X_train)\n",
        "\n",
        "\n",
        "\n",
        "poly = PolynomialFeatures(interaction_only=True)\n",
        "poly.fit_transform(X_train)\n",
        "\n",
        "\n",
        "\n"
      ],
      "metadata": {
        "colab": {
          "base_uri": "https://localhost:8080/"
        },
        "id": "r8tkCRIkY_tp",
        "outputId": "fa09b482-f205-488e-cb91-ea53a9cbe804"
      },
      "execution_count": 67,
      "outputs": [
        {
          "output_type": "execute_result",
          "data": {
            "text/plain": [
              "array([[1.00000000e+00, 4.87236473e+01, 4.40597381e+01, ...,\n",
              "        5.01472860e+03, 5.44543235e+03, 2.95508782e+03],\n",
              "       [1.00000000e+00, 1.96406910e+01, 1.60946940e+01, ...,\n",
              "        7.40950286e+03, 7.74865531e+03, 1.75604851e+03],\n",
              "       [1.00000000e+00, 2.40758181e+01, 1.53807100e+01, ...,\n",
              "        1.15864860e+04, 1.63699977e+04, 3.60564694e+03],\n",
              "       ...,\n",
              "       [1.00000000e+00, 7.34861370e+01, 7.89234307e+01, ...,\n",
              "        2.16532911e+04, 2.38774859e+04, 1.38874765e+04],\n",
              "       [1.00000000e+00, 1.07432646e+02, 9.49762529e+01, ...,\n",
              "        2.03905561e+04, 3.05000866e+04, 3.36762840e+03],\n",
              "       [1.00000000e+00, 1.02145827e+02, 1.18722432e+02, ...,\n",
              "        1.57127560e+05, 1.76437170e+05, 3.45410980e+05]])"
            ]
          },
          "metadata": {},
          "execution_count": 67
        }
      ]
    },
    {
      "cell_type": "markdown",
      "source": [
        "**SHAP**"
      ],
      "metadata": {
        "id": "hAhL_iirn8Wz"
      }
    },
    {
      "cell_type": "markdown",
      "source": [],
      "metadata": {
        "id": "3MrCQsrlVkfz"
      }
    },
    {
      "cell_type": "code",
      "source": [
        "!pip install shap\n",
        "import shap"
      ],
      "metadata": {
        "colab": {
          "base_uri": "https://localhost:8080/"
        },
        "id": "wDHjcAitnzZC",
        "outputId": "02a5ddc8-efe0-417e-9fbd-6683fb63412e"
      },
      "execution_count": 39,
      "outputs": [
        {
          "output_type": "stream",
          "name": "stdout",
          "text": [
            "Looking in indexes: https://pypi.org/simple, https://us-python.pkg.dev/colab-wheels/public/simple/\n",
            "Collecting shap\n",
            "  Downloading shap-0.41.0-cp37-cp37m-manylinux_2_12_x86_64.manylinux2010_x86_64.whl (569 kB)\n",
            "\u001b[K     |████████████████████████████████| 569 kB 14.5 MB/s \n",
            "\u001b[?25hRequirement already satisfied: pandas in /usr/local/lib/python3.7/dist-packages (from shap) (1.3.5)\n",
            "Requirement already satisfied: packaging>20.9 in /usr/local/lib/python3.7/dist-packages (from shap) (21.3)\n",
            "Requirement already satisfied: tqdm>4.25.0 in /usr/local/lib/python3.7/dist-packages (from shap) (4.64.0)\n",
            "Requirement already satisfied: cloudpickle in /usr/local/lib/python3.7/dist-packages (from shap) (1.5.0)\n",
            "Requirement already satisfied: numpy in /usr/local/lib/python3.7/dist-packages (from shap) (1.21.6)\n",
            "Requirement already satisfied: scikit-learn in /usr/local/lib/python3.7/dist-packages (from shap) (1.0.2)\n",
            "Requirement already satisfied: scipy in /usr/local/lib/python3.7/dist-packages (from shap) (1.7.3)\n",
            "Requirement already satisfied: numba in /usr/local/lib/python3.7/dist-packages (from shap) (0.56.0)\n",
            "Collecting slicer==0.0.7\n",
            "  Downloading slicer-0.0.7-py3-none-any.whl (14 kB)\n",
            "Requirement already satisfied: pyparsing!=3.0.5,>=2.0.2 in /usr/local/lib/python3.7/dist-packages (from packaging>20.9->shap) (3.0.9)\n",
            "Requirement already satisfied: importlib-metadata in /usr/local/lib/python3.7/dist-packages (from numba->shap) (4.12.0)\n",
            "Requirement already satisfied: setuptools in /usr/local/lib/python3.7/dist-packages (from numba->shap) (57.4.0)\n",
            "Requirement already satisfied: llvmlite<0.40,>=0.39.0dev0 in /usr/local/lib/python3.7/dist-packages (from numba->shap) (0.39.0)\n",
            "Requirement already satisfied: typing-extensions>=3.6.4 in /usr/local/lib/python3.7/dist-packages (from importlib-metadata->numba->shap) (4.1.1)\n",
            "Requirement already satisfied: zipp>=0.5 in /usr/local/lib/python3.7/dist-packages (from importlib-metadata->numba->shap) (3.8.1)\n",
            "Requirement already satisfied: pytz>=2017.3 in /usr/local/lib/python3.7/dist-packages (from pandas->shap) (2022.2.1)\n",
            "Requirement already satisfied: python-dateutil>=2.7.3 in /usr/local/lib/python3.7/dist-packages (from pandas->shap) (2.8.2)\n",
            "Requirement already satisfied: six>=1.5 in /usr/local/lib/python3.7/dist-packages (from python-dateutil>=2.7.3->pandas->shap) (1.15.0)\n",
            "Requirement already satisfied: threadpoolctl>=2.0.0 in /usr/local/lib/python3.7/dist-packages (from scikit-learn->shap) (3.1.0)\n",
            "Requirement already satisfied: joblib>=0.11 in /usr/local/lib/python3.7/dist-packages (from scikit-learn->shap) (1.1.0)\n",
            "Installing collected packages: slicer, shap\n",
            "Successfully installed shap-0.41.0 slicer-0.0.7\n"
          ]
        }
      ]
    },
    {
      "cell_type": "code",
      "source": [
        "import pandas as pd\n",
        "import shap\n",
        "import sklearn\n",
        "model = sklearn.linear_model.LinearRegression()\n",
        "model.fit(X_train, y_train)\n",
        "\n",
        "# compute the SHAP values for the linear model\n",
        "explainer = shap.Explainer(model.predict, X_train)\n",
        "shap_values = explainer (X_train)\n",
        "shap.plots.bar(shap_values,max_display=20)"
      ],
      "metadata": {
        "colab": {
          "base_uri": "https://localhost:8080/",
          "height": 693
        },
        "id": "w3iBOah0oCqG",
        "outputId": "6c3646e4-07da-44fa-a974-203dbb471b9b"
      },
      "execution_count": 40,
      "outputs": [
        {
          "output_type": "display_data",
          "data": {
            "text/plain": [
              "<Figure size 576x828 with 1 Axes>"
            ],
            "image/png": "[encoded data removed]"
          },
          "metadata": {}
        }
      ]
    },
    {
      "cell_type": "markdown",
      "source": [],
      "metadata": {
        "id": "95aSZdFGcJ-F"
      }
    }
  ]
}