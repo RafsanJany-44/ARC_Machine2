{
  "nbformat": 4,
  "nbformat_minor": 0,
  "metadata": {
    "colab": {
      "provenance": [],
      "include_colab_link": true
    },
    "kernelspec": {
      "name": "python3",
      "display_name": "Python 3"
    },
    "language_info": {
      "name": "python"
    }
  },
  "cells": [
    {
      "cell_type": "markdown",
      "metadata": {
        "id": "view-in-github",
        "colab_type": "text"
      },
      "source": [
        "<a href=\"https://colab.research.google.com/github/RafsanJany-44/ARC_Machine2/blob/main/WOMAC_Total_Regression_Version300.ipynb\" target=\"_parent\"><img src=\"https://colab.research.google.com/assets/colab-badge.svg\" alt=\"Open In Colab\"/></a>"
      ]
    },
    {
      "cell_type": "code",
      "execution_count": 20,
      "metadata": {
        "colab": {
          "base_uri": "https://localhost:8080/"
        },
        "id": "vj6jHu9WkVnY",
        "outputId": "425bc6c7-b8a1-44ea-b650-dde53757f54e"
      },
      "outputs": [
        {
          "output_type": "stream",
          "name": "stdout",
          "text": [
            "Drive already mounted at /content/drive; to attempt to forcibly remount, call drive.mount(\"/content/drive\", force_remount=True).\n"
          ]
        }
      ],
      "source": [
        "from google.colab import drive\n",
        "drive.mount('/content/drive')"
      ]
    },
    {
      "cell_type": "code",
      "source": [
        "!pip install smogn"
      ],
      "metadata": {
        "colab": {
          "base_uri": "https://localhost:8080/"
        },
        "id": "_fm7MJap1Jga",
        "outputId": "86ca7493-bd93-4b34-9eef-1851f6027422"
      },
      "execution_count": 81,
      "outputs": [
        {
          "output_type": "stream",
          "name": "stdout",
          "text": [
            "Looking in indexes: https://pypi.org/simple, https://us-python.pkg.dev/colab-wheels/public/simple/\n",
            "Collecting smogn\n",
            "  Downloading smogn-0.1.2-py3-none-any.whl (30 kB)\n",
            "Requirement already satisfied: tqdm in /usr/local/lib/python3.7/dist-packages (from smogn) (4.64.0)\n",
            "Requirement already satisfied: pandas in /usr/local/lib/python3.7/dist-packages (from smogn) (1.3.5)\n",
            "Requirement already satisfied: numpy in /usr/local/lib/python3.7/dist-packages (from smogn) (1.21.6)\n",
            "Requirement already satisfied: python-dateutil>=2.7.3 in /usr/local/lib/python3.7/dist-packages (from pandas->smogn) (2.8.2)\n",
            "Requirement already satisfied: pytz>=2017.3 in /usr/local/lib/python3.7/dist-packages (from pandas->smogn) (2022.2.1)\n",
            "Requirement already satisfied: six>=1.5 in /usr/local/lib/python3.7/dist-packages (from python-dateutil>=2.7.3->pandas->smogn) (1.15.0)\n",
            "Installing collected packages: smogn\n",
            "Successfully installed smogn-0.1.2\n"
          ]
        }
      ]
    },
    {
      "cell_type": "code",
      "source": [
        "import numpy as np\n",
        "import pandas as pd\n",
        "import smogn\n",
        "#dataset=pd.read_csv(\"/content/drive/MyDrive/Iqram Sir/KOA_EMG_WOMAC__2022.08.29_Final_W-tempo-spatial.csv\")\n",
        "d=pd.read_csv(\"/content/drive/MyDrive/Iqram Sir/KOA_EMG_WOMAC__2022.08.31_Final_Original.csv\")\n",
        "\n",
        "dataset = smogn.smoter(\n",
        "    \n",
        "    data = d, \n",
        "    y = \"WOMAC_total\"\n",
        ")"
      ],
      "metadata": {
        "id": "j77BeUU4sbVU",
        "colab": {
          "base_uri": "https://localhost:8080/"
        },
        "outputId": "5a1d372a-4dc0-4b78-fc4d-7038b34dd315"
      },
      "execution_count": 83,
      "outputs": [
        {
          "output_type": "stream",
          "name": "stderr",
          "text": [
            "dist_matrix: 100%|##########| 25/25 [00:08<00:00,  2.99it/s]\n",
            "synth_matrix: 100%|##########| 25/25 [00:07<00:00,  3.20it/s]\n",
            "dist_matrix: 100%|##########| 24/24 [00:09<00:00,  2.62it/s]\n",
            "synth_matrix: 100%|##########| 24/24 [00:07<00:00,  3.13it/s]\n",
            "r_index: 100%|##########| 2/2 [00:00<00:00,  3.58it/s]\n"
          ]
        }
      ]
    },
    {
      "cell_type": "code",
      "source": [
        "dataset.head(10)"
      ],
      "metadata": {
        "colab": {
          "base_uri": "https://localhost:8080/",
          "height": 473
        },
        "id": "G14KmjKWsn2_",
        "outputId": "d159fe45-5733-4e66-824b-a921ec4f906e"
      },
      "execution_count": 84,
      "outputs": [
        {
          "output_type": "execute_result",
          "data": {
            "text/plain": [
              "   Patient ID Data Type Bone-Attribution  WOMAC_Pain WOMAC_Pain Grade  \\\n",
              "0       13490   Testing                O          12         Moderate   \n",
              "1       14062   Testing                O           9         Moderate   \n",
              "2       14076   Testing                O          10         Moderate   \n",
              "3       14438   Testing                O          15         Moderate   \n",
              "4       14461   Testing                O          14         Moderate   \n",
              "5       13260   Testing                O           9         Moderate   \n",
              "6       13351   Testing                O          14         Moderate   \n",
              "7       13362   Testing                O          14         Moderate   \n",
              "8       13509   Testing                O          14         Moderate   \n",
              "9       14136   Testing                O          12         Moderate   \n",
              "\n",
              "   WOMAC_Stiffness WOMAC_Stiffness Grade  WOMAC_Physical function  \\\n",
              "0                2                  Mild                       51   \n",
              "1                5                  Mild                       49   \n",
              "2                6                  Mild                       50   \n",
              "3                5                  Mild                       46   \n",
              "4                5                  Mild                       46   \n",
              "5                6                  Mild                       52   \n",
              "6                6                  Mild                       49   \n",
              "7                5                  Mild                       50   \n",
              "8                5                  Mild                       49   \n",
              "9                5                  Mild                       52   \n",
              "\n",
              "  WOMAC_MHhysical function Grade  WOMAC_total  ...    TA-G-100  \\\n",
              "0                         Severe           66  ...   83.041549   \n",
              "1                         Severe           65  ...   41.988757   \n",
              "2                         Severe           65  ...   43.801702   \n",
              "3                         Severe           66  ...   84.016778   \n",
              "4                         Severe           67  ...  869.375154   \n",
              "5                         Severe           67  ...   99.933796   \n",
              "6                         Severe           69  ...  105.645522   \n",
              "7                         Severe           70  ...   54.021744   \n",
              "8                         Severe           69  ...  200.368638   \n",
              "9                         Severe           70  ...  260.666561   \n",
              "\n",
              "   Stance_CCI_TA-RF Stance_CCI_G-MH  Stance_CCI_TA-G Swing_CCI_TA-RF  \\\n",
              "0         21.571948      194.111278        19.815949      120.175482   \n",
              "1         29.117238      302.433563        27.930986       72.803860   \n",
              "2        138.523414      159.536776       121.112969       84.398311   \n",
              "3         99.330676       74.536944        89.802849      111.105147   \n",
              "4        245.357463       74.299366       478.724335      323.124554   \n",
              "5         93.904277      143.256352        96.919363      224.693687   \n",
              "6        125.441263      133.057425       126.549557      113.012959   \n",
              "7        289.842210      106.425229       132.959614      158.540256   \n",
              "8         80.139147       64.852872       159.528117      110.953341   \n",
              "9        223.975790      101.038761       256.489641      281.173694   \n",
              "\n",
              "  Swing_CCI_G-MH Swing_CCI_TA-G  swing/stance_cci(TA_RF)  \\\n",
              "0      83.811155     115.163061                 5.449269   \n",
              "1     339.944796      85.275131                 2.442466   \n",
              "2      75.160194     112.700793                 0.675996   \n",
              "3      53.979788     169.605008                 1.086040   \n",
              "4      15.075164     809.027849                 1.366886   \n",
              "5      25.403154     226.900675                 2.331975   \n",
              "6     110.326039     127.983083                 0.873614   \n",
              "7      75.536832     186.173192                 0.531214   \n",
              "8      25.679637     327.998270                 1.384003   \n",
              "9      36.652573     405.939444                 1.220897   \n",
              "\n",
              "   swing/stance_cci(G-MH)  swing/stance_CCI(TA-G)  \n",
              "0                0.407623                5.583979  \n",
              "1                1.126511                2.895745  \n",
              "2                0.470629                0.929621  \n",
              "3                0.733378                1.959402  \n",
              "4                0.203264                1.718655  \n",
              "5                0.197431                2.225354  \n",
              "6                0.844438                1.002228  \n",
              "7                0.723604                1.347554  \n",
              "8                0.354424                2.059278  \n",
              "9                0.356603                1.609719  \n",
              "\n",
              "[10 rows x 812 columns]"
            ],
            "text/html": [
              "\n",
              "  <div id=\"df-67e03f58-d095-47db-8e97-29f771c5d626\">\n",
              "    <div class=\"colab-df-container\">\n",
              "      <div>\n",
              "<style scoped>\n",
              "    .dataframe tbody tr th:only-of-type {\n",
              "        vertical-align: middle;\n",
              "    }\n",
              "\n",
              "    .dataframe tbody tr th {\n",
              "        vertical-align: top;\n",
              "    }\n",
              "\n",
              "    .dataframe thead th {\n",
              "        text-align: right;\n",
              "    }\n",
              "</style>\n",
              "<table border=\"1\" class=\"dataframe\">\n",
              "  <thead>\n",
              "    <tr style=\"text-align: right;\">\n",
              "      <th></th>\n",
              "      <th>Patient ID</th>\n",
              "      <th>Data Type</th>\n",
              "      <th>Bone-Attribution</th>\n",
              "      <th>WOMAC_Pain</th>\n",
              "      <th>WOMAC_Pain Grade</th>\n",
              "      <th>WOMAC_Stiffness</th>\n",
              "      <th>WOMAC_Stiffness Grade</th>\n",
              "      <th>WOMAC_Physical function</th>\n",
              "      <th>WOMAC_MHhysical function Grade</th>\n",
              "      <th>WOMAC_total</th>\n",
              "      <th>...</th>\n",
              "      <th>TA-G-100</th>\n",
              "      <th>Stance_CCI_TA-RF</th>\n",
              "      <th>Stance_CCI_G-MH</th>\n",
              "      <th>Stance_CCI_TA-G</th>\n",
              "      <th>Swing_CCI_TA-RF</th>\n",
              "      <th>Swing_CCI_G-MH</th>\n",
              "      <th>Swing_CCI_TA-G</th>\n",
              "      <th>swing/stance_cci(TA_RF)</th>\n",
              "      <th>swing/stance_cci(G-MH)</th>\n",
              "      <th>swing/stance_CCI(TA-G)</th>\n",
              "    </tr>\n",
              "  </thead>\n",
              "  <tbody>\n",
              "    <tr>\n",
              "      <th>0</th>\n",
              "      <td>13490</td>\n",
              "      <td>Testing</td>\n",
              "      <td>O</td>\n",
              "      <td>12</td>\n",
              "      <td>Moderate</td>\n",
              "      <td>2</td>\n",
              "      <td>Mild</td>\n",
              "      <td>51</td>\n",
              "      <td>Severe</td>\n",
              "      <td>66</td>\n",
              "      <td>...</td>\n",
              "      <td>83.041549</td>\n",
              "      <td>21.571948</td>\n",
              "      <td>194.111278</td>\n",
              "      <td>19.815949</td>\n",
              "      <td>120.175482</td>\n",
              "      <td>83.811155</td>\n",
              "      <td>115.163061</td>\n",
              "      <td>5.449269</td>\n",
              "      <td>0.407623</td>\n",
              "      <td>5.583979</td>\n",
              "    </tr>\n",
              "    <tr>\n",
              "      <th>1</th>\n",
              "      <td>14062</td>\n",
              "      <td>Testing</td>\n",
              "      <td>O</td>\n",
              "      <td>9</td>\n",
              "      <td>Moderate</td>\n",
              "      <td>5</td>\n",
              "      <td>Mild</td>\n",
              "      <td>49</td>\n",
              "      <td>Severe</td>\n",
              "      <td>65</td>\n",
              "      <td>...</td>\n",
              "      <td>41.988757</td>\n",
              "      <td>29.117238</td>\n",
              "      <td>302.433563</td>\n",
              "      <td>27.930986</td>\n",
              "      <td>72.803860</td>\n",
              "      <td>339.944796</td>\n",
              "      <td>85.275131</td>\n",
              "      <td>2.442466</td>\n",
              "      <td>1.126511</td>\n",
              "      <td>2.895745</td>\n",
              "    </tr>\n",
              "    <tr>\n",
              "      <th>2</th>\n",
              "      <td>14076</td>\n",
              "      <td>Testing</td>\n",
              "      <td>O</td>\n",
              "      <td>10</td>\n",
              "      <td>Moderate</td>\n",
              "      <td>6</td>\n",
              "      <td>Mild</td>\n",
              "      <td>50</td>\n",
              "      <td>Severe</td>\n",
              "      <td>65</td>\n",
              "      <td>...</td>\n",
              "      <td>43.801702</td>\n",
              "      <td>138.523414</td>\n",
              "      <td>159.536776</td>\n",
              "      <td>121.112969</td>\n",
              "      <td>84.398311</td>\n",
              "      <td>75.160194</td>\n",
              "      <td>112.700793</td>\n",
              "      <td>0.675996</td>\n",
              "      <td>0.470629</td>\n",
              "      <td>0.929621</td>\n",
              "    </tr>\n",
              "    <tr>\n",
              "      <th>3</th>\n",
              "      <td>14438</td>\n",
              "      <td>Testing</td>\n",
              "      <td>O</td>\n",
              "      <td>15</td>\n",
              "      <td>Moderate</td>\n",
              "      <td>5</td>\n",
              "      <td>Mild</td>\n",
              "      <td>46</td>\n",
              "      <td>Severe</td>\n",
              "      <td>66</td>\n",
              "      <td>...</td>\n",
              "      <td>84.016778</td>\n",
              "      <td>99.330676</td>\n",
              "      <td>74.536944</td>\n",
              "      <td>89.802849</td>\n",
              "      <td>111.105147</td>\n",
              "      <td>53.979788</td>\n",
              "      <td>169.605008</td>\n",
              "      <td>1.086040</td>\n",
              "      <td>0.733378</td>\n",
              "      <td>1.959402</td>\n",
              "    </tr>\n",
              "    <tr>\n",
              "      <th>4</th>\n",
              "      <td>14461</td>\n",
              "      <td>Testing</td>\n",
              "      <td>O</td>\n",
              "      <td>14</td>\n",
              "      <td>Moderate</td>\n",
              "      <td>5</td>\n",
              "      <td>Mild</td>\n",
              "      <td>46</td>\n",
              "      <td>Severe</td>\n",
              "      <td>67</td>\n",
              "      <td>...</td>\n",
              "      <td>869.375154</td>\n",
              "      <td>245.357463</td>\n",
              "      <td>74.299366</td>\n",
              "      <td>478.724335</td>\n",
              "      <td>323.124554</td>\n",
              "      <td>15.075164</td>\n",
              "      <td>809.027849</td>\n",
              "      <td>1.366886</td>\n",
              "      <td>0.203264</td>\n",
              "      <td>1.718655</td>\n",
              "    </tr>\n",
              "    <tr>\n",
              "      <th>5</th>\n",
              "      <td>13260</td>\n",
              "      <td>Testing</td>\n",
              "      <td>O</td>\n",
              "      <td>9</td>\n",
              "      <td>Moderate</td>\n",
              "      <td>6</td>\n",
              "      <td>Mild</td>\n",
              "      <td>52</td>\n",
              "      <td>Severe</td>\n",
              "      <td>67</td>\n",
              "      <td>...</td>\n",
              "      <td>99.933796</td>\n",
              "      <td>93.904277</td>\n",
              "      <td>143.256352</td>\n",
              "      <td>96.919363</td>\n",
              "      <td>224.693687</td>\n",
              "      <td>25.403154</td>\n",
              "      <td>226.900675</td>\n",
              "      <td>2.331975</td>\n",
              "      <td>0.197431</td>\n",
              "      <td>2.225354</td>\n",
              "    </tr>\n",
              "    <tr>\n",
              "      <th>6</th>\n",
              "      <td>13351</td>\n",
              "      <td>Testing</td>\n",
              "      <td>O</td>\n",
              "      <td>14</td>\n",
              "      <td>Moderate</td>\n",
              "      <td>6</td>\n",
              "      <td>Mild</td>\n",
              "      <td>49</td>\n",
              "      <td>Severe</td>\n",
              "      <td>69</td>\n",
              "      <td>...</td>\n",
              "      <td>105.645522</td>\n",
              "      <td>125.441263</td>\n",
              "      <td>133.057425</td>\n",
              "      <td>126.549557</td>\n",
              "      <td>113.012959</td>\n",
              "      <td>110.326039</td>\n",
              "      <td>127.983083</td>\n",
              "      <td>0.873614</td>\n",
              "      <td>0.844438</td>\n",
              "      <td>1.002228</td>\n",
              "    </tr>\n",
              "    <tr>\n",
              "      <th>7</th>\n",
              "      <td>13362</td>\n",
              "      <td>Testing</td>\n",
              "      <td>O</td>\n",
              "      <td>14</td>\n",
              "      <td>Moderate</td>\n",
              "      <td>5</td>\n",
              "      <td>Mild</td>\n",
              "      <td>50</td>\n",
              "      <td>Severe</td>\n",
              "      <td>70</td>\n",
              "      <td>...</td>\n",
              "      <td>54.021744</td>\n",
              "      <td>289.842210</td>\n",
              "      <td>106.425229</td>\n",
              "      <td>132.959614</td>\n",
              "      <td>158.540256</td>\n",
              "      <td>75.536832</td>\n",
              "      <td>186.173192</td>\n",
              "      <td>0.531214</td>\n",
              "      <td>0.723604</td>\n",
              "      <td>1.347554</td>\n",
              "    </tr>\n",
              "    <tr>\n",
              "      <th>8</th>\n",
              "      <td>13509</td>\n",
              "      <td>Testing</td>\n",
              "      <td>O</td>\n",
              "      <td>14</td>\n",
              "      <td>Moderate</td>\n",
              "      <td>5</td>\n",
              "      <td>Mild</td>\n",
              "      <td>49</td>\n",
              "      <td>Severe</td>\n",
              "      <td>69</td>\n",
              "      <td>...</td>\n",
              "      <td>200.368638</td>\n",
              "      <td>80.139147</td>\n",
              "      <td>64.852872</td>\n",
              "      <td>159.528117</td>\n",
              "      <td>110.953341</td>\n",
              "      <td>25.679637</td>\n",
              "      <td>327.998270</td>\n",
              "      <td>1.384003</td>\n",
              "      <td>0.354424</td>\n",
              "      <td>2.059278</td>\n",
              "    </tr>\n",
              "    <tr>\n",
              "      <th>9</th>\n",
              "      <td>14136</td>\n",
              "      <td>Testing</td>\n",
              "      <td>O</td>\n",
              "      <td>12</td>\n",
              "      <td>Moderate</td>\n",
              "      <td>5</td>\n",
              "      <td>Mild</td>\n",
              "      <td>52</td>\n",
              "      <td>Severe</td>\n",
              "      <td>70</td>\n",
              "      <td>...</td>\n",
              "      <td>260.666561</td>\n",
              "      <td>223.975790</td>\n",
              "      <td>101.038761</td>\n",
              "      <td>256.489641</td>\n",
              "      <td>281.173694</td>\n",
              "      <td>36.652573</td>\n",
              "      <td>405.939444</td>\n",
              "      <td>1.220897</td>\n",
              "      <td>0.356603</td>\n",
              "      <td>1.609719</td>\n",
              "    </tr>\n",
              "  </tbody>\n",
              "</table>\n",
              "<p>10 rows × 812 columns</p>\n",
              "</div>\n",
              "      <button class=\"colab-df-convert\" onclick=\"convertToInteractive('df-67e03f58-d095-47db-8e97-29f771c5d626')\"\n",
              "              title=\"Convert this dataframe to an interactive table.\"\n",
              "              style=\"display:none;\">\n",
              "        \n",
              "  <svg xmlns=\"http://www.w3.org/2000/svg\" height=\"24px\"viewBox=\"0 0 24 24\"\n",
              "       width=\"24px\">\n",
              "    <path d=\"M0 0h24v24H0V0z\" fill=\"none\"/>\n",
              "    <path d=\"M18.56 5.44l.94 2.06.94-2.06 2.06-.94-2.06-.94-.94-2.06-.94 2.06-2.06.94zm-11 1L8.5 8.5l.94-2.06 2.06-.94-2.06-.94L8.5 2.5l-.94 2.06-2.06.94zm10 10l.94 2.06.94-2.06 2.06-.94-2.06-.94-.94-2.06-.94 2.06-2.06.94z\"/><path d=\"M17.41 7.96l-1.37-1.37c-.4-.4-.92-.59-1.43-.59-.52 0-1.04.2-1.43.59L10.3 9.45l-7.72 7.72c-.78.78-.78 2.05 0 2.83L4 21.41c.39.39.9.59 1.41.59.51 0 1.02-.2 1.41-.59l7.78-7.78 2.81-2.81c.8-.78.8-2.07 0-2.86zM5.41 20L4 18.59l7.72-7.72 1.47 1.35L5.41 20z\"/>\n",
              "  </svg>\n",
              "      </button>\n",
              "      \n",
              "  <style>\n",
              "    .colab-df-container {\n",
              "      display:flex;\n",
              "      flex-wrap:wrap;\n",
              "      gap: 12px;\n",
              "    }\n",
              "\n",
              "    .colab-df-convert {\n",
              "      background-color: #E8F0FE;\n",
              "      border: none;\n",
              "      border-radius: 50%;\n",
              "      cursor: pointer;\n",
              "      display: none;\n",
              "      fill: #1967D2;\n",
              "      height: 32px;\n",
              "      padding: 0 0 0 0;\n",
              "      width: 32px;\n",
              "    }\n",
              "\n",
              "    .colab-df-convert:hover {\n",
              "      background-color: #E2EBFA;\n",
              "      box-shadow: 0px 1px 2px rgba(60, 64, 67, 0.3), 0px 1px 3px 1px rgba(60, 64, 67, 0.15);\n",
              "      fill: #174EA6;\n",
              "    }\n",
              "\n",
              "    [theme=dark] .colab-df-convert {\n",
              "      background-color: #3B4455;\n",
              "      fill: #D2E3FC;\n",
              "    }\n",
              "\n",
              "    [theme=dark] .colab-df-convert:hover {\n",
              "      background-color: #434B5C;\n",
              "      box-shadow: 0px 1px 3px 1px rgba(0, 0, 0, 0.15);\n",
              "      filter: drop-shadow(0px 1px 2px rgba(0, 0, 0, 0.3));\n",
              "      fill: #FFFFFF;\n",
              "    }\n",
              "  </style>\n",
              "\n",
              "      <script>\n",
              "        const buttonEl =\n",
              "          document.querySelector('#df-67e03f58-d095-47db-8e97-29f771c5d626 button.colab-df-convert');\n",
              "        buttonEl.style.display =\n",
              "          google.colab.kernel.accessAllowed ? 'block' : 'none';\n",
              "\n",
              "        async function convertToInteractive(key) {\n",
              "          const element = document.querySelector('#df-67e03f58-d095-47db-8e97-29f771c5d626');\n",
              "          const dataTable =\n",
              "            await google.colab.kernel.invokeFunction('convertToInteractive',\n",
              "                                                     [key], {});\n",
              "          if (!dataTable) return;\n",
              "\n",
              "          const docLinkHtml = 'Like what you see? Visit the ' +\n",
              "            '<a target=\"_blank\" href=https://colab.research.google.com/notebooks/data_table.ipynb>data table notebook</a>'\n",
              "            + ' to learn more about interactive tables.';\n",
              "          element.innerHTML = '';\n",
              "          dataTable['output_type'] = 'display_data';\n",
              "          await google.colab.output.renderOutput(dataTable, element);\n",
              "          const docLink = document.createElement('div');\n",
              "          docLink.innerHTML = docLinkHtml;\n",
              "          element.appendChild(docLink);\n",
              "        }\n",
              "      </script>\n",
              "    </div>\n",
              "  </div>\n",
              "  "
            ]
          },
          "metadata": {},
          "execution_count": 84
        }
      ]
    },
    {
      "cell_type": "code",
      "source": [
        "dataset.shape"
      ],
      "metadata": {
        "colab": {
          "base_uri": "https://localhost:8080/"
        },
        "id": "CSHw6o9psp-a",
        "outputId": "94b30c71-ca93-4727-a4c7-d0e51e14ed24"
      },
      "execution_count": 85,
      "outputs": [
        {
          "output_type": "execute_result",
          "data": {
            "text/plain": [
              "(151, 812)"
            ]
          },
          "metadata": {},
          "execution_count": 85
        }
      ]
    },
    {
      "cell_type": "code",
      "source": [
        "X = dataset.iloc[:,17:]\n",
        "y = dataset.iloc[:, 9]"
      ],
      "metadata": {
        "id": "AiTKRXiY0mdy"
      },
      "execution_count": 86,
      "outputs": []
    },
    {
      "cell_type": "code",
      "source": [
        "'''\n",
        "from sklearn.model_selection import train_test_split\n",
        "X_train, X_test, y_train, y_test = train_test_split(X, y, test_size = 0.2, random_state = 0)\n",
        "'''"
      ],
      "metadata": {
        "id": "gzJ19cN22KsU",
        "colab": {
          "base_uri": "https://localhost:8080/",
          "height": 36
        },
        "outputId": "2012d2b9-842a-4c06-81b5-4f43bbd55503"
      },
      "execution_count": 25,
      "outputs": [
        {
          "output_type": "execute_result",
          "data": {
            "text/plain": [
              "'\\nfrom sklearn.model_selection import train_test_split\\nX_train, X_test, y_train, y_test = train_test_split(X, y, test_size = 0.2, random_state = 0)\\n'"
            ],
            "application/vnd.google.colaboratory.intrinsic+json": {
              "type": "string"
            }
          },
          "metadata": {},
          "execution_count": 25
        }
      ]
    },
    {
      "cell_type": "code",
      "source": [
        "from sklearn.feature_selection import SelectKBest\n",
        "bestfeatures = SelectKBest(k=10)\n",
        "fit = bestfeatures.fit(X,y)"
      ],
      "metadata": {
        "id": "7SpMLBfwJhMa",
        "colab": {
          "base_uri": "https://localhost:8080/"
        },
        "outputId": "e4d2b97d-b9ac-40a0-b2a5-4282617b000a"
      },
      "execution_count": 87,
      "outputs": [
        {
          "output_type": "stream",
          "name": "stderr",
          "text": [
            "Features [21 22 23 24] are constant.\n",
            "invalid value encountered in true_divide\n"
          ]
        }
      ]
    },
    {
      "cell_type": "code",
      "source": [
        "dfscores = pd.DataFrame(fit.scores_)\n",
        "dfcolumns = pd.DataFrame(X.columns)"
      ],
      "metadata": {
        "id": "PxTD8_-jJjtJ"
      },
      "execution_count": 88,
      "outputs": []
    },
    {
      "cell_type": "code",
      "source": [
        "featureScores = pd.concat([dfcolumns,dfscores],axis=1)\n",
        "featureScores.columns = ['Specs','Score']"
      ],
      "metadata": {
        "id": "NJpll3U8Jljl"
      },
      "execution_count": 89,
      "outputs": []
    },
    {
      "cell_type": "code",
      "source": [
        "number_of_feat=int(input(\"Number Of Best Features: \"))"
      ],
      "metadata": {
        "colab": {
          "base_uri": "https://localhost:8080/"
        },
        "id": "373RpO7uJnRv",
        "outputId": "5b9ead8c-ed4b-4324-fdd1-d415e885673d"
      },
      "execution_count": 90,
      "outputs": [
        {
          "name": "stdout",
          "output_type": "stream",
          "text": [
            "Number Of Best Features: 20\n"
          ]
        }
      ]
    },
    {
      "cell_type": "code",
      "source": [
        "imp=featureScores.nlargest(number_of_feat,'Score')\n",
        "print(imp)"
      ],
      "metadata": {
        "colab": {
          "base_uri": "https://localhost:8080/"
        },
        "id": "wpio-fXlJpVd",
        "outputId": "2cc268d4-f381-4d0f-abc6-d684554c0131"
      },
      "execution_count": 91,
      "outputs": [
        {
          "output_type": "stream",
          "name": "stdout",
          "text": [
            "              Specs      Score\n",
            "784         TA-G-99  13.193986\n",
            "777         TA-G-92  13.126674\n",
            "785        TA-G-100  13.097087\n",
            "779         TA-G-94  13.012692\n",
            "776         TA-G-91  12.739091\n",
            "778         TA-G-93  12.718506\n",
            "783         TA-G-98  12.200196\n",
            "780         TA-G-95  12.170597\n",
            "782         TA-G-97  11.634880\n",
            "781         TA-G-96  11.392590\n",
            "775         TA-G-90  10.754171\n",
            "774         TA-G-89   8.264121\n",
            "791  Swing_CCI_TA-G   7.406180\n",
            "773         TA-G-88   6.721707\n",
            "772         TA-G-87   5.847914\n",
            "685          TA-G-0   5.772313\n",
            "771         TA-G-86   5.224324\n",
            "686          TA-G-1   5.192751\n",
            "759         TA-G-74   4.875783\n",
            "760         TA-G-75   4.829657\n"
          ]
        }
      ]
    },
    {
      "cell_type": "code",
      "source": [
        "list_of_feat=[]\n",
        "\n",
        "for i in range(number_of_feat):\n",
        "  list_of_feat.append(imp.iloc[:,0:1].values[i][0])"
      ],
      "metadata": {
        "id": "Y2yoQPagJwWu"
      },
      "execution_count": 92,
      "outputs": []
    },
    {
      "cell_type": "code",
      "source": [
        "X_new = dataset[list_of_feat]\n",
        "y_new = dataset.iloc[:, 9]"
      ],
      "metadata": {
        "id": "Avu3cnS0JyV-"
      },
      "execution_count": 93,
      "outputs": []
    },
    {
      "cell_type": "code",
      "source": [
        "X_train=X_new.iloc[:120,:]  \n",
        "X_test=X_new.iloc[120:,:]\n",
        "y_train=y_new.iloc[:120]\n",
        "y_test=y_new.iloc[120:]"
      ],
      "metadata": {
        "id": "mf2hSZmlAygT"
      },
      "execution_count": 94,
      "outputs": []
    },
    {
      "cell_type": "code",
      "source": [
        "from sklearn.linear_model import LinearRegression\n",
        "\n",
        "lin_reg = LinearRegression()\n",
        "lin_reg.fit(X_train, y_train)\n",
        "y_pred = lin_reg.predict(X_test)\n"
      ],
      "metadata": {
        "id": "lU9NGIxw2RWg"
      },
      "execution_count": 95,
      "outputs": []
    },
    {
      "cell_type": "markdown",
      "source": [
        "#Taining Ploting and Result"
      ],
      "metadata": {
        "id": "sx7QykGeXzjI"
      }
    },
    {
      "cell_type": "code",
      "source": [
        "y_pred_train = lin_reg.predict(X_train)\n",
        "\n",
        "print(y_pred.shape)\n",
        "from sklearn.metrics import r2_score,mean_squared_error\n",
        "print(\"Training r2: \",r2_score(y_train,y_pred_train))\n",
        "\n",
        "\n",
        "r_sq = lin_reg.score(X_new, y_new)\n",
        "print(\"Training r_sq: \",r_sq)\n",
        "\n",
        "\n",
        "\n"
      ],
      "metadata": {
        "colab": {
          "base_uri": "https://localhost:8080/"
        },
        "id": "6eZ9f8KJWSec",
        "outputId": "591f36da-cf6c-4a02-e619-225af69609aa"
      },
      "execution_count": 96,
      "outputs": [
        {
          "output_type": "stream",
          "name": "stdout",
          "text": [
            "(31,)\n",
            "Training r2:  0.3025231787675433\n",
            "Training r_sq:  -0.19783267222689838\n"
          ]
        }
      ]
    },
    {
      "cell_type": "code",
      "source": [
        "r_sq_train = lin_reg.score(X_train, y_pred_train)\n",
        "print(r_sq_train)"
      ],
      "metadata": {
        "colab": {
          "base_uri": "https://localhost:8080/"
        },
        "id": "NWPqv1CwWmNH",
        "outputId": "a1f861fd-6610-4079-c686-000db2324d53"
      },
      "execution_count": 97,
      "outputs": [
        {
          "output_type": "stream",
          "name": "stdout",
          "text": [
            "1.0\n"
          ]
        }
      ]
    },
    {
      "cell_type": "code",
      "source": [
        "import matplotlib.pyplot as plt\n",
        "plt.figure(figsize=(15,10))\n",
        "plt.scatter(y_train, y_pred_train, color = \"red\")\n",
        "plt.xlabel(\"Actual\")\n",
        "plt.ylabel(\"Predicted\")\n",
        "plt.show()\n"
      ],
      "metadata": {
        "colab": {
          "base_uri": "https://localhost:8080/",
          "height": 611
        },
        "id": "2El54YfuWn1O",
        "outputId": "9315845a-1437-4002-8051-79a2be659ff3"
      },
      "execution_count": 98,
      "outputs": [
        {
          "output_type": "display_data",
          "data": {
            "text/plain": [
              "<Figure size 1080x720 with 1 Axes>"
            ],
            "image/png": "[encoded data removed]"
          },
          "metadata": {}
        }
      ]
    },
    {
      "cell_type": "code",
      "source": [],
      "metadata": {
        "id": "nyvdkd8yaRy4"
      },
      "execution_count": 98,
      "outputs": []
    },
    {
      "cell_type": "code",
      "source": [
        "pred_y_df=pd.DataFrame(\n",
        "    {\n",
        "        \"Actual Value\":y_train,\n",
        "        \"Predicted Value\":y_pred_train,\n",
        "        \"Difference\":y_train-y_pred_train\n",
        "    }\n",
        ")\n",
        "\n",
        "pred_y_df"
      ],
      "metadata": {
        "colab": {
          "base_uri": "https://localhost:8080/",
          "height": 423
        },
        "id": "FWD91cWGWqQV",
        "outputId": "76ac6b96-2b93-441f-a931-8a9975f0822a"
      },
      "execution_count": 99,
      "outputs": [
        {
          "output_type": "execute_result",
          "data": {
            "text/plain": [
              "     Actual Value  Predicted Value  Difference\n",
              "0              66        53.778611   12.221389\n",
              "1              65        55.510719    9.489281\n",
              "2              65        46.417217   18.582783\n",
              "3              66        46.811008   19.188992\n",
              "4              67        61.658227    5.341773\n",
              "..            ...              ...         ...\n",
              "133            43        56.520172  -13.520172\n",
              "134            44        55.348329  -11.348329\n",
              "137            48        45.731387    2.268613\n",
              "140            53        40.877567   12.122433\n",
              "142            57        61.935997   -4.935997\n",
              "\n",
              "[120 rows x 3 columns]"
            ],
            "text/html": [
              "\n",
              "  <div id=\"df-a4f1f1b1-5e74-437e-ba4f-e3f4923c14c5\">\n",
              "    <div class=\"colab-df-container\">\n",
              "      <div>\n",
              "<style scoped>\n",
              "    .dataframe tbody tr th:only-of-type {\n",
              "        vertical-align: middle;\n",
              "    }\n",
              "\n",
              "    .dataframe tbody tr th {\n",
              "        vertical-align: top;\n",
              "    }\n",
              "\n",
              "    .dataframe thead th {\n",
              "        text-align: right;\n",
              "    }\n",
              "</style>\n",
              "<table border=\"1\" class=\"dataframe\">\n",
              "  <thead>\n",
              "    <tr style=\"text-align: right;\">\n",
              "      <th></th>\n",
              "      <th>Actual Value</th>\n",
              "      <th>Predicted Value</th>\n",
              "      <th>Difference</th>\n",
              "    </tr>\n",
              "  </thead>\n",
              "  <tbody>\n",
              "    <tr>\n",
              "      <th>0</th>\n",
              "      <td>66</td>\n",
              "      <td>53.778611</td>\n",
              "      <td>12.221389</td>\n",
              "    </tr>\n",
              "    <tr>\n",
              "      <th>1</th>\n",
              "      <td>65</td>\n",
              "      <td>55.510719</td>\n",
              "      <td>9.489281</td>\n",
              "    </tr>\n",
              "    <tr>\n",
              "      <th>2</th>\n",
              "      <td>65</td>\n",
              "      <td>46.417217</td>\n",
              "      <td>18.582783</td>\n",
              "    </tr>\n",
              "    <tr>\n",
              "      <th>3</th>\n",
              "      <td>66</td>\n",
              "      <td>46.811008</td>\n",
              "      <td>19.188992</td>\n",
              "    </tr>\n",
              "    <tr>\n",
              "      <th>4</th>\n",
              "      <td>67</td>\n",
              "      <td>61.658227</td>\n",
              "      <td>5.341773</td>\n",
              "    </tr>\n",
              "    <tr>\n",
              "      <th>...</th>\n",
              "      <td>...</td>\n",
              "      <td>...</td>\n",
              "      <td>...</td>\n",
              "    </tr>\n",
              "    <tr>\n",
              "      <th>133</th>\n",
              "      <td>43</td>\n",
              "      <td>56.520172</td>\n",
              "      <td>-13.520172</td>\n",
              "    </tr>\n",
              "    <tr>\n",
              "      <th>134</th>\n",
              "      <td>44</td>\n",
              "      <td>55.348329</td>\n",
              "      <td>-11.348329</td>\n",
              "    </tr>\n",
              "    <tr>\n",
              "      <th>137</th>\n",
              "      <td>48</td>\n",
              "      <td>45.731387</td>\n",
              "      <td>2.268613</td>\n",
              "    </tr>\n",
              "    <tr>\n",
              "      <th>140</th>\n",
              "      <td>53</td>\n",
              "      <td>40.877567</td>\n",
              "      <td>12.122433</td>\n",
              "    </tr>\n",
              "    <tr>\n",
              "      <th>142</th>\n",
              "      <td>57</td>\n",
              "      <td>61.935997</td>\n",
              "      <td>-4.935997</td>\n",
              "    </tr>\n",
              "  </tbody>\n",
              "</table>\n",
              "<p>120 rows × 3 columns</p>\n",
              "</div>\n",
              "      <button class=\"colab-df-convert\" onclick=\"convertToInteractive('df-a4f1f1b1-5e74-437e-ba4f-e3f4923c14c5')\"\n",
              "              title=\"Convert this dataframe to an interactive table.\"\n",
              "              style=\"display:none;\">\n",
              "        \n",
              "  <svg xmlns=\"http://www.w3.org/2000/svg\" height=\"24px\"viewBox=\"0 0 24 24\"\n",
              "       width=\"24px\">\n",
              "    <path d=\"M0 0h24v24H0V0z\" fill=\"none\"/>\n",
              "    <path d=\"M18.56 5.44l.94 2.06.94-2.06 2.06-.94-2.06-.94-.94-2.06-.94 2.06-2.06.94zm-11 1L8.5 8.5l.94-2.06 2.06-.94-2.06-.94L8.5 2.5l-.94 2.06-2.06.94zm10 10l.94 2.06.94-2.06 2.06-.94-2.06-.94-.94-2.06-.94 2.06-2.06.94z\"/><path d=\"M17.41 7.96l-1.37-1.37c-.4-.4-.92-.59-1.43-.59-.52 0-1.04.2-1.43.59L10.3 9.45l-7.72 7.72c-.78.78-.78 2.05 0 2.83L4 21.41c.39.39.9.59 1.41.59.51 0 1.02-.2 1.41-.59l7.78-7.78 2.81-2.81c.8-.78.8-2.07 0-2.86zM5.41 20L4 18.59l7.72-7.72 1.47 1.35L5.41 20z\"/>\n",
              "  </svg>\n",
              "      </button>\n",
              "      \n",
              "  <style>\n",
              "    .colab-df-container {\n",
              "      display:flex;\n",
              "      flex-wrap:wrap;\n",
              "      gap: 12px;\n",
              "    }\n",
              "\n",
              "    .colab-df-convert {\n",
              "      background-color: #E8F0FE;\n",
              "      border: none;\n",
              "      border-radius: 50%;\n",
              "      cursor: pointer;\n",
              "      display: none;\n",
              "      fill: #1967D2;\n",
              "      height: 32px;\n",
              "      padding: 0 0 0 0;\n",
              "      width: 32px;\n",
              "    }\n",
              "\n",
              "    .colab-df-convert:hover {\n",
              "      background-color: #E2EBFA;\n",
              "      box-shadow: 0px 1px 2px rgba(60, 64, 67, 0.3), 0px 1px 3px 1px rgba(60, 64, 67, 0.15);\n",
              "      fill: #174EA6;\n",
              "    }\n",
              "\n",
              "    [theme=dark] .colab-df-convert {\n",
              "      background-color: #3B4455;\n",
              "      fill: #D2E3FC;\n",
              "    }\n",
              "\n",
              "    [theme=dark] .colab-df-convert:hover {\n",
              "      background-color: #434B5C;\n",
              "      box-shadow: 0px 1px 3px 1px rgba(0, 0, 0, 0.15);\n",
              "      filter: drop-shadow(0px 1px 2px rgba(0, 0, 0, 0.3));\n",
              "      fill: #FFFFFF;\n",
              "    }\n",
              "  </style>\n",
              "\n",
              "      <script>\n",
              "        const buttonEl =\n",
              "          document.querySelector('#df-a4f1f1b1-5e74-437e-ba4f-e3f4923c14c5 button.colab-df-convert');\n",
              "        buttonEl.style.display =\n",
              "          google.colab.kernel.accessAllowed ? 'block' : 'none';\n",
              "\n",
              "        async function convertToInteractive(key) {\n",
              "          const element = document.querySelector('#df-a4f1f1b1-5e74-437e-ba4f-e3f4923c14c5');\n",
              "          const dataTable =\n",
              "            await google.colab.kernel.invokeFunction('convertToInteractive',\n",
              "                                                     [key], {});\n",
              "          if (!dataTable) return;\n",
              "\n",
              "          const docLinkHtml = 'Like what you see? Visit the ' +\n",
              "            '<a target=\"_blank\" href=https://colab.research.google.com/notebooks/data_table.ipynb>data table notebook</a>'\n",
              "            + ' to learn more about interactive tables.';\n",
              "          element.innerHTML = '';\n",
              "          dataTable['output_type'] = 'display_data';\n",
              "          await google.colab.output.renderOutput(dataTable, element);\n",
              "          const docLink = document.createElement('div');\n",
              "          docLink.innerHTML = docLinkHtml;\n",
              "          element.appendChild(docLink);\n",
              "        }\n",
              "      </script>\n",
              "    </div>\n",
              "  </div>\n",
              "  "
            ]
          },
          "metadata": {},
          "execution_count": 99
        }
      ]
    },
    {
      "cell_type": "code",
      "source": [
        "# The mean squared error\n",
        "print(\"Mean squared error: %.2f\" % mean_squared_error(y_train, y_pred_train))\n",
        "# The coefficient of determination: 1 is perfect prediction\n",
        "print(\"Coefficient of determination: %.2f\" % r2_score(y_train, y_pred_train))\n",
        "\n"
      ],
      "metadata": {
        "colab": {
          "base_uri": "https://localhost:8080/"
        },
        "id": "G5RI5cjnWq0z",
        "outputId": "f6fa03f9-67f0-416b-f623-7fcd4e1e8970"
      },
      "execution_count": 100,
      "outputs": [
        {
          "output_type": "stream",
          "name": "stdout",
          "text": [
            "Mean squared error: 322.43\n",
            "Coefficient of determination: 0.30\n"
          ]
        }
      ]
    },
    {
      "cell_type": "code",
      "source": [
        "import seaborn as sns\n",
        "\n",
        "sns.set(rc={'figure.figsize':(12,10)})\n",
        "scatter_poly2 = sns.lmplot(\n",
        "    data = pred_y_df, \n",
        "    x = \"Actual Value\",\n",
        "    y = \"Predicted Value\",\n",
        "    order = 2\n",
        ")\n",
        "\n"
      ],
      "metadata": {
        "colab": {
          "base_uri": "https://localhost:8080/",
          "height": 365
        },
        "id": "hwJSCaBbWuV6",
        "outputId": "b3ff1569-816f-4687-e0c7-b1c9f8ecde9b"
      },
      "execution_count": 101,
      "outputs": [
        {
          "output_type": "display_data",
          "data": {
            "text/plain": [
              "<Figure size 360x360 with 1 Axes>"
            ],
            "image/png": "[encoded data removed]"
          },
          "metadata": {}
        }
      ]
    },
    {
      "cell_type": "code",
      "source": [
        "sns.regplot(x=\"Actual Value\", y=\"Predicted Value\", data=pred_y_df);\n",
        "\n",
        "\n"
      ],
      "metadata": {
        "colab": {
          "base_uri": "https://localhost:8080/",
          "height": 611
        },
        "id": "qXyh7HGwWw_6",
        "outputId": "81af0f30-cba2-421e-a937-dfb7872b71de"
      },
      "execution_count": 102,
      "outputs": [
        {
          "output_type": "display_data",
          "data": {
            "text/plain": [
              "<Figure size 864x720 with 1 Axes>"
            ],
            "image/png": "[encoded data removed]"
          },
          "metadata": {}
        }
      ]
    },
    {
      "cell_type": "markdown",
      "source": [
        "#Testing Ploting and Result"
      ],
      "metadata": {
        "id": "qXdK1hpkYVmJ"
      }
    },
    {
      "cell_type": "code",
      "source": [
        "y_pred_test = lin_reg.predict(X_test)\n",
        "\n",
        "\n",
        "from sklearn.metrics import r2_score,mean_squared_error\n",
        "print(\"Testing r2: \",r2_score(y_test,y_pred_test))\n",
        "\n",
        "r_sq = lin_reg.score(X_new, y_new)\n",
        "print(\"R_sq: \",r_sq)"
      ],
      "metadata": {
        "colab": {
          "base_uri": "https://localhost:8080/"
        },
        "id": "mRj0_o_wuTG4",
        "outputId": "fe435bef-83fc-40a6-d593-5619eeb67e4b"
      },
      "execution_count": 103,
      "outputs": [
        {
          "output_type": "stream",
          "name": "stdout",
          "text": [
            "Testing r2:  -2.723820456662202\n",
            "R_sq:  -0.19783267222689838\n"
          ]
        }
      ]
    },
    {
      "cell_type": "code",
      "source": [
        "r_sq_test = lin_reg.score(X_test, y_pred_test)\n",
        "print(r_sq_test)"
      ],
      "metadata": {
        "colab": {
          "base_uri": "https://localhost:8080/"
        },
        "id": "ItP1GkjXL2qM",
        "outputId": "74e13612-eb1b-431f-e683-aeb96c73d49c"
      },
      "execution_count": 104,
      "outputs": [
        {
          "output_type": "stream",
          "name": "stdout",
          "text": [
            "1.0\n"
          ]
        }
      ]
    },
    {
      "cell_type": "code",
      "source": [
        "import matplotlib.pyplot as plt\n",
        "plt.figure(figsize=(15,10))\n",
        "plt.scatter(y_test, y_pred_test, color = \"red\")\n",
        "plt.xlabel(\"Actual\")\n",
        "plt.ylabel(\"Predicted\")\n",
        "plt.show()"
      ],
      "metadata": {
        "colab": {
          "base_uri": "https://localhost:8080/",
          "height": 611
        },
        "id": "bqDGyYc8vjk1",
        "outputId": "253ebcc0-071a-427e-b79a-f56c205ebe03"
      },
      "execution_count": 105,
      "outputs": [
        {
          "output_type": "display_data",
          "data": {
            "text/plain": [
              "<Figure size 1080x720 with 1 Axes>"
            ],
            "image/png": "[encoded data removed]"
          },
          "metadata": {}
        }
      ]
    },
    {
      "cell_type": "code",
      "source": [
        "pred_y_df=pd.DataFrame(\n",
        "    {\n",
        "        \"Actual Value\":y_test,\n",
        "        \"Predicted Value\":y_pred_test,\n",
        "        \"Difference\":y_test-y_pred_test\n",
        "    }\n",
        ")\n",
        "\n",
        "pred_y_df\n"
      ],
      "metadata": {
        "colab": {
          "base_uri": "https://localhost:8080/",
          "height": 1000
        },
        "id": "we5fm-kfxYww",
        "outputId": "e615c9e1-ad03-47a9-c011-4eff8fd08a53"
      },
      "execution_count": 106,
      "outputs": [
        {
          "output_type": "execute_result",
          "data": {
            "text/plain": [
              "     Actual Value  Predicted Value  Difference\n",
              "144            62        54.577433    7.422567\n",
              "145            66        54.611353   11.388647\n",
              "146            70        49.352974   20.647026\n",
              "147            72        50.438007   21.561993\n",
              "148            83        65.047453   17.952547\n",
              "149            95        54.188469   40.811531\n",
              "0               1        73.490050  -72.490050\n",
              "1              11        55.124004  -44.124004\n",
              "2              13       -89.952585  102.952585\n",
              "3              15        20.523501   -5.523501\n",
              "4              15       -54.888770   69.888770\n",
              "5              16         2.226008   13.773992\n",
              "6              19       -21.465665   40.465665\n",
              "7              19       -41.979331   60.979331\n",
              "8              19         8.420868   10.579132\n",
              "9              20        44.039138  -24.039138\n",
              "10             22         0.080770   21.919230\n",
              "11             22        87.393737  -65.393737\n",
              "12             23        38.054056  -15.054056\n",
              "13             23       112.136707  -89.136707\n",
              "14             24       -27.542710   51.542710\n",
              "15             24        39.124943  -15.124943\n",
              "16             24       -43.241821   67.241821\n",
              "17             24        74.789314  -50.789314\n",
              "18             25        18.185812    6.814188\n",
              "19             26        52.155652  -26.155652\n",
              "20             27        74.097438  -47.097438\n",
              "21             26        27.314392   -1.314392\n",
              "22             26        22.907700    3.092300\n",
              "23             28        51.334793  -23.334793\n",
              "24             28        15.917878   12.082122"
            ],
            "text/html": [
              "\n",
              "  <div id=\"df-2e6847a2-38a1-4871-9956-411a191b917b\">\n",
              "    <div class=\"colab-df-container\">\n",
              "      <div>\n",
              "<style scoped>\n",
              "    .dataframe tbody tr th:only-of-type {\n",
              "        vertical-align: middle;\n",
              "    }\n",
              "\n",
              "    .dataframe tbody tr th {\n",
              "        vertical-align: top;\n",
              "    }\n",
              "\n",
              "    .dataframe thead th {\n",
              "        text-align: right;\n",
              "    }\n",
              "</style>\n",
              "<table border=\"1\" class=\"dataframe\">\n",
              "  <thead>\n",
              "    <tr style=\"text-align: right;\">\n",
              "      <th></th>\n",
              "      <th>Actual Value</th>\n",
              "      <th>Predicted Value</th>\n",
              "      <th>Difference</th>\n",
              "    </tr>\n",
              "  </thead>\n",
              "  <tbody>\n",
              "    <tr>\n",
              "      <th>144</th>\n",
              "      <td>62</td>\n",
              "      <td>54.577433</td>\n",
              "      <td>7.422567</td>\n",
              "    </tr>\n",
              "    <tr>\n",
              "      <th>145</th>\n",
              "      <td>66</td>\n",
              "      <td>54.611353</td>\n",
              "      <td>11.388647</td>\n",
              "    </tr>\n",
              "    <tr>\n",
              "      <th>146</th>\n",
              "      <td>70</td>\n",
              "      <td>49.352974</td>\n",
              "      <td>20.647026</td>\n",
              "    </tr>\n",
              "    <tr>\n",
              "      <th>147</th>\n",
              "      <td>72</td>\n",
              "      <td>50.438007</td>\n",
              "      <td>21.561993</td>\n",
              "    </tr>\n",
              "    <tr>\n",
              "      <th>148</th>\n",
              "      <td>83</td>\n",
              "      <td>65.047453</td>\n",
              "      <td>17.952547</td>\n",
              "    </tr>\n",
              "    <tr>\n",
              "      <th>149</th>\n",
              "      <td>95</td>\n",
              "      <td>54.188469</td>\n",
              "      <td>40.811531</td>\n",
              "    </tr>\n",
              "    <tr>\n",
              "      <th>0</th>\n",
              "      <td>1</td>\n",
              "      <td>73.490050</td>\n",
              "      <td>-72.490050</td>\n",
              "    </tr>\n",
              "    <tr>\n",
              "      <th>1</th>\n",
              "      <td>11</td>\n",
              "      <td>55.124004</td>\n",
              "      <td>-44.124004</td>\n",
              "    </tr>\n",
              "    <tr>\n",
              "      <th>2</th>\n",
              "      <td>13</td>\n",
              "      <td>-89.952585</td>\n",
              "      <td>102.952585</td>\n",
              "    </tr>\n",
              "    <tr>\n",
              "      <th>3</th>\n",
              "      <td>15</td>\n",
              "      <td>20.523501</td>\n",
              "      <td>-5.523501</td>\n",
              "    </tr>\n",
              "    <tr>\n",
              "      <th>4</th>\n",
              "      <td>15</td>\n",
              "      <td>-54.888770</td>\n",
              "      <td>69.888770</td>\n",
              "    </tr>\n",
              "    <tr>\n",
              "      <th>5</th>\n",
              "      <td>16</td>\n",
              "      <td>2.226008</td>\n",
              "      <td>13.773992</td>\n",
              "    </tr>\n",
              "    <tr>\n",
              "      <th>6</th>\n",
              "      <td>19</td>\n",
              "      <td>-21.465665</td>\n",
              "      <td>40.465665</td>\n",
              "    </tr>\n",
              "    <tr>\n",
              "      <th>7</th>\n",
              "      <td>19</td>\n",
              "      <td>-41.979331</td>\n",
              "      <td>60.979331</td>\n",
              "    </tr>\n",
              "    <tr>\n",
              "      <th>8</th>\n",
              "      <td>19</td>\n",
              "      <td>8.420868</td>\n",
              "      <td>10.579132</td>\n",
              "    </tr>\n",
              "    <tr>\n",
              "      <th>9</th>\n",
              "      <td>20</td>\n",
              "      <td>44.039138</td>\n",
              "      <td>-24.039138</td>\n",
              "    </tr>\n",
              "    <tr>\n",
              "      <th>10</th>\n",
              "      <td>22</td>\n",
              "      <td>0.080770</td>\n",
              "      <td>21.919230</td>\n",
              "    </tr>\n",
              "    <tr>\n",
              "      <th>11</th>\n",
              "      <td>22</td>\n",
              "      <td>87.393737</td>\n",
              "      <td>-65.393737</td>\n",
              "    </tr>\n",
              "    <tr>\n",
              "      <th>12</th>\n",
              "      <td>23</td>\n",
              "      <td>38.054056</td>\n",
              "      <td>-15.054056</td>\n",
              "    </tr>\n",
              "    <tr>\n",
              "      <th>13</th>\n",
              "      <td>23</td>\n",
              "      <td>112.136707</td>\n",
              "      <td>-89.136707</td>\n",
              "    </tr>\n",
              "    <tr>\n",
              "      <th>14</th>\n",
              "      <td>24</td>\n",
              "      <td>-27.542710</td>\n",
              "      <td>51.542710</td>\n",
              "    </tr>\n",
              "    <tr>\n",
              "      <th>15</th>\n",
              "      <td>24</td>\n",
              "      <td>39.124943</td>\n",
              "      <td>-15.124943</td>\n",
              "    </tr>\n",
              "    <tr>\n",
              "      <th>16</th>\n",
              "      <td>24</td>\n",
              "      <td>-43.241821</td>\n",
              "      <td>67.241821</td>\n",
              "    </tr>\n",
              "    <tr>\n",
              "      <th>17</th>\n",
              "      <td>24</td>\n",
              "      <td>74.789314</td>\n",
              "      <td>-50.789314</td>\n",
              "    </tr>\n",
              "    <tr>\n",
              "      <th>18</th>\n",
              "      <td>25</td>\n",
              "      <td>18.185812</td>\n",
              "      <td>6.814188</td>\n",
              "    </tr>\n",
              "    <tr>\n",
              "      <th>19</th>\n",
              "      <td>26</td>\n",
              "      <td>52.155652</td>\n",
              "      <td>-26.155652</td>\n",
              "    </tr>\n",
              "    <tr>\n",
              "      <th>20</th>\n",
              "      <td>27</td>\n",
              "      <td>74.097438</td>\n",
              "      <td>-47.097438</td>\n",
              "    </tr>\n",
              "    <tr>\n",
              "      <th>21</th>\n",
              "      <td>26</td>\n",
              "      <td>27.314392</td>\n",
              "      <td>-1.314392</td>\n",
              "    </tr>\n",
              "    <tr>\n",
              "      <th>22</th>\n",
              "      <td>26</td>\n",
              "      <td>22.907700</td>\n",
              "      <td>3.092300</td>\n",
              "    </tr>\n",
              "    <tr>\n",
              "      <th>23</th>\n",
              "      <td>28</td>\n",
              "      <td>51.334793</td>\n",
              "      <td>-23.334793</td>\n",
              "    </tr>\n",
              "    <tr>\n",
              "      <th>24</th>\n",
              "      <td>28</td>\n",
              "      <td>15.917878</td>\n",
              "      <td>12.082122</td>\n",
              "    </tr>\n",
              "  </tbody>\n",
              "</table>\n",
              "</div>\n",
              "      <button class=\"colab-df-convert\" onclick=\"convertToInteractive('df-2e6847a2-38a1-4871-9956-411a191b917b')\"\n",
              "              title=\"Convert this dataframe to an interactive table.\"\n",
              "              style=\"display:none;\">\n",
              "        \n",
              "  <svg xmlns=\"http://www.w3.org/2000/svg\" height=\"24px\"viewBox=\"0 0 24 24\"\n",
              "       width=\"24px\">\n",
              "    <path d=\"M0 0h24v24H0V0z\" fill=\"none\"/>\n",
              "    <path d=\"M18.56 5.44l.94 2.06.94-2.06 2.06-.94-2.06-.94-.94-2.06-.94 2.06-2.06.94zm-11 1L8.5 8.5l.94-2.06 2.06-.94-2.06-.94L8.5 2.5l-.94 2.06-2.06.94zm10 10l.94 2.06.94-2.06 2.06-.94-2.06-.94-.94-2.06-.94 2.06-2.06.94z\"/><path d=\"M17.41 7.96l-1.37-1.37c-.4-.4-.92-.59-1.43-.59-.52 0-1.04.2-1.43.59L10.3 9.45l-7.72 7.72c-.78.78-.78 2.05 0 2.83L4 21.41c.39.39.9.59 1.41.59.51 0 1.02-.2 1.41-.59l7.78-7.78 2.81-2.81c.8-.78.8-2.07 0-2.86zM5.41 20L4 18.59l7.72-7.72 1.47 1.35L5.41 20z\"/>\n",
              "  </svg>\n",
              "      </button>\n",
              "      \n",
              "  <style>\n",
              "    .colab-df-container {\n",
              "      display:flex;\n",
              "      flex-wrap:wrap;\n",
              "      gap: 12px;\n",
              "    }\n",
              "\n",
              "    .colab-df-convert {\n",
              "      background-color: #E8F0FE;\n",
              "      border: none;\n",
              "      border-radius: 50%;\n",
              "      cursor: pointer;\n",
              "      display: none;\n",
              "      fill: #1967D2;\n",
              "      height: 32px;\n",
              "      padding: 0 0 0 0;\n",
              "      width: 32px;\n",
              "    }\n",
              "\n",
              "    .colab-df-convert:hover {\n",
              "      background-color: #E2EBFA;\n",
              "      box-shadow: 0px 1px 2px rgba(60, 64, 67, 0.3), 0px 1px 3px 1px rgba(60, 64, 67, 0.15);\n",
              "      fill: #174EA6;\n",
              "    }\n",
              "\n",
              "    [theme=dark] .colab-df-convert {\n",
              "      background-color: #3B4455;\n",
              "      fill: #D2E3FC;\n",
              "    }\n",
              "\n",
              "    [theme=dark] .colab-df-convert:hover {\n",
              "      background-color: #434B5C;\n",
              "      box-shadow: 0px 1px 3px 1px rgba(0, 0, 0, 0.15);\n",
              "      filter: drop-shadow(0px 1px 2px rgba(0, 0, 0, 0.3));\n",
              "      fill: #FFFFFF;\n",
              "    }\n",
              "  </style>\n",
              "\n",
              "      <script>\n",
              "        const buttonEl =\n",
              "          document.querySelector('#df-2e6847a2-38a1-4871-9956-411a191b917b button.colab-df-convert');\n",
              "        buttonEl.style.display =\n",
              "          google.colab.kernel.accessAllowed ? 'block' : 'none';\n",
              "\n",
              "        async function convertToInteractive(key) {\n",
              "          const element = document.querySelector('#df-2e6847a2-38a1-4871-9956-411a191b917b');\n",
              "          const dataTable =\n",
              "            await google.colab.kernel.invokeFunction('convertToInteractive',\n",
              "                                                     [key], {});\n",
              "          if (!dataTable) return;\n",
              "\n",
              "          const docLinkHtml = 'Like what you see? Visit the ' +\n",
              "            '<a target=\"_blank\" href=https://colab.research.google.com/notebooks/data_table.ipynb>data table notebook</a>'\n",
              "            + ' to learn more about interactive tables.';\n",
              "          element.innerHTML = '';\n",
              "          dataTable['output_type'] = 'display_data';\n",
              "          await google.colab.output.renderOutput(dataTable, element);\n",
              "          const docLink = document.createElement('div');\n",
              "          docLink.innerHTML = docLinkHtml;\n",
              "          element.appendChild(docLink);\n",
              "        }\n",
              "      </script>\n",
              "    </div>\n",
              "  </div>\n",
              "  "
            ]
          },
          "metadata": {},
          "execution_count": 106
        }
      ]
    },
    {
      "cell_type": "code",
      "source": [
        "\n",
        "# The mean squared error\n",
        "print(\"Mean squared error: %.2f\" % mean_squared_error(y_test, y_pred_test))\n",
        "# The coefficient of determination: 1 is perfect prediction\n",
        "print(\"Coefficient of determination: %.2f\" % r2_score(y_test, y_pred_test))\n"
      ],
      "metadata": {
        "colab": {
          "base_uri": "https://localhost:8080/"
        },
        "id": "6tYsIrvqxrvH",
        "outputId": "b6afc1cb-5646-4cf4-d015-7433f68fadf5"
      },
      "execution_count": 107,
      "outputs": [
        {
          "output_type": "stream",
          "name": "stdout",
          "text": [
            "Mean squared error: 1889.71\n",
            "Coefficient of determination: -2.72\n"
          ]
        }
      ]
    },
    {
      "cell_type": "code",
      "source": [],
      "metadata": {
        "id": "UJwChuVqxrPJ"
      },
      "execution_count": 107,
      "outputs": []
    },
    {
      "cell_type": "code",
      "source": [
        "import seaborn as sns\n",
        "\n",
        "sns.set(rc={'figure.figsize':(12,10)})\n",
        "scatter_poly2 = sns.lmplot(\n",
        "    data = pred_y_df, \n",
        "    x = \"Actual Value\",\n",
        "    y = \"Predicted Value\",\n",
        "    order = 2\n",
        ")"
      ],
      "metadata": {
        "colab": {
          "base_uri": "https://localhost:8080/",
          "height": 365
        },
        "id": "BTZtbOs9xrLb",
        "outputId": "21efe8cb-4a32-4653-bb55-f1a28af76959"
      },
      "execution_count": 108,
      "outputs": [
        {
          "output_type": "display_data",
          "data": {
            "text/plain": [
              "<Figure size 360x360 with 1 Axes>"
            ],
            "image/png": "[encoded data removed]"
          },
          "metadata": {}
        }
      ]
    },
    {
      "cell_type": "code",
      "source": [
        "sns.regplot(x=\"Actual Value\", y=\"Predicted Value\", data=pred_y_df);"
      ],
      "metadata": {
        "colab": {
          "base_uri": "https://localhost:8080/",
          "height": 611
        },
        "id": "RmChHz5JxrHD",
        "outputId": "e46abbcf-a691-4bc8-94c8-f15ab5d577c5"
      },
      "execution_count": 109,
      "outputs": [
        {
          "output_type": "display_data",
          "data": {
            "text/plain": [
              "<Figure size 864x720 with 1 Axes>"
            ],
            "image/png": "[encoded data removed]"
          },
          "metadata": {}
        }
      ]
    },
    {
      "cell_type": "markdown",
      "source": [],
      "metadata": {
        "id": "JCbQpuqzaZw2"
      }
    },
    {
      "cell_type": "markdown",
      "source": [
        "#Over All dataset Ploting and Results"
      ],
      "metadata": {
        "id": "A-U9P6eSa3yC"
      }
    },
    {
      "cell_type": "code",
      "source": [
        "y_pred_new = lin_reg.predict(X_new)\n",
        "\n",
        "\n",
        "from sklearn.metrics import r2_score,mean_squared_error\n",
        "print(\"Testing r2: \",r2_score(y_new,y_pred_new))\n",
        "\n",
        "r_sq = lin_reg.score(X_new, y_new)\n",
        "print(\"R_sq: \",r_sq)"
      ],
      "metadata": {
        "colab": {
          "base_uri": "https://localhost:8080/"
        },
        "id": "wnT5dZ4CbEVf",
        "outputId": "fad42632-7fe3-4b91-d97a-15740e6f2dd6"
      },
      "execution_count": 110,
      "outputs": [
        {
          "output_type": "stream",
          "name": "stdout",
          "text": [
            "Testing r2:  -0.19783267222689838\n",
            "R_sq:  -0.19783267222689838\n"
          ]
        }
      ]
    },
    {
      "cell_type": "code",
      "source": [
        "r_sq_test = lin_reg.score(X_new, y_pred_new)\n",
        "print(r_sq_test)"
      ],
      "metadata": {
        "colab": {
          "base_uri": "https://localhost:8080/"
        },
        "id": "36ruj76fbPRQ",
        "outputId": "3c587605-05ee-4ad5-90d3-971334f1348b"
      },
      "execution_count": 111,
      "outputs": [
        {
          "output_type": "stream",
          "name": "stdout",
          "text": [
            "1.0\n"
          ]
        }
      ]
    },
    {
      "cell_type": "code",
      "source": [
        "import matplotlib.pyplot as plt\n",
        "plt.figure(figsize=(15,10))\n",
        "plt.scatter(y_test, y_pred_test, color = \"red\")\n",
        "plt.xlabel(\"Actual\")\n",
        "plt.ylabel(\"Predicted\")\n",
        "plt.show()"
      ],
      "metadata": {
        "colab": {
          "base_uri": "https://localhost:8080/",
          "height": 0
        },
        "id": "0iXWJp6zbRWk",
        "outputId": "16507418-67fe-4c75-e575-f763751af0ab"
      },
      "execution_count": 112,
      "outputs": [
        {
          "output_type": "display_data",
          "data": {
            "text/plain": [
              "<Figure size 1080x720 with 1 Axes>"
            ],
            "image/png": "[encoded data removed]"
          },
          "metadata": {}
        }
      ]
    },
    {
      "cell_type": "code",
      "source": [
        "pred_y_df=pd.DataFrame(\n",
        "    {\n",
        "        \"Actual Value\":y_new,\n",
        "        \"Predicted Value\":y_pred_new,\n",
        "        \"Difference\":y_new-y_pred_new\n",
        "    }\n",
        ")\n",
        "\n",
        "pred_y_df\n"
      ],
      "metadata": {
        "colab": {
          "base_uri": "https://localhost:8080/",
          "height": 0
        },
        "id": "vPSfv7bybUTs",
        "outputId": "190b32c7-1816-438d-de11-e7fead189a70"
      },
      "execution_count": 113,
      "outputs": [
        {
          "output_type": "execute_result",
          "data": {
            "text/plain": [
              "    Actual Value  Predicted Value  Difference\n",
              "0             66        53.778611   12.221389\n",
              "1             65        55.510719    9.489281\n",
              "2             65        46.417217   18.582783\n",
              "3             66        46.811008   19.188992\n",
              "4             67        61.658227    5.341773\n",
              "..           ...              ...         ...\n",
              "20            27        74.097438  -47.097438\n",
              "21            26        27.314392   -1.314392\n",
              "22            26        22.907700    3.092300\n",
              "23            28        51.334793  -23.334793\n",
              "24            28        15.917878   12.082122\n",
              "\n",
              "[151 rows x 3 columns]"
            ],
            "text/html": [
              "\n",
              "  <div id=\"df-d84103fe-ab64-4694-86ec-a85ebe40597e\">\n",
              "    <div class=\"colab-df-container\">\n",
              "      <div>\n",
              "<style scoped>\n",
              "    .dataframe tbody tr th:only-of-type {\n",
              "        vertical-align: middle;\n",
              "    }\n",
              "\n",
              "    .dataframe tbody tr th {\n",
              "        vertical-align: top;\n",
              "    }\n",
              "\n",
              "    .dataframe thead th {\n",
              "        text-align: right;\n",
              "    }\n",
              "</style>\n",
              "<table border=\"1\" class=\"dataframe\">\n",
              "  <thead>\n",
              "    <tr style=\"text-align: right;\">\n",
              "      <th></th>\n",
              "      <th>Actual Value</th>\n",
              "      <th>Predicted Value</th>\n",
              "      <th>Difference</th>\n",
              "    </tr>\n",
              "  </thead>\n",
              "  <tbody>\n",
              "    <tr>\n",
              "      <th>0</th>\n",
              "      <td>66</td>\n",
              "      <td>53.778611</td>\n",
              "      <td>12.221389</td>\n",
              "    </tr>\n",
              "    <tr>\n",
              "      <th>1</th>\n",
              "      <td>65</td>\n",
              "      <td>55.510719</td>\n",
              "      <td>9.489281</td>\n",
              "    </tr>\n",
              "    <tr>\n",
              "      <th>2</th>\n",
              "      <td>65</td>\n",
              "      <td>46.417217</td>\n",
              "      <td>18.582783</td>\n",
              "    </tr>\n",
              "    <tr>\n",
              "      <th>3</th>\n",
              "      <td>66</td>\n",
              "      <td>46.811008</td>\n",
              "      <td>19.188992</td>\n",
              "    </tr>\n",
              "    <tr>\n",
              "      <th>4</th>\n",
              "      <td>67</td>\n",
              "      <td>61.658227</td>\n",
              "      <td>5.341773</td>\n",
              "    </tr>\n",
              "    <tr>\n",
              "      <th>...</th>\n",
              "      <td>...</td>\n",
              "      <td>...</td>\n",
              "      <td>...</td>\n",
              "    </tr>\n",
              "    <tr>\n",
              "      <th>20</th>\n",
              "      <td>27</td>\n",
              "      <td>74.097438</td>\n",
              "      <td>-47.097438</td>\n",
              "    </tr>\n",
              "    <tr>\n",
              "      <th>21</th>\n",
              "      <td>26</td>\n",
              "      <td>27.314392</td>\n",
              "      <td>-1.314392</td>\n",
              "    </tr>\n",
              "    <tr>\n",
              "      <th>22</th>\n",
              "      <td>26</td>\n",
              "      <td>22.907700</td>\n",
              "      <td>3.092300</td>\n",
              "    </tr>\n",
              "    <tr>\n",
              "      <th>23</th>\n",
              "      <td>28</td>\n",
              "      <td>51.334793</td>\n",
              "      <td>-23.334793</td>\n",
              "    </tr>\n",
              "    <tr>\n",
              "      <th>24</th>\n",
              "      <td>28</td>\n",
              "      <td>15.917878</td>\n",
              "      <td>12.082122</td>\n",
              "    </tr>\n",
              "  </tbody>\n",
              "</table>\n",
              "<p>151 rows × 3 columns</p>\n",
              "</div>\n",
              "      <button class=\"colab-df-convert\" onclick=\"convertToInteractive('df-d84103fe-ab64-4694-86ec-a85ebe40597e')\"\n",
              "              title=\"Convert this dataframe to an interactive table.\"\n",
              "              style=\"display:none;\">\n",
              "        \n",
              "  <svg xmlns=\"http://www.w3.org/2000/svg\" height=\"24px\"viewBox=\"0 0 24 24\"\n",
              "       width=\"24px\">\n",
              "    <path d=\"M0 0h24v24H0V0z\" fill=\"none\"/>\n",
              "    <path d=\"M18.56 5.44l.94 2.06.94-2.06 2.06-.94-2.06-.94-.94-2.06-.94 2.06-2.06.94zm-11 1L8.5 8.5l.94-2.06 2.06-.94-2.06-.94L8.5 2.5l-.94 2.06-2.06.94zm10 10l.94 2.06.94-2.06 2.06-.94-2.06-.94-.94-2.06-.94 2.06-2.06.94z\"/><path d=\"M17.41 7.96l-1.37-1.37c-.4-.4-.92-.59-1.43-.59-.52 0-1.04.2-1.43.59L10.3 9.45l-7.72 7.72c-.78.78-.78 2.05 0 2.83L4 21.41c.39.39.9.59 1.41.59.51 0 1.02-.2 1.41-.59l7.78-7.78 2.81-2.81c.8-.78.8-2.07 0-2.86zM5.41 20L4 18.59l7.72-7.72 1.47 1.35L5.41 20z\"/>\n",
              "  </svg>\n",
              "      </button>\n",
              "      \n",
              "  <style>\n",
              "    .colab-df-container {\n",
              "      display:flex;\n",
              "      flex-wrap:wrap;\n",
              "      gap: 12px;\n",
              "    }\n",
              "\n",
              "    .colab-df-convert {\n",
              "      background-color: #E8F0FE;\n",
              "      border: none;\n",
              "      border-radius: 50%;\n",
              "      cursor: pointer;\n",
              "      display: none;\n",
              "      fill: #1967D2;\n",
              "      height: 32px;\n",
              "      padding: 0 0 0 0;\n",
              "      width: 32px;\n",
              "    }\n",
              "\n",
              "    .colab-df-convert:hover {\n",
              "      background-color: #E2EBFA;\n",
              "      box-shadow: 0px 1px 2px rgba(60, 64, 67, 0.3), 0px 1px 3px 1px rgba(60, 64, 67, 0.15);\n",
              "      fill: #174EA6;\n",
              "    }\n",
              "\n",
              "    [theme=dark] .colab-df-convert {\n",
              "      background-color: #3B4455;\n",
              "      fill: #D2E3FC;\n",
              "    }\n",
              "\n",
              "    [theme=dark] .colab-df-convert:hover {\n",
              "      background-color: #434B5C;\n",
              "      box-shadow: 0px 1px 3px 1px rgba(0, 0, 0, 0.15);\n",
              "      filter: drop-shadow(0px 1px 2px rgba(0, 0, 0, 0.3));\n",
              "      fill: #FFFFFF;\n",
              "    }\n",
              "  </style>\n",
              "\n",
              "      <script>\n",
              "        const buttonEl =\n",
              "          document.querySelector('#df-d84103fe-ab64-4694-86ec-a85ebe40597e button.colab-df-convert');\n",
              "        buttonEl.style.display =\n",
              "          google.colab.kernel.accessAllowed ? 'block' : 'none';\n",
              "\n",
              "        async function convertToInteractive(key) {\n",
              "          const element = document.querySelector('#df-d84103fe-ab64-4694-86ec-a85ebe40597e');\n",
              "          const dataTable =\n",
              "            await google.colab.kernel.invokeFunction('convertToInteractive',\n",
              "                                                     [key], {});\n",
              "          if (!dataTable) return;\n",
              "\n",
              "          const docLinkHtml = 'Like what you see? Visit the ' +\n",
              "            '<a target=\"_blank\" href=https://colab.research.google.com/notebooks/data_table.ipynb>data table notebook</a>'\n",
              "            + ' to learn more about interactive tables.';\n",
              "          element.innerHTML = '';\n",
              "          dataTable['output_type'] = 'display_data';\n",
              "          await google.colab.output.renderOutput(dataTable, element);\n",
              "          const docLink = document.createElement('div');\n",
              "          docLink.innerHTML = docLinkHtml;\n",
              "          element.appendChild(docLink);\n",
              "        }\n",
              "      </script>\n",
              "    </div>\n",
              "  </div>\n",
              "  "
            ]
          },
          "metadata": {},
          "execution_count": 113
        }
      ]
    },
    {
      "cell_type": "code",
      "source": [
        "\n",
        "# The mean squared error\n",
        "print(\"Mean squared error: %.2f\" % mean_squared_error(y_new, y_pred_new))\n",
        "# The coefficient of determination: 1 is perfect prediction\n",
        "print(\"Coefficient of determination: %.2f\" % r2_score(y_new, y_pred_new))\n"
      ],
      "metadata": {
        "colab": {
          "base_uri": "https://localhost:8080/"
        },
        "id": "3TRjerOebZ6S",
        "outputId": "ee3e0b50-30b1-42cc-f25a-98e208d56e98"
      },
      "execution_count": 114,
      "outputs": [
        {
          "output_type": "stream",
          "name": "stdout",
          "text": [
            "Mean squared error: 644.19\n",
            "Coefficient of determination: -0.20\n"
          ]
        }
      ]
    },
    {
      "cell_type": "code",
      "source": [
        "import seaborn as sns\n",
        "\n",
        "sns.set(rc={'figure.figsize':(12,10)})\n",
        "scatter_poly2 = sns.lmplot(\n",
        "    data = pred_y_df, \n",
        "    x = \"Actual Value\",\n",
        "    y = \"Predicted Value\",\n",
        "    order = 2\n",
        ")"
      ],
      "metadata": {
        "colab": {
          "base_uri": "https://localhost:8080/",
          "height": 0
        },
        "id": "8jyo4T5tbcX7",
        "outputId": "2255fe5a-cb55-4a9b-efe0-765786295789"
      },
      "execution_count": 115,
      "outputs": [
        {
          "output_type": "display_data",
          "data": {
            "text/plain": [
              "<Figure size 360x360 with 1 Axes>"
            ],
            "image/png": "[encoded data removed]"
          },
          "metadata": {}
        }
      ]
    },
    {
      "cell_type": "code",
      "source": [
        "sns.regplot(x=\"Actual Value\", y=\"Predicted Value\", data=pred_y_df);"
      ],
      "metadata": {
        "colab": {
          "base_uri": "https://localhost:8080/",
          "height": 0
        },
        "id": "q2_P8WDGbe9D",
        "outputId": "46a77b10-ee41-4619-b144-fc3c8d7d2303"
      },
      "execution_count": 116,
      "outputs": [
        {
          "output_type": "display_data",
          "data": {
            "text/plain": [
              "<Figure size 864x720 with 1 Axes>"
            ],
            "image/png": "[encoded data removed]"
          },
          "metadata": {}
        }
      ]
    },
    {
      "cell_type": "markdown",
      "source": [
        "#Support Vector Regression (SVR) using linear and non-linear kernels"
      ],
      "metadata": {
        "id": "snS9BT-_cNzs"
      }
    },
    {
      "cell_type": "markdown",
      "source": [
        "**SHAP**"
      ],
      "metadata": {
        "id": "hAhL_iirn8Wz"
      }
    },
    {
      "cell_type": "code",
      "source": [
        "!pip install shap\n",
        "import shap"
      ],
      "metadata": {
        "colab": {
          "base_uri": "https://localhost:8080/"
        },
        "id": "wDHjcAitnzZC",
        "outputId": "d5b26f8b-701e-4e23-e5ce-93da9cbb9cd1"
      },
      "execution_count": 117,
      "outputs": [
        {
          "output_type": "stream",
          "name": "stdout",
          "text": [
            "Looking in indexes: https://pypi.org/simple, https://us-python.pkg.dev/colab-wheels/public/simple/\n",
            "Requirement already satisfied: shap in /usr/local/lib/python3.7/dist-packages (0.41.0)\n",
            "Requirement already satisfied: slicer==0.0.7 in /usr/local/lib/python3.7/dist-packages (from shap) (0.0.7)\n",
            "Requirement already satisfied: scikit-learn in /usr/local/lib/python3.7/dist-packages (from shap) (1.0.2)\n",
            "Requirement already satisfied: numpy in /usr/local/lib/python3.7/dist-packages (from shap) (1.21.6)\n",
            "Requirement already satisfied: cloudpickle in /usr/local/lib/python3.7/dist-packages (from shap) (1.5.0)\n",
            "Requirement already satisfied: pandas in /usr/local/lib/python3.7/dist-packages (from shap) (1.3.5)\n",
            "Requirement already satisfied: packaging>20.9 in /usr/local/lib/python3.7/dist-packages (from shap) (21.3)\n",
            "Requirement already satisfied: tqdm>4.25.0 in /usr/local/lib/python3.7/dist-packages (from shap) (4.64.0)\n",
            "Requirement already satisfied: scipy in /usr/local/lib/python3.7/dist-packages (from shap) (1.7.3)\n",
            "Requirement already satisfied: numba in /usr/local/lib/python3.7/dist-packages (from shap) (0.56.0)\n",
            "Requirement already satisfied: pyparsing!=3.0.5,>=2.0.2 in /usr/local/lib/python3.7/dist-packages (from packaging>20.9->shap) (3.0.9)\n",
            "Requirement already satisfied: llvmlite<0.40,>=0.39.0dev0 in /usr/local/lib/python3.7/dist-packages (from numba->shap) (0.39.0)\n",
            "Requirement already satisfied: setuptools in /usr/local/lib/python3.7/dist-packages (from numba->shap) (57.4.0)\n",
            "Requirement already satisfied: importlib-metadata in /usr/local/lib/python3.7/dist-packages (from numba->shap) (4.12.0)\n",
            "Requirement already satisfied: zipp>=0.5 in /usr/local/lib/python3.7/dist-packages (from importlib-metadata->numba->shap) (3.8.1)\n",
            "Requirement already satisfied: typing-extensions>=3.6.4 in /usr/local/lib/python3.7/dist-packages (from importlib-metadata->numba->shap) (4.1.1)\n",
            "Requirement already satisfied: pytz>=2017.3 in /usr/local/lib/python3.7/dist-packages (from pandas->shap) (2022.2.1)\n",
            "Requirement already satisfied: python-dateutil>=2.7.3 in /usr/local/lib/python3.7/dist-packages (from pandas->shap) (2.8.2)\n",
            "Requirement already satisfied: six>=1.5 in /usr/local/lib/python3.7/dist-packages (from python-dateutil>=2.7.3->pandas->shap) (1.15.0)\n",
            "Requirement already satisfied: joblib>=0.11 in /usr/local/lib/python3.7/dist-packages (from scikit-learn->shap) (1.1.0)\n",
            "Requirement already satisfied: threadpoolctl>=2.0.0 in /usr/local/lib/python3.7/dist-packages (from scikit-learn->shap) (3.1.0)\n"
          ]
        }
      ]
    },
    {
      "cell_type": "code",
      "source": [
        "import pandas as pd\n",
        "import shap\n",
        "import sklearn\n",
        "model = sklearn.linear_model.LinearRegression()\n",
        "model.fit(X_train, y_train)\n",
        "\n",
        "# compute the SHAP values for the linear model\n",
        "explainer = shap.Explainer(model.predict, X_train)\n",
        "shap_values = explainer (X_train)\n",
        "shap.plots.bar(shap_values,max_display=20)"
      ],
      "metadata": {
        "colab": {
          "base_uri": "https://localhost:8080/",
          "height": 693
        },
        "id": "w3iBOah0oCqG",
        "outputId": "e0be3ee2-918c-490b-e6e9-d585bfe4dceb"
      },
      "execution_count": 118,
      "outputs": [
        {
          "output_type": "display_data",
          "data": {
            "text/plain": [
              "<Figure size 576x828 with 1 Axes>"
            ],
            "image/png": "[encoded data removed]"
          },
          "metadata": {}
        }
      ]
    },
    {
      "cell_type": "markdown",
      "source": [],
      "metadata": {
        "id": "95aSZdFGcJ-F"
      }
    }
  ]
}