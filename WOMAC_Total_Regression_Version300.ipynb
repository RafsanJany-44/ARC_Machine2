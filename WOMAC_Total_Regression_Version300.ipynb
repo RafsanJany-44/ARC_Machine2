{
  "nbformat": 4,
  "nbformat_minor": 0,
  "metadata": {
    "colab": {
      "provenance": [],
      "include_colab_link": true
    },
    "kernelspec": {
      "name": "python3",
      "display_name": "Python 3"
    },
    "language_info": {
      "name": "python"
    }
  },
  "cells": [
    {
      "cell_type": "markdown",
      "metadata": {
        "id": "view-in-github",
        "colab_type": "text"
      },
      "source": [
        "<a href=\"https://colab.research.google.com/github/RafsanJany-44/ARC_Machine2/blob/main/WOMAC_Total_Regression_Version300.ipynb\" target=\"_parent\"><img src=\"https://colab.research.google.com/assets/colab-badge.svg\" alt=\"Open In Colab\"/></a>"
      ]
    },
    {
      "cell_type": "code",
      "execution_count": 119,
      "metadata": {
        "colab": {
          "base_uri": "https://localhost:8080/"
        },
        "id": "vj6jHu9WkVnY",
        "outputId": "b10507e6-7c57-43aa-f912-4c8729fd48d4"
      },
      "outputs": [
        {
          "output_type": "stream",
          "name": "stdout",
          "text": [
            "Drive already mounted at /content/drive; to attempt to forcibly remount, call drive.mount(\"/content/drive\", force_remount=True).\n"
          ]
        }
      ],
      "source": [
        "from google.colab import drive\n",
        "drive.mount('/content/drive')"
      ]
    },
    {
      "cell_type": "code",
      "source": [
        "!pip install smogn"
      ],
      "metadata": {
        "colab": {
          "base_uri": "https://localhost:8080/"
        },
        "id": "_fm7MJap1Jga",
        "outputId": "45119574-c533-4894-b358-e1e859a7cb92"
      },
      "execution_count": 120,
      "outputs": [
        {
          "output_type": "stream",
          "name": "stdout",
          "text": [
            "Looking in indexes: https://pypi.org/simple, https://us-python.pkg.dev/colab-wheels/public/simple/\n",
            "Requirement already satisfied: smogn in /usr/local/lib/python3.7/dist-packages (0.1.2)\n",
            "Requirement already satisfied: tqdm in /usr/local/lib/python3.7/dist-packages (from smogn) (4.64.0)\n",
            "Requirement already satisfied: pandas in /usr/local/lib/python3.7/dist-packages (from smogn) (1.3.5)\n",
            "Requirement already satisfied: numpy in /usr/local/lib/python3.7/dist-packages (from smogn) (1.21.6)\n",
            "Requirement already satisfied: pytz>=2017.3 in /usr/local/lib/python3.7/dist-packages (from pandas->smogn) (2022.2.1)\n",
            "Requirement already satisfied: python-dateutil>=2.7.3 in /usr/local/lib/python3.7/dist-packages (from pandas->smogn) (2.8.2)\n",
            "Requirement already satisfied: six>=1.5 in /usr/local/lib/python3.7/dist-packages (from python-dateutil>=2.7.3->pandas->smogn) (1.15.0)\n"
          ]
        }
      ]
    },
    {
      "cell_type": "code",
      "source": [
        "import numpy as np\n",
        "import pandas as pd\n",
        "import smogn\n",
        "#dataset=pd.read_csv(\"/content/drive/MyDrive/Iqram Sir/KOA_EMG_WOMAC__2022.08.29_Final_W-tempo-spatial.csv\")\n",
        "d=pd.read_csv(\"/content/drive/MyDrive/Iqram Sir/KOA_EMG_WOMAC__2022.08.31_Final_Original.csv\")\n",
        "\n",
        "dataset = smogn.smoter(\n",
        "    \n",
        "    data = d, \n",
        "    y = \"WOMAC_total\"\n",
        ")"
      ],
      "metadata": {
        "id": "j77BeUU4sbVU",
        "colab": {
          "base_uri": "https://localhost:8080/"
        },
        "outputId": "bda5d747-68e2-4322-c5a0-4ba0a9424595"
      },
      "execution_count": 121,
      "outputs": [
        {
          "output_type": "stream",
          "name": "stderr",
          "text": [
            "dist_matrix: 100%|##########| 25/25 [00:08<00:00,  2.99it/s]\n",
            "synth_matrix: 100%|##########| 25/25 [00:08<00:00,  3.12it/s]\n",
            "dist_matrix: 100%|##########| 24/24 [00:07<00:00,  3.12it/s]\n",
            "synth_matrix: 100%|##########| 24/24 [00:07<00:00,  3.01it/s]\n",
            "r_index: 100%|##########| 2/2 [00:00<00:00,  2.78it/s]\n"
          ]
        }
      ]
    },
    {
      "cell_type": "code",
      "source": [
        "dataset.head(10)"
      ],
      "metadata": {
        "colab": {
          "base_uri": "https://localhost:8080/",
          "height": 473
        },
        "id": "G14KmjKWsn2_",
        "outputId": "43626886-c1a5-4e75-ce61-11662d161805"
      },
      "execution_count": 122,
      "outputs": [
        {
          "output_type": "execute_result",
          "data": {
            "text/plain": [
              "   Patient ID Data Type Bone-Attribution  WOMAC_Pain WOMAC_Pain Grade  \\\n",
              "0       13476   Testing                O          12         Moderate   \n",
              "1       14065   Testing                O          10         Moderate   \n",
              "2       14070   Testing                O          10         Moderate   \n",
              "3       14460   Testing                O          14         Moderate   \n",
              "4       14434   Testing                O          14         Moderate   \n",
              "5       13223   Testing                O           9         Moderate   \n",
              "6       13354   Testing                O          13         Moderate   \n",
              "7       13335   Testing                O          14         Moderate   \n",
              "8       13514   Testing                O          14         Moderate   \n",
              "9       14121   Testing                O          12         Moderate   \n",
              "\n",
              "   WOMAC_Stiffness WOMAC_Stiffness Grade  WOMAC_Physical function  \\\n",
              "0                1                  Mild                       51   \n",
              "1                5                  Mild                       50   \n",
              "2                5                  Mild                       49   \n",
              "3                6                  Mild                       46   \n",
              "4                5                  Mild                       46   \n",
              "5                6                  Mild                       52   \n",
              "6                5                  Mild                       49   \n",
              "7                5                  Mild                       50   \n",
              "8                5                  Mild                       49   \n",
              "9                6                  Mild                       52   \n",
              "\n",
              "  WOMAC_MHhysical function Grade  WOMAC_total  ...    TA-G-100  \\\n",
              "0                         Severe           66  ...   89.210916   \n",
              "1                         Severe           66  ...   49.205587   \n",
              "2                         Severe           66  ...   34.046660   \n",
              "3                         Severe           67  ...   92.005612   \n",
              "4                         Severe           66  ...  874.570224   \n",
              "5                         Severe           67  ...  102.594183   \n",
              "6                         Severe           69  ...  105.155790   \n",
              "7                         Severe           69  ...   52.163785   \n",
              "8                         Severe           70  ...  194.820035   \n",
              "9                         Severe           69  ...  254.702335   \n",
              "\n",
              "   Stance_CCI_TA-RF Stance_CCI_G-MH  Stance_CCI_TA-G Swing_CCI_TA-RF  \\\n",
              "0         23.561325      196.265830        17.436673      116.903674   \n",
              "1         29.574802      301.782222        28.686978       65.821729   \n",
              "2        136.360236      159.450491       124.096180       89.443297   \n",
              "3         97.660101       72.326753        82.521853      108.871977   \n",
              "4        247.268182       73.322511       476.343149      322.744013   \n",
              "5         95.610604      140.521732        98.148518      223.106702   \n",
              "6        128.398233      133.866191       127.898354      112.568389   \n",
              "7        288.367937      107.397289       133.362220      155.225902   \n",
              "8         79.686897       64.197688       156.518791      109.426548   \n",
              "9        224.384478      101.776780       253.487229      278.680698   \n",
              "\n",
              "  Swing_CCI_G-MH Swing_CCI_TA-G  swing/stance_cci(TA_RF)  \\\n",
              "0      81.212575     117.632699                 5.427912   \n",
              "1     339.732180      80.054641                 2.378970   \n",
              "2      73.729069     117.815612                 0.642349   \n",
              "3      51.896792     170.684060                 1.074751   \n",
              "4      15.655485     806.204187                 1.344885   \n",
              "5      27.090542     224.304204                 2.346705   \n",
              "6     114.243761     128.884996                 0.881549   \n",
              "7      75.269456     185.640022                 0.489706   \n",
              "8      25.530061     329.483931                 1.363452   \n",
              "9      36.729474     405.213558                 1.260988   \n",
              "\n",
              "   swing/stance_cci(G-MH)  swing/stance_CCI(TA-G)  \n",
              "0                0.419859                5.634610  \n",
              "1                1.117509                2.919105  \n",
              "2                0.469803                0.938452  \n",
              "3                0.730803                1.959742  \n",
              "4                0.211047                1.712968  \n",
              "5                0.194970                2.220455  \n",
              "6                0.826023                0.985922  \n",
              "7                0.706321                1.363491  \n",
              "8                0.363388                2.035797  \n",
              "9                0.346807                1.634251  \n",
              "\n",
              "[10 rows x 812 columns]"
            ],
            "text/html": [
              "\n",
              "  <div id=\"df-da9de4eb-fcc8-4cf9-b687-382df9e859a1\">\n",
              "    <div class=\"colab-df-container\">\n",
              "      <div>\n",
              "<style scoped>\n",
              "    .dataframe tbody tr th:only-of-type {\n",
              "        vertical-align: middle;\n",
              "    }\n",
              "\n",
              "    .dataframe tbody tr th {\n",
              "        vertical-align: top;\n",
              "    }\n",
              "\n",
              "    .dataframe thead th {\n",
              "        text-align: right;\n",
              "    }\n",
              "</style>\n",
              "<table border=\"1\" class=\"dataframe\">\n",
              "  <thead>\n",
              "    <tr style=\"text-align: right;\">\n",
              "      <th></th>\n",
              "      <th>Patient ID</th>\n",
              "      <th>Data Type</th>\n",
              "      <th>Bone-Attribution</th>\n",
              "      <th>WOMAC_Pain</th>\n",
              "      <th>WOMAC_Pain Grade</th>\n",
              "      <th>WOMAC_Stiffness</th>\n",
              "      <th>WOMAC_Stiffness Grade</th>\n",
              "      <th>WOMAC_Physical function</th>\n",
              "      <th>WOMAC_MHhysical function Grade</th>\n",
              "      <th>WOMAC_total</th>\n",
              "      <th>...</th>\n",
              "      <th>TA-G-100</th>\n",
              "      <th>Stance_CCI_TA-RF</th>\n",
              "      <th>Stance_CCI_G-MH</th>\n",
              "      <th>Stance_CCI_TA-G</th>\n",
              "      <th>Swing_CCI_TA-RF</th>\n",
              "      <th>Swing_CCI_G-MH</th>\n",
              "      <th>Swing_CCI_TA-G</th>\n",
              "      <th>swing/stance_cci(TA_RF)</th>\n",
              "      <th>swing/stance_cci(G-MH)</th>\n",
              "      <th>swing/stance_CCI(TA-G)</th>\n",
              "    </tr>\n",
              "  </thead>\n",
              "  <tbody>\n",
              "    <tr>\n",
              "      <th>0</th>\n",
              "      <td>13476</td>\n",
              "      <td>Testing</td>\n",
              "      <td>O</td>\n",
              "      <td>12</td>\n",
              "      <td>Moderate</td>\n",
              "      <td>1</td>\n",
              "      <td>Mild</td>\n",
              "      <td>51</td>\n",
              "      <td>Severe</td>\n",
              "      <td>66</td>\n",
              "      <td>...</td>\n",
              "      <td>89.210916</td>\n",
              "      <td>23.561325</td>\n",
              "      <td>196.265830</td>\n",
              "      <td>17.436673</td>\n",
              "      <td>116.903674</td>\n",
              "      <td>81.212575</td>\n",
              "      <td>117.632699</td>\n",
              "      <td>5.427912</td>\n",
              "      <td>0.419859</td>\n",
              "      <td>5.634610</td>\n",
              "    </tr>\n",
              "    <tr>\n",
              "      <th>1</th>\n",
              "      <td>14065</td>\n",
              "      <td>Testing</td>\n",
              "      <td>O</td>\n",
              "      <td>10</td>\n",
              "      <td>Moderate</td>\n",
              "      <td>5</td>\n",
              "      <td>Mild</td>\n",
              "      <td>50</td>\n",
              "      <td>Severe</td>\n",
              "      <td>66</td>\n",
              "      <td>...</td>\n",
              "      <td>49.205587</td>\n",
              "      <td>29.574802</td>\n",
              "      <td>301.782222</td>\n",
              "      <td>28.686978</td>\n",
              "      <td>65.821729</td>\n",
              "      <td>339.732180</td>\n",
              "      <td>80.054641</td>\n",
              "      <td>2.378970</td>\n",
              "      <td>1.117509</td>\n",
              "      <td>2.919105</td>\n",
              "    </tr>\n",
              "    <tr>\n",
              "      <th>2</th>\n",
              "      <td>14070</td>\n",
              "      <td>Testing</td>\n",
              "      <td>O</td>\n",
              "      <td>10</td>\n",
              "      <td>Moderate</td>\n",
              "      <td>5</td>\n",
              "      <td>Mild</td>\n",
              "      <td>49</td>\n",
              "      <td>Severe</td>\n",
              "      <td>66</td>\n",
              "      <td>...</td>\n",
              "      <td>34.046660</td>\n",
              "      <td>136.360236</td>\n",
              "      <td>159.450491</td>\n",
              "      <td>124.096180</td>\n",
              "      <td>89.443297</td>\n",
              "      <td>73.729069</td>\n",
              "      <td>117.815612</td>\n",
              "      <td>0.642349</td>\n",
              "      <td>0.469803</td>\n",
              "      <td>0.938452</td>\n",
              "    </tr>\n",
              "    <tr>\n",
              "      <th>3</th>\n",
              "      <td>14460</td>\n",
              "      <td>Testing</td>\n",
              "      <td>O</td>\n",
              "      <td>14</td>\n",
              "      <td>Moderate</td>\n",
              "      <td>6</td>\n",
              "      <td>Mild</td>\n",
              "      <td>46</td>\n",
              "      <td>Severe</td>\n",
              "      <td>67</td>\n",
              "      <td>...</td>\n",
              "      <td>92.005612</td>\n",
              "      <td>97.660101</td>\n",
              "      <td>72.326753</td>\n",
              "      <td>82.521853</td>\n",
              "      <td>108.871977</td>\n",
              "      <td>51.896792</td>\n",
              "      <td>170.684060</td>\n",
              "      <td>1.074751</td>\n",
              "      <td>0.730803</td>\n",
              "      <td>1.959742</td>\n",
              "    </tr>\n",
              "    <tr>\n",
              "      <th>4</th>\n",
              "      <td>14434</td>\n",
              "      <td>Testing</td>\n",
              "      <td>O</td>\n",
              "      <td>14</td>\n",
              "      <td>Moderate</td>\n",
              "      <td>5</td>\n",
              "      <td>Mild</td>\n",
              "      <td>46</td>\n",
              "      <td>Severe</td>\n",
              "      <td>66</td>\n",
              "      <td>...</td>\n",
              "      <td>874.570224</td>\n",
              "      <td>247.268182</td>\n",
              "      <td>73.322511</td>\n",
              "      <td>476.343149</td>\n",
              "      <td>322.744013</td>\n",
              "      <td>15.655485</td>\n",
              "      <td>806.204187</td>\n",
              "      <td>1.344885</td>\n",
              "      <td>0.211047</td>\n",
              "      <td>1.712968</td>\n",
              "    </tr>\n",
              "    <tr>\n",
              "      <th>5</th>\n",
              "      <td>13223</td>\n",
              "      <td>Testing</td>\n",
              "      <td>O</td>\n",
              "      <td>9</td>\n",
              "      <td>Moderate</td>\n",
              "      <td>6</td>\n",
              "      <td>Mild</td>\n",
              "      <td>52</td>\n",
              "      <td>Severe</td>\n",
              "      <td>67</td>\n",
              "      <td>...</td>\n",
              "      <td>102.594183</td>\n",
              "      <td>95.610604</td>\n",
              "      <td>140.521732</td>\n",
              "      <td>98.148518</td>\n",
              "      <td>223.106702</td>\n",
              "      <td>27.090542</td>\n",
              "      <td>224.304204</td>\n",
              "      <td>2.346705</td>\n",
              "      <td>0.194970</td>\n",
              "      <td>2.220455</td>\n",
              "    </tr>\n",
              "    <tr>\n",
              "      <th>6</th>\n",
              "      <td>13354</td>\n",
              "      <td>Testing</td>\n",
              "      <td>O</td>\n",
              "      <td>13</td>\n",
              "      <td>Moderate</td>\n",
              "      <td>5</td>\n",
              "      <td>Mild</td>\n",
              "      <td>49</td>\n",
              "      <td>Severe</td>\n",
              "      <td>69</td>\n",
              "      <td>...</td>\n",
              "      <td>105.155790</td>\n",
              "      <td>128.398233</td>\n",
              "      <td>133.866191</td>\n",
              "      <td>127.898354</td>\n",
              "      <td>112.568389</td>\n",
              "      <td>114.243761</td>\n",
              "      <td>128.884996</td>\n",
              "      <td>0.881549</td>\n",
              "      <td>0.826023</td>\n",
              "      <td>0.985922</td>\n",
              "    </tr>\n",
              "    <tr>\n",
              "      <th>7</th>\n",
              "      <td>13335</td>\n",
              "      <td>Testing</td>\n",
              "      <td>O</td>\n",
              "      <td>14</td>\n",
              "      <td>Moderate</td>\n",
              "      <td>5</td>\n",
              "      <td>Mild</td>\n",
              "      <td>50</td>\n",
              "      <td>Severe</td>\n",
              "      <td>69</td>\n",
              "      <td>...</td>\n",
              "      <td>52.163785</td>\n",
              "      <td>288.367937</td>\n",
              "      <td>107.397289</td>\n",
              "      <td>133.362220</td>\n",
              "      <td>155.225902</td>\n",
              "      <td>75.269456</td>\n",
              "      <td>185.640022</td>\n",
              "      <td>0.489706</td>\n",
              "      <td>0.706321</td>\n",
              "      <td>1.363491</td>\n",
              "    </tr>\n",
              "    <tr>\n",
              "      <th>8</th>\n",
              "      <td>13514</td>\n",
              "      <td>Testing</td>\n",
              "      <td>O</td>\n",
              "      <td>14</td>\n",
              "      <td>Moderate</td>\n",
              "      <td>5</td>\n",
              "      <td>Mild</td>\n",
              "      <td>49</td>\n",
              "      <td>Severe</td>\n",
              "      <td>70</td>\n",
              "      <td>...</td>\n",
              "      <td>194.820035</td>\n",
              "      <td>79.686897</td>\n",
              "      <td>64.197688</td>\n",
              "      <td>156.518791</td>\n",
              "      <td>109.426548</td>\n",
              "      <td>25.530061</td>\n",
              "      <td>329.483931</td>\n",
              "      <td>1.363452</td>\n",
              "      <td>0.363388</td>\n",
              "      <td>2.035797</td>\n",
              "    </tr>\n",
              "    <tr>\n",
              "      <th>9</th>\n",
              "      <td>14121</td>\n",
              "      <td>Testing</td>\n",
              "      <td>O</td>\n",
              "      <td>12</td>\n",
              "      <td>Moderate</td>\n",
              "      <td>6</td>\n",
              "      <td>Mild</td>\n",
              "      <td>52</td>\n",
              "      <td>Severe</td>\n",
              "      <td>69</td>\n",
              "      <td>...</td>\n",
              "      <td>254.702335</td>\n",
              "      <td>224.384478</td>\n",
              "      <td>101.776780</td>\n",
              "      <td>253.487229</td>\n",
              "      <td>278.680698</td>\n",
              "      <td>36.729474</td>\n",
              "      <td>405.213558</td>\n",
              "      <td>1.260988</td>\n",
              "      <td>0.346807</td>\n",
              "      <td>1.634251</td>\n",
              "    </tr>\n",
              "  </tbody>\n",
              "</table>\n",
              "<p>10 rows × 812 columns</p>\n",
              "</div>\n",
              "      <button class=\"colab-df-convert\" onclick=\"convertToInteractive('df-da9de4eb-fcc8-4cf9-b687-382df9e859a1')\"\n",
              "              title=\"Convert this dataframe to an interactive table.\"\n",
              "              style=\"display:none;\">\n",
              "        \n",
              "  <svg xmlns=\"http://www.w3.org/2000/svg\" height=\"24px\"viewBox=\"0 0 24 24\"\n",
              "       width=\"24px\">\n",
              "    <path d=\"M0 0h24v24H0V0z\" fill=\"none\"/>\n",
              "    <path d=\"M18.56 5.44l.94 2.06.94-2.06 2.06-.94-2.06-.94-.94-2.06-.94 2.06-2.06.94zm-11 1L8.5 8.5l.94-2.06 2.06-.94-2.06-.94L8.5 2.5l-.94 2.06-2.06.94zm10 10l.94 2.06.94-2.06 2.06-.94-2.06-.94-.94-2.06-.94 2.06-2.06.94z\"/><path d=\"M17.41 7.96l-1.37-1.37c-.4-.4-.92-.59-1.43-.59-.52 0-1.04.2-1.43.59L10.3 9.45l-7.72 7.72c-.78.78-.78 2.05 0 2.83L4 21.41c.39.39.9.59 1.41.59.51 0 1.02-.2 1.41-.59l7.78-7.78 2.81-2.81c.8-.78.8-2.07 0-2.86zM5.41 20L4 18.59l7.72-7.72 1.47 1.35L5.41 20z\"/>\n",
              "  </svg>\n",
              "      </button>\n",
              "      \n",
              "  <style>\n",
              "    .colab-df-container {\n",
              "      display:flex;\n",
              "      flex-wrap:wrap;\n",
              "      gap: 12px;\n",
              "    }\n",
              "\n",
              "    .colab-df-convert {\n",
              "      background-color: #E8F0FE;\n",
              "      border: none;\n",
              "      border-radius: 50%;\n",
              "      cursor: pointer;\n",
              "      display: none;\n",
              "      fill: #1967D2;\n",
              "      height: 32px;\n",
              "      padding: 0 0 0 0;\n",
              "      width: 32px;\n",
              "    }\n",
              "\n",
              "    .colab-df-convert:hover {\n",
              "      background-color: #E2EBFA;\n",
              "      box-shadow: 0px 1px 2px rgba(60, 64, 67, 0.3), 0px 1px 3px 1px rgba(60, 64, 67, 0.15);\n",
              "      fill: #174EA6;\n",
              "    }\n",
              "\n",
              "    [theme=dark] .colab-df-convert {\n",
              "      background-color: #3B4455;\n",
              "      fill: #D2E3FC;\n",
              "    }\n",
              "\n",
              "    [theme=dark] .colab-df-convert:hover {\n",
              "      background-color: #434B5C;\n",
              "      box-shadow: 0px 1px 3px 1px rgba(0, 0, 0, 0.15);\n",
              "      filter: drop-shadow(0px 1px 2px rgba(0, 0, 0, 0.3));\n",
              "      fill: #FFFFFF;\n",
              "    }\n",
              "  </style>\n",
              "\n",
              "      <script>\n",
              "        const buttonEl =\n",
              "          document.querySelector('#df-da9de4eb-fcc8-4cf9-b687-382df9e859a1 button.colab-df-convert');\n",
              "        buttonEl.style.display =\n",
              "          google.colab.kernel.accessAllowed ? 'block' : 'none';\n",
              "\n",
              "        async function convertToInteractive(key) {\n",
              "          const element = document.querySelector('#df-da9de4eb-fcc8-4cf9-b687-382df9e859a1');\n",
              "          const dataTable =\n",
              "            await google.colab.kernel.invokeFunction('convertToInteractive',\n",
              "                                                     [key], {});\n",
              "          if (!dataTable) return;\n",
              "\n",
              "          const docLinkHtml = 'Like what you see? Visit the ' +\n",
              "            '<a target=\"_blank\" href=https://colab.research.google.com/notebooks/data_table.ipynb>data table notebook</a>'\n",
              "            + ' to learn more about interactive tables.';\n",
              "          element.innerHTML = '';\n",
              "          dataTable['output_type'] = 'display_data';\n",
              "          await google.colab.output.renderOutput(dataTable, element);\n",
              "          const docLink = document.createElement('div');\n",
              "          docLink.innerHTML = docLinkHtml;\n",
              "          element.appendChild(docLink);\n",
              "        }\n",
              "      </script>\n",
              "    </div>\n",
              "  </div>\n",
              "  "
            ]
          },
          "metadata": {},
          "execution_count": 122
        }
      ]
    },
    {
      "cell_type": "code",
      "source": [
        "dataset.shape"
      ],
      "metadata": {
        "colab": {
          "base_uri": "https://localhost:8080/"
        },
        "id": "CSHw6o9psp-a",
        "outputId": "5da06e58-86b5-4be3-d3fb-daed0584c407"
      },
      "execution_count": 123,
      "outputs": [
        {
          "output_type": "execute_result",
          "data": {
            "text/plain": [
              "(151, 812)"
            ]
          },
          "metadata": {},
          "execution_count": 123
        }
      ]
    },
    {
      "cell_type": "code",
      "source": [
        "X = dataset.iloc[:,17:]\n",
        "y = dataset.iloc[:, 9]"
      ],
      "metadata": {
        "id": "AiTKRXiY0mdy"
      },
      "execution_count": 124,
      "outputs": []
    },
    {
      "cell_type": "code",
      "source": [
        "'''\n",
        "from sklearn.model_selection import train_test_split\n",
        "X_train, X_test, y_train, y_test = train_test_split(X, y, test_size = 0.2, random_state = 0)\n",
        "'''"
      ],
      "metadata": {
        "id": "gzJ19cN22KsU",
        "colab": {
          "base_uri": "https://localhost:8080/",
          "height": 36
        },
        "outputId": "52d0191a-4fc2-4474-d849-74f5ef52d0de"
      },
      "execution_count": 125,
      "outputs": [
        {
          "output_type": "execute_result",
          "data": {
            "text/plain": [
              "'\\nfrom sklearn.model_selection import train_test_split\\nX_train, X_test, y_train, y_test = train_test_split(X, y, test_size = 0.2, random_state = 0)\\n'"
            ],
            "application/vnd.google.colaboratory.intrinsic+json": {
              "type": "string"
            }
          },
          "metadata": {},
          "execution_count": 125
        }
      ]
    },
    {
      "cell_type": "code",
      "source": [
        "from sklearn.feature_selection import SelectKBest\n",
        "bestfeatures = SelectKBest(k=10)\n",
        "fit = bestfeatures.fit(X,y)"
      ],
      "metadata": {
        "id": "7SpMLBfwJhMa",
        "colab": {
          "base_uri": "https://localhost:8080/"
        },
        "outputId": "740db23d-dcd2-4b0e-c55b-af2204367ef6"
      },
      "execution_count": 126,
      "outputs": [
        {
          "output_type": "stream",
          "name": "stderr",
          "text": [
            "Features [21 22 23 24] are constant.\n",
            "invalid value encountered in true_divide\n"
          ]
        }
      ]
    },
    {
      "cell_type": "code",
      "source": [
        "dfscores = pd.DataFrame(fit.scores_)\n",
        "dfcolumns = pd.DataFrame(X.columns)"
      ],
      "metadata": {
        "id": "PxTD8_-jJjtJ"
      },
      "execution_count": 127,
      "outputs": []
    },
    {
      "cell_type": "code",
      "source": [
        "featureScores = pd.concat([dfcolumns,dfscores],axis=1)\n",
        "featureScores.columns = ['Specs','Score']"
      ],
      "metadata": {
        "id": "NJpll3U8Jljl"
      },
      "execution_count": 128,
      "outputs": []
    },
    {
      "cell_type": "code",
      "source": [
        "number_of_feat=int(input(\"Number Of Best Features: \"))"
      ],
      "metadata": {
        "colab": {
          "base_uri": "https://localhost:8080/"
        },
        "id": "373RpO7uJnRv",
        "outputId": "5ffc07a4-ed9b-41cc-d7b6-11cd9aa43d80"
      },
      "execution_count": 129,
      "outputs": [
        {
          "name": "stdout",
          "output_type": "stream",
          "text": [
            "Number Of Best Features: 20\n"
          ]
        }
      ]
    },
    {
      "cell_type": "code",
      "source": [
        "imp=featureScores.nlargest(number_of_feat,'Score')\n",
        "print(imp)"
      ],
      "metadata": {
        "colab": {
          "base_uri": "https://localhost:8080/"
        },
        "id": "wpio-fXlJpVd",
        "outputId": "6c681329-94e3-468d-ae61-b2726d2fdb2d"
      },
      "execution_count": 130,
      "outputs": [
        {
          "output_type": "stream",
          "name": "stdout",
          "text": [
            "              Specs      Score\n",
            "776         TA-G-91  14.250359\n",
            "777         TA-G-92  14.238526\n",
            "778         TA-G-93  13.708989\n",
            "779         TA-G-94  12.917056\n",
            "775         TA-G-90  12.573823\n",
            "784         TA-G-99  12.540083\n",
            "785        TA-G-100  12.484301\n",
            "780         TA-G-95  10.660406\n",
            "783         TA-G-98  10.574886\n",
            "774         TA-G-89  10.244043\n",
            "782         TA-G-97   9.338231\n",
            "781         TA-G-96   9.070033\n",
            "773         TA-G-88   8.298053\n",
            "772         TA-G-87   6.886925\n",
            "791  Swing_CCI_TA-G   6.678506\n",
            "685          TA-G-0   6.522743\n",
            "686          TA-G-1   6.092682\n",
            "771         TA-G-86   5.265386\n",
            "687          TA-G-2   5.231436\n",
            "495        TA-RF-12   4.537289\n"
          ]
        }
      ]
    },
    {
      "cell_type": "code",
      "source": [
        "list_of_feat=[]\n",
        "\n",
        "for i in range(number_of_feat):\n",
        "  list_of_feat.append(imp.iloc[:,0:1].values[i][0])"
      ],
      "metadata": {
        "id": "Y2yoQPagJwWu"
      },
      "execution_count": 131,
      "outputs": []
    },
    {
      "cell_type": "code",
      "source": [
        "X_new = dataset[list_of_feat]\n",
        "y_new = dataset.iloc[:, 9]"
      ],
      "metadata": {
        "id": "Avu3cnS0JyV-"
      },
      "execution_count": 132,
      "outputs": []
    },
    {
      "cell_type": "code",
      "source": [
        "X_train=X_new.iloc[:120,:]  \n",
        "X_test=X_new.iloc[120:,:]\n",
        "y_train=y_new.iloc[:120]\n",
        "y_test=y_new.iloc[120:]"
      ],
      "metadata": {
        "id": "mf2hSZmlAygT"
      },
      "execution_count": 133,
      "outputs": []
    },
    {
      "cell_type": "code",
      "source": [
        "from sklearn.linear_model import LinearRegression\n",
        "\n",
        "lin_reg = LinearRegression()\n",
        "lin_reg.fit(X_train, y_train)\n",
        "y_pred = lin_reg.predict(X_test)\n"
      ],
      "metadata": {
        "id": "lU9NGIxw2RWg"
      },
      "execution_count": 134,
      "outputs": []
    },
    {
      "cell_type": "markdown",
      "source": [
        "#Taining Ploting and Result"
      ],
      "metadata": {
        "id": "sx7QykGeXzjI"
      }
    },
    {
      "cell_type": "code",
      "source": [
        "y_pred_train = lin_reg.predict(X_train)\n",
        "\n",
        "print(y_pred.shape)\n",
        "from sklearn.metrics import r2_score,mean_squared_error\n",
        "print(\"Training r2: \",r2_score(y_train,y_pred_train))\n",
        "\n",
        "\n",
        "r_sq = lin_reg.score(X_new, y_new)\n",
        "print(\"Training r_sq: \",r_sq)\n",
        "\n",
        "\n",
        "\n"
      ],
      "metadata": {
        "colab": {
          "base_uri": "https://localhost:8080/"
        },
        "id": "6eZ9f8KJWSec",
        "outputId": "c79aeef5-99d0-464d-df48-4c22fd22950a"
      },
      "execution_count": 135,
      "outputs": [
        {
          "output_type": "stream",
          "name": "stdout",
          "text": [
            "(31,)\n",
            "Training r2:  0.318944859970674\n",
            "Training r_sq:  0.01932795302431478\n"
          ]
        }
      ]
    },
    {
      "cell_type": "code",
      "source": [
        "r_sq_train = lin_reg.score(X_train, y_pred_train)\n",
        "print(r_sq_train)"
      ],
      "metadata": {
        "colab": {
          "base_uri": "https://localhost:8080/"
        },
        "id": "NWPqv1CwWmNH",
        "outputId": "e561c749-6167-41df-dec8-955f1039436c"
      },
      "execution_count": 136,
      "outputs": [
        {
          "output_type": "stream",
          "name": "stdout",
          "text": [
            "1.0\n"
          ]
        }
      ]
    },
    {
      "cell_type": "code",
      "source": [
        "import matplotlib.pyplot as plt\n",
        "plt.figure(figsize=(15,10))\n",
        "plt.scatter(y_train, y_pred_train, color = \"red\")\n",
        "plt.xlabel(\"Actual\")\n",
        "plt.ylabel(\"Predicted\")\n",
        "plt.show()\n"
      ],
      "metadata": {
        "colab": {
          "base_uri": "https://localhost:8080/",
          "height": 611
        },
        "id": "2El54YfuWn1O",
        "outputId": "24a99e4b-00aa-4f3c-953b-06058d5b5bc8"
      },
      "execution_count": 137,
      "outputs": [
        {
          "output_type": "display_data",
          "data": {
            "text/plain": [
              "<Figure size 1080x720 with 1 Axes>"
            ],
            "image/png": "[encoded data removed]"
          },
          "metadata": {}
        }
      ]
    },
    {
      "cell_type": "code",
      "source": [],
      "metadata": {
        "id": "nyvdkd8yaRy4"
      },
      "execution_count": 137,
      "outputs": []
    },
    {
      "cell_type": "code",
      "source": [
        "pred_y_df=pd.DataFrame(\n",
        "    {\n",
        "        \"Actual Value\":y_train,\n",
        "        \"Predicted Value\":y_pred_train,\n",
        "        \"Difference\":y_train-y_pred_train\n",
        "    }\n",
        ")\n",
        "\n",
        "pred_y_df"
      ],
      "metadata": {
        "colab": {
          "base_uri": "https://localhost:8080/",
          "height": 423
        },
        "id": "FWD91cWGWqQV",
        "outputId": "019eed99-fa5c-406c-be39-b1a8a841155d"
      },
      "execution_count": 138,
      "outputs": [
        {
          "output_type": "execute_result",
          "data": {
            "text/plain": [
              "     Actual Value  Predicted Value  Difference\n",
              "0              66        50.023669   15.976331\n",
              "1              66        60.078211    5.921789\n",
              "2              66        57.684072    8.315928\n",
              "3              67        67.739122   -0.739122\n",
              "4              66        66.319060   -0.319060\n",
              "..            ...              ...         ...\n",
              "135            46        55.443131   -9.443131\n",
              "138            51        29.878954   21.121046\n",
              "139            52        47.796477    4.203523\n",
              "142            57        64.228574   -7.228574\n",
              "143            59        53.044273    5.955727\n",
              "\n",
              "[120 rows x 3 columns]"
            ],
            "text/html": [
              "\n",
              "  <div id=\"df-2725fdd6-5176-42ea-848d-2d1ebe0f9d18\">\n",
              "    <div class=\"colab-df-container\">\n",
              "      <div>\n",
              "<style scoped>\n",
              "    .dataframe tbody tr th:only-of-type {\n",
              "        vertical-align: middle;\n",
              "    }\n",
              "\n",
              "    .dataframe tbody tr th {\n",
              "        vertical-align: top;\n",
              "    }\n",
              "\n",
              "    .dataframe thead th {\n",
              "        text-align: right;\n",
              "    }\n",
              "</style>\n",
              "<table border=\"1\" class=\"dataframe\">\n",
              "  <thead>\n",
              "    <tr style=\"text-align: right;\">\n",
              "      <th></th>\n",
              "      <th>Actual Value</th>\n",
              "      <th>Predicted Value</th>\n",
              "      <th>Difference</th>\n",
              "    </tr>\n",
              "  </thead>\n",
              "  <tbody>\n",
              "    <tr>\n",
              "      <th>0</th>\n",
              "      <td>66</td>\n",
              "      <td>50.023669</td>\n",
              "      <td>15.976331</td>\n",
              "    </tr>\n",
              "    <tr>\n",
              "      <th>1</th>\n",
              "      <td>66</td>\n",
              "      <td>60.078211</td>\n",
              "      <td>5.921789</td>\n",
              "    </tr>\n",
              "    <tr>\n",
              "      <th>2</th>\n",
              "      <td>66</td>\n",
              "      <td>57.684072</td>\n",
              "      <td>8.315928</td>\n",
              "    </tr>\n",
              "    <tr>\n",
              "      <th>3</th>\n",
              "      <td>67</td>\n",
              "      <td>67.739122</td>\n",
              "      <td>-0.739122</td>\n",
              "    </tr>\n",
              "    <tr>\n",
              "      <th>4</th>\n",
              "      <td>66</td>\n",
              "      <td>66.319060</td>\n",
              "      <td>-0.319060</td>\n",
              "    </tr>\n",
              "    <tr>\n",
              "      <th>...</th>\n",
              "      <td>...</td>\n",
              "      <td>...</td>\n",
              "      <td>...</td>\n",
              "    </tr>\n",
              "    <tr>\n",
              "      <th>135</th>\n",
              "      <td>46</td>\n",
              "      <td>55.443131</td>\n",
              "      <td>-9.443131</td>\n",
              "    </tr>\n",
              "    <tr>\n",
              "      <th>138</th>\n",
              "      <td>51</td>\n",
              "      <td>29.878954</td>\n",
              "      <td>21.121046</td>\n",
              "    </tr>\n",
              "    <tr>\n",
              "      <th>139</th>\n",
              "      <td>52</td>\n",
              "      <td>47.796477</td>\n",
              "      <td>4.203523</td>\n",
              "    </tr>\n",
              "    <tr>\n",
              "      <th>142</th>\n",
              "      <td>57</td>\n",
              "      <td>64.228574</td>\n",
              "      <td>-7.228574</td>\n",
              "    </tr>\n",
              "    <tr>\n",
              "      <th>143</th>\n",
              "      <td>59</td>\n",
              "      <td>53.044273</td>\n",
              "      <td>5.955727</td>\n",
              "    </tr>\n",
              "  </tbody>\n",
              "</table>\n",
              "<p>120 rows × 3 columns</p>\n",
              "</div>\n",
              "      <button class=\"colab-df-convert\" onclick=\"convertToInteractive('df-2725fdd6-5176-42ea-848d-2d1ebe0f9d18')\"\n",
              "              title=\"Convert this dataframe to an interactive table.\"\n",
              "              style=\"display:none;\">\n",
              "        \n",
              "  <svg xmlns=\"http://www.w3.org/2000/svg\" height=\"24px\"viewBox=\"0 0 24 24\"\n",
              "       width=\"24px\">\n",
              "    <path d=\"M0 0h24v24H0V0z\" fill=\"none\"/>\n",
              "    <path d=\"M18.56 5.44l.94 2.06.94-2.06 2.06-.94-2.06-.94-.94-2.06-.94 2.06-2.06.94zm-11 1L8.5 8.5l.94-2.06 2.06-.94-2.06-.94L8.5 2.5l-.94 2.06-2.06.94zm10 10l.94 2.06.94-2.06 2.06-.94-2.06-.94-.94-2.06-.94 2.06-2.06.94z\"/><path d=\"M17.41 7.96l-1.37-1.37c-.4-.4-.92-.59-1.43-.59-.52 0-1.04.2-1.43.59L10.3 9.45l-7.72 7.72c-.78.78-.78 2.05 0 2.83L4 21.41c.39.39.9.59 1.41.59.51 0 1.02-.2 1.41-.59l7.78-7.78 2.81-2.81c.8-.78.8-2.07 0-2.86zM5.41 20L4 18.59l7.72-7.72 1.47 1.35L5.41 20z\"/>\n",
              "  </svg>\n",
              "      </button>\n",
              "      \n",
              "  <style>\n",
              "    .colab-df-container {\n",
              "      display:flex;\n",
              "      flex-wrap:wrap;\n",
              "      gap: 12px;\n",
              "    }\n",
              "\n",
              "    .colab-df-convert {\n",
              "      background-color: #E8F0FE;\n",
              "      border: none;\n",
              "      border-radius: 50%;\n",
              "      cursor: pointer;\n",
              "      display: none;\n",
              "      fill: #1967D2;\n",
              "      height: 32px;\n",
              "      padding: 0 0 0 0;\n",
              "      width: 32px;\n",
              "    }\n",
              "\n",
              "    .colab-df-convert:hover {\n",
              "      background-color: #E2EBFA;\n",
              "      box-shadow: 0px 1px 2px rgba(60, 64, 67, 0.3), 0px 1px 3px 1px rgba(60, 64, 67, 0.15);\n",
              "      fill: #174EA6;\n",
              "    }\n",
              "\n",
              "    [theme=dark] .colab-df-convert {\n",
              "      background-color: #3B4455;\n",
              "      fill: #D2E3FC;\n",
              "    }\n",
              "\n",
              "    [theme=dark] .colab-df-convert:hover {\n",
              "      background-color: #434B5C;\n",
              "      box-shadow: 0px 1px 3px 1px rgba(0, 0, 0, 0.15);\n",
              "      filter: drop-shadow(0px 1px 2px rgba(0, 0, 0, 0.3));\n",
              "      fill: #FFFFFF;\n",
              "    }\n",
              "  </style>\n",
              "\n",
              "      <script>\n",
              "        const buttonEl =\n",
              "          document.querySelector('#df-2725fdd6-5176-42ea-848d-2d1ebe0f9d18 button.colab-df-convert');\n",
              "        buttonEl.style.display =\n",
              "          google.colab.kernel.accessAllowed ? 'block' : 'none';\n",
              "\n",
              "        async function convertToInteractive(key) {\n",
              "          const element = document.querySelector('#df-2725fdd6-5176-42ea-848d-2d1ebe0f9d18');\n",
              "          const dataTable =\n",
              "            await google.colab.kernel.invokeFunction('convertToInteractive',\n",
              "                                                     [key], {});\n",
              "          if (!dataTable) return;\n",
              "\n",
              "          const docLinkHtml = 'Like what you see? Visit the ' +\n",
              "            '<a target=\"_blank\" href=https://colab.research.google.com/notebooks/data_table.ipynb>data table notebook</a>'\n",
              "            + ' to learn more about interactive tables.';\n",
              "          element.innerHTML = '';\n",
              "          dataTable['output_type'] = 'display_data';\n",
              "          await google.colab.output.renderOutput(dataTable, element);\n",
              "          const docLink = document.createElement('div');\n",
              "          docLink.innerHTML = docLinkHtml;\n",
              "          element.appendChild(docLink);\n",
              "        }\n",
              "      </script>\n",
              "    </div>\n",
              "  </div>\n",
              "  "
            ]
          },
          "metadata": {},
          "execution_count": 138
        }
      ]
    },
    {
      "cell_type": "code",
      "source": [
        "# The mean squared error\n",
        "print(\"Mean squared error: %.2f\" % mean_squared_error(y_train, y_pred_train))\n",
        "# The coefficient of determination: 1 is perfect prediction\n",
        "print(\"Coefficient of determination: %.2f\" % r2_score(y_train, y_pred_train))\n",
        "\n"
      ],
      "metadata": {
        "colab": {
          "base_uri": "https://localhost:8080/"
        },
        "id": "G5RI5cjnWq0z",
        "outputId": "e335a6e4-5177-4e6a-ab07-ed928fc8fab2"
      },
      "execution_count": 139,
      "outputs": [
        {
          "output_type": "stream",
          "name": "stdout",
          "text": [
            "Mean squared error: 313.22\n",
            "Coefficient of determination: 0.32\n"
          ]
        }
      ]
    },
    {
      "cell_type": "code",
      "source": [
        "import seaborn as sns\n",
        "\n",
        "sns.set(rc={'figure.figsize':(12,10)})\n",
        "scatter_poly2 = sns.lmplot(\n",
        "    data = pred_y_df, \n",
        "    x = \"Actual Value\",\n",
        "    y = \"Predicted Value\",\n",
        "    order = 2\n",
        ")\n",
        "\n"
      ],
      "metadata": {
        "colab": {
          "base_uri": "https://localhost:8080/",
          "height": 365
        },
        "id": "hwJSCaBbWuV6",
        "outputId": "2c5d2bac-24f5-4744-91d0-a75dc99fa2ca"
      },
      "execution_count": 140,
      "outputs": [
        {
          "output_type": "display_data",
          "data": {
            "text/plain": [
              "<Figure size 360x360 with 1 Axes>"
            ],
            "image/png": "[encoded data removed]"
          },
          "metadata": {}
        }
      ]
    },
    {
      "cell_type": "code",
      "source": [
        "sns.regplot(x=\"Actual Value\", y=\"Predicted Value\", data=pred_y_df);\n",
        "\n",
        "\n"
      ],
      "metadata": {
        "colab": {
          "base_uri": "https://localhost:8080/",
          "height": 611
        },
        "id": "qXyh7HGwWw_6",
        "outputId": "30632339-9d39-40ad-d8b4-d253e6d55300"
      },
      "execution_count": 141,
      "outputs": [
        {
          "output_type": "display_data",
          "data": {
            "text/plain": [
              "<Figure size 864x720 with 1 Axes>"
            ],
            "image/png": "[encoded data removed]"
          },
          "metadata": {}
        }
      ]
    },
    {
      "cell_type": "markdown",
      "source": [
        "#Testing Ploting and Result"
      ],
      "metadata": {
        "id": "qXdK1hpkYVmJ"
      }
    },
    {
      "cell_type": "code",
      "source": [
        "y_pred_test = lin_reg.predict(X_test)\n",
        "\n",
        "\n",
        "from sklearn.metrics import r2_score,mean_squared_error\n",
        "print(\"Testing r2: \",r2_score(y_test,y_pred_test))\n",
        "\n",
        "r_sq = lin_reg.score(X_new, y_new)\n",
        "print(\"R_sq: \",r_sq)"
      ],
      "metadata": {
        "colab": {
          "base_uri": "https://localhost:8080/"
        },
        "id": "mRj0_o_wuTG4",
        "outputId": "e8d1d744-832a-4fa0-90a6-a0f61511ec01"
      },
      "execution_count": 142,
      "outputs": [
        {
          "output_type": "stream",
          "name": "stdout",
          "text": [
            "Testing r2:  -1.6816376805186817\n",
            "R_sq:  0.01932795302431478\n"
          ]
        }
      ]
    },
    {
      "cell_type": "code",
      "source": [
        "r_sq_test = lin_reg.score(X_test, y_pred_test)\n",
        "print(r_sq_test)"
      ],
      "metadata": {
        "colab": {
          "base_uri": "https://localhost:8080/"
        },
        "id": "ItP1GkjXL2qM",
        "outputId": "40fb873e-f79b-40ac-897c-d3308d73a8e2"
      },
      "execution_count": 143,
      "outputs": [
        {
          "output_type": "stream",
          "name": "stdout",
          "text": [
            "1.0\n"
          ]
        }
      ]
    },
    {
      "cell_type": "code",
      "source": [
        "import matplotlib.pyplot as plt\n",
        "plt.figure(figsize=(15,10))\n",
        "plt.scatter(y_test, y_pred_test, color = \"red\")\n",
        "plt.xlabel(\"Actual\")\n",
        "plt.ylabel(\"Predicted\")\n",
        "plt.show()"
      ],
      "metadata": {
        "colab": {
          "base_uri": "https://localhost:8080/",
          "height": 611
        },
        "id": "bqDGyYc8vjk1",
        "outputId": "51be1376-86cd-421c-bf58-9459529a74c2"
      },
      "execution_count": 144,
      "outputs": [
        {
          "output_type": "display_data",
          "data": {
            "text/plain": [
              "<Figure size 1080x720 with 1 Axes>"
            ],
            "image/png": "[encoded data removed]"
          },
          "metadata": {}
        }
      ]
    },
    {
      "cell_type": "code",
      "source": [
        "pred_y_df=pd.DataFrame(\n",
        "    {\n",
        "        \"Actual Value\":y_test,\n",
        "        \"Predicted Value\":y_pred_test,\n",
        "        \"Difference\":y_test-y_pred_test\n",
        "    }\n",
        ")\n",
        "\n",
        "pred_y_df\n"
      ],
      "metadata": {
        "colab": {
          "base_uri": "https://localhost:8080/",
          "height": 1000
        },
        "id": "we5fm-kfxYww",
        "outputId": "56183d72-86f3-47ed-b52b-3935ece654ac"
      },
      "execution_count": 145,
      "outputs": [
        {
          "output_type": "execute_result",
          "data": {
            "text/plain": [
              "     Actual Value  Predicted Value  Difference\n",
              "144            62        59.505857    2.494143\n",
              "145            66        61.767083    4.232917\n",
              "146            70        51.392147   18.607853\n",
              "147            72        55.774595   16.225405\n",
              "148            83        69.810201   13.189799\n",
              "149            95        57.846749   37.153251\n",
              "0               1        31.528965  -30.528965\n",
              "1              10         8.704847    1.295153\n",
              "2              12        45.138945  -33.138945\n",
              "3              15        25.364907  -10.364907\n",
              "4              16        70.918238  -54.918238\n",
              "5              16       122.872858 -106.872858\n",
              "6              19        79.624231  -60.624231\n",
              "7              18        48.357072  -30.357072\n",
              "8              18        -6.194231   24.194231\n",
              "9              20        -4.326880   24.326880\n",
              "10             22        27.419608   -5.419608\n",
              "11             22        56.288957  -34.288957\n",
              "12             23       -14.554539   37.554539\n",
              "13             23        56.281379  -33.281379\n",
              "14             24       -18.359022   42.359022\n",
              "15             23        32.046679   -9.046679\n",
              "16             24        58.002708  -34.002708\n",
              "17             25        22.410360    2.589640\n",
              "18             25        37.172198  -12.172198\n",
              "19             26        59.949437  -33.949437\n",
              "20             26        79.120866  -53.120866\n",
              "21             27        85.002502  -58.002502\n",
              "22             26        36.735502  -10.735502\n",
              "23             28        -4.017873   32.017873\n",
              "24             27       -23.449889   50.449889"
            ],
            "text/html": [
              "\n",
              "  <div id=\"df-5fc9330c-395f-43ed-9cc7-f15cd116da82\">\n",
              "    <div class=\"colab-df-container\">\n",
              "      <div>\n",
              "<style scoped>\n",
              "    .dataframe tbody tr th:only-of-type {\n",
              "        vertical-align: middle;\n",
              "    }\n",
              "\n",
              "    .dataframe tbody tr th {\n",
              "        vertical-align: top;\n",
              "    }\n",
              "\n",
              "    .dataframe thead th {\n",
              "        text-align: right;\n",
              "    }\n",
              "</style>\n",
              "<table border=\"1\" class=\"dataframe\">\n",
              "  <thead>\n",
              "    <tr style=\"text-align: right;\">\n",
              "      <th></th>\n",
              "      <th>Actual Value</th>\n",
              "      <th>Predicted Value</th>\n",
              "      <th>Difference</th>\n",
              "    </tr>\n",
              "  </thead>\n",
              "  <tbody>\n",
              "    <tr>\n",
              "      <th>144</th>\n",
              "      <td>62</td>\n",
              "      <td>59.505857</td>\n",
              "      <td>2.494143</td>\n",
              "    </tr>\n",
              "    <tr>\n",
              "      <th>145</th>\n",
              "      <td>66</td>\n",
              "      <td>61.767083</td>\n",
              "      <td>4.232917</td>\n",
              "    </tr>\n",
              "    <tr>\n",
              "      <th>146</th>\n",
              "      <td>70</td>\n",
              "      <td>51.392147</td>\n",
              "      <td>18.607853</td>\n",
              "    </tr>\n",
              "    <tr>\n",
              "      <th>147</th>\n",
              "      <td>72</td>\n",
              "      <td>55.774595</td>\n",
              "      <td>16.225405</td>\n",
              "    </tr>\n",
              "    <tr>\n",
              "      <th>148</th>\n",
              "      <td>83</td>\n",
              "      <td>69.810201</td>\n",
              "      <td>13.189799</td>\n",
              "    </tr>\n",
              "    <tr>\n",
              "      <th>149</th>\n",
              "      <td>95</td>\n",
              "      <td>57.846749</td>\n",
              "      <td>37.153251</td>\n",
              "    </tr>\n",
              "    <tr>\n",
              "      <th>0</th>\n",
              "      <td>1</td>\n",
              "      <td>31.528965</td>\n",
              "      <td>-30.528965</td>\n",
              "    </tr>\n",
              "    <tr>\n",
              "      <th>1</th>\n",
              "      <td>10</td>\n",
              "      <td>8.704847</td>\n",
              "      <td>1.295153</td>\n",
              "    </tr>\n",
              "    <tr>\n",
              "      <th>2</th>\n",
              "      <td>12</td>\n",
              "      <td>45.138945</td>\n",
              "      <td>-33.138945</td>\n",
              "    </tr>\n",
              "    <tr>\n",
              "      <th>3</th>\n",
              "      <td>15</td>\n",
              "      <td>25.364907</td>\n",
              "      <td>-10.364907</td>\n",
              "    </tr>\n",
              "    <tr>\n",
              "      <th>4</th>\n",
              "      <td>16</td>\n",
              "      <td>70.918238</td>\n",
              "      <td>-54.918238</td>\n",
              "    </tr>\n",
              "    <tr>\n",
              "      <th>5</th>\n",
              "      <td>16</td>\n",
              "      <td>122.872858</td>\n",
              "      <td>-106.872858</td>\n",
              "    </tr>\n",
              "    <tr>\n",
              "      <th>6</th>\n",
              "      <td>19</td>\n",
              "      <td>79.624231</td>\n",
              "      <td>-60.624231</td>\n",
              "    </tr>\n",
              "    <tr>\n",
              "      <th>7</th>\n",
              "      <td>18</td>\n",
              "      <td>48.357072</td>\n",
              "      <td>-30.357072</td>\n",
              "    </tr>\n",
              "    <tr>\n",
              "      <th>8</th>\n",
              "      <td>18</td>\n",
              "      <td>-6.194231</td>\n",
              "      <td>24.194231</td>\n",
              "    </tr>\n",
              "    <tr>\n",
              "      <th>9</th>\n",
              "      <td>20</td>\n",
              "      <td>-4.326880</td>\n",
              "      <td>24.326880</td>\n",
              "    </tr>\n",
              "    <tr>\n",
              "      <th>10</th>\n",
              "      <td>22</td>\n",
              "      <td>27.419608</td>\n",
              "      <td>-5.419608</td>\n",
              "    </tr>\n",
              "    <tr>\n",
              "      <th>11</th>\n",
              "      <td>22</td>\n",
              "      <td>56.288957</td>\n",
              "      <td>-34.288957</td>\n",
              "    </tr>\n",
              "    <tr>\n",
              "      <th>12</th>\n",
              "      <td>23</td>\n",
              "      <td>-14.554539</td>\n",
              "      <td>37.554539</td>\n",
              "    </tr>\n",
              "    <tr>\n",
              "      <th>13</th>\n",
              "      <td>23</td>\n",
              "      <td>56.281379</td>\n",
              "      <td>-33.281379</td>\n",
              "    </tr>\n",
              "    <tr>\n",
              "      <th>14</th>\n",
              "      <td>24</td>\n",
              "      <td>-18.359022</td>\n",
              "      <td>42.359022</td>\n",
              "    </tr>\n",
              "    <tr>\n",
              "      <th>15</th>\n",
              "      <td>23</td>\n",
              "      <td>32.046679</td>\n",
              "      <td>-9.046679</td>\n",
              "    </tr>\n",
              "    <tr>\n",
              "      <th>16</th>\n",
              "      <td>24</td>\n",
              "      <td>58.002708</td>\n",
              "      <td>-34.002708</td>\n",
              "    </tr>\n",
              "    <tr>\n",
              "      <th>17</th>\n",
              "      <td>25</td>\n",
              "      <td>22.410360</td>\n",
              "      <td>2.589640</td>\n",
              "    </tr>\n",
              "    <tr>\n",
              "      <th>18</th>\n",
              "      <td>25</td>\n",
              "      <td>37.172198</td>\n",
              "      <td>-12.172198</td>\n",
              "    </tr>\n",
              "    <tr>\n",
              "      <th>19</th>\n",
              "      <td>26</td>\n",
              "      <td>59.949437</td>\n",
              "      <td>-33.949437</td>\n",
              "    </tr>\n",
              "    <tr>\n",
              "      <th>20</th>\n",
              "      <td>26</td>\n",
              "      <td>79.120866</td>\n",
              "      <td>-53.120866</td>\n",
              "    </tr>\n",
              "    <tr>\n",
              "      <th>21</th>\n",
              "      <td>27</td>\n",
              "      <td>85.002502</td>\n",
              "      <td>-58.002502</td>\n",
              "    </tr>\n",
              "    <tr>\n",
              "      <th>22</th>\n",
              "      <td>26</td>\n",
              "      <td>36.735502</td>\n",
              "      <td>-10.735502</td>\n",
              "    </tr>\n",
              "    <tr>\n",
              "      <th>23</th>\n",
              "      <td>28</td>\n",
              "      <td>-4.017873</td>\n",
              "      <td>32.017873</td>\n",
              "    </tr>\n",
              "    <tr>\n",
              "      <th>24</th>\n",
              "      <td>27</td>\n",
              "      <td>-23.449889</td>\n",
              "      <td>50.449889</td>\n",
              "    </tr>\n",
              "  </tbody>\n",
              "</table>\n",
              "</div>\n",
              "      <button class=\"colab-df-convert\" onclick=\"convertToInteractive('df-5fc9330c-395f-43ed-9cc7-f15cd116da82')\"\n",
              "              title=\"Convert this dataframe to an interactive table.\"\n",
              "              style=\"display:none;\">\n",
              "        \n",
              "  <svg xmlns=\"http://www.w3.org/2000/svg\" height=\"24px\"viewBox=\"0 0 24 24\"\n",
              "       width=\"24px\">\n",
              "    <path d=\"M0 0h24v24H0V0z\" fill=\"none\"/>\n",
              "    <path d=\"M18.56 5.44l.94 2.06.94-2.06 2.06-.94-2.06-.94-.94-2.06-.94 2.06-2.06.94zm-11 1L8.5 8.5l.94-2.06 2.06-.94-2.06-.94L8.5 2.5l-.94 2.06-2.06.94zm10 10l.94 2.06.94-2.06 2.06-.94-2.06-.94-.94-2.06-.94 2.06-2.06.94z\"/><path d=\"M17.41 7.96l-1.37-1.37c-.4-.4-.92-.59-1.43-.59-.52 0-1.04.2-1.43.59L10.3 9.45l-7.72 7.72c-.78.78-.78 2.05 0 2.83L4 21.41c.39.39.9.59 1.41.59.51 0 1.02-.2 1.41-.59l7.78-7.78 2.81-2.81c.8-.78.8-2.07 0-2.86zM5.41 20L4 18.59l7.72-7.72 1.47 1.35L5.41 20z\"/>\n",
              "  </svg>\n",
              "      </button>\n",
              "      \n",
              "  <style>\n",
              "    .colab-df-container {\n",
              "      display:flex;\n",
              "      flex-wrap:wrap;\n",
              "      gap: 12px;\n",
              "    }\n",
              "\n",
              "    .colab-df-convert {\n",
              "      background-color: #E8F0FE;\n",
              "      border: none;\n",
              "      border-radius: 50%;\n",
              "      cursor: pointer;\n",
              "      display: none;\n",
              "      fill: #1967D2;\n",
              "      height: 32px;\n",
              "      padding: 0 0 0 0;\n",
              "      width: 32px;\n",
              "    }\n",
              "\n",
              "    .colab-df-convert:hover {\n",
              "      background-color: #E2EBFA;\n",
              "      box-shadow: 0px 1px 2px rgba(60, 64, 67, 0.3), 0px 1px 3px 1px rgba(60, 64, 67, 0.15);\n",
              "      fill: #174EA6;\n",
              "    }\n",
              "\n",
              "    [theme=dark] .colab-df-convert {\n",
              "      background-color: #3B4455;\n",
              "      fill: #D2E3FC;\n",
              "    }\n",
              "\n",
              "    [theme=dark] .colab-df-convert:hover {\n",
              "      background-color: #434B5C;\n",
              "      box-shadow: 0px 1px 3px 1px rgba(0, 0, 0, 0.15);\n",
              "      filter: drop-shadow(0px 1px 2px rgba(0, 0, 0, 0.3));\n",
              "      fill: #FFFFFF;\n",
              "    }\n",
              "  </style>\n",
              "\n",
              "      <script>\n",
              "        const buttonEl =\n",
              "          document.querySelector('#df-5fc9330c-395f-43ed-9cc7-f15cd116da82 button.colab-df-convert');\n",
              "        buttonEl.style.display =\n",
              "          google.colab.kernel.accessAllowed ? 'block' : 'none';\n",
              "\n",
              "        async function convertToInteractive(key) {\n",
              "          const element = document.querySelector('#df-5fc9330c-395f-43ed-9cc7-f15cd116da82');\n",
              "          const dataTable =\n",
              "            await google.colab.kernel.invokeFunction('convertToInteractive',\n",
              "                                                     [key], {});\n",
              "          if (!dataTable) return;\n",
              "\n",
              "          const docLinkHtml = 'Like what you see? Visit the ' +\n",
              "            '<a target=\"_blank\" href=https://colab.research.google.com/notebooks/data_table.ipynb>data table notebook</a>'\n",
              "            + ' to learn more about interactive tables.';\n",
              "          element.innerHTML = '';\n",
              "          dataTable['output_type'] = 'display_data';\n",
              "          await google.colab.output.renderOutput(dataTable, element);\n",
              "          const docLink = document.createElement('div');\n",
              "          docLink.innerHTML = docLinkHtml;\n",
              "          element.appendChild(docLink);\n",
              "        }\n",
              "      </script>\n",
              "    </div>\n",
              "  </div>\n",
              "  "
            ]
          },
          "metadata": {},
          "execution_count": 145
        }
      ]
    },
    {
      "cell_type": "code",
      "source": [
        "\n",
        "# The mean squared error\n",
        "print(\"Mean squared error: %.2f\" % mean_squared_error(y_test, y_pred_test))\n",
        "# The coefficient of determination: 1 is perfect prediction\n",
        "print(\"Coefficient of determination: %.2f\" % r2_score(y_test, y_pred_test))\n"
      ],
      "metadata": {
        "colab": {
          "base_uri": "https://localhost:8080/"
        },
        "id": "6tYsIrvqxrvH",
        "outputId": "e7a2929e-d277-4145-cce6-b5a92e1cbc27"
      },
      "execution_count": 146,
      "outputs": [
        {
          "output_type": "stream",
          "name": "stdout",
          "text": [
            "Mean squared error: 1370.12\n",
            "Coefficient of determination: -1.68\n"
          ]
        }
      ]
    },
    {
      "cell_type": "code",
      "source": [],
      "metadata": {
        "id": "UJwChuVqxrPJ"
      },
      "execution_count": 146,
      "outputs": []
    },
    {
      "cell_type": "code",
      "source": [
        "import seaborn as sns\n",
        "\n",
        "sns.set(rc={'figure.figsize':(12,10)})\n",
        "scatter_poly2 = sns.lmplot(\n",
        "    data = pred_y_df, \n",
        "    x = \"Actual Value\",\n",
        "    y = \"Predicted Value\",\n",
        "    order = 2\n",
        ")"
      ],
      "metadata": {
        "colab": {
          "base_uri": "https://localhost:8080/",
          "height": 365
        },
        "id": "BTZtbOs9xrLb",
        "outputId": "0b7053fd-f72b-4f9d-8d5c-7a9fe66830fa"
      },
      "execution_count": 147,
      "outputs": [
        {
          "output_type": "display_data",
          "data": {
            "text/plain": [
              "<Figure size 360x360 with 1 Axes>"
            ],
            "image/png": "[encoded data removed]"
          },
          "metadata": {}
        }
      ]
    },
    {
      "cell_type": "code",
      "source": [
        "sns.regplot(x=\"Actual Value\", y=\"Predicted Value\", data=pred_y_df);"
      ],
      "metadata": {
        "colab": {
          "base_uri": "https://localhost:8080/",
          "height": 611
        },
        "id": "RmChHz5JxrHD",
        "outputId": "e29258f5-7f51-40af-c4fc-210786002b7e"
      },
      "execution_count": 148,
      "outputs": [
        {
          "output_type": "display_data",
          "data": {
            "text/plain": [
              "<Figure size 864x720 with 1 Axes>"
            ],
            "image/png": "[encoded data removed]"
          },
          "metadata": {}
        }
      ]
    },
    {
      "cell_type": "markdown",
      "source": [],
      "metadata": {
        "id": "JCbQpuqzaZw2"
      }
    },
    {
      "cell_type": "markdown",
      "source": [
        "#Over All dataset Ploting and Results"
      ],
      "metadata": {
        "id": "A-U9P6eSa3yC"
      }
    },
    {
      "cell_type": "code",
      "source": [
        "y_pred_new = lin_reg.predict(X_new)\n",
        "\n",
        "\n",
        "from sklearn.metrics import r2_score,mean_squared_error\n",
        "print(\"Testing r2: \",r2_score(y_new,y_pred_new))\n",
        "\n",
        "r_sq = lin_reg.score(X_new, y_new)\n",
        "print(\"R_sq: \",r_sq)"
      ],
      "metadata": {
        "colab": {
          "base_uri": "https://localhost:8080/"
        },
        "id": "wnT5dZ4CbEVf",
        "outputId": "cf539561-afb0-479c-a6c8-58f823c05d4a"
      },
      "execution_count": 149,
      "outputs": [
        {
          "output_type": "stream",
          "name": "stdout",
          "text": [
            "Testing r2:  0.01932795302431478\n",
            "R_sq:  0.01932795302431478\n"
          ]
        }
      ]
    },
    {
      "cell_type": "code",
      "source": [
        "r_sq_test = lin_reg.score(X_new, y_pred_new)\n",
        "print(r_sq_test)"
      ],
      "metadata": {
        "colab": {
          "base_uri": "https://localhost:8080/"
        },
        "id": "36ruj76fbPRQ",
        "outputId": "04d5f39b-97ac-437a-e18e-e2f5bbbf85a1"
      },
      "execution_count": 150,
      "outputs": [
        {
          "output_type": "stream",
          "name": "stdout",
          "text": [
            "1.0\n"
          ]
        }
      ]
    },
    {
      "cell_type": "code",
      "source": [
        "import matplotlib.pyplot as plt\n",
        "plt.figure(figsize=(15,10))\n",
        "plt.scatter(y_test, y_pred_test, color = \"red\")\n",
        "plt.xlabel(\"Actual\")\n",
        "plt.ylabel(\"Predicted\")\n",
        "plt.show()"
      ],
      "metadata": {
        "colab": {
          "base_uri": "https://localhost:8080/",
          "height": 0
        },
        "id": "0iXWJp6zbRWk",
        "outputId": "876b1b47-3ea3-421a-807e-b4a5d7cc4528"
      },
      "execution_count": 151,
      "outputs": [
        {
          "output_type": "display_data",
          "data": {
            "text/plain": [
              "<Figure size 1080x720 with 1 Axes>"
            ],
            "image/png": "[encoded data removed]"
          },
          "metadata": {}
        }
      ]
    },
    {
      "cell_type": "code",
      "source": [
        "pred_y_df=pd.DataFrame(\n",
        "    {\n",
        "        \"Actual Value\":y_new,\n",
        "        \"Predicted Value\":y_pred_new,\n",
        "        \"Difference\":y_new-y_pred_new\n",
        "    }\n",
        ")\n",
        "\n",
        "pred_y_df\n"
      ],
      "metadata": {
        "colab": {
          "base_uri": "https://localhost:8080/",
          "height": 0
        },
        "id": "vPSfv7bybUTs",
        "outputId": "f23828c7-6b94-449c-fc2c-9813462efc1b"
      },
      "execution_count": 152,
      "outputs": [
        {
          "output_type": "execute_result",
          "data": {
            "text/plain": [
              "    Actual Value  Predicted Value  Difference\n",
              "0             66        50.023669   15.976331\n",
              "1             66        60.078211    5.921789\n",
              "2             66        57.684072    8.315928\n",
              "3             67        67.739122   -0.739122\n",
              "4             66        66.319060   -0.319060\n",
              "..           ...              ...         ...\n",
              "20            26        79.120866  -53.120866\n",
              "21            27        85.002502  -58.002502\n",
              "22            26        36.735502  -10.735502\n",
              "23            28        -4.017873   32.017873\n",
              "24            27       -23.449889   50.449889\n",
              "\n",
              "[151 rows x 3 columns]"
            ],
            "text/html": [
              "\n",
              "  <div id=\"df-704ef748-f52c-4584-9902-886e7526133e\">\n",
              "    <div class=\"colab-df-container\">\n",
              "      <div>\n",
              "<style scoped>\n",
              "    .dataframe tbody tr th:only-of-type {\n",
              "        vertical-align: middle;\n",
              "    }\n",
              "\n",
              "    .dataframe tbody tr th {\n",
              "        vertical-align: top;\n",
              "    }\n",
              "\n",
              "    .dataframe thead th {\n",
              "        text-align: right;\n",
              "    }\n",
              "</style>\n",
              "<table border=\"1\" class=\"dataframe\">\n",
              "  <thead>\n",
              "    <tr style=\"text-align: right;\">\n",
              "      <th></th>\n",
              "      <th>Actual Value</th>\n",
              "      <th>Predicted Value</th>\n",
              "      <th>Difference</th>\n",
              "    </tr>\n",
              "  </thead>\n",
              "  <tbody>\n",
              "    <tr>\n",
              "      <th>0</th>\n",
              "      <td>66</td>\n",
              "      <td>50.023669</td>\n",
              "      <td>15.976331</td>\n",
              "    </tr>\n",
              "    <tr>\n",
              "      <th>1</th>\n",
              "      <td>66</td>\n",
              "      <td>60.078211</td>\n",
              "      <td>5.921789</td>\n",
              "    </tr>\n",
              "    <tr>\n",
              "      <th>2</th>\n",
              "      <td>66</td>\n",
              "      <td>57.684072</td>\n",
              "      <td>8.315928</td>\n",
              "    </tr>\n",
              "    <tr>\n",
              "      <th>3</th>\n",
              "      <td>67</td>\n",
              "      <td>67.739122</td>\n",
              "      <td>-0.739122</td>\n",
              "    </tr>\n",
              "    <tr>\n",
              "      <th>4</th>\n",
              "      <td>66</td>\n",
              "      <td>66.319060</td>\n",
              "      <td>-0.319060</td>\n",
              "    </tr>\n",
              "    <tr>\n",
              "      <th>...</th>\n",
              "      <td>...</td>\n",
              "      <td>...</td>\n",
              "      <td>...</td>\n",
              "    </tr>\n",
              "    <tr>\n",
              "      <th>20</th>\n",
              "      <td>26</td>\n",
              "      <td>79.120866</td>\n",
              "      <td>-53.120866</td>\n",
              "    </tr>\n",
              "    <tr>\n",
              "      <th>21</th>\n",
              "      <td>27</td>\n",
              "      <td>85.002502</td>\n",
              "      <td>-58.002502</td>\n",
              "    </tr>\n",
              "    <tr>\n",
              "      <th>22</th>\n",
              "      <td>26</td>\n",
              "      <td>36.735502</td>\n",
              "      <td>-10.735502</td>\n",
              "    </tr>\n",
              "    <tr>\n",
              "      <th>23</th>\n",
              "      <td>28</td>\n",
              "      <td>-4.017873</td>\n",
              "      <td>32.017873</td>\n",
              "    </tr>\n",
              "    <tr>\n",
              "      <th>24</th>\n",
              "      <td>27</td>\n",
              "      <td>-23.449889</td>\n",
              "      <td>50.449889</td>\n",
              "    </tr>\n",
              "  </tbody>\n",
              "</table>\n",
              "<p>151 rows × 3 columns</p>\n",
              "</div>\n",
              "      <button class=\"colab-df-convert\" onclick=\"convertToInteractive('df-704ef748-f52c-4584-9902-886e7526133e')\"\n",
              "              title=\"Convert this dataframe to an interactive table.\"\n",
              "              style=\"display:none;\">\n",
              "        \n",
              "  <svg xmlns=\"http://www.w3.org/2000/svg\" height=\"24px\"viewBox=\"0 0 24 24\"\n",
              "       width=\"24px\">\n",
              "    <path d=\"M0 0h24v24H0V0z\" fill=\"none\"/>\n",
              "    <path d=\"M18.56 5.44l.94 2.06.94-2.06 2.06-.94-2.06-.94-.94-2.06-.94 2.06-2.06.94zm-11 1L8.5 8.5l.94-2.06 2.06-.94-2.06-.94L8.5 2.5l-.94 2.06-2.06.94zm10 10l.94 2.06.94-2.06 2.06-.94-2.06-.94-.94-2.06-.94 2.06-2.06.94z\"/><path d=\"M17.41 7.96l-1.37-1.37c-.4-.4-.92-.59-1.43-.59-.52 0-1.04.2-1.43.59L10.3 9.45l-7.72 7.72c-.78.78-.78 2.05 0 2.83L4 21.41c.39.39.9.59 1.41.59.51 0 1.02-.2 1.41-.59l7.78-7.78 2.81-2.81c.8-.78.8-2.07 0-2.86zM5.41 20L4 18.59l7.72-7.72 1.47 1.35L5.41 20z\"/>\n",
              "  </svg>\n",
              "      </button>\n",
              "      \n",
              "  <style>\n",
              "    .colab-df-container {\n",
              "      display:flex;\n",
              "      flex-wrap:wrap;\n",
              "      gap: 12px;\n",
              "    }\n",
              "\n",
              "    .colab-df-convert {\n",
              "      background-color: #E8F0FE;\n",
              "      border: none;\n",
              "      border-radius: 50%;\n",
              "      cursor: pointer;\n",
              "      display: none;\n",
              "      fill: #1967D2;\n",
              "      height: 32px;\n",
              "      padding: 0 0 0 0;\n",
              "      width: 32px;\n",
              "    }\n",
              "\n",
              "    .colab-df-convert:hover {\n",
              "      background-color: #E2EBFA;\n",
              "      box-shadow: 0px 1px 2px rgba(60, 64, 67, 0.3), 0px 1px 3px 1px rgba(60, 64, 67, 0.15);\n",
              "      fill: #174EA6;\n",
              "    }\n",
              "\n",
              "    [theme=dark] .colab-df-convert {\n",
              "      background-color: #3B4455;\n",
              "      fill: #D2E3FC;\n",
              "    }\n",
              "\n",
              "    [theme=dark] .colab-df-convert:hover {\n",
              "      background-color: #434B5C;\n",
              "      box-shadow: 0px 1px 3px 1px rgba(0, 0, 0, 0.15);\n",
              "      filter: drop-shadow(0px 1px 2px rgba(0, 0, 0, 0.3));\n",
              "      fill: #FFFFFF;\n",
              "    }\n",
              "  </style>\n",
              "\n",
              "      <script>\n",
              "        const buttonEl =\n",
              "          document.querySelector('#df-704ef748-f52c-4584-9902-886e7526133e button.colab-df-convert');\n",
              "        buttonEl.style.display =\n",
              "          google.colab.kernel.accessAllowed ? 'block' : 'none';\n",
              "\n",
              "        async function convertToInteractive(key) {\n",
              "          const element = document.querySelector('#df-704ef748-f52c-4584-9902-886e7526133e');\n",
              "          const dataTable =\n",
              "            await google.colab.kernel.invokeFunction('convertToInteractive',\n",
              "                                                     [key], {});\n",
              "          if (!dataTable) return;\n",
              "\n",
              "          const docLinkHtml = 'Like what you see? Visit the ' +\n",
              "            '<a target=\"_blank\" href=https://colab.research.google.com/notebooks/data_table.ipynb>data table notebook</a>'\n",
              "            + ' to learn more about interactive tables.';\n",
              "          element.innerHTML = '';\n",
              "          dataTable['output_type'] = 'display_data';\n",
              "          await google.colab.output.renderOutput(dataTable, element);\n",
              "          const docLink = document.createElement('div');\n",
              "          docLink.innerHTML = docLinkHtml;\n",
              "          element.appendChild(docLink);\n",
              "        }\n",
              "      </script>\n",
              "    </div>\n",
              "  </div>\n",
              "  "
            ]
          },
          "metadata": {},
          "execution_count": 152
        }
      ]
    },
    {
      "cell_type": "code",
      "source": [
        "\n",
        "# The mean squared error\n",
        "print(\"Mean squared error: %.2f\" % mean_squared_error(y_new, y_pred_new))\n",
        "# The coefficient of determination: 1 is perfect prediction\n",
        "print(\"Coefficient of determination: %.2f\" % r2_score(y_new, y_pred_new))\n"
      ],
      "metadata": {
        "colab": {
          "base_uri": "https://localhost:8080/"
        },
        "id": "3TRjerOebZ6S",
        "outputId": "c3595107-2f09-4855-f916-b318bea4c9da"
      },
      "execution_count": 153,
      "outputs": [
        {
          "output_type": "stream",
          "name": "stdout",
          "text": [
            "Mean squared error: 530.20\n",
            "Coefficient of determination: 0.02\n"
          ]
        }
      ]
    },
    {
      "cell_type": "code",
      "source": [
        "import seaborn as sns\n",
        "\n",
        "sns.set(rc={'figure.figsize':(12,10)})\n",
        "scatter_poly2 = sns.lmplot(\n",
        "    data = pred_y_df, \n",
        "    x = \"Actual Value\",\n",
        "    y = \"Predicted Value\",\n",
        "    order = 2\n",
        ")"
      ],
      "metadata": {
        "colab": {
          "base_uri": "https://localhost:8080/",
          "height": 0
        },
        "id": "8jyo4T5tbcX7",
        "outputId": "01baa5af-b81d-4ba7-8b83-5268382f9cae"
      },
      "execution_count": 154,
      "outputs": [
        {
          "output_type": "display_data",
          "data": {
            "text/plain": [
              "<Figure size 360x360 with 1 Axes>"
            ],
            "image/png": "[encoded data removed]"
          },
          "metadata": {}
        }
      ]
    },
    {
      "cell_type": "code",
      "source": [
        "sns.regplot(x=\"Actual Value\", y=\"Predicted Value\", data=pred_y_df);"
      ],
      "metadata": {
        "colab": {
          "base_uri": "https://localhost:8080/",
          "height": 0
        },
        "id": "q2_P8WDGbe9D",
        "outputId": "2bcfadb8-02a6-427e-afa7-56ab34a1fb47"
      },
      "execution_count": 155,
      "outputs": [
        {
          "output_type": "display_data",
          "data": {
            "text/plain": [
              "<Figure size 864x720 with 1 Axes>"
            ],
            "image/png": "[encoded data removed]"
          },
          "metadata": {}
        }
      ]
    },
    {
      "cell_type": "markdown",
      "source": [
        "#Support Vector Regression (SVR) using linear and non-linear kernels"
      ],
      "metadata": {
        "id": "snS9BT-_cNzs"
      }
    },
    {
      "cell_type": "markdown",
      "source": [
        "**SHAP**"
      ],
      "metadata": {
        "id": "hAhL_iirn8Wz"
      }
    },
    {
      "cell_type": "code",
      "source": [
        "!pip install shap\n",
        "import shap"
      ],
      "metadata": {
        "colab": {
          "base_uri": "https://localhost:8080/"
        },
        "id": "wDHjcAitnzZC",
        "outputId": "ed3b8d93-7836-49a9-b92b-97c7c0f36c7a"
      },
      "execution_count": 156,
      "outputs": [
        {
          "output_type": "stream",
          "name": "stdout",
          "text": [
            "Looking in indexes: https://pypi.org/simple, https://us-python.pkg.dev/colab-wheels/public/simple/\n",
            "Requirement already satisfied: shap in /usr/local/lib/python3.7/dist-packages (0.41.0)\n",
            "Requirement already satisfied: numba in /usr/local/lib/python3.7/dist-packages (from shap) (0.56.0)\n",
            "Requirement already satisfied: scikit-learn in /usr/local/lib/python3.7/dist-packages (from shap) (1.0.2)\n",
            "Requirement already satisfied: packaging>20.9 in /usr/local/lib/python3.7/dist-packages (from shap) (21.3)\n",
            "Requirement already satisfied: cloudpickle in /usr/local/lib/python3.7/dist-packages (from shap) (1.5.0)\n",
            "Requirement already satisfied: pandas in /usr/local/lib/python3.7/dist-packages (from shap) (1.3.5)\n",
            "Requirement already satisfied: slicer==0.0.7 in /usr/local/lib/python3.7/dist-packages (from shap) (0.0.7)\n",
            "Requirement already satisfied: tqdm>4.25.0 in /usr/local/lib/python3.7/dist-packages (from shap) (4.64.0)\n",
            "Requirement already satisfied: scipy in /usr/local/lib/python3.7/dist-packages (from shap) (1.7.3)\n",
            "Requirement already satisfied: numpy in /usr/local/lib/python3.7/dist-packages (from shap) (1.21.6)\n",
            "Requirement already satisfied: pyparsing!=3.0.5,>=2.0.2 in /usr/local/lib/python3.7/dist-packages (from packaging>20.9->shap) (3.0.9)\n",
            "Requirement already satisfied: llvmlite<0.40,>=0.39.0dev0 in /usr/local/lib/python3.7/dist-packages (from numba->shap) (0.39.0)\n",
            "Requirement already satisfied: setuptools in /usr/local/lib/python3.7/dist-packages (from numba->shap) (57.4.0)\n",
            "Requirement already satisfied: importlib-metadata in /usr/local/lib/python3.7/dist-packages (from numba->shap) (4.12.0)\n",
            "Requirement already satisfied: typing-extensions>=3.6.4 in /usr/local/lib/python3.7/dist-packages (from importlib-metadata->numba->shap) (4.1.1)\n",
            "Requirement already satisfied: zipp>=0.5 in /usr/local/lib/python3.7/dist-packages (from importlib-metadata->numba->shap) (3.8.1)\n",
            "Requirement already satisfied: python-dateutil>=2.7.3 in /usr/local/lib/python3.7/dist-packages (from pandas->shap) (2.8.2)\n",
            "Requirement already satisfied: pytz>=2017.3 in /usr/local/lib/python3.7/dist-packages (from pandas->shap) (2022.2.1)\n",
            "Requirement already satisfied: six>=1.5 in /usr/local/lib/python3.7/dist-packages (from python-dateutil>=2.7.3->pandas->shap) (1.15.0)\n",
            "Requirement already satisfied: joblib>=0.11 in /usr/local/lib/python3.7/dist-packages (from scikit-learn->shap) (1.1.0)\n",
            "Requirement already satisfied: threadpoolctl>=2.0.0 in /usr/local/lib/python3.7/dist-packages (from scikit-learn->shap) (3.1.0)\n"
          ]
        }
      ]
    },
    {
      "cell_type": "code",
      "source": [
        "import pandas as pd\n",
        "import shap\n",
        "import sklearn\n",
        "model = sklearn.linear_model.LinearRegression()\n",
        "model.fit(X_train, y_train)\n",
        "\n",
        "# compute the SHAP values for the linear model\n",
        "explainer = shap.Explainer(model.predict, X_train)\n",
        "shap_values = explainer (X_train)\n",
        "shap.plots.bar(shap_values,max_display=20)"
      ],
      "metadata": {
        "colab": {
          "base_uri": "https://localhost:8080/",
          "height": 693
        },
        "id": "w3iBOah0oCqG",
        "outputId": "55247d47-be63-4d36-d544-3c00b8eae250"
      },
      "execution_count": 157,
      "outputs": [
        {
          "output_type": "display_data",
          "data": {
            "text/plain": [
              "<Figure size 576x828 with 1 Axes>"
            ],
            "image/png": "[encoded data removed]"
          },
          "metadata": {}
        }
      ]
    },
    {
      "cell_type": "markdown",
      "source": [],
      "metadata": {
        "id": "95aSZdFGcJ-F"
      }
    }
  ]
}