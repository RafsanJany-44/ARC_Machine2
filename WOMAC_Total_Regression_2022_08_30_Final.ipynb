{
  "nbformat": 4,
  "nbformat_minor": 0,
  "metadata": {
    "colab": {
      "provenance": [],
      "include_colab_link": true
    },
    "kernelspec": {
      "name": "python3",
      "display_name": "Python 3"
    },
    "language_info": {
      "name": "python"
    }
  },
  "cells": [
    {
      "cell_type": "markdown",
      "metadata": {
        "id": "view-in-github",
        "colab_type": "text"
      },
      "source": [
        "<a href=\"https://colab.research.google.com/github/RafsanJany-44/ARC_Machine2/blob/main/WOMAC_Total_Regression_2022_08_30_Final.ipynb\" target=\"_parent\"><img src=\"https://colab.research.google.com/assets/colab-badge.svg\" alt=\"Open In Colab\"/></a>"
      ]
    },
    {
      "cell_type": "code",
      "execution_count": 1,
      "metadata": {
        "colab": {
          "base_uri": "https://localhost:8080/"
        },
        "id": "vj6jHu9WkVnY",
        "outputId": "b5281e88-e5de-469c-9706-5cbcca182187"
      },
      "outputs": [
        {
          "output_type": "stream",
          "name": "stdout",
          "text": [
            "Mounted at /content/drive\n"
          ]
        }
      ],
      "source": [
        "from google.colab import drive\n",
        "drive.mount('/content/drive')"
      ]
    },
    {
      "cell_type": "code",
      "source": [
        "import numpy as np\n",
        "import pandas as pd\n",
        "dataset=pd.read_csv(\"/content/drive/MyDrive/Iqram Sir/KOA_EMG_WOMAC__2022.08.31_Final_Original.csv\")\n",
        "#dataset=pd.read_csv(\"/content/drive/MyDrive/SNU Research/KOA-EMG/KOA_EMG_WOMAC__2022.08.31_Final_Original.csv\")\n"
      ],
      "metadata": {
        "id": "j77BeUU4sbVU"
      },
      "execution_count": 2,
      "outputs": []
    },
    {
      "cell_type": "code",
      "source": [
        "dataset.head(10)"
      ],
      "metadata": {
        "colab": {
          "base_uri": "https://localhost:8080/",
          "height": 454
        },
        "id": "G14KmjKWsn2_",
        "outputId": "3b26f482-c858-411d-acd0-e0373f65068d"
      },
      "execution_count": null,
      "outputs": [
        {
          "output_type": "execute_result",
          "data": {
            "text/plain": [
              "   Patient ID Data Type Bone-Attribution  WOMAC_Pain WOMAC_Pain Grade  \\\n",
              "0       14532  Training                X           1             Mild   \n",
              "1       13006  Training                O           0             Mild   \n",
              "2       14373  Training                O           4             Mild   \n",
              "3       14373  Training                X           5             Mild   \n",
              "4       14611  Training                X           4             Mild   \n",
              "5       14396  Training                X           3             Mild   \n",
              "6       14532  Training                O           5             Mild   \n",
              "7       14417  Training                X           5             Mild   \n",
              "8       14315  Training                X           3             Mild   \n",
              "9       12435  Training                X           4             Mild   \n",
              "\n",
              "   WOMAC_Stiffness WOMAC_Stiffness Grade  WOMAC_Physical function  \\\n",
              "0                0                  Mild                        0   \n",
              "1                1                  Mild                       10   \n",
              "2                2                  Mild                        9   \n",
              "3                2                  Mild                        9   \n",
              "4                2                  Mild                       10   \n",
              "5                2                  Mild                       14   \n",
              "6                0                  Mild                       14   \n",
              "7                2                  Mild                       14   \n",
              "8                0                  Mild                       19   \n",
              "9                2                  Mild                       17   \n",
              "\n",
              "  WOMAC_MHhysical function Grade  WOMAC_total  ...     TA-G-100  \\\n",
              "0                           Mild            1  ...  4269.232140   \n",
              "1                           Mild           11  ...    65.800971   \n",
              "2                           Mild           15  ...    86.614998   \n",
              "3                           Mild           16  ...   171.324511   \n",
              "4                           Mild           16  ...    91.740579   \n",
              "5                           Mild           19  ...    71.115243   \n",
              "6                           Mild           19  ...   423.595797   \n",
              "7                           Mild           21  ...  1007.564888   \n",
              "8                           Mild           22  ...   288.901451   \n",
              "9                           Mild           23  ...    76.648348   \n",
              "\n",
              "   Stance_CCI_TA-RF Stance_CCI_G-MH  Stance_CCI_TA-G Swing_CCI_TA-RF  \\\n",
              "0        314.177136       83.881646       614.154385      389.333912   \n",
              "1        153.624580      149.559102        59.698432      530.638524   \n",
              "2        125.859434      114.518337       132.695202      127.098338   \n",
              "3        194.930312      118.944821       291.965714      226.350609   \n",
              "4         97.493205      129.490095        93.110953      139.803202   \n",
              "5         93.166435      205.276960       124.759042       74.937783   \n",
              "6         50.351075      215.589472       147.490066      135.210984   \n",
              "7        236.522111       85.298540       401.009594      306.329810   \n",
              "8        272.857378      113.760720       269.374236      527.035183   \n",
              "9        158.726742      198.202890        94.353370      135.926913   \n",
              "\n",
              "  Swing_CCI_G-MH Swing_CCI_TA-G  swing/stance_cci(TA_RF)  \\\n",
              "0       4.029312    2455.665071                 1.239218   \n",
              "1      65.285482     185.501568                 3.454125   \n",
              "2      58.201908     212.701083                 1.009844   \n",
              "3     136.797883     213.451755                 1.161187   \n",
              "4      62.961889     133.977754                 1.433979   \n",
              "5      49.342965     186.238764                 0.804343   \n",
              "6      14.404263     788.175477                 2.685364   \n",
              "7      11.947454     938.434479                 1.295142   \n",
              "8      53.072994     405.670765                 1.931541   \n",
              "9      82.676272      83.944362                 0.856358   \n",
              "\n",
              "   swing/stance_cci(G-MH)  swing/stance_CCI(TA-G)  \n",
              "0                0.048036                3.998449  \n",
              "1                0.436520                3.107311  \n",
              "2                0.508232                1.602930  \n",
              "3                1.150095                0.731085  \n",
              "4                0.486229                1.438904  \n",
              "5                0.240373                1.492788  \n",
              "6                0.066813                5.343922  \n",
              "7                0.140066                2.340180  \n",
              "8                0.466532                1.505975  \n",
              "9                0.417129                0.889681  \n",
              "\n",
              "[10 rows x 812 columns]"
            ],
            "text/html": [
              "\n",
              "  <div id=\"df-ec76e93c-d4a9-4578-8f7f-73ea87da9005\">\n",
              "    <div class=\"colab-df-container\">\n",
              "      <div>\n",
              "<style scoped>\n",
              "    .dataframe tbody tr th:only-of-type {\n",
              "        vertical-align: middle;\n",
              "    }\n",
              "\n",
              "    .dataframe tbody tr th {\n",
              "        vertical-align: top;\n",
              "    }\n",
              "\n",
              "    .dataframe thead th {\n",
              "        text-align: right;\n",
              "    }\n",
              "</style>\n",
              "<table border=\"1\" class=\"dataframe\">\n",
              "  <thead>\n",
              "    <tr style=\"text-align: right;\">\n",
              "      <th></th>\n",
              "      <th>Patient ID</th>\n",
              "      <th>Data Type</th>\n",
              "      <th>Bone-Attribution</th>\n",
              "      <th>WOMAC_Pain</th>\n",
              "      <th>WOMAC_Pain Grade</th>\n",
              "      <th>WOMAC_Stiffness</th>\n",
              "      <th>WOMAC_Stiffness Grade</th>\n",
              "      <th>WOMAC_Physical function</th>\n",
              "      <th>WOMAC_MHhysical function Grade</th>\n",
              "      <th>WOMAC_total</th>\n",
              "      <th>...</th>\n",
              "      <th>TA-G-100</th>\n",
              "      <th>Stance_CCI_TA-RF</th>\n",
              "      <th>Stance_CCI_G-MH</th>\n",
              "      <th>Stance_CCI_TA-G</th>\n",
              "      <th>Swing_CCI_TA-RF</th>\n",
              "      <th>Swing_CCI_G-MH</th>\n",
              "      <th>Swing_CCI_TA-G</th>\n",
              "      <th>swing/stance_cci(TA_RF)</th>\n",
              "      <th>swing/stance_cci(G-MH)</th>\n",
              "      <th>swing/stance_CCI(TA-G)</th>\n",
              "    </tr>\n",
              "  </thead>\n",
              "  <tbody>\n",
              "    <tr>\n",
              "      <th>0</th>\n",
              "      <td>14532</td>\n",
              "      <td>Training</td>\n",
              "      <td>X</td>\n",
              "      <td>1</td>\n",
              "      <td>Mild</td>\n",
              "      <td>0</td>\n",
              "      <td>Mild</td>\n",
              "      <td>0</td>\n",
              "      <td>Mild</td>\n",
              "      <td>1</td>\n",
              "      <td>...</td>\n",
              "      <td>4269.232140</td>\n",
              "      <td>314.177136</td>\n",
              "      <td>83.881646</td>\n",
              "      <td>614.154385</td>\n",
              "      <td>389.333912</td>\n",
              "      <td>4.029312</td>\n",
              "      <td>2455.665071</td>\n",
              "      <td>1.239218</td>\n",
              "      <td>0.048036</td>\n",
              "      <td>3.998449</td>\n",
              "    </tr>\n",
              "    <tr>\n",
              "      <th>1</th>\n",
              "      <td>13006</td>\n",
              "      <td>Training</td>\n",
              "      <td>O</td>\n",
              "      <td>0</td>\n",
              "      <td>Mild</td>\n",
              "      <td>1</td>\n",
              "      <td>Mild</td>\n",
              "      <td>10</td>\n",
              "      <td>Mild</td>\n",
              "      <td>11</td>\n",
              "      <td>...</td>\n",
              "      <td>65.800971</td>\n",
              "      <td>153.624580</td>\n",
              "      <td>149.559102</td>\n",
              "      <td>59.698432</td>\n",
              "      <td>530.638524</td>\n",
              "      <td>65.285482</td>\n",
              "      <td>185.501568</td>\n",
              "      <td>3.454125</td>\n",
              "      <td>0.436520</td>\n",
              "      <td>3.107311</td>\n",
              "    </tr>\n",
              "    <tr>\n",
              "      <th>2</th>\n",
              "      <td>14373</td>\n",
              "      <td>Training</td>\n",
              "      <td>O</td>\n",
              "      <td>4</td>\n",
              "      <td>Mild</td>\n",
              "      <td>2</td>\n",
              "      <td>Mild</td>\n",
              "      <td>9</td>\n",
              "      <td>Mild</td>\n",
              "      <td>15</td>\n",
              "      <td>...</td>\n",
              "      <td>86.614998</td>\n",
              "      <td>125.859434</td>\n",
              "      <td>114.518337</td>\n",
              "      <td>132.695202</td>\n",
              "      <td>127.098338</td>\n",
              "      <td>58.201908</td>\n",
              "      <td>212.701083</td>\n",
              "      <td>1.009844</td>\n",
              "      <td>0.508232</td>\n",
              "      <td>1.602930</td>\n",
              "    </tr>\n",
              "    <tr>\n",
              "      <th>3</th>\n",
              "      <td>14373</td>\n",
              "      <td>Training</td>\n",
              "      <td>X</td>\n",
              "      <td>5</td>\n",
              "      <td>Mild</td>\n",
              "      <td>2</td>\n",
              "      <td>Mild</td>\n",
              "      <td>9</td>\n",
              "      <td>Mild</td>\n",
              "      <td>16</td>\n",
              "      <td>...</td>\n",
              "      <td>171.324511</td>\n",
              "      <td>194.930312</td>\n",
              "      <td>118.944821</td>\n",
              "      <td>291.965714</td>\n",
              "      <td>226.350609</td>\n",
              "      <td>136.797883</td>\n",
              "      <td>213.451755</td>\n",
              "      <td>1.161187</td>\n",
              "      <td>1.150095</td>\n",
              "      <td>0.731085</td>\n",
              "    </tr>\n",
              "    <tr>\n",
              "      <th>4</th>\n",
              "      <td>14611</td>\n",
              "      <td>Training</td>\n",
              "      <td>X</td>\n",
              "      <td>4</td>\n",
              "      <td>Mild</td>\n",
              "      <td>2</td>\n",
              "      <td>Mild</td>\n",
              "      <td>10</td>\n",
              "      <td>Mild</td>\n",
              "      <td>16</td>\n",
              "      <td>...</td>\n",
              "      <td>91.740579</td>\n",
              "      <td>97.493205</td>\n",
              "      <td>129.490095</td>\n",
              "      <td>93.110953</td>\n",
              "      <td>139.803202</td>\n",
              "      <td>62.961889</td>\n",
              "      <td>133.977754</td>\n",
              "      <td>1.433979</td>\n",
              "      <td>0.486229</td>\n",
              "      <td>1.438904</td>\n",
              "    </tr>\n",
              "    <tr>\n",
              "      <th>5</th>\n",
              "      <td>14396</td>\n",
              "      <td>Training</td>\n",
              "      <td>X</td>\n",
              "      <td>3</td>\n",
              "      <td>Mild</td>\n",
              "      <td>2</td>\n",
              "      <td>Mild</td>\n",
              "      <td>14</td>\n",
              "      <td>Mild</td>\n",
              "      <td>19</td>\n",
              "      <td>...</td>\n",
              "      <td>71.115243</td>\n",
              "      <td>93.166435</td>\n",
              "      <td>205.276960</td>\n",
              "      <td>124.759042</td>\n",
              "      <td>74.937783</td>\n",
              "      <td>49.342965</td>\n",
              "      <td>186.238764</td>\n",
              "      <td>0.804343</td>\n",
              "      <td>0.240373</td>\n",
              "      <td>1.492788</td>\n",
              "    </tr>\n",
              "    <tr>\n",
              "      <th>6</th>\n",
              "      <td>14532</td>\n",
              "      <td>Training</td>\n",
              "      <td>O</td>\n",
              "      <td>5</td>\n",
              "      <td>Mild</td>\n",
              "      <td>0</td>\n",
              "      <td>Mild</td>\n",
              "      <td>14</td>\n",
              "      <td>Mild</td>\n",
              "      <td>19</td>\n",
              "      <td>...</td>\n",
              "      <td>423.595797</td>\n",
              "      <td>50.351075</td>\n",
              "      <td>215.589472</td>\n",
              "      <td>147.490066</td>\n",
              "      <td>135.210984</td>\n",
              "      <td>14.404263</td>\n",
              "      <td>788.175477</td>\n",
              "      <td>2.685364</td>\n",
              "      <td>0.066813</td>\n",
              "      <td>5.343922</td>\n",
              "    </tr>\n",
              "    <tr>\n",
              "      <th>7</th>\n",
              "      <td>14417</td>\n",
              "      <td>Training</td>\n",
              "      <td>X</td>\n",
              "      <td>5</td>\n",
              "      <td>Mild</td>\n",
              "      <td>2</td>\n",
              "      <td>Mild</td>\n",
              "      <td>14</td>\n",
              "      <td>Mild</td>\n",
              "      <td>21</td>\n",
              "      <td>...</td>\n",
              "      <td>1007.564888</td>\n",
              "      <td>236.522111</td>\n",
              "      <td>85.298540</td>\n",
              "      <td>401.009594</td>\n",
              "      <td>306.329810</td>\n",
              "      <td>11.947454</td>\n",
              "      <td>938.434479</td>\n",
              "      <td>1.295142</td>\n",
              "      <td>0.140066</td>\n",
              "      <td>2.340180</td>\n",
              "    </tr>\n",
              "    <tr>\n",
              "      <th>8</th>\n",
              "      <td>14315</td>\n",
              "      <td>Training</td>\n",
              "      <td>X</td>\n",
              "      <td>3</td>\n",
              "      <td>Mild</td>\n",
              "      <td>0</td>\n",
              "      <td>Mild</td>\n",
              "      <td>19</td>\n",
              "      <td>Mild</td>\n",
              "      <td>22</td>\n",
              "      <td>...</td>\n",
              "      <td>288.901451</td>\n",
              "      <td>272.857378</td>\n",
              "      <td>113.760720</td>\n",
              "      <td>269.374236</td>\n",
              "      <td>527.035183</td>\n",
              "      <td>53.072994</td>\n",
              "      <td>405.670765</td>\n",
              "      <td>1.931541</td>\n",
              "      <td>0.466532</td>\n",
              "      <td>1.505975</td>\n",
              "    </tr>\n",
              "    <tr>\n",
              "      <th>9</th>\n",
              "      <td>12435</td>\n",
              "      <td>Training</td>\n",
              "      <td>X</td>\n",
              "      <td>4</td>\n",
              "      <td>Mild</td>\n",
              "      <td>2</td>\n",
              "      <td>Mild</td>\n",
              "      <td>17</td>\n",
              "      <td>Mild</td>\n",
              "      <td>23</td>\n",
              "      <td>...</td>\n",
              "      <td>76.648348</td>\n",
              "      <td>158.726742</td>\n",
              "      <td>198.202890</td>\n",
              "      <td>94.353370</td>\n",
              "      <td>135.926913</td>\n",
              "      <td>82.676272</td>\n",
              "      <td>83.944362</td>\n",
              "      <td>0.856358</td>\n",
              "      <td>0.417129</td>\n",
              "      <td>0.889681</td>\n",
              "    </tr>\n",
              "  </tbody>\n",
              "</table>\n",
              "<p>10 rows × 812 columns</p>\n",
              "</div>\n",
              "      <button class=\"colab-df-convert\" onclick=\"convertToInteractive('df-ec76e93c-d4a9-4578-8f7f-73ea87da9005')\"\n",
              "              title=\"Convert this dataframe to an interactive table.\"\n",
              "              style=\"display:none;\">\n",
              "        \n",
              "  <svg xmlns=\"http://www.w3.org/2000/svg\" height=\"24px\"viewBox=\"0 0 24 24\"\n",
              "       width=\"24px\">\n",
              "    <path d=\"M0 0h24v24H0V0z\" fill=\"none\"/>\n",
              "    <path d=\"M18.56 5.44l.94 2.06.94-2.06 2.06-.94-2.06-.94-.94-2.06-.94 2.06-2.06.94zm-11 1L8.5 8.5l.94-2.06 2.06-.94-2.06-.94L8.5 2.5l-.94 2.06-2.06.94zm10 10l.94 2.06.94-2.06 2.06-.94-2.06-.94-.94-2.06-.94 2.06-2.06.94z\"/><path d=\"M17.41 7.96l-1.37-1.37c-.4-.4-.92-.59-1.43-.59-.52 0-1.04.2-1.43.59L10.3 9.45l-7.72 7.72c-.78.78-.78 2.05 0 2.83L4 21.41c.39.39.9.59 1.41.59.51 0 1.02-.2 1.41-.59l7.78-7.78 2.81-2.81c.8-.78.8-2.07 0-2.86zM5.41 20L4 18.59l7.72-7.72 1.47 1.35L5.41 20z\"/>\n",
              "  </svg>\n",
              "      </button>\n",
              "      \n",
              "  <style>\n",
              "    .colab-df-container {\n",
              "      display:flex;\n",
              "      flex-wrap:wrap;\n",
              "      gap: 12px;\n",
              "    }\n",
              "\n",
              "    .colab-df-convert {\n",
              "      background-color: #E8F0FE;\n",
              "      border: none;\n",
              "      border-radius: 50%;\n",
              "      cursor: pointer;\n",
              "      display: none;\n",
              "      fill: #1967D2;\n",
              "      height: 32px;\n",
              "      padding: 0 0 0 0;\n",
              "      width: 32px;\n",
              "    }\n",
              "\n",
              "    .colab-df-convert:hover {\n",
              "      background-color: #E2EBFA;\n",
              "      box-shadow: 0px 1px 2px rgba(60, 64, 67, 0.3), 0px 1px 3px 1px rgba(60, 64, 67, 0.15);\n",
              "      fill: #174EA6;\n",
              "    }\n",
              "\n",
              "    [theme=dark] .colab-df-convert {\n",
              "      background-color: #3B4455;\n",
              "      fill: #D2E3FC;\n",
              "    }\n",
              "\n",
              "    [theme=dark] .colab-df-convert:hover {\n",
              "      background-color: #434B5C;\n",
              "      box-shadow: 0px 1px 3px 1px rgba(0, 0, 0, 0.15);\n",
              "      filter: drop-shadow(0px 1px 2px rgba(0, 0, 0, 0.3));\n",
              "      fill: #FFFFFF;\n",
              "    }\n",
              "  </style>\n",
              "\n",
              "      <script>\n",
              "        const buttonEl =\n",
              "          document.querySelector('#df-ec76e93c-d4a9-4578-8f7f-73ea87da9005 button.colab-df-convert');\n",
              "        buttonEl.style.display =\n",
              "          google.colab.kernel.accessAllowed ? 'block' : 'none';\n",
              "\n",
              "        async function convertToInteractive(key) {\n",
              "          const element = document.querySelector('#df-ec76e93c-d4a9-4578-8f7f-73ea87da9005');\n",
              "          const dataTable =\n",
              "            await google.colab.kernel.invokeFunction('convertToInteractive',\n",
              "                                                     [key], {});\n",
              "          if (!dataTable) return;\n",
              "\n",
              "          const docLinkHtml = 'Like what you see? Visit the ' +\n",
              "            '<a target=\"_blank\" href=https://colab.research.google.com/notebooks/data_table.ipynb>data table notebook</a>'\n",
              "            + ' to learn more about interactive tables.';\n",
              "          element.innerHTML = '';\n",
              "          dataTable['output_type'] = 'display_data';\n",
              "          await google.colab.output.renderOutput(dataTable, element);\n",
              "          const docLink = document.createElement('div');\n",
              "          docLink.innerHTML = docLinkHtml;\n",
              "          element.appendChild(docLink);\n",
              "        }\n",
              "      </script>\n",
              "    </div>\n",
              "  </div>\n",
              "  "
            ]
          },
          "metadata": {},
          "execution_count": 3
        }
      ]
    },
    {
      "cell_type": "code",
      "source": [
        "dataset.shape"
      ],
      "metadata": {
        "colab": {
          "base_uri": "https://localhost:8080/"
        },
        "id": "CSHw6o9psp-a",
        "outputId": "4cdf5df4-b641-4dee-842a-a8e744924d4a"
      },
      "execution_count": null,
      "outputs": [
        {
          "output_type": "execute_result",
          "data": {
            "text/plain": [
              "(150, 812)"
            ]
          },
          "metadata": {},
          "execution_count": 4
        }
      ]
    },
    {
      "cell_type": "code",
      "source": [
        "X = dataset.iloc[:,17:]\n",
        "y = dataset.iloc[:, 9]"
      ],
      "metadata": {
        "id": "AiTKRXiY0mdy"
      },
      "execution_count": null,
      "outputs": []
    },
    {
      "cell_type": "code",
      "source": [
        "'''\n",
        "from sklearn.model_selection import train_test_split\n",
        "X_train, X_test, y_train, y_test = train_test_split(X, y, test_size = 0.2, random_state = 0)\n",
        "'''"
      ],
      "metadata": {
        "id": "gzJ19cN22KsU",
        "colab": {
          "base_uri": "https://localhost:8080/",
          "height": 35
        },
        "outputId": "ab49e1bc-c3fc-4fee-b3b6-6a800c513c5e"
      },
      "execution_count": null,
      "outputs": [
        {
          "output_type": "execute_result",
          "data": {
            "text/plain": [
              "'\\nfrom sklearn.model_selection import train_test_split\\nX_train, X_test, y_train, y_test = train_test_split(X, y, test_size = 0.2, random_state = 0)\\n'"
            ],
            "application/vnd.google.colaboratory.intrinsic+json": {
              "type": "string"
            }
          },
          "metadata": {},
          "execution_count": 6
        }
      ]
    },
    {
      "cell_type": "code",
      "source": [
        "from sklearn.feature_selection import SelectKBest\n",
        "bestfeatures = SelectKBest(k=10)\n",
        "fit = bestfeatures.fit(X,y)"
      ],
      "metadata": {
        "id": "7SpMLBfwJhMa",
        "colab": {
          "base_uri": "https://localhost:8080/"
        },
        "outputId": "75a02309-6b14-4f29-c724-d9ffa6d85d86"
      },
      "execution_count": null,
      "outputs": [
        {
          "output_type": "stream",
          "name": "stderr",
          "text": [
            "/usr/local/lib/python3.7/dist-packages/sklearn/feature_selection/_univariate_selection.py:112: UserWarning: Features [21 22 23 24] are constant.\n",
            "  warnings.warn(\"Features %s are constant.\" % constant_features_idx, UserWarning)\n",
            "/usr/local/lib/python3.7/dist-packages/sklearn/feature_selection/_univariate_selection.py:113: RuntimeWarning: invalid value encountered in true_divide\n",
            "  f = msb / msw\n"
          ]
        }
      ]
    },
    {
      "cell_type": "code",
      "source": [
        "dfscores = pd.DataFrame(fit.scores_)\n",
        "dfcolumns = pd.DataFrame(X.columns)"
      ],
      "metadata": {
        "id": "PxTD8_-jJjtJ"
      },
      "execution_count": null,
      "outputs": []
    },
    {
      "cell_type": "code",
      "source": [
        "featureScores = pd.concat([dfcolumns,dfscores],axis=1)\n",
        "featureScores.columns = ['Specs','Score']"
      ],
      "metadata": {
        "id": "NJpll3U8Jljl"
      },
      "execution_count": null,
      "outputs": []
    },
    {
      "cell_type": "code",
      "source": [
        "number_of_feat=int(input(\"Number Of Best Features: \"))"
      ],
      "metadata": {
        "colab": {
          "base_uri": "https://localhost:8080/"
        },
        "id": "373RpO7uJnRv",
        "outputId": "98779bee-2e44-460e-bccc-96ce917ab7f6"
      },
      "execution_count": null,
      "outputs": [
        {
          "name": "stdout",
          "output_type": "stream",
          "text": [
            "Number Of Best Features: 100\n"
          ]
        }
      ]
    },
    {
      "cell_type": "code",
      "source": [
        "imp=featureScores.nlargest(number_of_feat,'Score')\n",
        "print(imp)"
      ],
      "metadata": {
        "colab": {
          "base_uri": "https://localhost:8080/"
        },
        "id": "wpio-fXlJpVd",
        "outputId": "81e986a8-9ca4-4ddc-d583-fdc598f36369"
      },
      "execution_count": null,
      "outputs": [
        {
          "output_type": "stream",
          "name": "stdout",
          "text": [
            "             Specs     Score\n",
            "777        TA-G-92  8.693856\n",
            "778        TA-G-93  8.503520\n",
            "779        TA-G-94  8.423347\n",
            "776        TA-G-91  8.210069\n",
            "780        TA-G-95  7.461294\n",
            "..             ...       ...\n",
            "258           MH78  1.430632\n",
            "57   Average_AUC_F  1.430273\n",
            "653        G-MH-69  1.423660\n",
            "570       TA-RF-87  1.421447\n",
            "593         G-MH-9  1.421262\n",
            "\n",
            "[100 rows x 2 columns]\n"
          ]
        }
      ]
    },
    {
      "cell_type": "code",
      "source": [
        "list_of_feat=[]\n",
        "\n",
        "for i in range(number_of_feat):\n",
        "  list_of_feat.append(imp.iloc[:,0:1].values[i][0])"
      ],
      "metadata": {
        "id": "Y2yoQPagJwWu"
      },
      "execution_count": null,
      "outputs": []
    },
    {
      "cell_type": "code",
      "source": [
        "X_ = dataset[list_of_feat]\n",
        "y_new = dataset.iloc[:, 9]"
      ],
      "metadata": {
        "id": "Avu3cnS0JyV-"
      },
      "execution_count": null,
      "outputs": []
    },
    {
      "cell_type": "markdown",
      "source": [
        "<font color = \"red\" size='5'>No spliting </font>"
      ],
      "metadata": {
        "id": "lkL00LOce3Uv"
      }
    },
    {
      "cell_type": "code",
      "source": [
        "#X_train=X_new.iloc[:120,:]  \n",
        "#X_test=X_new.iloc[120:,:]\n",
        "#y_train=y_new.iloc[:120]\n",
        "#y_test=y_new.iloc[120:]"
      ],
      "metadata": {
        "id": "mf2hSZmlAygT"
      },
      "execution_count": null,
      "outputs": []
    },
    {
      "cell_type": "markdown",
      "source": [
        "#Linear Regression <font color = \"red\" size='5'> (previous Version)</font>"
      ],
      "metadata": {
        "id": "KbtfkbHgd0OE"
      }
    },
    {
      "cell_type": "code",
      "source": [
        "from sklearn.linear_model import LinearRegression\n",
        "\n",
        "lin_reg = LinearRegression()\n",
        "lin_reg.fit(X_train, y_train)\n",
        "y_pred = lin_reg.predict(X_test)\n"
      ],
      "metadata": {
        "id": "lU9NGIxw2RWg"
      },
      "execution_count": null,
      "outputs": []
    },
    {
      "cell_type": "markdown",
      "source": [
        "###Taining Ploting and Result"
      ],
      "metadata": {
        "id": "sx7QykGeXzjI"
      }
    },
    {
      "cell_type": "code",
      "source": [
        "y_pred_train = lin_reg.predict(X_train)\n",
        "\n",
        "print(y_pred.shape)\n",
        "from sklearn.metrics import r2_score,mean_squared_error\n",
        "print(\"Training r2: \",r2_score(y_train,y_pred_train))\n",
        "\n",
        "\n",
        "r_sq = lin_reg.score(X_new, y_new)\n",
        "print(\"Training r_sq: \",r_sq)\n",
        "\n",
        "\n",
        "\n"
      ],
      "metadata": {
        "colab": {
          "base_uri": "https://localhost:8080/"
        },
        "id": "6eZ9f8KJWSec",
        "outputId": "265994b8-32ed-462d-9cf7-f514a6111764"
      },
      "execution_count": null,
      "outputs": [
        {
          "output_type": "stream",
          "name": "stdout",
          "text": [
            "(30,)\n",
            "Training r2:  0.8663078722202997\n",
            "Training r_sq:  -0.4832354291644758\n"
          ]
        }
      ]
    },
    {
      "cell_type": "code",
      "source": [
        "r_sq_train = lin_reg.score(X_train, y_pred_train)\n",
        "print(r_sq_train)"
      ],
      "metadata": {
        "colab": {
          "base_uri": "https://localhost:8080/"
        },
        "id": "NWPqv1CwWmNH",
        "outputId": "0dff4e4a-d3d5-4012-c484-586ade6c8497"
      },
      "execution_count": null,
      "outputs": [
        {
          "output_type": "stream",
          "name": "stdout",
          "text": [
            "1.0\n"
          ]
        }
      ]
    },
    {
      "cell_type": "code",
      "source": [
        "import matplotlib.pyplot as plt\n",
        "plt.figure(figsize=(15,10))\n",
        "plt.scatter(y_train, y_pred_train, color = \"red\")\n",
        "plt.xlabel(\"Actual\")\n",
        "plt.ylabel(\"Predicted\")\n",
        "plt.show()\n"
      ],
      "metadata": {
        "colab": {
          "base_uri": "https://localhost:8080/",
          "height": 606
        },
        "id": "2El54YfuWn1O",
        "outputId": "c7e77315-8ba2-4d34-e520-268d3d10ebaf"
      },
      "execution_count": null,
      "outputs": [
        {
          "output_type": "display_data",
          "data": {
            "text/plain": [
              "<Figure size 1080x720 with 1 Axes>"
            ],
            "image/png": "[encoded data removed]"
          },
          "metadata": {
            "needs_background": "light"
          }
        }
      ]
    },
    {
      "cell_type": "code",
      "source": [],
      "metadata": {
        "id": "nyvdkd8yaRy4"
      },
      "execution_count": null,
      "outputs": []
    },
    {
      "cell_type": "code",
      "source": [
        "pred_y_df=pd.DataFrame(\n",
        "    {\n",
        "        \"Actual Value\":y_train,\n",
        "        \"Predicted Value\":y_pred_train,\n",
        "        \"Difference\":y_train-y_pred_train\n",
        "    }\n",
        ")\n",
        "\n",
        "pred_y_df"
      ],
      "metadata": {
        "colab": {
          "base_uri": "https://localhost:8080/",
          "height": 424
        },
        "id": "FWD91cWGWqQV",
        "outputId": "0da7f7c6-2c77-46a6-83b5-c8e23f9eebeb"
      },
      "execution_count": null,
      "outputs": [
        {
          "output_type": "execute_result",
          "data": {
            "text/plain": [
              "     Actual Value  Predicted Value  Difference\n",
              "0               1         1.477153   -0.477153\n",
              "1              11        11.355232   -0.355232\n",
              "2              15        19.961281   -4.961281\n",
              "3              16        20.924647   -4.924647\n",
              "4              16        23.449502   -7.449502\n",
              "..            ...              ...         ...\n",
              "115            72        70.112884    1.887116\n",
              "116            73        66.632304    6.367696\n",
              "117            74        73.671930    0.328070\n",
              "118            74        73.546048    0.453952\n",
              "119            83        76.907372    6.092628\n",
              "\n",
              "[120 rows x 3 columns]"
            ],
            "text/html": [
              "\n",
              "  <div id=\"df-f5890b52-ef7a-44ce-b1bb-608914e88a25\">\n",
              "    <div class=\"colab-df-container\">\n",
              "      <div>\n",
              "<style scoped>\n",
              "    .dataframe tbody tr th:only-of-type {\n",
              "        vertical-align: middle;\n",
              "    }\n",
              "\n",
              "    .dataframe tbody tr th {\n",
              "        vertical-align: top;\n",
              "    }\n",
              "\n",
              "    .dataframe thead th {\n",
              "        text-align: right;\n",
              "    }\n",
              "</style>\n",
              "<table border=\"1\" class=\"dataframe\">\n",
              "  <thead>\n",
              "    <tr style=\"text-align: right;\">\n",
              "      <th></th>\n",
              "      <th>Actual Value</th>\n",
              "      <th>Predicted Value</th>\n",
              "      <th>Difference</th>\n",
              "    </tr>\n",
              "  </thead>\n",
              "  <tbody>\n",
              "    <tr>\n",
              "      <th>0</th>\n",
              "      <td>1</td>\n",
              "      <td>1.477153</td>\n",
              "      <td>-0.477153</td>\n",
              "    </tr>\n",
              "    <tr>\n",
              "      <th>1</th>\n",
              "      <td>11</td>\n",
              "      <td>11.355232</td>\n",
              "      <td>-0.355232</td>\n",
              "    </tr>\n",
              "    <tr>\n",
              "      <th>2</th>\n",
              "      <td>15</td>\n",
              "      <td>19.961281</td>\n",
              "      <td>-4.961281</td>\n",
              "    </tr>\n",
              "    <tr>\n",
              "      <th>3</th>\n",
              "      <td>16</td>\n",
              "      <td>20.924647</td>\n",
              "      <td>-4.924647</td>\n",
              "    </tr>\n",
              "    <tr>\n",
              "      <th>4</th>\n",
              "      <td>16</td>\n",
              "      <td>23.449502</td>\n",
              "      <td>-7.449502</td>\n",
              "    </tr>\n",
              "    <tr>\n",
              "      <th>...</th>\n",
              "      <td>...</td>\n",
              "      <td>...</td>\n",
              "      <td>...</td>\n",
              "    </tr>\n",
              "    <tr>\n",
              "      <th>115</th>\n",
              "      <td>72</td>\n",
              "      <td>70.112884</td>\n",
              "      <td>1.887116</td>\n",
              "    </tr>\n",
              "    <tr>\n",
              "      <th>116</th>\n",
              "      <td>73</td>\n",
              "      <td>66.632304</td>\n",
              "      <td>6.367696</td>\n",
              "    </tr>\n",
              "    <tr>\n",
              "      <th>117</th>\n",
              "      <td>74</td>\n",
              "      <td>73.671930</td>\n",
              "      <td>0.328070</td>\n",
              "    </tr>\n",
              "    <tr>\n",
              "      <th>118</th>\n",
              "      <td>74</td>\n",
              "      <td>73.546048</td>\n",
              "      <td>0.453952</td>\n",
              "    </tr>\n",
              "    <tr>\n",
              "      <th>119</th>\n",
              "      <td>83</td>\n",
              "      <td>76.907372</td>\n",
              "      <td>6.092628</td>\n",
              "    </tr>\n",
              "  </tbody>\n",
              "</table>\n",
              "<p>120 rows × 3 columns</p>\n",
              "</div>\n",
              "      <button class=\"colab-df-convert\" onclick=\"convertToInteractive('df-f5890b52-ef7a-44ce-b1bb-608914e88a25')\"\n",
              "              title=\"Convert this dataframe to an interactive table.\"\n",
              "              style=\"display:none;\">\n",
              "        \n",
              "  <svg xmlns=\"http://www.w3.org/2000/svg\" height=\"24px\"viewBox=\"0 0 24 24\"\n",
              "       width=\"24px\">\n",
              "    <path d=\"M0 0h24v24H0V0z\" fill=\"none\"/>\n",
              "    <path d=\"M18.56 5.44l.94 2.06.94-2.06 2.06-.94-2.06-.94-.94-2.06-.94 2.06-2.06.94zm-11 1L8.5 8.5l.94-2.06 2.06-.94-2.06-.94L8.5 2.5l-.94 2.06-2.06.94zm10 10l.94 2.06.94-2.06 2.06-.94-2.06-.94-.94-2.06-.94 2.06-2.06.94z\"/><path d=\"M17.41 7.96l-1.37-1.37c-.4-.4-.92-.59-1.43-.59-.52 0-1.04.2-1.43.59L10.3 9.45l-7.72 7.72c-.78.78-.78 2.05 0 2.83L4 21.41c.39.39.9.59 1.41.59.51 0 1.02-.2 1.41-.59l7.78-7.78 2.81-2.81c.8-.78.8-2.07 0-2.86zM5.41 20L4 18.59l7.72-7.72 1.47 1.35L5.41 20z\"/>\n",
              "  </svg>\n",
              "      </button>\n",
              "      \n",
              "  <style>\n",
              "    .colab-df-container {\n",
              "      display:flex;\n",
              "      flex-wrap:wrap;\n",
              "      gap: 12px;\n",
              "    }\n",
              "\n",
              "    .colab-df-convert {\n",
              "      background-color: #E8F0FE;\n",
              "      border: none;\n",
              "      border-radius: 50%;\n",
              "      cursor: pointer;\n",
              "      display: none;\n",
              "      fill: #1967D2;\n",
              "      height: 32px;\n",
              "      padding: 0 0 0 0;\n",
              "      width: 32px;\n",
              "    }\n",
              "\n",
              "    .colab-df-convert:hover {\n",
              "      background-color: #E2EBFA;\n",
              "      box-shadow: 0px 1px 2px rgba(60, 64, 67, 0.3), 0px 1px 3px 1px rgba(60, 64, 67, 0.15);\n",
              "      fill: #174EA6;\n",
              "    }\n",
              "\n",
              "    [theme=dark] .colab-df-convert {\n",
              "      background-color: #3B4455;\n",
              "      fill: #D2E3FC;\n",
              "    }\n",
              "\n",
              "    [theme=dark] .colab-df-convert:hover {\n",
              "      background-color: #434B5C;\n",
              "      box-shadow: 0px 1px 3px 1px rgba(0, 0, 0, 0.15);\n",
              "      filter: drop-shadow(0px 1px 2px rgba(0, 0, 0, 0.3));\n",
              "      fill: #FFFFFF;\n",
              "    }\n",
              "  </style>\n",
              "\n",
              "      <script>\n",
              "        const buttonEl =\n",
              "          document.querySelector('#df-f5890b52-ef7a-44ce-b1bb-608914e88a25 button.colab-df-convert');\n",
              "        buttonEl.style.display =\n",
              "          google.colab.kernel.accessAllowed ? 'block' : 'none';\n",
              "\n",
              "        async function convertToInteractive(key) {\n",
              "          const element = document.querySelector('#df-f5890b52-ef7a-44ce-b1bb-608914e88a25');\n",
              "          const dataTable =\n",
              "            await google.colab.kernel.invokeFunction('convertToInteractive',\n",
              "                                                     [key], {});\n",
              "          if (!dataTable) return;\n",
              "\n",
              "          const docLinkHtml = 'Like what you see? Visit the ' +\n",
              "            '<a target=\"_blank\" href=https://colab.research.google.com/notebooks/data_table.ipynb>data table notebook</a>'\n",
              "            + ' to learn more about interactive tables.';\n",
              "          element.innerHTML = '';\n",
              "          dataTable['output_type'] = 'display_data';\n",
              "          await google.colab.output.renderOutput(dataTable, element);\n",
              "          const docLink = document.createElement('div');\n",
              "          docLink.innerHTML = docLinkHtml;\n",
              "          element.appendChild(docLink);\n",
              "        }\n",
              "      </script>\n",
              "    </div>\n",
              "  </div>\n",
              "  "
            ]
          },
          "metadata": {},
          "execution_count": 19
        }
      ]
    },
    {
      "cell_type": "code",
      "source": [
        "# The mean squared error\n",
        "print(\"Mean squared error: %.2f\" % mean_squared_error(y_train, y_pred_train))\n",
        "# The coefficient of determination: 1 is perfect prediction\n",
        "print(\"Coefficient of determination: %.2f\" % r2_score(y_train, y_pred_train))\n",
        "\n"
      ],
      "metadata": {
        "colab": {
          "base_uri": "https://localhost:8080/"
        },
        "id": "G5RI5cjnWq0z",
        "outputId": "bd82c2ca-265d-4bee-9219-4ebadb3ca5c1"
      },
      "execution_count": null,
      "outputs": [
        {
          "output_type": "stream",
          "name": "stdout",
          "text": [
            "Mean squared error: 32.86\n",
            "Coefficient of determination: 0.87\n"
          ]
        }
      ]
    },
    {
      "cell_type": "code",
      "source": [
        "import seaborn as sns\n",
        "\n",
        "sns.set(rc={'figure.figsize':(12,10)})\n",
        "scatter_poly2 = sns.lmplot(\n",
        "    data = pred_y_df, \n",
        "    x = \"Actual Value\",\n",
        "    y = \"Predicted Value\",\n",
        "    order = 2\n",
        ")\n",
        "\n"
      ],
      "metadata": {
        "colab": {
          "base_uri": "https://localhost:8080/",
          "height": 365
        },
        "id": "hwJSCaBbWuV6",
        "outputId": "92f88f94-f1ff-42d6-99aa-69a85868a6f6"
      },
      "execution_count": null,
      "outputs": [
        {
          "output_type": "display_data",
          "data": {
            "text/plain": [
              "<Figure size 360x360 with 1 Axes>"
            ],
            "image/png": "[encoded data removed]"
          },
          "metadata": {}
        }
      ]
    },
    {
      "cell_type": "code",
      "source": [
        "sns.regplot(x=\"Actual Value\", y=\"Predicted Value\", data=pred_y_df);\n",
        "\n",
        "\n"
      ],
      "metadata": {
        "colab": {
          "base_uri": "https://localhost:8080/",
          "height": 611
        },
        "id": "qXyh7HGwWw_6",
        "outputId": "f3e95c7e-24be-4b8d-f5bf-98bd2632a596"
      },
      "execution_count": null,
      "outputs": [
        {
          "output_type": "display_data",
          "data": {
            "text/plain": [
              "<Figure size 864x720 with 1 Axes>"
            ],
            "image/png": "[encoded data removed]"
          },
          "metadata": {}
        }
      ]
    },
    {
      "cell_type": "markdown",
      "source": [
        "###Testing Ploting and Result"
      ],
      "metadata": {
        "id": "qXdK1hpkYVmJ"
      }
    },
    {
      "cell_type": "code",
      "source": [
        "y_pred_test = lin_reg.predict(X_test)\n",
        "\n",
        "\n",
        "from sklearn.metrics import r2_score,mean_squared_error\n",
        "print(\"Testing r2: \",r2_score(y_test,y_pred_test))\n",
        "\n",
        "r_sq = lin_reg.score(X_new, y_new)\n",
        "print(\"R_sq: \",r_sq)"
      ],
      "metadata": {
        "colab": {
          "base_uri": "https://localhost:8080/"
        },
        "id": "mRj0_o_wuTG4",
        "outputId": "b32e4a0e-776f-4ce5-9b43-02b628fa43e4"
      },
      "execution_count": null,
      "outputs": [
        {
          "output_type": "stream",
          "name": "stdout",
          "text": [
            "Testing r2:  -3.2186644078407545\n",
            "R_sq:  -0.4832354291644758\n"
          ]
        }
      ]
    },
    {
      "cell_type": "code",
      "source": [
        "r_sq_test = lin_reg.score(X_test, y_pred_test)\n",
        "print(r_sq_test)"
      ],
      "metadata": {
        "colab": {
          "base_uri": "https://localhost:8080/"
        },
        "id": "ItP1GkjXL2qM",
        "outputId": "16b7b129-c078-467c-b175-62f99b527ce6"
      },
      "execution_count": null,
      "outputs": [
        {
          "output_type": "stream",
          "name": "stdout",
          "text": [
            "1.0\n"
          ]
        }
      ]
    },
    {
      "cell_type": "code",
      "source": [
        "import matplotlib.pyplot as plt\n",
        "plt.figure(figsize=(15,10))\n",
        "plt.scatter(y_test, y_pred_test, color = \"red\")\n",
        "plt.xlabel(\"Actual\")\n",
        "plt.ylabel(\"Predicted\")\n",
        "plt.show()"
      ],
      "metadata": {
        "colab": {
          "base_uri": "https://localhost:8080/",
          "height": 611
        },
        "id": "bqDGyYc8vjk1",
        "outputId": "0e427ecd-c1e4-4749-b36d-373a62c3da86"
      },
      "execution_count": null,
      "outputs": [
        {
          "output_type": "display_data",
          "data": {
            "text/plain": [
              "<Figure size 1080x720 with 1 Axes>"
            ],
            "image/png": "[encoded data removed]"
          },
          "metadata": {}
        }
      ]
    },
    {
      "cell_type": "code",
      "source": [
        "pred_y_df=pd.DataFrame(\n",
        "    {\n",
        "        \"Actual Value\":y_test,\n",
        "        \"Predicted Value\":y_pred_test,\n",
        "        \"Difference\":y_test-y_pred_test\n",
        "    }\n",
        ")\n",
        "\n",
        "pred_y_df\n"
      ],
      "metadata": {
        "colab": {
          "base_uri": "https://localhost:8080/",
          "height": 990
        },
        "id": "we5fm-kfxYww",
        "outputId": "a83ed67a-976b-4232-a5cf-fce30bb83b8a"
      },
      "execution_count": null,
      "outputs": [
        {
          "output_type": "execute_result",
          "data": {
            "text/plain": [
              "     Actual Value  Predicted Value  Difference\n",
              "120            86        98.711879  -12.711879\n",
              "121            95        42.414642   52.585358\n",
              "122            96        23.191518   72.808482\n",
              "123            13       -27.531686   40.531686\n",
              "124            19        21.883326   -2.883326\n",
              "125            22       -13.803539   35.803539\n",
              "126            24        68.547302  -44.547302\n",
              "127            28       194.371461 -166.371461\n",
              "128            33        18.898742   14.101258\n",
              "129            35        64.035652  -29.035652\n",
              "130            38         5.062652   32.937348\n",
              "131            39        -5.008189   44.008189\n",
              "132            42        54.754482  -12.754482\n",
              "133            43        61.129822  -18.129822\n",
              "134            44       -21.628140   65.628140\n",
              "135            46        37.043058    8.956942\n",
              "136            47        49.802905   -2.802905\n",
              "137            48        55.421885   -7.421885\n",
              "138            51       121.285492  -70.285492\n",
              "139            52        78.358954  -26.358954\n",
              "140            53        19.636439   33.363561\n",
              "141            55        20.111725   34.888275\n",
              "142            57        35.074190   21.925810\n",
              "143            59        47.202392   11.797608\n",
              "144            62        14.853739   47.146261\n",
              "145            66       100.939452  -34.939452\n",
              "146            70        51.432738   18.567262\n",
              "147            72        42.868409   29.131591\n",
              "148            83        73.415767    9.584233\n",
              "149            95        75.553287   19.446713"
            ],
            "text/html": [
              "\n",
              "  <div id=\"df-9dc99de2-9583-4544-abe1-e731e2435acc\">\n",
              "    <div class=\"colab-df-container\">\n",
              "      <div>\n",
              "<style scoped>\n",
              "    .dataframe tbody tr th:only-of-type {\n",
              "        vertical-align: middle;\n",
              "    }\n",
              "\n",
              "    .dataframe tbody tr th {\n",
              "        vertical-align: top;\n",
              "    }\n",
              "\n",
              "    .dataframe thead th {\n",
              "        text-align: right;\n",
              "    }\n",
              "</style>\n",
              "<table border=\"1\" class=\"dataframe\">\n",
              "  <thead>\n",
              "    <tr style=\"text-align: right;\">\n",
              "      <th></th>\n",
              "      <th>Actual Value</th>\n",
              "      <th>Predicted Value</th>\n",
              "      <th>Difference</th>\n",
              "    </tr>\n",
              "  </thead>\n",
              "  <tbody>\n",
              "    <tr>\n",
              "      <th>120</th>\n",
              "      <td>86</td>\n",
              "      <td>98.711879</td>\n",
              "      <td>-12.711879</td>\n",
              "    </tr>\n",
              "    <tr>\n",
              "      <th>121</th>\n",
              "      <td>95</td>\n",
              "      <td>42.414642</td>\n",
              "      <td>52.585358</td>\n",
              "    </tr>\n",
              "    <tr>\n",
              "      <th>122</th>\n",
              "      <td>96</td>\n",
              "      <td>23.191518</td>\n",
              "      <td>72.808482</td>\n",
              "    </tr>\n",
              "    <tr>\n",
              "      <th>123</th>\n",
              "      <td>13</td>\n",
              "      <td>-27.531686</td>\n",
              "      <td>40.531686</td>\n",
              "    </tr>\n",
              "    <tr>\n",
              "      <th>124</th>\n",
              "      <td>19</td>\n",
              "      <td>21.883326</td>\n",
              "      <td>-2.883326</td>\n",
              "    </tr>\n",
              "    <tr>\n",
              "      <th>125</th>\n",
              "      <td>22</td>\n",
              "      <td>-13.803539</td>\n",
              "      <td>35.803539</td>\n",
              "    </tr>\n",
              "    <tr>\n",
              "      <th>126</th>\n",
              "      <td>24</td>\n",
              "      <td>68.547302</td>\n",
              "      <td>-44.547302</td>\n",
              "    </tr>\n",
              "    <tr>\n",
              "      <th>127</th>\n",
              "      <td>28</td>\n",
              "      <td>194.371461</td>\n",
              "      <td>-166.371461</td>\n",
              "    </tr>\n",
              "    <tr>\n",
              "      <th>128</th>\n",
              "      <td>33</td>\n",
              "      <td>18.898742</td>\n",
              "      <td>14.101258</td>\n",
              "    </tr>\n",
              "    <tr>\n",
              "      <th>129</th>\n",
              "      <td>35</td>\n",
              "      <td>64.035652</td>\n",
              "      <td>-29.035652</td>\n",
              "    </tr>\n",
              "    <tr>\n",
              "      <th>130</th>\n",
              "      <td>38</td>\n",
              "      <td>5.062652</td>\n",
              "      <td>32.937348</td>\n",
              "    </tr>\n",
              "    <tr>\n",
              "      <th>131</th>\n",
              "      <td>39</td>\n",
              "      <td>-5.008189</td>\n",
              "      <td>44.008189</td>\n",
              "    </tr>\n",
              "    <tr>\n",
              "      <th>132</th>\n",
              "      <td>42</td>\n",
              "      <td>54.754482</td>\n",
              "      <td>-12.754482</td>\n",
              "    </tr>\n",
              "    <tr>\n",
              "      <th>133</th>\n",
              "      <td>43</td>\n",
              "      <td>61.129822</td>\n",
              "      <td>-18.129822</td>\n",
              "    </tr>\n",
              "    <tr>\n",
              "      <th>134</th>\n",
              "      <td>44</td>\n",
              "      <td>-21.628140</td>\n",
              "      <td>65.628140</td>\n",
              "    </tr>\n",
              "    <tr>\n",
              "      <th>135</th>\n",
              "      <td>46</td>\n",
              "      <td>37.043058</td>\n",
              "      <td>8.956942</td>\n",
              "    </tr>\n",
              "    <tr>\n",
              "      <th>136</th>\n",
              "      <td>47</td>\n",
              "      <td>49.802905</td>\n",
              "      <td>-2.802905</td>\n",
              "    </tr>\n",
              "    <tr>\n",
              "      <th>137</th>\n",
              "      <td>48</td>\n",
              "      <td>55.421885</td>\n",
              "      <td>-7.421885</td>\n",
              "    </tr>\n",
              "    <tr>\n",
              "      <th>138</th>\n",
              "      <td>51</td>\n",
              "      <td>121.285492</td>\n",
              "      <td>-70.285492</td>\n",
              "    </tr>\n",
              "    <tr>\n",
              "      <th>139</th>\n",
              "      <td>52</td>\n",
              "      <td>78.358954</td>\n",
              "      <td>-26.358954</td>\n",
              "    </tr>\n",
              "    <tr>\n",
              "      <th>140</th>\n",
              "      <td>53</td>\n",
              "      <td>19.636439</td>\n",
              "      <td>33.363561</td>\n",
              "    </tr>\n",
              "    <tr>\n",
              "      <th>141</th>\n",
              "      <td>55</td>\n",
              "      <td>20.111725</td>\n",
              "      <td>34.888275</td>\n",
              "    </tr>\n",
              "    <tr>\n",
              "      <th>142</th>\n",
              "      <td>57</td>\n",
              "      <td>35.074190</td>\n",
              "      <td>21.925810</td>\n",
              "    </tr>\n",
              "    <tr>\n",
              "      <th>143</th>\n",
              "      <td>59</td>\n",
              "      <td>47.202392</td>\n",
              "      <td>11.797608</td>\n",
              "    </tr>\n",
              "    <tr>\n",
              "      <th>144</th>\n",
              "      <td>62</td>\n",
              "      <td>14.853739</td>\n",
              "      <td>47.146261</td>\n",
              "    </tr>\n",
              "    <tr>\n",
              "      <th>145</th>\n",
              "      <td>66</td>\n",
              "      <td>100.939452</td>\n",
              "      <td>-34.939452</td>\n",
              "    </tr>\n",
              "    <tr>\n",
              "      <th>146</th>\n",
              "      <td>70</td>\n",
              "      <td>51.432738</td>\n",
              "      <td>18.567262</td>\n",
              "    </tr>\n",
              "    <tr>\n",
              "      <th>147</th>\n",
              "      <td>72</td>\n",
              "      <td>42.868409</td>\n",
              "      <td>29.131591</td>\n",
              "    </tr>\n",
              "    <tr>\n",
              "      <th>148</th>\n",
              "      <td>83</td>\n",
              "      <td>73.415767</td>\n",
              "      <td>9.584233</td>\n",
              "    </tr>\n",
              "    <tr>\n",
              "      <th>149</th>\n",
              "      <td>95</td>\n",
              "      <td>75.553287</td>\n",
              "      <td>19.446713</td>\n",
              "    </tr>\n",
              "  </tbody>\n",
              "</table>\n",
              "</div>\n",
              "      <button class=\"colab-df-convert\" onclick=\"convertToInteractive('df-9dc99de2-9583-4544-abe1-e731e2435acc')\"\n",
              "              title=\"Convert this dataframe to an interactive table.\"\n",
              "              style=\"display:none;\">\n",
              "        \n",
              "  <svg xmlns=\"http://www.w3.org/2000/svg\" height=\"24px\"viewBox=\"0 0 24 24\"\n",
              "       width=\"24px\">\n",
              "    <path d=\"M0 0h24v24H0V0z\" fill=\"none\"/>\n",
              "    <path d=\"M18.56 5.44l.94 2.06.94-2.06 2.06-.94-2.06-.94-.94-2.06-.94 2.06-2.06.94zm-11 1L8.5 8.5l.94-2.06 2.06-.94-2.06-.94L8.5 2.5l-.94 2.06-2.06.94zm10 10l.94 2.06.94-2.06 2.06-.94-2.06-.94-.94-2.06-.94 2.06-2.06.94z\"/><path d=\"M17.41 7.96l-1.37-1.37c-.4-.4-.92-.59-1.43-.59-.52 0-1.04.2-1.43.59L10.3 9.45l-7.72 7.72c-.78.78-.78 2.05 0 2.83L4 21.41c.39.39.9.59 1.41.59.51 0 1.02-.2 1.41-.59l7.78-7.78 2.81-2.81c.8-.78.8-2.07 0-2.86zM5.41 20L4 18.59l7.72-7.72 1.47 1.35L5.41 20z\"/>\n",
              "  </svg>\n",
              "      </button>\n",
              "      \n",
              "  <style>\n",
              "    .colab-df-container {\n",
              "      display:flex;\n",
              "      flex-wrap:wrap;\n",
              "      gap: 12px;\n",
              "    }\n",
              "\n",
              "    .colab-df-convert {\n",
              "      background-color: #E8F0FE;\n",
              "      border: none;\n",
              "      border-radius: 50%;\n",
              "      cursor: pointer;\n",
              "      display: none;\n",
              "      fill: #1967D2;\n",
              "      height: 32px;\n",
              "      padding: 0 0 0 0;\n",
              "      width: 32px;\n",
              "    }\n",
              "\n",
              "    .colab-df-convert:hover {\n",
              "      background-color: #E2EBFA;\n",
              "      box-shadow: 0px 1px 2px rgba(60, 64, 67, 0.3), 0px 1px 3px 1px rgba(60, 64, 67, 0.15);\n",
              "      fill: #174EA6;\n",
              "    }\n",
              "\n",
              "    [theme=dark] .colab-df-convert {\n",
              "      background-color: #3B4455;\n",
              "      fill: #D2E3FC;\n",
              "    }\n",
              "\n",
              "    [theme=dark] .colab-df-convert:hover {\n",
              "      background-color: #434B5C;\n",
              "      box-shadow: 0px 1px 3px 1px rgba(0, 0, 0, 0.15);\n",
              "      filter: drop-shadow(0px 1px 2px rgba(0, 0, 0, 0.3));\n",
              "      fill: #FFFFFF;\n",
              "    }\n",
              "  </style>\n",
              "\n",
              "      <script>\n",
              "        const buttonEl =\n",
              "          document.querySelector('#df-9dc99de2-9583-4544-abe1-e731e2435acc button.colab-df-convert');\n",
              "        buttonEl.style.display =\n",
              "          google.colab.kernel.accessAllowed ? 'block' : 'none';\n",
              "\n",
              "        async function convertToInteractive(key) {\n",
              "          const element = document.querySelector('#df-9dc99de2-9583-4544-abe1-e731e2435acc');\n",
              "          const dataTable =\n",
              "            await google.colab.kernel.invokeFunction('convertToInteractive',\n",
              "                                                     [key], {});\n",
              "          if (!dataTable) return;\n",
              "\n",
              "          const docLinkHtml = 'Like what you see? Visit the ' +\n",
              "            '<a target=\"_blank\" href=https://colab.research.google.com/notebooks/data_table.ipynb>data table notebook</a>'\n",
              "            + ' to learn more about interactive tables.';\n",
              "          element.innerHTML = '';\n",
              "          dataTable['output_type'] = 'display_data';\n",
              "          await google.colab.output.renderOutput(dataTable, element);\n",
              "          const docLink = document.createElement('div');\n",
              "          docLink.innerHTML = docLinkHtml;\n",
              "          element.appendChild(docLink);\n",
              "        }\n",
              "      </script>\n",
              "    </div>\n",
              "  </div>\n",
              "  "
            ]
          },
          "metadata": {},
          "execution_count": 26
        }
      ]
    },
    {
      "cell_type": "code",
      "source": [
        "\n",
        "# The mean squared error\n",
        "print(\"Mean squared error: %.2f\" % mean_squared_error(y_test, y_pred_test))\n",
        "# The coefficient of determination: 1 is perfect prediction\n",
        "print(\"Coefficient of determination: %.2f\" % r2_score(y_test, y_pred_test))\n"
      ],
      "metadata": {
        "colab": {
          "base_uri": "https://localhost:8080/"
        },
        "id": "6tYsIrvqxrvH",
        "outputId": "175f6c4a-5823-4cc4-d163-04588b36f0ef"
      },
      "execution_count": null,
      "outputs": [
        {
          "output_type": "stream",
          "name": "stdout",
          "text": [
            "Mean squared error: 2117.40\n",
            "Coefficient of determination: -3.22\n"
          ]
        }
      ]
    },
    {
      "cell_type": "code",
      "source": [],
      "metadata": {
        "id": "UJwChuVqxrPJ"
      },
      "execution_count": null,
      "outputs": []
    },
    {
      "cell_type": "code",
      "source": [
        "import seaborn as sns\n",
        "\n",
        "sns.set(rc={'figure.figsize':(12,10)})\n",
        "scatter_poly2 = sns.lmplot(\n",
        "    data = pred_y_df, \n",
        "    x = \"Actual Value\",\n",
        "    y = \"Predicted Value\",\n",
        "    order = 2\n",
        ")"
      ],
      "metadata": {
        "colab": {
          "base_uri": "https://localhost:8080/",
          "height": 365
        },
        "id": "BTZtbOs9xrLb",
        "outputId": "d8c9c1a7-28db-4f39-b6a5-13d7f461f369"
      },
      "execution_count": null,
      "outputs": [
        {
          "output_type": "display_data",
          "data": {
            "text/plain": [
              "<Figure size 360x360 with 1 Axes>"
            ],
            "image/png": "[encoded data removed]"
          },
          "metadata": {}
        }
      ]
    },
    {
      "cell_type": "code",
      "source": [
        "sns.regplot(x=\"Actual Value\", y=\"Predicted Value\", data=pred_y_df);"
      ],
      "metadata": {
        "colab": {
          "base_uri": "https://localhost:8080/",
          "height": 611
        },
        "id": "RmChHz5JxrHD",
        "outputId": "1691ffce-8dcc-4288-ed8b-1c184c20d8d5"
      },
      "execution_count": null,
      "outputs": [
        {
          "output_type": "display_data",
          "data": {
            "text/plain": [
              "<Figure size 864x720 with 1 Axes>"
            ],
            "image/png": "[encoded data removed]"
          },
          "metadata": {}
        }
      ]
    },
    {
      "cell_type": "markdown",
      "source": [],
      "metadata": {
        "id": "JCbQpuqzaZw2"
      }
    },
    {
      "cell_type": "markdown",
      "source": [
        "###Over All dataset Ploting and Results"
      ],
      "metadata": {
        "id": "A-U9P6eSa3yC"
      }
    },
    {
      "cell_type": "code",
      "source": [
        "y_pred_new = lin_reg.predict(X_new)\n",
        "\n",
        "\n",
        "from sklearn.metrics import r2_score,mean_squared_error\n",
        "print(\"Testing r2: \",r2_score(y_new,y_pred_new))\n",
        "\n",
        "r_sq = lin_reg.score(X_new, y_new)\n",
        "print(\"R_sq: \",r_sq)"
      ],
      "metadata": {
        "colab": {
          "base_uri": "https://localhost:8080/"
        },
        "id": "wnT5dZ4CbEVf",
        "outputId": "6b6f5b74-dd00-4e23-9f24-94fc3654b16b"
      },
      "execution_count": null,
      "outputs": [
        {
          "output_type": "stream",
          "name": "stdout",
          "text": [
            "Testing r2:  -0.4832354291644758\n",
            "R_sq:  -0.4832354291644758\n"
          ]
        }
      ]
    },
    {
      "cell_type": "code",
      "source": [
        "r_sq_test = lin_reg.score(X_new, y_pred_new)\n",
        "print(r_sq_test)"
      ],
      "metadata": {
        "colab": {
          "base_uri": "https://localhost:8080/"
        },
        "id": "36ruj76fbPRQ",
        "outputId": "b976920b-45a2-479a-be64-61d2c239478a"
      },
      "execution_count": null,
      "outputs": [
        {
          "output_type": "stream",
          "name": "stdout",
          "text": [
            "1.0\n"
          ]
        }
      ]
    },
    {
      "cell_type": "code",
      "source": [
        "import matplotlib.pyplot as plt\n",
        "plt.figure(figsize=(15,10))\n",
        "plt.scatter(y_test, y_pred_test, color = \"red\")\n",
        "plt.xlabel(\"Actual\")\n",
        "plt.ylabel(\"Predicted\")\n",
        "plt.show()"
      ],
      "metadata": {
        "colab": {
          "base_uri": "https://localhost:8080/",
          "height": 611
        },
        "id": "0iXWJp6zbRWk",
        "outputId": "16080ad6-2193-4460-d9e5-a7200a4b3d29"
      },
      "execution_count": null,
      "outputs": [
        {
          "output_type": "display_data",
          "data": {
            "text/plain": [
              "<Figure size 1080x720 with 1 Axes>"
            ],
            "image/png": "[encoded data removed]"
          },
          "metadata": {}
        }
      ]
    },
    {
      "cell_type": "code",
      "source": [
        "pred_y_df=pd.DataFrame(\n",
        "    {\n",
        "        \"Actual Value\":y_new,\n",
        "        \"Predicted Value\":y_pred_new,\n",
        "        \"Difference\":y_new-y_pred_new\n",
        "    }\n",
        ")\n",
        "\n",
        "pred_y_df\n"
      ],
      "metadata": {
        "colab": {
          "base_uri": "https://localhost:8080/",
          "height": 424
        },
        "id": "vPSfv7bybUTs",
        "outputId": "a517fbfa-03da-47c0-de5f-9650b6f5274a"
      },
      "execution_count": null,
      "outputs": [
        {
          "output_type": "execute_result",
          "data": {
            "text/plain": [
              "     Actual Value  Predicted Value  Difference\n",
              "0               1         1.477153   -0.477153\n",
              "1              11        11.355232   -0.355232\n",
              "2              15        19.961281   -4.961281\n",
              "3              16        20.924647   -4.924647\n",
              "4              16        23.449502   -7.449502\n",
              "..            ...              ...         ...\n",
              "145            66       100.939452  -34.939452\n",
              "146            70        51.432738   18.567262\n",
              "147            72        42.868409   29.131591\n",
              "148            83        73.415767    9.584233\n",
              "149            95        75.553287   19.446713\n",
              "\n",
              "[150 rows x 3 columns]"
            ],
            "text/html": [
              "\n",
              "  <div id=\"df-8e2ba687-aec8-4fb9-99de-4a25da7d3b88\">\n",
              "    <div class=\"colab-df-container\">\n",
              "      <div>\n",
              "<style scoped>\n",
              "    .dataframe tbody tr th:only-of-type {\n",
              "        vertical-align: middle;\n",
              "    }\n",
              "\n",
              "    .dataframe tbody tr th {\n",
              "        vertical-align: top;\n",
              "    }\n",
              "\n",
              "    .dataframe thead th {\n",
              "        text-align: right;\n",
              "    }\n",
              "</style>\n",
              "<table border=\"1\" class=\"dataframe\">\n",
              "  <thead>\n",
              "    <tr style=\"text-align: right;\">\n",
              "      <th></th>\n",
              "      <th>Actual Value</th>\n",
              "      <th>Predicted Value</th>\n",
              "      <th>Difference</th>\n",
              "    </tr>\n",
              "  </thead>\n",
              "  <tbody>\n",
              "    <tr>\n",
              "      <th>0</th>\n",
              "      <td>1</td>\n",
              "      <td>1.477153</td>\n",
              "      <td>-0.477153</td>\n",
              "    </tr>\n",
              "    <tr>\n",
              "      <th>1</th>\n",
              "      <td>11</td>\n",
              "      <td>11.355232</td>\n",
              "      <td>-0.355232</td>\n",
              "    </tr>\n",
              "    <tr>\n",
              "      <th>2</th>\n",
              "      <td>15</td>\n",
              "      <td>19.961281</td>\n",
              "      <td>-4.961281</td>\n",
              "    </tr>\n",
              "    <tr>\n",
              "      <th>3</th>\n",
              "      <td>16</td>\n",
              "      <td>20.924647</td>\n",
              "      <td>-4.924647</td>\n",
              "    </tr>\n",
              "    <tr>\n",
              "      <th>4</th>\n",
              "      <td>16</td>\n",
              "      <td>23.449502</td>\n",
              "      <td>-7.449502</td>\n",
              "    </tr>\n",
              "    <tr>\n",
              "      <th>...</th>\n",
              "      <td>...</td>\n",
              "      <td>...</td>\n",
              "      <td>...</td>\n",
              "    </tr>\n",
              "    <tr>\n",
              "      <th>145</th>\n",
              "      <td>66</td>\n",
              "      <td>100.939452</td>\n",
              "      <td>-34.939452</td>\n",
              "    </tr>\n",
              "    <tr>\n",
              "      <th>146</th>\n",
              "      <td>70</td>\n",
              "      <td>51.432738</td>\n",
              "      <td>18.567262</td>\n",
              "    </tr>\n",
              "    <tr>\n",
              "      <th>147</th>\n",
              "      <td>72</td>\n",
              "      <td>42.868409</td>\n",
              "      <td>29.131591</td>\n",
              "    </tr>\n",
              "    <tr>\n",
              "      <th>148</th>\n",
              "      <td>83</td>\n",
              "      <td>73.415767</td>\n",
              "      <td>9.584233</td>\n",
              "    </tr>\n",
              "    <tr>\n",
              "      <th>149</th>\n",
              "      <td>95</td>\n",
              "      <td>75.553287</td>\n",
              "      <td>19.446713</td>\n",
              "    </tr>\n",
              "  </tbody>\n",
              "</table>\n",
              "<p>150 rows × 3 columns</p>\n",
              "</div>\n",
              "      <button class=\"colab-df-convert\" onclick=\"convertToInteractive('df-8e2ba687-aec8-4fb9-99de-4a25da7d3b88')\"\n",
              "              title=\"Convert this dataframe to an interactive table.\"\n",
              "              style=\"display:none;\">\n",
              "        \n",
              "  <svg xmlns=\"http://www.w3.org/2000/svg\" height=\"24px\"viewBox=\"0 0 24 24\"\n",
              "       width=\"24px\">\n",
              "    <path d=\"M0 0h24v24H0V0z\" fill=\"none\"/>\n",
              "    <path d=\"M18.56 5.44l.94 2.06.94-2.06 2.06-.94-2.06-.94-.94-2.06-.94 2.06-2.06.94zm-11 1L8.5 8.5l.94-2.06 2.06-.94-2.06-.94L8.5 2.5l-.94 2.06-2.06.94zm10 10l.94 2.06.94-2.06 2.06-.94-2.06-.94-.94-2.06-.94 2.06-2.06.94z\"/><path d=\"M17.41 7.96l-1.37-1.37c-.4-.4-.92-.59-1.43-.59-.52 0-1.04.2-1.43.59L10.3 9.45l-7.72 7.72c-.78.78-.78 2.05 0 2.83L4 21.41c.39.39.9.59 1.41.59.51 0 1.02-.2 1.41-.59l7.78-7.78 2.81-2.81c.8-.78.8-2.07 0-2.86zM5.41 20L4 18.59l7.72-7.72 1.47 1.35L5.41 20z\"/>\n",
              "  </svg>\n",
              "      </button>\n",
              "      \n",
              "  <style>\n",
              "    .colab-df-container {\n",
              "      display:flex;\n",
              "      flex-wrap:wrap;\n",
              "      gap: 12px;\n",
              "    }\n",
              "\n",
              "    .colab-df-convert {\n",
              "      background-color: #E8F0FE;\n",
              "      border: none;\n",
              "      border-radius: 50%;\n",
              "      cursor: pointer;\n",
              "      display: none;\n",
              "      fill: #1967D2;\n",
              "      height: 32px;\n",
              "      padding: 0 0 0 0;\n",
              "      width: 32px;\n",
              "    }\n",
              "\n",
              "    .colab-df-convert:hover {\n",
              "      background-color: #E2EBFA;\n",
              "      box-shadow: 0px 1px 2px rgba(60, 64, 67, 0.3), 0px 1px 3px 1px rgba(60, 64, 67, 0.15);\n",
              "      fill: #174EA6;\n",
              "    }\n",
              "\n",
              "    [theme=dark] .colab-df-convert {\n",
              "      background-color: #3B4455;\n",
              "      fill: #D2E3FC;\n",
              "    }\n",
              "\n",
              "    [theme=dark] .colab-df-convert:hover {\n",
              "      background-color: #434B5C;\n",
              "      box-shadow: 0px 1px 3px 1px rgba(0, 0, 0, 0.15);\n",
              "      filter: drop-shadow(0px 1px 2px rgba(0, 0, 0, 0.3));\n",
              "      fill: #FFFFFF;\n",
              "    }\n",
              "  </style>\n",
              "\n",
              "      <script>\n",
              "        const buttonEl =\n",
              "          document.querySelector('#df-8e2ba687-aec8-4fb9-99de-4a25da7d3b88 button.colab-df-convert');\n",
              "        buttonEl.style.display =\n",
              "          google.colab.kernel.accessAllowed ? 'block' : 'none';\n",
              "\n",
              "        async function convertToInteractive(key) {\n",
              "          const element = document.querySelector('#df-8e2ba687-aec8-4fb9-99de-4a25da7d3b88');\n",
              "          const dataTable =\n",
              "            await google.colab.kernel.invokeFunction('convertToInteractive',\n",
              "                                                     [key], {});\n",
              "          if (!dataTable) return;\n",
              "\n",
              "          const docLinkHtml = 'Like what you see? Visit the ' +\n",
              "            '<a target=\"_blank\" href=https://colab.research.google.com/notebooks/data_table.ipynb>data table notebook</a>'\n",
              "            + ' to learn more about interactive tables.';\n",
              "          element.innerHTML = '';\n",
              "          dataTable['output_type'] = 'display_data';\n",
              "          await google.colab.output.renderOutput(dataTable, element);\n",
              "          const docLink = document.createElement('div');\n",
              "          docLink.innerHTML = docLinkHtml;\n",
              "          element.appendChild(docLink);\n",
              "        }\n",
              "      </script>\n",
              "    </div>\n",
              "  </div>\n",
              "  "
            ]
          },
          "metadata": {},
          "execution_count": 33
        }
      ]
    },
    {
      "cell_type": "code",
      "source": [
        "\n",
        "# The mean squared error\n",
        "print(\"Mean squared error: %.2f\" % mean_squared_error(y_new, y_pred_new))\n",
        "# The coefficient of determination: 1 is perfect prediction\n",
        "print(\"Coefficient of determination: %.2f\" % r2_score(y_new, y_pred_new))\n"
      ],
      "metadata": {
        "colab": {
          "base_uri": "https://localhost:8080/"
        },
        "id": "3TRjerOebZ6S",
        "outputId": "72d71829-c0cb-4898-ca50-e9aaa4710de9"
      },
      "execution_count": null,
      "outputs": [
        {
          "output_type": "stream",
          "name": "stdout",
          "text": [
            "Mean squared error: 449.77\n",
            "Coefficient of determination: -0.48\n"
          ]
        }
      ]
    },
    {
      "cell_type": "code",
      "source": [
        "import seaborn as sns\n",
        "\n",
        "sns.set(rc={'figure.figsize':(12,10)})\n",
        "scatter_poly2 = sns.lmplot(\n",
        "    data = pred_y_df, \n",
        "    x = \"Actual Value\",\n",
        "    y = \"Predicted Value\",\n",
        "    order = 2\n",
        ")"
      ],
      "metadata": {
        "colab": {
          "base_uri": "https://localhost:8080/",
          "height": 365
        },
        "id": "8jyo4T5tbcX7",
        "outputId": "3bb711cf-852b-46d9-b21a-b68e50ca2643"
      },
      "execution_count": null,
      "outputs": [
        {
          "output_type": "display_data",
          "data": {
            "text/plain": [
              "<Figure size 360x360 with 1 Axes>"
            ],
            "image/png": "[encoded data removed]"
          },
          "metadata": {}
        }
      ]
    },
    {
      "cell_type": "code",
      "source": [
        "sns.regplot(x=\"Actual Value\", y=\"Predicted Value\", data=pred_y_df);"
      ],
      "metadata": {
        "colab": {
          "base_uri": "https://localhost:8080/",
          "height": 611
        },
        "id": "q2_P8WDGbe9D",
        "outputId": "b01357e7-7639-4d64-c930-3ef0d7bdc0af"
      },
      "execution_count": null,
      "outputs": [
        {
          "output_type": "display_data",
          "data": {
            "text/plain": [
              "<Figure size 864x720 with 1 Axes>"
            ],
            "image/png": "[encoded data removed]"
          },
          "metadata": {}
        }
      ]
    },
    {
      "cell_type": "markdown",
      "source": [
        "**SHAP**"
      ],
      "metadata": {
        "id": "hAhL_iirn8Wz"
      }
    },
    {
      "cell_type": "code",
      "source": [
        "!pip install shap\n",
        "import shap"
      ],
      "metadata": {
        "colab": {
          "base_uri": "https://localhost:8080/"
        },
        "id": "wDHjcAitnzZC",
        "outputId": "8dd98cff-8327-46fb-aa36-78d8c58e344b"
      },
      "execution_count": null,
      "outputs": [
        {
          "output_type": "stream",
          "name": "stdout",
          "text": [
            "Looking in indexes: https://pypi.org/simple, https://us-python.pkg.dev/colab-wheels/public/simple/\n",
            "Collecting shap\n",
            "  Downloading shap-0.41.0-cp37-cp37m-manylinux_2_12_x86_64.manylinux2010_x86_64.whl (569 kB)\n",
            "\u001b[K     |████████████████████████████████| 569 kB 5.1 MB/s \n",
            "\u001b[?25hRequirement already satisfied: tqdm>4.25.0 in /usr/local/lib/python3.7/dist-packages (from shap) (4.64.0)\n",
            "Requirement already satisfied: packaging>20.9 in /usr/local/lib/python3.7/dist-packages (from shap) (21.3)\n",
            "Requirement already satisfied: cloudpickle in /usr/local/lib/python3.7/dist-packages (from shap) (1.5.0)\n",
            "Requirement already satisfied: scipy in /usr/local/lib/python3.7/dist-packages (from shap) (1.7.3)\n",
            "Requirement already satisfied: numba in /usr/local/lib/python3.7/dist-packages (from shap) (0.56.0)\n",
            "Requirement already satisfied: scikit-learn in /usr/local/lib/python3.7/dist-packages (from shap) (1.0.2)\n",
            "Requirement already satisfied: numpy in /usr/local/lib/python3.7/dist-packages (from shap) (1.21.6)\n",
            "Requirement already satisfied: pandas in /usr/local/lib/python3.7/dist-packages (from shap) (1.3.5)\n",
            "Collecting slicer==0.0.7\n",
            "  Downloading slicer-0.0.7-py3-none-any.whl (14 kB)\n",
            "Requirement already satisfied: pyparsing!=3.0.5,>=2.0.2 in /usr/local/lib/python3.7/dist-packages (from packaging>20.9->shap) (3.0.9)\n",
            "Requirement already satisfied: setuptools in /usr/local/lib/python3.7/dist-packages (from numba->shap) (57.4.0)\n",
            "Requirement already satisfied: importlib-metadata in /usr/local/lib/python3.7/dist-packages (from numba->shap) (4.12.0)\n",
            "Requirement already satisfied: llvmlite<0.40,>=0.39.0dev0 in /usr/local/lib/python3.7/dist-packages (from numba->shap) (0.39.0)\n",
            "Requirement already satisfied: zipp>=0.5 in /usr/local/lib/python3.7/dist-packages (from importlib-metadata->numba->shap) (3.8.1)\n",
            "Requirement already satisfied: typing-extensions>=3.6.4 in /usr/local/lib/python3.7/dist-packages (from importlib-metadata->numba->shap) (4.1.1)\n",
            "Requirement already satisfied: python-dateutil>=2.7.3 in /usr/local/lib/python3.7/dist-packages (from pandas->shap) (2.8.2)\n",
            "Requirement already satisfied: pytz>=2017.3 in /usr/local/lib/python3.7/dist-packages (from pandas->shap) (2022.2.1)\n",
            "Requirement already satisfied: six>=1.5 in /usr/local/lib/python3.7/dist-packages (from python-dateutil>=2.7.3->pandas->shap) (1.15.0)\n",
            "Requirement already satisfied: joblib>=0.11 in /usr/local/lib/python3.7/dist-packages (from scikit-learn->shap) (1.1.0)\n",
            "Requirement already satisfied: threadpoolctl>=2.0.0 in /usr/local/lib/python3.7/dist-packages (from scikit-learn->shap) (3.1.0)\n",
            "Installing collected packages: slicer, shap\n",
            "Successfully installed shap-0.41.0 slicer-0.0.7\n"
          ]
        }
      ]
    },
    {
      "cell_type": "code",
      "source": [
        "import pandas as pd\n",
        "import shap\n",
        "import sklearn\n",
        "model = sklearn.linear_model.LinearRegression()\n",
        "model.fit(X_train, y_train)\n",
        "\n",
        "# compute the SHAP values for the linear model\n",
        "explainer = shap.Explainer(model.predict, X_train)\n",
        "shap_values = explainer (X_train)\n",
        "shap.plots.bar(shap_values,max_display=20)"
      ],
      "metadata": {
        "colab": {
          "base_uri": "https://localhost:8080/",
          "height": 693
        },
        "id": "w3iBOah0oCqG",
        "outputId": "9b03ed30-ba85-4a97-b848-89feb887b6f5"
      },
      "execution_count": null,
      "outputs": [
        {
          "output_type": "display_data",
          "data": {
            "text/plain": [
              "<Figure size 576x828 with 1 Axes>"
            ],
            "image/png": "[encoded data removed]"
          },
          "metadata": {}
        }
      ]
    }
  ]
}