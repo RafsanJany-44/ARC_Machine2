{
  "nbformat": 4,
  "nbformat_minor": 0,
  "metadata": {
    "colab": {
      "provenance": [],
      "machine_shape": "hm",
      "include_colab_link": true
    },
    "kernelspec": {
      "name": "python3",
      "display_name": "Python 3"
    },
    "language_info": {
      "name": "python"
    }
  },
  "cells": [
    {
      "cell_type": "markdown",
      "metadata": {
        "id": "view-in-github",
        "colab_type": "text"
      },
      "source": [
        "<a href=\"https://colab.research.google.com/github/RafsanJany-44/ARC_Machine2/blob/main/Rf1.ipynb\" target=\"_parent\"><img src=\"https://colab.research.google.com/assets/colab-badge.svg\" alt=\"Open In Colab\"/></a>"
      ]
    },
    {
      "cell_type": "code",
      "execution_count": 1,
      "metadata": {
        "id": "PMQsQtIVGgVT",
        "colab": {
          "base_uri": "https://localhost:8080/"
        },
        "outputId": "fbacb916-8b5c-4547-c872-c655b8daf720"
      },
      "outputs": [
        {
          "output_type": "stream",
          "name": "stdout",
          "text": [
            "Not connected to a GPU\n"
          ]
        }
      ],
      "source": [
        "gpu_info = !nvidia-smi\n",
        "gpu_info = '\\n'.join(gpu_info)\n",
        "if gpu_info.find('failed') >= 0:\n",
        "  print('Not connected to a GPU')\n",
        "else:\n",
        "  print(gpu_info)"
      ]
    },
    {
      "cell_type": "code",
      "source": [
        "from psutil import virtual_memory\n",
        "ram_gb = virtual_memory().total / 1e9\n",
        "print('Your runtime has {:.1f} gigabytes of available RAM\\n'.format(ram_gb))\n",
        "\n",
        "if ram_gb < 20:\n",
        "  print('Not using a high-RAM runtime')\n",
        "else:\n",
        "  print('You are using a high-RAM runtime!')"
      ],
      "metadata": {
        "id": "DakYtD5OGwJA",
        "colab": {
          "base_uri": "https://localhost:8080/"
        },
        "outputId": "2c72455e-7b3f-4335-a0b7-5124cad40d69"
      },
      "execution_count": 2,
      "outputs": [
        {
          "output_type": "stream",
          "name": "stdout",
          "text": [
            "Your runtime has 27.3 gigabytes of available RAM\n",
            "\n",
            "You are using a high-RAM runtime!\n"
          ]
        }
      ]
    },
    {
      "cell_type": "code",
      "source": [
        "!pip install imbalanced-learn\n",
        "\n",
        "from imblearn.over_sampling import SMOTE\n",
        "\n",
        "def balance(X_temp, y_temp):\n",
        "  smote = SMOTE()\n",
        "  X_temp, y_temp= smote.fit_resample(X_temp, y_temp)\n",
        "\n",
        "  return pd.concat([pd.DataFrame(X_temp), pd.DataFrame(y_temp)], axis=1)"
      ],
      "metadata": {
        "id": "6MXezXZ2GzSp",
        "colab": {
          "base_uri": "https://localhost:8080/"
        },
        "outputId": "2fb29555-7bf7-4e5e-df60-ad530395517b"
      },
      "execution_count": 3,
      "outputs": [
        {
          "output_type": "stream",
          "name": "stdout",
          "text": [
            "Looking in indexes: https://pypi.org/simple, https://us-python.pkg.dev/colab-wheels/public/simple/\n",
            "Requirement already satisfied: imbalanced-learn in /usr/local/lib/python3.7/dist-packages (0.8.1)\n",
            "Requirement already satisfied: scipy>=0.19.1 in /usr/local/lib/python3.7/dist-packages (from imbalanced-learn) (1.7.3)\n",
            "Requirement already satisfied: scikit-learn>=0.24 in /usr/local/lib/python3.7/dist-packages (from imbalanced-learn) (1.0.2)\n",
            "Requirement already satisfied: numpy>=1.13.3 in /usr/local/lib/python3.7/dist-packages (from imbalanced-learn) (1.21.6)\n",
            "Requirement already satisfied: joblib>=0.11 in /usr/local/lib/python3.7/dist-packages (from imbalanced-learn) (1.2.0)\n",
            "Requirement already satisfied: threadpoolctl>=2.0.0 in /usr/local/lib/python3.7/dist-packages (from scikit-learn>=0.24->imbalanced-learn) (3.1.0)\n"
          ]
        }
      ]
    },
    {
      "cell_type": "code",
      "source": [
        "from joblib import Parallel, delayed\n",
        "from google.colab import files\n",
        "import joblib\n",
        "  \n",
        "\n",
        "def save_model(model,model_name):\n",
        " joblib.dump(model, model_name)\n",
        "  \n",
        "def load_model(model_name):\n",
        "  return joblib.load(model_name)"
      ],
      "metadata": {
        "id": "etm2CK6pG7uo"
      },
      "execution_count": 4,
      "outputs": []
    },
    {
      "cell_type": "code",
      "source": [
        "import numpy as np\n",
        "import pandas as pd\n",
        "from tqdm import tqdm\n",
        "\n",
        "dataset=pd.read_csv(\"https://raw.githubusercontent.com/RafsanJany-44/Research_5_Stages_Sleep_Classification_HMC/main/DATA/EEG_Five_Stages_HMC.csv\")\n",
        "\n",
        "\n",
        "target=\"Sleep_Stage\"\n",
        "\n",
        "classes = np.array(sorted(list(set(dataset[target]))))\n",
        "\n",
        "dataset.head()"
      ],
      "metadata": {
        "id": "3hSaPNXpHIw2",
        "colab": {
          "base_uri": "https://localhost:8080/",
          "height": 317
        },
        "outputId": "d769f67f-da2c-4b15-a1a5-c07a3e5a892b"
      },
      "execution_count": 5,
      "outputs": [
        {
          "output_type": "execute_result",
          "data": {
            "text/plain": [
              "  Sleep_Stage  MeanP_Alpha_F4  MedianF_Alpha_F4  MeanF_Alpha_F4  \\\n",
              "0           W         0.00051           8.74146        18.48195   \n",
              "1           W         0.00040          10.24000        17.48293   \n",
              "2           W         0.00036           9.74049        17.98244   \n",
              "3           W         0.00035          10.11512        17.60780   \n",
              "4           W         0.00033           9.74049        17.60780   \n",
              "\n",
              "   Spectral Edge_Alpha_F4  PeakF_Alpha_F4  MeanP_Beta_F4  MedianF_Beta_F4  \\\n",
              "0                17.48293         8.24195        0.00071         19.73073   \n",
              "1                16.85854        10.61463        0.00051         17.23317   \n",
              "2                17.48293         8.74146        0.00047         17.60780   \n",
              "3                17.10829         9.61561        0.00047         17.35805   \n",
              "4                17.23317         8.11707        0.00043         17.23317   \n",
              "\n",
              "   MeanF_Beta_F4  Spectral Edge_Beta_F4  ...  MeanP_Delta_O2  \\\n",
              "0       29.84585               33.84195  ...         0.00724   \n",
              "1       26.34927               29.34634  ...         0.00723   \n",
              "2       25.47512               28.22244  ...         0.00230   \n",
              "3       26.47415               28.72195  ...         0.00091   \n",
              "4       25.84976               28.09756  ...         0.00175   \n",
              "\n",
              "   MedianF_Delta_O2  MeanF_Delta_O2  Spectral Edge_Delta_O2  PeakF_Delta_O2  \\\n",
              "0           0.74927         3.87122                 1.99805         0.87415   \n",
              "1           0.49951         3.74634                 1.24878         0.49951   \n",
              "2           0.62439         5.24488                 2.12293         0.62439   \n",
              "3           0.87415         6.61854                 3.12195         0.62439   \n",
              "4           0.49951         5.74439                 2.24780         0.49951   \n",
              "\n",
              "   MeanP_Gamma_O2  MedianF_Gamma_O2  MeanF_Gamma_O2  Spectral Edge_Gamma_O2  \\\n",
              "0        0.000210          35.21561        42.20878                49.95122   \n",
              "1        0.000095          34.34146        43.33268                49.95122   \n",
              "2        0.000074          34.59122        45.95512                49.95122   \n",
              "3        0.000082          32.46829        43.95707                49.95122   \n",
              "4        0.000077          33.59220        44.83122                49.95122   \n",
              "\n",
              "   PeakF_Gamma_O2  \n",
              "0        49.95122  \n",
              "1        49.95122  \n",
              "2        49.95122  \n",
              "3        49.95122  \n",
              "4        49.95122  \n",
              "\n",
              "[5 rows x 76 columns]"
            ],
            "text/html": [
              "\n",
              "  <div id=\"df-15c40bf6-6ed3-48ce-aeda-aa45ab5138eb\">\n",
              "    <div class=\"colab-df-container\">\n",
              "      <div>\n",
              "<style scoped>\n",
              "    .dataframe tbody tr th:only-of-type {\n",
              "        vertical-align: middle;\n",
              "    }\n",
              "\n",
              "    .dataframe tbody tr th {\n",
              "        vertical-align: top;\n",
              "    }\n",
              "\n",
              "    .dataframe thead th {\n",
              "        text-align: right;\n",
              "    }\n",
              "</style>\n",
              "<table border=\"1\" class=\"dataframe\">\n",
              "  <thead>\n",
              "    <tr style=\"text-align: right;\">\n",
              "      <th></th>\n",
              "      <th>Sleep_Stage</th>\n",
              "      <th>MeanP_Alpha_F4</th>\n",
              "      <th>MedianF_Alpha_F4</th>\n",
              "      <th>MeanF_Alpha_F4</th>\n",
              "      <th>Spectral Edge_Alpha_F4</th>\n",
              "      <th>PeakF_Alpha_F4</th>\n",
              "      <th>MeanP_Beta_F4</th>\n",
              "      <th>MedianF_Beta_F4</th>\n",
              "      <th>MeanF_Beta_F4</th>\n",
              "      <th>Spectral Edge_Beta_F4</th>\n",
              "      <th>...</th>\n",
              "      <th>MeanP_Delta_O2</th>\n",
              "      <th>MedianF_Delta_O2</th>\n",
              "      <th>MeanF_Delta_O2</th>\n",
              "      <th>Spectral Edge_Delta_O2</th>\n",
              "      <th>PeakF_Delta_O2</th>\n",
              "      <th>MeanP_Gamma_O2</th>\n",
              "      <th>MedianF_Gamma_O2</th>\n",
              "      <th>MeanF_Gamma_O2</th>\n",
              "      <th>Spectral Edge_Gamma_O2</th>\n",
              "      <th>PeakF_Gamma_O2</th>\n",
              "    </tr>\n",
              "  </thead>\n",
              "  <tbody>\n",
              "    <tr>\n",
              "      <th>0</th>\n",
              "      <td>W</td>\n",
              "      <td>0.00051</td>\n",
              "      <td>8.74146</td>\n",
              "      <td>18.48195</td>\n",
              "      <td>17.48293</td>\n",
              "      <td>8.24195</td>\n",
              "      <td>0.00071</td>\n",
              "      <td>19.73073</td>\n",
              "      <td>29.84585</td>\n",
              "      <td>33.84195</td>\n",
              "      <td>...</td>\n",
              "      <td>0.00724</td>\n",
              "      <td>0.74927</td>\n",
              "      <td>3.87122</td>\n",
              "      <td>1.99805</td>\n",
              "      <td>0.87415</td>\n",
              "      <td>0.000210</td>\n",
              "      <td>35.21561</td>\n",
              "      <td>42.20878</td>\n",
              "      <td>49.95122</td>\n",
              "      <td>49.95122</td>\n",
              "    </tr>\n",
              "    <tr>\n",
              "      <th>1</th>\n",
              "      <td>W</td>\n",
              "      <td>0.00040</td>\n",
              "      <td>10.24000</td>\n",
              "      <td>17.48293</td>\n",
              "      <td>16.85854</td>\n",
              "      <td>10.61463</td>\n",
              "      <td>0.00051</td>\n",
              "      <td>17.23317</td>\n",
              "      <td>26.34927</td>\n",
              "      <td>29.34634</td>\n",
              "      <td>...</td>\n",
              "      <td>0.00723</td>\n",
              "      <td>0.49951</td>\n",
              "      <td>3.74634</td>\n",
              "      <td>1.24878</td>\n",
              "      <td>0.49951</td>\n",
              "      <td>0.000095</td>\n",
              "      <td>34.34146</td>\n",
              "      <td>43.33268</td>\n",
              "      <td>49.95122</td>\n",
              "      <td>49.95122</td>\n",
              "    </tr>\n",
              "    <tr>\n",
              "      <th>2</th>\n",
              "      <td>W</td>\n",
              "      <td>0.00036</td>\n",
              "      <td>9.74049</td>\n",
              "      <td>17.98244</td>\n",
              "      <td>17.48293</td>\n",
              "      <td>8.74146</td>\n",
              "      <td>0.00047</td>\n",
              "      <td>17.60780</td>\n",
              "      <td>25.47512</td>\n",
              "      <td>28.22244</td>\n",
              "      <td>...</td>\n",
              "      <td>0.00230</td>\n",
              "      <td>0.62439</td>\n",
              "      <td>5.24488</td>\n",
              "      <td>2.12293</td>\n",
              "      <td>0.62439</td>\n",
              "      <td>0.000074</td>\n",
              "      <td>34.59122</td>\n",
              "      <td>45.95512</td>\n",
              "      <td>49.95122</td>\n",
              "      <td>49.95122</td>\n",
              "    </tr>\n",
              "    <tr>\n",
              "      <th>3</th>\n",
              "      <td>W</td>\n",
              "      <td>0.00035</td>\n",
              "      <td>10.11512</td>\n",
              "      <td>17.60780</td>\n",
              "      <td>17.10829</td>\n",
              "      <td>9.61561</td>\n",
              "      <td>0.00047</td>\n",
              "      <td>17.35805</td>\n",
              "      <td>26.47415</td>\n",
              "      <td>28.72195</td>\n",
              "      <td>...</td>\n",
              "      <td>0.00091</td>\n",
              "      <td>0.87415</td>\n",
              "      <td>6.61854</td>\n",
              "      <td>3.12195</td>\n",
              "      <td>0.62439</td>\n",
              "      <td>0.000082</td>\n",
              "      <td>32.46829</td>\n",
              "      <td>43.95707</td>\n",
              "      <td>49.95122</td>\n",
              "      <td>49.95122</td>\n",
              "    </tr>\n",
              "    <tr>\n",
              "      <th>4</th>\n",
              "      <td>W</td>\n",
              "      <td>0.00033</td>\n",
              "      <td>9.74049</td>\n",
              "      <td>17.60780</td>\n",
              "      <td>17.23317</td>\n",
              "      <td>8.11707</td>\n",
              "      <td>0.00043</td>\n",
              "      <td>17.23317</td>\n",
              "      <td>25.84976</td>\n",
              "      <td>28.09756</td>\n",
              "      <td>...</td>\n",
              "      <td>0.00175</td>\n",
              "      <td>0.49951</td>\n",
              "      <td>5.74439</td>\n",
              "      <td>2.24780</td>\n",
              "      <td>0.49951</td>\n",
              "      <td>0.000077</td>\n",
              "      <td>33.59220</td>\n",
              "      <td>44.83122</td>\n",
              "      <td>49.95122</td>\n",
              "      <td>49.95122</td>\n",
              "    </tr>\n",
              "  </tbody>\n",
              "</table>\n",
              "<p>5 rows × 76 columns</p>\n",
              "</div>\n",
              "      <button class=\"colab-df-convert\" onclick=\"convertToInteractive('df-15c40bf6-6ed3-48ce-aeda-aa45ab5138eb')\"\n",
              "              title=\"Convert this dataframe to an interactive table.\"\n",
              "              style=\"display:none;\">\n",
              "        \n",
              "  <svg xmlns=\"http://www.w3.org/2000/svg\" height=\"24px\"viewBox=\"0 0 24 24\"\n",
              "       width=\"24px\">\n",
              "    <path d=\"M0 0h24v24H0V0z\" fill=\"none\"/>\n",
              "    <path d=\"M18.56 5.44l.94 2.06.94-2.06 2.06-.94-2.06-.94-.94-2.06-.94 2.06-2.06.94zm-11 1L8.5 8.5l.94-2.06 2.06-.94-2.06-.94L8.5 2.5l-.94 2.06-2.06.94zm10 10l.94 2.06.94-2.06 2.06-.94-2.06-.94-.94-2.06-.94 2.06-2.06.94z\"/><path d=\"M17.41 7.96l-1.37-1.37c-.4-.4-.92-.59-1.43-.59-.52 0-1.04.2-1.43.59L10.3 9.45l-7.72 7.72c-.78.78-.78 2.05 0 2.83L4 21.41c.39.39.9.59 1.41.59.51 0 1.02-.2 1.41-.59l7.78-7.78 2.81-2.81c.8-.78.8-2.07 0-2.86zM5.41 20L4 18.59l7.72-7.72 1.47 1.35L5.41 20z\"/>\n",
              "  </svg>\n",
              "      </button>\n",
              "      \n",
              "  <style>\n",
              "    .colab-df-container {\n",
              "      display:flex;\n",
              "      flex-wrap:wrap;\n",
              "      gap: 12px;\n",
              "    }\n",
              "\n",
              "    .colab-df-convert {\n",
              "      background-color: #E8F0FE;\n",
              "      border: none;\n",
              "      border-radius: 50%;\n",
              "      cursor: pointer;\n",
              "      display: none;\n",
              "      fill: #1967D2;\n",
              "      height: 32px;\n",
              "      padding: 0 0 0 0;\n",
              "      width: 32px;\n",
              "    }\n",
              "\n",
              "    .colab-df-convert:hover {\n",
              "      background-color: #E2EBFA;\n",
              "      box-shadow: 0px 1px 2px rgba(60, 64, 67, 0.3), 0px 1px 3px 1px rgba(60, 64, 67, 0.15);\n",
              "      fill: #174EA6;\n",
              "    }\n",
              "\n",
              "    [theme=dark] .colab-df-convert {\n",
              "      background-color: #3B4455;\n",
              "      fill: #D2E3FC;\n",
              "    }\n",
              "\n",
              "    [theme=dark] .colab-df-convert:hover {\n",
              "      background-color: #434B5C;\n",
              "      box-shadow: 0px 1px 3px 1px rgba(0, 0, 0, 0.15);\n",
              "      filter: drop-shadow(0px 1px 2px rgba(0, 0, 0, 0.3));\n",
              "      fill: #FFFFFF;\n",
              "    }\n",
              "  </style>\n",
              "\n",
              "      <script>\n",
              "        const buttonEl =\n",
              "          document.querySelector('#df-15c40bf6-6ed3-48ce-aeda-aa45ab5138eb button.colab-df-convert');\n",
              "        buttonEl.style.display =\n",
              "          google.colab.kernel.accessAllowed ? 'block' : 'none';\n",
              "\n",
              "        async function convertToInteractive(key) {\n",
              "          const element = document.querySelector('#df-15c40bf6-6ed3-48ce-aeda-aa45ab5138eb');\n",
              "          const dataTable =\n",
              "            await google.colab.kernel.invokeFunction('convertToInteractive',\n",
              "                                                     [key], {});\n",
              "          if (!dataTable) return;\n",
              "\n",
              "          const docLinkHtml = 'Like what you see? Visit the ' +\n",
              "            '<a target=\"_blank\" href=https://colab.research.google.com/notebooks/data_table.ipynb>data table notebook</a>'\n",
              "            + ' to learn more about interactive tables.';\n",
              "          element.innerHTML = '';\n",
              "          dataTable['output_type'] = 'display_data';\n",
              "          await google.colab.output.renderOutput(dataTable, element);\n",
              "          const docLink = document.createElement('div');\n",
              "          docLink.innerHTML = docLinkHtml;\n",
              "          element.appendChild(docLink);\n",
              "        }\n",
              "      </script>\n",
              "    </div>\n",
              "  </div>\n",
              "  "
            ]
          },
          "metadata": {},
          "execution_count": 5
        }
      ]
    },
    {
      "cell_type": "code",
      "source": [
        "dataset.info()"
      ],
      "metadata": {
        "id": "XZKR1HTIHLBd",
        "colab": {
          "base_uri": "https://localhost:8080/"
        },
        "outputId": "1e0e8fff-6b77-4fef-ec67-c131bf6da272"
      },
      "execution_count": 6,
      "outputs": [
        {
          "output_type": "stream",
          "name": "stdout",
          "text": [
            "<class 'pandas.core.frame.DataFrame'>\n",
            "RangeIndex: 108451 entries, 0 to 108450\n",
            "Data columns (total 76 columns):\n",
            " #   Column                  Non-Null Count   Dtype  \n",
            "---  ------                  --------------   -----  \n",
            " 0   Sleep_Stage             108451 non-null  object \n",
            " 1   MeanP_Alpha_F4          108451 non-null  float64\n",
            " 2   MedianF_Alpha_F4        108451 non-null  float64\n",
            " 3   MeanF_Alpha_F4          108451 non-null  float64\n",
            " 4   Spectral Edge_Alpha_F4  108451 non-null  float64\n",
            " 5   PeakF_Alpha_F4          108451 non-null  float64\n",
            " 6   MeanP_Beta_F4           108451 non-null  float64\n",
            " 7   MedianF_Beta_F4         108451 non-null  float64\n",
            " 8   MeanF_Beta_F4           108451 non-null  float64\n",
            " 9   Spectral Edge_Beta_F4   108451 non-null  float64\n",
            " 10  PeakF_Beta_F4           108451 non-null  float64\n",
            " 11  MeanP_Theta_F4          108451 non-null  float64\n",
            " 12  MedianF_Theta_F4        108451 non-null  float64\n",
            " 13  MeanF_Theta_F4          108451 non-null  float64\n",
            " 14  Spectral Edge_Theta_F4  108451 non-null  float64\n",
            " 15  PeakF_Theta_F4          108451 non-null  float64\n",
            " 16  MeanP_Delta_F4          108451 non-null  float64\n",
            " 17  MedianF_Delta_F4        108451 non-null  float64\n",
            " 18  MeanF_Delta_F4          108451 non-null  float64\n",
            " 19  Spectral Edge_Delta_F4  108451 non-null  float64\n",
            " 20  PeakF_Delta_F4          108451 non-null  float64\n",
            " 21  MeanP_Gamma_F4          108451 non-null  float64\n",
            " 22  MedianF_Gamma_F4        108451 non-null  float64\n",
            " 23  MeanF_Gamma_F4          108451 non-null  float64\n",
            " 24  Spectral Edge_Gamma_F4  108451 non-null  float64\n",
            " 25  PeakF_Gamma_F4          108451 non-null  float64\n",
            " 26  MeanP_Alpha_C4          108451 non-null  float64\n",
            " 27  MedianF_Alpha_C4        108451 non-null  float64\n",
            " 28  MeanF_Alpha_C4          108451 non-null  float64\n",
            " 29  Spectral Edge_Alpha_C4  108451 non-null  float64\n",
            " 30  PeakF_Alpha_C4          108451 non-null  float64\n",
            " 31  MeanP_Beta_C4           108451 non-null  float64\n",
            " 32  MedianF_Beta_C4         108451 non-null  float64\n",
            " 33  MeanF_Beta_C4           108451 non-null  float64\n",
            " 34  Spectral Edge_Beta_C4   108451 non-null  float64\n",
            " 35  PeakF_Beta_C4           108451 non-null  float64\n",
            " 36  MeanP_Theta_C4          108451 non-null  float64\n",
            " 37  MedianF_Theta_C4        108451 non-null  float64\n",
            " 38  MeanF_Theta_C4          108451 non-null  float64\n",
            " 39  Spectral Edge_Theta_C4  108451 non-null  float64\n",
            " 40  PeakF_Theta_C4          108451 non-null  float64\n",
            " 41  MeanP_Delta_C4          108451 non-null  float64\n",
            " 42  MedianF_Delta_C4        108451 non-null  float64\n",
            " 43  MeanF_Delta_C4          108451 non-null  float64\n",
            " 44  Spectral Edge_Delta_C4  108451 non-null  float64\n",
            " 45  PeakF_Delta_C4          108451 non-null  float64\n",
            " 46  MeanP_Gamma_C4          108451 non-null  float64\n",
            " 47  MedianF_Gamma_C4        108451 non-null  float64\n",
            " 48  MeanF_Gamma_C4          108451 non-null  float64\n",
            " 49  Spectral Edge_Gamma_C4  108451 non-null  float64\n",
            " 50  PeakF_Gamma_C4          108451 non-null  float64\n",
            " 51  MeanP_Alpha_O2          108451 non-null  float64\n",
            " 52  MedianF_Alpha_O2        108451 non-null  float64\n",
            " 53  MeanF_Alpha_O2          108451 non-null  float64\n",
            " 54  Spectral Edge_Alpha_O2  108451 non-null  float64\n",
            " 55  PeakF_Alpha_O2          108451 non-null  float64\n",
            " 56  MeanP_Beta_O2           108451 non-null  float64\n",
            " 57  MedianF_Beta_O2         108451 non-null  float64\n",
            " 58  MeanF_Beta_O2           108451 non-null  float64\n",
            " 59  Spectral Edge_Beta_O2   108451 non-null  float64\n",
            " 60  PeakF_Beta_O2           108451 non-null  float64\n",
            " 61  MeanP_Theta_O2          108451 non-null  float64\n",
            " 62  MedianF_Theta_O2        108451 non-null  float64\n",
            " 63  MeanF_Theta_O2          108451 non-null  float64\n",
            " 64  Spectral Edge_Theta_O2  108451 non-null  float64\n",
            " 65  PeakF_Theta_O2          108451 non-null  float64\n",
            " 66  MeanP_Delta_O2          108451 non-null  float64\n",
            " 67  MedianF_Delta_O2        108451 non-null  float64\n",
            " 68  MeanF_Delta_O2          108451 non-null  float64\n",
            " 69  Spectral Edge_Delta_O2  108451 non-null  float64\n",
            " 70  PeakF_Delta_O2          108451 non-null  float64\n",
            " 71  MeanP_Gamma_O2          108451 non-null  float64\n",
            " 72  MedianF_Gamma_O2        108451 non-null  float64\n",
            " 73  MeanF_Gamma_O2          108451 non-null  float64\n",
            " 74  Spectral Edge_Gamma_O2  108451 non-null  float64\n",
            " 75  PeakF_Gamma_O2          108451 non-null  float64\n",
            "dtypes: float64(75), object(1)\n",
            "memory usage: 62.9+ MB\n"
          ]
        }
      ]
    },
    {
      "cell_type": "code",
      "source": [
        "set(list(dataset[target]))"
      ],
      "metadata": {
        "id": "oKhAqiroHPYz",
        "colab": {
          "base_uri": "https://localhost:8080/"
        },
        "outputId": "6d040c3b-3232-4163-f4eb-4b09a854c3b1"
      },
      "execution_count": 7,
      "outputs": [
        {
          "output_type": "execute_result",
          "data": {
            "text/plain": [
              "{'N1', 'N2', 'N3', 'R', 'W'}"
            ]
          },
          "metadata": {},
          "execution_count": 7
        }
      ]
    },
    {
      "cell_type": "code",
      "source": [
        "frequency = dataset[\"Sleep_Stage\"].value_counts()\n",
        "print(frequency)"
      ],
      "metadata": {
        "id": "GsfQGedOHVUT",
        "colab": {
          "base_uri": "https://localhost:8080/"
        },
        "outputId": "e7c8f7a2-97e5-444c-ceed-c99de077a2c5"
      },
      "execution_count": 8,
      "outputs": [
        {
          "output_type": "stream",
          "name": "stdout",
          "text": [
            "N2    39428\n",
            "N3    21290\n",
            "W     19355\n",
            "R     16465\n",
            "N1    11913\n",
            "Name: Sleep_Stage, dtype: int64\n"
          ]
        }
      ]
    },
    {
      "cell_type": "code",
      "source": [
        "\n",
        "from sklearn.preprocessing import LabelEncoder\n",
        "encoder=LabelEncoder()\n",
        "dataset[target]=encoder.fit_transform(dataset[target])"
      ],
      "metadata": {
        "id": "IJ20scedHaIX"
      },
      "execution_count": 9,
      "outputs": []
    },
    {
      "cell_type": "code",
      "source": [
        "set(list(dataset[target])) # alphabet wise"
      ],
      "metadata": {
        "id": "Kvsb2Dq8HuOy",
        "colab": {
          "base_uri": "https://localhost:8080/"
        },
        "outputId": "6b9013d5-99b2-4cf0-aa39-412682d7897a"
      },
      "execution_count": 10,
      "outputs": [
        {
          "output_type": "execute_result",
          "data": {
            "text/plain": [
              "{0, 1, 2, 3, 4}"
            ]
          },
          "metadata": {},
          "execution_count": 10
        }
      ]
    },
    {
      "cell_type": "code",
      "source": [
        "frequency = dataset[\"Sleep_Stage\"].value_counts()\n",
        "print(frequency)"
      ],
      "metadata": {
        "id": "uLJ8jPJcHxrC",
        "colab": {
          "base_uri": "https://localhost:8080/"
        },
        "outputId": "d765bd30-ea91-4bfe-8dae-e6fddf6aefae"
      },
      "execution_count": 11,
      "outputs": [
        {
          "output_type": "stream",
          "name": "stdout",
          "text": [
            "1    39428\n",
            "2    21290\n",
            "4    19355\n",
            "3    16465\n",
            "0    11913\n",
            "Name: Sleep_Stage, dtype: int64\n"
          ]
        }
      ]
    },
    {
      "cell_type": "code",
      "source": [
        "X = dataset.loc[:, dataset.columns!=target]\n",
        "y = dataset[target]"
      ],
      "metadata": {
        "id": "NUuRqXDMH0zy"
      },
      "execution_count": 12,
      "outputs": []
    },
    {
      "cell_type": "code",
      "source": [
        "from sklearn.model_selection import train_test_split\n",
        "X_train,X_test,y_train,y_test = train_test_split(X,y,test_size=0.2,random_state=0)\n"
      ],
      "metadata": {
        "id": "c1jcuzPlH45C"
      },
      "execution_count": 13,
      "outputs": []
    },
    {
      "cell_type": "code",
      "source": [
        "frequency = y_train.value_counts()\n",
        "print(frequency)"
      ],
      "metadata": {
        "id": "VSgSqnj2H8QR",
        "colab": {
          "base_uri": "https://localhost:8080/"
        },
        "outputId": "5ee820ba-093f-4e1f-a682-588b84f53b36"
      },
      "execution_count": 14,
      "outputs": [
        {
          "output_type": "stream",
          "name": "stdout",
          "text": [
            "1    31537\n",
            "2    17036\n",
            "4    15551\n",
            "3    13091\n",
            "0     9545\n",
            "Name: Sleep_Stage, dtype: int64\n"
          ]
        }
      ]
    },
    {
      "cell_type": "code",
      "source": [
        "new_dataset=balance(X_train,y_train)\n",
        "\n",
        "X_train = new_dataset.loc[:, new_dataset.columns!=target]\n",
        "y_train = new_dataset[target]"
      ],
      "metadata": {
        "id": "z04QqHQbIBe4"
      },
      "execution_count": 15,
      "outputs": []
    },
    {
      "cell_type": "code",
      "source": [
        "frequency = y_train.value_counts()\n",
        "print(frequency)"
      ],
      "metadata": {
        "id": "27rULJKnIQ7-",
        "colab": {
          "base_uri": "https://localhost:8080/"
        },
        "outputId": "d1fd9954-8646-45ff-82b6-46e14342e674"
      },
      "execution_count": 16,
      "outputs": [
        {
          "output_type": "stream",
          "name": "stdout",
          "text": [
            "0    31537\n",
            "3    31537\n",
            "2    31537\n",
            "1    31537\n",
            "4    31537\n",
            "Name: Sleep_Stage, dtype: int64\n"
          ]
        }
      ]
    },
    {
      "cell_type": "code",
      "source": [
        "from sklearn.ensemble import RandomForestClassifier\n",
        "from sklearn.metrics import accuracy_score\n",
        "from tqdm import tqdm\n",
        "N=10000\n",
        "k_range = range (2500,N+1,500)\n",
        "scores={}\n",
        "scores_list = []\n",
        "for k in tqdm(k_range):\n",
        "  classifier = RandomForestClassifier(n_estimators=k,random_state=0)\n",
        "  classifier.fit(X_train, y_train)\n",
        "  y_pred=classifier.predict(X_test)\n",
        "  scores[k] = accuracy_score(y_test,y_pred)\n",
        "  scores_list.append(accuracy_score(y_test,y_pred))\n",
        "  print(str(k)+\"/\"+str(N)+\" round completed......................... Accurecy: \"+str(accuracy_score(y_test,y_pred)))\n",
        "\n",
        "\n",
        "\n",
        "%matplotlib inline\n",
        "import matplotlib.pyplot as plt\n",
        "\n",
        "plt.figure(figsize = (25,10))\n",
        "plt.plot(k_range,scores_list)\n",
        "plt.xlabel('Value of n_estimators')\n",
        "plt.ylabel ('Testing Accuracy')\n",
        "\n",
        "\n",
        "\n",
        "print(\"The best n_estimators:\")\n",
        "best_estimator=list(scores.keys())[scores_list.index(max(scores_list))]\n",
        "print(best_estimator)"
      ],
      "metadata": {
        "colab": {
          "base_uri": "https://localhost:8080/"
        },
        "id": "B1dlCj6zY9nr",
        "outputId": "53e09057-8aec-4532-e390-afbda8563feb"
      },
      "execution_count": null,
      "outputs": [
        {
          "metadata": {
            "tags": null
          },
          "name": "stderr",
          "output_type": "stream",
          "text": [
            "  6%|▋         | 1/16 [1:00:58<15:14:36, 3658.41s/it]"
          ]
        },
        {
          "metadata": {
            "tags": null
          },
          "name": "stdout",
          "output_type": "stream",
          "text": [
            "2500/10000 round completed......................... Accurecy: 0.7891291318980223\n"
          ]
        },
        {
          "metadata": {
            "tags": null
          },
          "name": "stderr",
          "output_type": "stream",
          "text": [
            "\r 12%|█▎        | 2/16 [2:14:51<15:59:55, 4113.96s/it]"
          ]
        },
        {
          "metadata": {
            "tags": null
          },
          "name": "stdout",
          "output_type": "stream",
          "text": [
            "3000/10000 round completed......................... Accurecy: 0.789221336037988\n"
          ]
        },
        {
          "metadata": {
            "tags": null
          },
          "name": "stderr",
          "output_type": "stream",
          "text": [
            "\r 19%|█▉        | 3/16 [3:43:12<16:48:47, 4655.95s/it]"
          ]
        },
        {
          "metadata": {
            "tags": null
          },
          "name": "stdout",
          "output_type": "stream",
          "text": [
            "3500/10000 round completed......................... Accurecy: 0.789221336037988\n"
          ]
        },
        {
          "output_type": "stream",
          "name": "stderr",
          "text": [
            "\r 25%|██▌       | 4/16 [5:24:31<17:23:33, 5217.78s/it]"
          ]
        },
        {
          "output_type": "stream",
          "name": "stdout",
          "text": [
            "4000/10000 round completed......................... Accurecy: 0.7884376008482781\n"
          ]
        },
        {
          "output_type": "stream",
          "name": "stderr",
          "text": [
            "\r 31%|███▏      | 5/16 [7:19:14<17:46:40, 5818.19s/it]"
          ]
        },
        {
          "output_type": "stream",
          "name": "stdout",
          "text": [
            "4500/10000 round completed......................... Accurecy: 0.7886220091282099\n"
          ]
        },
        {
          "output_type": "stream",
          "name": "stderr",
          "text": [
            "\r 38%|███▊      | 6/16 [9:25:27<17:49:10, 6415.05s/it]"
          ]
        },
        {
          "output_type": "stream",
          "name": "stdout",
          "text": [
            "5000/10000 round completed......................... Accurecy: 0.7884376008482781\n"
          ]
        }
      ]
    },
    {
      "cell_type": "code",
      "source": [
        "from sklearn.ensemble import RandomForestClassifier\n",
        "rf_estimator = RandomForestClassifier(n_estimators=best_estimator,random_state=0)\n",
        "rf_estimator.fit(X_train, y_train)\n",
        "y_pred=rf_estimator.predict(X_test)\n",
        "\n",
        "\n",
        "from sklearn.metrics import classification_report, confusion_matrix, accuracy_score\n",
        "print(confusion_matrix(y_test, y_pred))\n",
        "print(classification_report(y_test,y_pred))\n",
        "print(\"Accurecy: \",accuracy_score(y_test, y_pred))\n",
        "\n",
        "save_model(rf_estimator,\"Best_est_\"+str(rf_estimator))\n",
        "#files.download(\"max_depth_\"+str(rf_estimator))"
      ],
      "metadata": {
        "id": "IYu8YMhbZRBj"
      },
      "execution_count": null,
      "outputs": []
    }
  ]
}