{
  "nbformat": 4,
  "nbformat_minor": 0,
  "metadata": {
    "colab": {
      "name": "WOMAC_Regression_Version100.ipynb",
      "provenance": [],
      "include_colab_link": true
    },
    "kernelspec": {
      "name": "python3",
      "display_name": "Python 3"
    },
    "language_info": {
      "name": "python"
    }
  },
  "cells": [
    {
      "cell_type": "markdown",
      "metadata": {
        "id": "view-in-github",
        "colab_type": "text"
      },
      "source": [
        "<a href=\"https://colab.research.google.com/github/RafsanJany-44/ARC_Machine2/blob/main/WOMAC_Regression_Version100.ipynb\" target=\"_parent\"><img src=\"https://colab.research.google.com/assets/colab-badge.svg\" alt=\"Open In Colab\"/></a>"
      ]
    },
    {
      "cell_type": "code",
      "execution_count": 125,
      "metadata": {
        "colab": {
          "base_uri": "https://localhost:8080/"
        },
        "id": "vj6jHu9WkVnY",
        "outputId": "815a6fde-82c0-43fc-c24b-f97d26284a51"
      },
      "outputs": [
        {
          "output_type": "stream",
          "name": "stdout",
          "text": [
            "Drive already mounted at /content/drive; to attempt to forcibly remount, call drive.mount(\"/content/drive\", force_remount=True).\n"
          ]
        }
      ],
      "source": [
        "from google.colab import drive\n",
        "drive.mount('/content/drive')"
      ]
    },
    {
      "cell_type": "code",
      "source": [
        "import numpy as np\n",
        "import pandas as pd\n",
        "dataset=pd.read_csv(\"/content/drive/MyDrive/Iqram Sir/KOA_EMG_WOMAC__2022.08.29_Final_W-tempo-spatial.csv\")\n"
      ],
      "metadata": {
        "id": "j77BeUU4sbVU"
      },
      "execution_count": 126,
      "outputs": []
    },
    {
      "cell_type": "code",
      "source": [
        "dataset.head(10)"
      ],
      "metadata": {
        "colab": {
          "base_uri": "https://localhost:8080/",
          "height": 473
        },
        "id": "G14KmjKWsn2_",
        "outputId": "3d36f38f-133d-42ef-e6b9-7020c0018362"
      },
      "execution_count": 127,
      "outputs": [
        {
          "output_type": "execute_result",
          "data": {
            "text/plain": [
              "   Patient ID  WOMAC_total WOMAC Severity  DataType  CCI_TA-RF  CCI_G-MH  \\\n",
              "0       13308           22           Mild  Training       49.2      92.1   \n",
              "1       13489           35           Mild  Training      116.0     232.8   \n",
              "2       13489           35           Mild  Training      101.4      55.7   \n",
              "3       13532           33           Mild  Training      139.7      46.0   \n",
              "4       13549           30           Mild  Training      113.5      40.2   \n",
              "5       13603           24           Mild  Training      138.9      46.9   \n",
              "6       13603           24           Mild  Training      115.7     116.3   \n",
              "7       14017           27           Mild  Training      120.9     117.8   \n",
              "8       14315           22           Mild  Training      383.6      90.8   \n",
              "9       14320           32           Mild  Training      516.5     112.9   \n",
              "\n",
              "   CCI_TA-MH  CCI_G-RF  CCI_TA-G  CCI_MH-RF  ...   Lyapunov_TIBIALIS ANT  \\\n",
              "0       51.8     101.6      91.7       88.8  ...                    0.20   \n",
              "1      104.6     225.5      79.7      120.1  ...                    0.26   \n",
              "2       76.0      63.9     122.8       74.3  ...                    0.25   \n",
              "3       69.5      88.5     169.0       35.8  ...                    0.30   \n",
              "4      112.2      38.5     276.0      107.6  ...                    0.40   \n",
              "5       88.5      75.0     196.4       59.9  ...                    0.30   \n",
              "6       59.4      98.7     105.5      111.5  ...                    0.20   \n",
              "7      148.3     111.1     134.5      113.2  ...                    0.20   \n",
              "8      248.2     116.0     316.6       71.2  ...                    0.50   \n",
              "9      476.1     120.8     642.5       53.6  ...                    0.51   \n",
              "\n",
              "   Stance_CCI_TA-RF  Stance_CCI_G-MH  Stance_CCI_TA-G  Swing_CCI_TA-RF  \\\n",
              "0         48.935608       120.815090        86.949185        49.662771   \n",
              "1         52.187204       244.146045        46.506634       189.255449   \n",
              "2         70.259125        70.225682        75.729112       141.818740   \n",
              "3        151.986792        28.925641       219.105386       123.184526   \n",
              "4        145.992226        53.319007       377.515540        79.111070   \n",
              "5        117.810653        73.077828       110.776839       162.105887   \n",
              "6        145.036660       170.309456       111.502357        81.943900   \n",
              "7        112.554201       129.825565       113.366679       131.194966   \n",
              "8        272.857378       113.760720       269.374236       527.035183   \n",
              "9        450.214119       168.273023       322.676333       602.362752   \n",
              "\n",
              "   Swing_CCI_G-MH  Swing_CCI_TA-G  swing/stance_cci(TA_RF)  \\\n",
              "0       30.602679      101.914340                 1.014860   \n",
              "1      211.104414      134.602751                 3.626472   \n",
              "2       28.911669      211.453368                 2.018510   \n",
              "3       78.659590       70.327124                 0.810495   \n",
              "4       20.960417      121.125857                 0.541885   \n",
              "5       12.947782      332.512464                 1.375987   \n",
              "6       28.319855       95.662700                 0.564987   \n",
              "7       96.447210      172.600617                 1.165616   \n",
              "8       53.072994      405.670765                 1.931541   \n",
              "9       18.657880     1245.728157                 1.337947   \n",
              "\n",
              "   swing/stance_cci(G-MH)  swing/stance_CCI(TA-G)  \n",
              "0                0.253302                1.172114  \n",
              "1                0.864664                2.894270  \n",
              "2                0.411697                2.792234  \n",
              "3                2.719372                0.320974  \n",
              "4                0.393113                0.320850  \n",
              "5                0.177178                3.001642  \n",
              "6                0.166285                0.857943  \n",
              "7                0.742898                1.522499  \n",
              "8                0.466532                1.505975  \n",
              "9                0.110879                3.860612  \n",
              "\n",
              "[10 rows x 88 columns]"
            ],
            "text/html": [
              "\n",
              "  <div id=\"df-84f80b1c-e8a6-4259-a8f9-258a0ef4530c\">\n",
              "    <div class=\"colab-df-container\">\n",
              "      <div>\n",
              "<style scoped>\n",
              "    .dataframe tbody tr th:only-of-type {\n",
              "        vertical-align: middle;\n",
              "    }\n",
              "\n",
              "    .dataframe tbody tr th {\n",
              "        vertical-align: top;\n",
              "    }\n",
              "\n",
              "    .dataframe thead th {\n",
              "        text-align: right;\n",
              "    }\n",
              "</style>\n",
              "<table border=\"1\" class=\"dataframe\">\n",
              "  <thead>\n",
              "    <tr style=\"text-align: right;\">\n",
              "      <th></th>\n",
              "      <th>Patient ID</th>\n",
              "      <th>WOMAC_total</th>\n",
              "      <th>WOMAC Severity</th>\n",
              "      <th>DataType</th>\n",
              "      <th>CCI_TA-RF</th>\n",
              "      <th>CCI_G-MH</th>\n",
              "      <th>CCI_TA-MH</th>\n",
              "      <th>CCI_G-RF</th>\n",
              "      <th>CCI_TA-G</th>\n",
              "      <th>CCI_MH-RF</th>\n",
              "      <th>...</th>\n",
              "      <th>Lyapunov_TIBIALIS ANT</th>\n",
              "      <th>Stance_CCI_TA-RF</th>\n",
              "      <th>Stance_CCI_G-MH</th>\n",
              "      <th>Stance_CCI_TA-G</th>\n",
              "      <th>Swing_CCI_TA-RF</th>\n",
              "      <th>Swing_CCI_G-MH</th>\n",
              "      <th>Swing_CCI_TA-G</th>\n",
              "      <th>swing/stance_cci(TA_RF)</th>\n",
              "      <th>swing/stance_cci(G-MH)</th>\n",
              "      <th>swing/stance_CCI(TA-G)</th>\n",
              "    </tr>\n",
              "  </thead>\n",
              "  <tbody>\n",
              "    <tr>\n",
              "      <th>0</th>\n",
              "      <td>13308</td>\n",
              "      <td>22</td>\n",
              "      <td>Mild</td>\n",
              "      <td>Training</td>\n",
              "      <td>49.2</td>\n",
              "      <td>92.1</td>\n",
              "      <td>51.8</td>\n",
              "      <td>101.6</td>\n",
              "      <td>91.7</td>\n",
              "      <td>88.8</td>\n",
              "      <td>...</td>\n",
              "      <td>0.20</td>\n",
              "      <td>48.935608</td>\n",
              "      <td>120.815090</td>\n",
              "      <td>86.949185</td>\n",
              "      <td>49.662771</td>\n",
              "      <td>30.602679</td>\n",
              "      <td>101.914340</td>\n",
              "      <td>1.014860</td>\n",
              "      <td>0.253302</td>\n",
              "      <td>1.172114</td>\n",
              "    </tr>\n",
              "    <tr>\n",
              "      <th>1</th>\n",
              "      <td>13489</td>\n",
              "      <td>35</td>\n",
              "      <td>Mild</td>\n",
              "      <td>Training</td>\n",
              "      <td>116.0</td>\n",
              "      <td>232.8</td>\n",
              "      <td>104.6</td>\n",
              "      <td>225.5</td>\n",
              "      <td>79.7</td>\n",
              "      <td>120.1</td>\n",
              "      <td>...</td>\n",
              "      <td>0.26</td>\n",
              "      <td>52.187204</td>\n",
              "      <td>244.146045</td>\n",
              "      <td>46.506634</td>\n",
              "      <td>189.255449</td>\n",
              "      <td>211.104414</td>\n",
              "      <td>134.602751</td>\n",
              "      <td>3.626472</td>\n",
              "      <td>0.864664</td>\n",
              "      <td>2.894270</td>\n",
              "    </tr>\n",
              "    <tr>\n",
              "      <th>2</th>\n",
              "      <td>13489</td>\n",
              "      <td>35</td>\n",
              "      <td>Mild</td>\n",
              "      <td>Training</td>\n",
              "      <td>101.4</td>\n",
              "      <td>55.7</td>\n",
              "      <td>76.0</td>\n",
              "      <td>63.9</td>\n",
              "      <td>122.8</td>\n",
              "      <td>74.3</td>\n",
              "      <td>...</td>\n",
              "      <td>0.25</td>\n",
              "      <td>70.259125</td>\n",
              "      <td>70.225682</td>\n",
              "      <td>75.729112</td>\n",
              "      <td>141.818740</td>\n",
              "      <td>28.911669</td>\n",
              "      <td>211.453368</td>\n",
              "      <td>2.018510</td>\n",
              "      <td>0.411697</td>\n",
              "      <td>2.792234</td>\n",
              "    </tr>\n",
              "    <tr>\n",
              "      <th>3</th>\n",
              "      <td>13532</td>\n",
              "      <td>33</td>\n",
              "      <td>Mild</td>\n",
              "      <td>Training</td>\n",
              "      <td>139.7</td>\n",
              "      <td>46.0</td>\n",
              "      <td>69.5</td>\n",
              "      <td>88.5</td>\n",
              "      <td>169.0</td>\n",
              "      <td>35.8</td>\n",
              "      <td>...</td>\n",
              "      <td>0.30</td>\n",
              "      <td>151.986792</td>\n",
              "      <td>28.925641</td>\n",
              "      <td>219.105386</td>\n",
              "      <td>123.184526</td>\n",
              "      <td>78.659590</td>\n",
              "      <td>70.327124</td>\n",
              "      <td>0.810495</td>\n",
              "      <td>2.719372</td>\n",
              "      <td>0.320974</td>\n",
              "    </tr>\n",
              "    <tr>\n",
              "      <th>4</th>\n",
              "      <td>13549</td>\n",
              "      <td>30</td>\n",
              "      <td>Mild</td>\n",
              "      <td>Training</td>\n",
              "      <td>113.5</td>\n",
              "      <td>40.2</td>\n",
              "      <td>112.2</td>\n",
              "      <td>38.5</td>\n",
              "      <td>276.0</td>\n",
              "      <td>107.6</td>\n",
              "      <td>...</td>\n",
              "      <td>0.40</td>\n",
              "      <td>145.992226</td>\n",
              "      <td>53.319007</td>\n",
              "      <td>377.515540</td>\n",
              "      <td>79.111070</td>\n",
              "      <td>20.960417</td>\n",
              "      <td>121.125857</td>\n",
              "      <td>0.541885</td>\n",
              "      <td>0.393113</td>\n",
              "      <td>0.320850</td>\n",
              "    </tr>\n",
              "    <tr>\n",
              "      <th>5</th>\n",
              "      <td>13603</td>\n",
              "      <td>24</td>\n",
              "      <td>Mild</td>\n",
              "      <td>Training</td>\n",
              "      <td>138.9</td>\n",
              "      <td>46.9</td>\n",
              "      <td>88.5</td>\n",
              "      <td>75.0</td>\n",
              "      <td>196.4</td>\n",
              "      <td>59.9</td>\n",
              "      <td>...</td>\n",
              "      <td>0.30</td>\n",
              "      <td>117.810653</td>\n",
              "      <td>73.077828</td>\n",
              "      <td>110.776839</td>\n",
              "      <td>162.105887</td>\n",
              "      <td>12.947782</td>\n",
              "      <td>332.512464</td>\n",
              "      <td>1.375987</td>\n",
              "      <td>0.177178</td>\n",
              "      <td>3.001642</td>\n",
              "    </tr>\n",
              "    <tr>\n",
              "      <th>6</th>\n",
              "      <td>13603</td>\n",
              "      <td>24</td>\n",
              "      <td>Mild</td>\n",
              "      <td>Training</td>\n",
              "      <td>115.7</td>\n",
              "      <td>116.3</td>\n",
              "      <td>59.4</td>\n",
              "      <td>98.7</td>\n",
              "      <td>105.5</td>\n",
              "      <td>111.5</td>\n",
              "      <td>...</td>\n",
              "      <td>0.20</td>\n",
              "      <td>145.036660</td>\n",
              "      <td>170.309456</td>\n",
              "      <td>111.502357</td>\n",
              "      <td>81.943900</td>\n",
              "      <td>28.319855</td>\n",
              "      <td>95.662700</td>\n",
              "      <td>0.564987</td>\n",
              "      <td>0.166285</td>\n",
              "      <td>0.857943</td>\n",
              "    </tr>\n",
              "    <tr>\n",
              "      <th>7</th>\n",
              "      <td>14017</td>\n",
              "      <td>27</td>\n",
              "      <td>Mild</td>\n",
              "      <td>Training</td>\n",
              "      <td>120.9</td>\n",
              "      <td>117.8</td>\n",
              "      <td>148.3</td>\n",
              "      <td>111.1</td>\n",
              "      <td>134.5</td>\n",
              "      <td>113.2</td>\n",
              "      <td>...</td>\n",
              "      <td>0.20</td>\n",
              "      <td>112.554201</td>\n",
              "      <td>129.825565</td>\n",
              "      <td>113.366679</td>\n",
              "      <td>131.194966</td>\n",
              "      <td>96.447210</td>\n",
              "      <td>172.600617</td>\n",
              "      <td>1.165616</td>\n",
              "      <td>0.742898</td>\n",
              "      <td>1.522499</td>\n",
              "    </tr>\n",
              "    <tr>\n",
              "      <th>8</th>\n",
              "      <td>14315</td>\n",
              "      <td>22</td>\n",
              "      <td>Mild</td>\n",
              "      <td>Training</td>\n",
              "      <td>383.6</td>\n",
              "      <td>90.8</td>\n",
              "      <td>248.2</td>\n",
              "      <td>116.0</td>\n",
              "      <td>316.6</td>\n",
              "      <td>71.2</td>\n",
              "      <td>...</td>\n",
              "      <td>0.50</td>\n",
              "      <td>272.857378</td>\n",
              "      <td>113.760720</td>\n",
              "      <td>269.374236</td>\n",
              "      <td>527.035183</td>\n",
              "      <td>53.072994</td>\n",
              "      <td>405.670765</td>\n",
              "      <td>1.931541</td>\n",
              "      <td>0.466532</td>\n",
              "      <td>1.505975</td>\n",
              "    </tr>\n",
              "    <tr>\n",
              "      <th>9</th>\n",
              "      <td>14320</td>\n",
              "      <td>32</td>\n",
              "      <td>Mild</td>\n",
              "      <td>Training</td>\n",
              "      <td>516.5</td>\n",
              "      <td>112.9</td>\n",
              "      <td>476.1</td>\n",
              "      <td>120.8</td>\n",
              "      <td>642.5</td>\n",
              "      <td>53.6</td>\n",
              "      <td>...</td>\n",
              "      <td>0.51</td>\n",
              "      <td>450.214119</td>\n",
              "      <td>168.273023</td>\n",
              "      <td>322.676333</td>\n",
              "      <td>602.362752</td>\n",
              "      <td>18.657880</td>\n",
              "      <td>1245.728157</td>\n",
              "      <td>1.337947</td>\n",
              "      <td>0.110879</td>\n",
              "      <td>3.860612</td>\n",
              "    </tr>\n",
              "  </tbody>\n",
              "</table>\n",
              "<p>10 rows × 88 columns</p>\n",
              "</div>\n",
              "      <button class=\"colab-df-convert\" onclick=\"convertToInteractive('df-84f80b1c-e8a6-4259-a8f9-258a0ef4530c')\"\n",
              "              title=\"Convert this dataframe to an interactive table.\"\n",
              "              style=\"display:none;\">\n",
              "        \n",
              "  <svg xmlns=\"http://www.w3.org/2000/svg\" height=\"24px\"viewBox=\"0 0 24 24\"\n",
              "       width=\"24px\">\n",
              "    <path d=\"M0 0h24v24H0V0z\" fill=\"none\"/>\n",
              "    <path d=\"M18.56 5.44l.94 2.06.94-2.06 2.06-.94-2.06-.94-.94-2.06-.94 2.06-2.06.94zm-11 1L8.5 8.5l.94-2.06 2.06-.94-2.06-.94L8.5 2.5l-.94 2.06-2.06.94zm10 10l.94 2.06.94-2.06 2.06-.94-2.06-.94-.94-2.06-.94 2.06-2.06.94z\"/><path d=\"M17.41 7.96l-1.37-1.37c-.4-.4-.92-.59-1.43-.59-.52 0-1.04.2-1.43.59L10.3 9.45l-7.72 7.72c-.78.78-.78 2.05 0 2.83L4 21.41c.39.39.9.59 1.41.59.51 0 1.02-.2 1.41-.59l7.78-7.78 2.81-2.81c.8-.78.8-2.07 0-2.86zM5.41 20L4 18.59l7.72-7.72 1.47 1.35L5.41 20z\"/>\n",
              "  </svg>\n",
              "      </button>\n",
              "      \n",
              "  <style>\n",
              "    .colab-df-container {\n",
              "      display:flex;\n",
              "      flex-wrap:wrap;\n",
              "      gap: 12px;\n",
              "    }\n",
              "\n",
              "    .colab-df-convert {\n",
              "      background-color: #E8F0FE;\n",
              "      border: none;\n",
              "      border-radius: 50%;\n",
              "      cursor: pointer;\n",
              "      display: none;\n",
              "      fill: #1967D2;\n",
              "      height: 32px;\n",
              "      padding: 0 0 0 0;\n",
              "      width: 32px;\n",
              "    }\n",
              "\n",
              "    .colab-df-convert:hover {\n",
              "      background-color: #E2EBFA;\n",
              "      box-shadow: 0px 1px 2px rgba(60, 64, 67, 0.3), 0px 1px 3px 1px rgba(60, 64, 67, 0.15);\n",
              "      fill: #174EA6;\n",
              "    }\n",
              "\n",
              "    [theme=dark] .colab-df-convert {\n",
              "      background-color: #3B4455;\n",
              "      fill: #D2E3FC;\n",
              "    }\n",
              "\n",
              "    [theme=dark] .colab-df-convert:hover {\n",
              "      background-color: #434B5C;\n",
              "      box-shadow: 0px 1px 3px 1px rgba(0, 0, 0, 0.15);\n",
              "      filter: drop-shadow(0px 1px 2px rgba(0, 0, 0, 0.3));\n",
              "      fill: #FFFFFF;\n",
              "    }\n",
              "  </style>\n",
              "\n",
              "      <script>\n",
              "        const buttonEl =\n",
              "          document.querySelector('#df-84f80b1c-e8a6-4259-a8f9-258a0ef4530c button.colab-df-convert');\n",
              "        buttonEl.style.display =\n",
              "          google.colab.kernel.accessAllowed ? 'block' : 'none';\n",
              "\n",
              "        async function convertToInteractive(key) {\n",
              "          const element = document.querySelector('#df-84f80b1c-e8a6-4259-a8f9-258a0ef4530c');\n",
              "          const dataTable =\n",
              "            await google.colab.kernel.invokeFunction('convertToInteractive',\n",
              "                                                     [key], {});\n",
              "          if (!dataTable) return;\n",
              "\n",
              "          const docLinkHtml = 'Like what you see? Visit the ' +\n",
              "            '<a target=\"_blank\" href=https://colab.research.google.com/notebooks/data_table.ipynb>data table notebook</a>'\n",
              "            + ' to learn more about interactive tables.';\n",
              "          element.innerHTML = '';\n",
              "          dataTable['output_type'] = 'display_data';\n",
              "          await google.colab.output.renderOutput(dataTable, element);\n",
              "          const docLink = document.createElement('div');\n",
              "          docLink.innerHTML = docLinkHtml;\n",
              "          element.appendChild(docLink);\n",
              "        }\n",
              "      </script>\n",
              "    </div>\n",
              "  </div>\n",
              "  "
            ]
          },
          "metadata": {},
          "execution_count": 127
        }
      ]
    },
    {
      "cell_type": "code",
      "source": [
        "dataset.shape"
      ],
      "metadata": {
        "colab": {
          "base_uri": "https://localhost:8080/"
        },
        "id": "CSHw6o9psp-a",
        "outputId": "92b9bf8e-90b3-40f8-8f29-67112c094656"
      },
      "execution_count": 128,
      "outputs": [
        {
          "output_type": "execute_result",
          "data": {
            "text/plain": [
              "(150, 88)"
            ]
          },
          "metadata": {},
          "execution_count": 128
        }
      ]
    },
    {
      "cell_type": "code",
      "source": [
        "X = dataset.iloc[:,4:]\n",
        "y = dataset.iloc[:, 1]"
      ],
      "metadata": {
        "id": "AiTKRXiY0mdy"
      },
      "execution_count": 129,
      "outputs": []
    },
    {
      "cell_type": "code",
      "source": [
        "'''\n",
        "from sklearn.model_selection import train_test_split\n",
        "X_train, X_test, y_train, y_test = train_test_split(X, y, test_size = 0.2, random_state = 0)\n",
        "'''"
      ],
      "metadata": {
        "id": "gzJ19cN22KsU",
        "colab": {
          "base_uri": "https://localhost:8080/",
          "height": 36
        },
        "outputId": "46998fb9-6c7b-420d-81e4-5fbe3e00c972"
      },
      "execution_count": 130,
      "outputs": [
        {
          "output_type": "execute_result",
          "data": {
            "text/plain": [
              "'\\nfrom sklearn.model_selection import train_test_split\\nX_train, X_test, y_train, y_test = train_test_split(X, y, test_size = 0.2, random_state = 0)\\n'"
            ],
            "application/vnd.google.colaboratory.intrinsic+json": {
              "type": "string"
            }
          },
          "metadata": {},
          "execution_count": 130
        }
      ]
    },
    {
      "cell_type": "code",
      "source": [
        "from sklearn.feature_selection import SelectKBest\n",
        "bestfeatures = SelectKBest(k=10)\n",
        "fit = bestfeatures.fit(X,y)"
      ],
      "metadata": {
        "id": "7SpMLBfwJhMa"
      },
      "execution_count": 131,
      "outputs": []
    },
    {
      "cell_type": "code",
      "source": [
        "dfscores = pd.DataFrame(fit.scores_)\n",
        "dfcolumns = pd.DataFrame(X.columns)"
      ],
      "metadata": {
        "id": "PxTD8_-jJjtJ"
      },
      "execution_count": 132,
      "outputs": []
    },
    {
      "cell_type": "code",
      "source": [
        "featureScores = pd.concat([dfcolumns,dfscores],axis=1)\n",
        "featureScores.columns = ['Specs','Score']"
      ],
      "metadata": {
        "id": "NJpll3U8Jljl"
      },
      "execution_count": 133,
      "outputs": []
    },
    {
      "cell_type": "code",
      "source": [
        "number_of_feat=int(input(\"Number Of Best Features: \"))"
      ],
      "metadata": {
        "colab": {
          "base_uri": "https://localhost:8080/"
        },
        "id": "373RpO7uJnRv",
        "outputId": "0bd94d34-ebf9-4e7a-902e-a92c4e0e02ff"
      },
      "execution_count": 134,
      "outputs": [
        {
          "name": "stdout",
          "output_type": "stream",
          "text": [
            "Number Of Best Features: 20\n"
          ]
        }
      ]
    },
    {
      "cell_type": "code",
      "source": [
        "imp=featureScores.nlargest(number_of_feat,'Score')\n",
        "print(imp)"
      ],
      "metadata": {
        "colab": {
          "base_uri": "https://localhost:8080/"
        },
        "id": "wpio-fXlJpVd",
        "outputId": "fc1c95ea-4430-491e-9507-219aced08e41"
      },
      "execution_count": 135,
      "outputs": [
        {
          "output_type": "stream",
          "name": "stdout",
          "text": [
            "                      Specs     Score\n",
            "80           Swing_CCI_TA-G  3.824733\n",
            "81  swing/stance_cci(TA_RF)  3.055398\n",
            "12                Step_Time  2.256754\n",
            "11              Step_Length  2.011332\n",
            "10            Stride_Length  1.991660\n",
            "8                   Cadence  1.916946\n",
            "34     Max-Min T_MEDIAL HAM  1.815930\n",
            "83   swing/stance_CCI(TA-G)  1.724589\n",
            "58     Lin_reg_TIBIALIS ANT  1.650605\n",
            "3                  CCI_G-RF  1.594176\n",
            "9                     Speed  1.547062\n",
            "53            Average_AUC_F  1.430273\n",
            "26         Max T_MEDIAL HAM  1.401292\n",
            "4                  CCI_TA-G  1.314952\n",
            "71          Lyapunov_RECTUS  1.311960\n",
            "43       Average_Integral_U  1.311572\n",
            "46              Area_RECTUS  1.310099\n",
            "67            Stddev_RECTUS  1.277695\n",
            "78          Swing_CCI_TA-RF  1.240789\n",
            "21               Min_RECTUS  1.237807\n"
          ]
        }
      ]
    },
    {
      "cell_type": "code",
      "source": [
        "list_of_feat=[]\n",
        "\n",
        "for i in range(number_of_feat):\n",
        "  list_of_feat.append(imp.iloc[:,0:1].values[i][0])"
      ],
      "metadata": {
        "id": "Y2yoQPagJwWu"
      },
      "execution_count": 136,
      "outputs": []
    },
    {
      "cell_type": "code",
      "source": [
        "X_new = dataset[list_of_feat]\n",
        "y_new = dataset.iloc[:, 1]"
      ],
      "metadata": {
        "id": "Avu3cnS0JyV-"
      },
      "execution_count": 137,
      "outputs": []
    },
    {
      "cell_type": "code",
      "source": [
        "X_train=X_new.iloc[:120,:]  \n",
        "X_test=X_new.iloc[120:,:]\n",
        "y_train=y_new.iloc[:120]\n",
        "y_test=y_new.iloc[120:]"
      ],
      "metadata": {
        "id": "mf2hSZmlAygT"
      },
      "execution_count": 138,
      "outputs": []
    },
    {
      "cell_type": "code",
      "source": [
        "from sklearn.linear_model import LinearRegression\n",
        "\n",
        "lin_reg = LinearRegression()\n",
        "lin_reg.fit(X_train, y_train)\n",
        "y_pred = lin_reg.predict(X_test)\n"
      ],
      "metadata": {
        "id": "lU9NGIxw2RWg"
      },
      "execution_count": 139,
      "outputs": []
    },
    {
      "cell_type": "markdown",
      "source": [
        "#Taining Ploting and Result"
      ],
      "metadata": {
        "id": "sx7QykGeXzjI"
      }
    },
    {
      "cell_type": "code",
      "source": [
        "y_pred_train = lin_reg.predict(X_train)\n",
        "\n",
        "print(y_pred.shape)\n",
        "from sklearn.metrics import r2_score,mean_squared_error\n",
        "print(\"Training r2: \",r2_score(y_train,y_pred_train))\n",
        "\n",
        "\n",
        "r_sq = lin_reg.score(X_new, y_new)\n",
        "print(\"Training r_sq: \",r_sq)\n",
        "\n",
        "\n",
        "\n"
      ],
      "metadata": {
        "colab": {
          "base_uri": "https://localhost:8080/"
        },
        "id": "6eZ9f8KJWSec",
        "outputId": "dd787dcb-529a-478c-fe34-508586a1f72e"
      },
      "execution_count": 140,
      "outputs": [
        {
          "output_type": "stream",
          "name": "stdout",
          "text": [
            "(30,)\n",
            "Training r2:  0.3504371595516771\n",
            "Training r_sq:  0.28643546435777734\n"
          ]
        }
      ]
    },
    {
      "cell_type": "code",
      "source": [
        "r_sq_train = lin_reg.score(X_train, y_pred_train)\n",
        "print(r_sq_train)"
      ],
      "metadata": {
        "colab": {
          "base_uri": "https://localhost:8080/"
        },
        "id": "NWPqv1CwWmNH",
        "outputId": "28219153-6756-482d-d0d7-f9753f9c52e2"
      },
      "execution_count": 141,
      "outputs": [
        {
          "output_type": "stream",
          "name": "stdout",
          "text": [
            "1.0\n"
          ]
        }
      ]
    },
    {
      "cell_type": "code",
      "source": [
        "import matplotlib.pyplot as plt\n",
        "plt.figure(figsize=(15,10))\n",
        "plt.scatter(y_train, y_pred_train, color = \"red\")\n",
        "plt.xlabel(\"Actual\")\n",
        "plt.ylabel(\"Predicted\")\n",
        "plt.show()\n"
      ],
      "metadata": {
        "colab": {
          "base_uri": "https://localhost:8080/",
          "height": 611
        },
        "id": "2El54YfuWn1O",
        "outputId": "9eb4cb1f-01a2-42d9-cb9a-832950ebfe62"
      },
      "execution_count": 142,
      "outputs": [
        {
          "output_type": "display_data",
          "data": {
            "text/plain": [
              "<Figure size 1080x720 with 1 Axes>"
            ],
            "image/png": "[encoded data removed]"
          },
          "metadata": {}
        }
      ]
    },
    {
      "cell_type": "code",
      "source": [],
      "metadata": {
        "id": "nyvdkd8yaRy4"
      },
      "execution_count": null,
      "outputs": []
    },
    {
      "cell_type": "code",
      "source": [
        "pred_y_df=pd.DataFrame(\n",
        "    {\n",
        "        \"Actual Value\":y_train,\n",
        "        \"Predicted Value\":y_pred_train,\n",
        "        \"Difference\":y_train-y_pred_train\n",
        "    }\n",
        ")\n",
        "\n",
        "pred_y_df"
      ],
      "metadata": {
        "colab": {
          "base_uri": "https://localhost:8080/",
          "height": 423
        },
        "id": "FWD91cWGWqQV",
        "outputId": "d67a4cac-8d7f-421c-9f9f-38d25614c146"
      },
      "execution_count": 143,
      "outputs": [
        {
          "output_type": "execute_result",
          "data": {
            "text/plain": [
              "     Actual Value  Predicted Value  Difference\n",
              "0              22        52.886939  -30.886939\n",
              "1              35        53.727545  -18.727545\n",
              "2              35        44.903778   -9.903778\n",
              "3              33        45.039285  -12.039285\n",
              "4              30        41.703786  -11.703786\n",
              "..            ...              ...         ...\n",
              "115            86        50.173266   35.826734\n",
              "116            70        53.743844   16.256156\n",
              "117            96        71.765808   24.234192\n",
              "118            67        51.574739   15.425261\n",
              "119            67        49.739662   17.260338\n",
              "\n",
              "[120 rows x 3 columns]"
            ],
            "text/html": [
              "\n",
              "  <div id=\"df-ff4dcf6e-eeb9-4e74-baa3-54667681a018\">\n",
              "    <div class=\"colab-df-container\">\n",
              "      <div>\n",
              "<style scoped>\n",
              "    .dataframe tbody tr th:only-of-type {\n",
              "        vertical-align: middle;\n",
              "    }\n",
              "\n",
              "    .dataframe tbody tr th {\n",
              "        vertical-align: top;\n",
              "    }\n",
              "\n",
              "    .dataframe thead th {\n",
              "        text-align: right;\n",
              "    }\n",
              "</style>\n",
              "<table border=\"1\" class=\"dataframe\">\n",
              "  <thead>\n",
              "    <tr style=\"text-align: right;\">\n",
              "      <th></th>\n",
              "      <th>Actual Value</th>\n",
              "      <th>Predicted Value</th>\n",
              "      <th>Difference</th>\n",
              "    </tr>\n",
              "  </thead>\n",
              "  <tbody>\n",
              "    <tr>\n",
              "      <th>0</th>\n",
              "      <td>22</td>\n",
              "      <td>52.886939</td>\n",
              "      <td>-30.886939</td>\n",
              "    </tr>\n",
              "    <tr>\n",
              "      <th>1</th>\n",
              "      <td>35</td>\n",
              "      <td>53.727545</td>\n",
              "      <td>-18.727545</td>\n",
              "    </tr>\n",
              "    <tr>\n",
              "      <th>2</th>\n",
              "      <td>35</td>\n",
              "      <td>44.903778</td>\n",
              "      <td>-9.903778</td>\n",
              "    </tr>\n",
              "    <tr>\n",
              "      <th>3</th>\n",
              "      <td>33</td>\n",
              "      <td>45.039285</td>\n",
              "      <td>-12.039285</td>\n",
              "    </tr>\n",
              "    <tr>\n",
              "      <th>4</th>\n",
              "      <td>30</td>\n",
              "      <td>41.703786</td>\n",
              "      <td>-11.703786</td>\n",
              "    </tr>\n",
              "    <tr>\n",
              "      <th>...</th>\n",
              "      <td>...</td>\n",
              "      <td>...</td>\n",
              "      <td>...</td>\n",
              "    </tr>\n",
              "    <tr>\n",
              "      <th>115</th>\n",
              "      <td>86</td>\n",
              "      <td>50.173266</td>\n",
              "      <td>35.826734</td>\n",
              "    </tr>\n",
              "    <tr>\n",
              "      <th>116</th>\n",
              "      <td>70</td>\n",
              "      <td>53.743844</td>\n",
              "      <td>16.256156</td>\n",
              "    </tr>\n",
              "    <tr>\n",
              "      <th>117</th>\n",
              "      <td>96</td>\n",
              "      <td>71.765808</td>\n",
              "      <td>24.234192</td>\n",
              "    </tr>\n",
              "    <tr>\n",
              "      <th>118</th>\n",
              "      <td>67</td>\n",
              "      <td>51.574739</td>\n",
              "      <td>15.425261</td>\n",
              "    </tr>\n",
              "    <tr>\n",
              "      <th>119</th>\n",
              "      <td>67</td>\n",
              "      <td>49.739662</td>\n",
              "      <td>17.260338</td>\n",
              "    </tr>\n",
              "  </tbody>\n",
              "</table>\n",
              "<p>120 rows × 3 columns</p>\n",
              "</div>\n",
              "      <button class=\"colab-df-convert\" onclick=\"convertToInteractive('df-ff4dcf6e-eeb9-4e74-baa3-54667681a018')\"\n",
              "              title=\"Convert this dataframe to an interactive table.\"\n",
              "              style=\"display:none;\">\n",
              "        \n",
              "  <svg xmlns=\"http://www.w3.org/2000/svg\" height=\"24px\"viewBox=\"0 0 24 24\"\n",
              "       width=\"24px\">\n",
              "    <path d=\"M0 0h24v24H0V0z\" fill=\"none\"/>\n",
              "    <path d=\"M18.56 5.44l.94 2.06.94-2.06 2.06-.94-2.06-.94-.94-2.06-.94 2.06-2.06.94zm-11 1L8.5 8.5l.94-2.06 2.06-.94-2.06-.94L8.5 2.5l-.94 2.06-2.06.94zm10 10l.94 2.06.94-2.06 2.06-.94-2.06-.94-.94-2.06-.94 2.06-2.06.94z\"/><path d=\"M17.41 7.96l-1.37-1.37c-.4-.4-.92-.59-1.43-.59-.52 0-1.04.2-1.43.59L10.3 9.45l-7.72 7.72c-.78.78-.78 2.05 0 2.83L4 21.41c.39.39.9.59 1.41.59.51 0 1.02-.2 1.41-.59l7.78-7.78 2.81-2.81c.8-.78.8-2.07 0-2.86zM5.41 20L4 18.59l7.72-7.72 1.47 1.35L5.41 20z\"/>\n",
              "  </svg>\n",
              "      </button>\n",
              "      \n",
              "  <style>\n",
              "    .colab-df-container {\n",
              "      display:flex;\n",
              "      flex-wrap:wrap;\n",
              "      gap: 12px;\n",
              "    }\n",
              "\n",
              "    .colab-df-convert {\n",
              "      background-color: #E8F0FE;\n",
              "      border: none;\n",
              "      border-radius: 50%;\n",
              "      cursor: pointer;\n",
              "      display: none;\n",
              "      fill: #1967D2;\n",
              "      height: 32px;\n",
              "      padding: 0 0 0 0;\n",
              "      width: 32px;\n",
              "    }\n",
              "\n",
              "    .colab-df-convert:hover {\n",
              "      background-color: #E2EBFA;\n",
              "      box-shadow: 0px 1px 2px rgba(60, 64, 67, 0.3), 0px 1px 3px 1px rgba(60, 64, 67, 0.15);\n",
              "      fill: #174EA6;\n",
              "    }\n",
              "\n",
              "    [theme=dark] .colab-df-convert {\n",
              "      background-color: #3B4455;\n",
              "      fill: #D2E3FC;\n",
              "    }\n",
              "\n",
              "    [theme=dark] .colab-df-convert:hover {\n",
              "      background-color: #434B5C;\n",
              "      box-shadow: 0px 1px 3px 1px rgba(0, 0, 0, 0.15);\n",
              "      filter: drop-shadow(0px 1px 2px rgba(0, 0, 0, 0.3));\n",
              "      fill: #FFFFFF;\n",
              "    }\n",
              "  </style>\n",
              "\n",
              "      <script>\n",
              "        const buttonEl =\n",
              "          document.querySelector('#df-ff4dcf6e-eeb9-4e74-baa3-54667681a018 button.colab-df-convert');\n",
              "        buttonEl.style.display =\n",
              "          google.colab.kernel.accessAllowed ? 'block' : 'none';\n",
              "\n",
              "        async function convertToInteractive(key) {\n",
              "          const element = document.querySelector('#df-ff4dcf6e-eeb9-4e74-baa3-54667681a018');\n",
              "          const dataTable =\n",
              "            await google.colab.kernel.invokeFunction('convertToInteractive',\n",
              "                                                     [key], {});\n",
              "          if (!dataTable) return;\n",
              "\n",
              "          const docLinkHtml = 'Like what you see? Visit the ' +\n",
              "            '<a target=\"_blank\" href=https://colab.research.google.com/notebooks/data_table.ipynb>data table notebook</a>'\n",
              "            + ' to learn more about interactive tables.';\n",
              "          element.innerHTML = '';\n",
              "          dataTable['output_type'] = 'display_data';\n",
              "          await google.colab.output.renderOutput(dataTable, element);\n",
              "          const docLink = document.createElement('div');\n",
              "          docLink.innerHTML = docLinkHtml;\n",
              "          element.appendChild(docLink);\n",
              "        }\n",
              "      </script>\n",
              "    </div>\n",
              "  </div>\n",
              "  "
            ]
          },
          "metadata": {},
          "execution_count": 143
        }
      ]
    },
    {
      "cell_type": "code",
      "source": [
        "# The mean squared error\n",
        "print(\"Mean squared error: %.2f\" % mean_squared_error(y_train, y_pred_train))\n",
        "# The coefficient of determination: 1 is perfect prediction\n",
        "print(\"Coefficient of determination: %.2f\" % r2_score(y_train, y_pred_train))\n",
        "\n"
      ],
      "metadata": {
        "colab": {
          "base_uri": "https://localhost:8080/"
        },
        "id": "G5RI5cjnWq0z",
        "outputId": "bc7a2c42-5375-4545-e96a-6013f98ddc59"
      },
      "execution_count": 144,
      "outputs": [
        {
          "output_type": "stream",
          "name": "stdout",
          "text": [
            "Mean squared error: 184.07\n",
            "Coefficient of determination: 0.35\n"
          ]
        }
      ]
    },
    {
      "cell_type": "code",
      "source": [
        "import seaborn as sns\n",
        "\n",
        "sns.set(rc={'figure.figsize':(12,10)})\n",
        "scatter_poly2 = sns.lmplot(\n",
        "    data = pred_y_df, \n",
        "    x = \"Actual Value\",\n",
        "    y = \"Predicted Value\",\n",
        "    order = 2\n",
        ")\n",
        "\n"
      ],
      "metadata": {
        "colab": {
          "base_uri": "https://localhost:8080/",
          "height": 365
        },
        "id": "hwJSCaBbWuV6",
        "outputId": "6704d2f1-ec80-4a7f-f8dd-112695a28e40"
      },
      "execution_count": 145,
      "outputs": [
        {
          "output_type": "display_data",
          "data": {
            "text/plain": [
              "<Figure size 360x360 with 1 Axes>"
            ],
            "image/png": "[encoded data removed]"
          },
          "metadata": {}
        }
      ]
    },
    {
      "cell_type": "code",
      "source": [
        "sns.regplot(x=\"Actual Value\", y=\"Predicted Value\", data=pred_y_df);\n",
        "\n",
        "\n"
      ],
      "metadata": {
        "colab": {
          "base_uri": "https://localhost:8080/",
          "height": 611
        },
        "id": "qXyh7HGwWw_6",
        "outputId": "cd4a4874-7ffc-473b-ad79-73f66ffa5d44"
      },
      "execution_count": 146,
      "outputs": [
        {
          "output_type": "display_data",
          "data": {
            "text/plain": [
              "<Figure size 864x720 with 1 Axes>"
            ],
            "image/png": "[encoded data removed]"
          },
          "metadata": {}
        }
      ]
    },
    {
      "cell_type": "markdown",
      "source": [
        "#Testing Ploting and Result"
      ],
      "metadata": {
        "id": "qXdK1hpkYVmJ"
      }
    },
    {
      "cell_type": "code",
      "source": [
        "y_pred_test = lin_reg.predict(X_test)\n",
        "\n",
        "\n",
        "from sklearn.metrics import r2_score,mean_squared_error\n",
        "print(\"Testing r2: \",r2_score(y_test,y_pred_test))\n",
        "\n",
        "r_sq = lin_reg.score(X_new, y_new)\n",
        "print(\"R_sq: \",r_sq)"
      ],
      "metadata": {
        "colab": {
          "base_uri": "https://localhost:8080/"
        },
        "id": "mRj0_o_wuTG4",
        "outputId": "f11dca8c-8492-46b4-8380-1764bc809534"
      },
      "execution_count": 147,
      "outputs": [
        {
          "output_type": "stream",
          "name": "stdout",
          "text": [
            "Testing r2:  0.09286082115916094\n",
            "R_sq:  0.28643546435777734\n"
          ]
        }
      ]
    },
    {
      "cell_type": "code",
      "source": [
        "r_sq_test = lin_reg.score(X_test, y_pred_test)\n",
        "print(r_sq_test)"
      ],
      "metadata": {
        "colab": {
          "base_uri": "https://localhost:8080/"
        },
        "id": "ItP1GkjXL2qM",
        "outputId": "fe99a367-1852-4a31-9b79-0790c83b5634"
      },
      "execution_count": 148,
      "outputs": [
        {
          "output_type": "stream",
          "name": "stdout",
          "text": [
            "1.0\n"
          ]
        }
      ]
    },
    {
      "cell_type": "code",
      "source": [
        "import matplotlib.pyplot as plt\n",
        "plt.figure(figsize=(15,10))\n",
        "plt.scatter(y_test, y_pred_test, color = \"red\")\n",
        "plt.xlabel(\"Actual\")\n",
        "plt.ylabel(\"Predicted\")\n",
        "plt.show()"
      ],
      "metadata": {
        "colab": {
          "base_uri": "https://localhost:8080/",
          "height": 611
        },
        "id": "bqDGyYc8vjk1",
        "outputId": "45b6f7ff-5186-4a93-a5f5-3c4819d5ba70"
      },
      "execution_count": 149,
      "outputs": [
        {
          "output_type": "display_data",
          "data": {
            "text/plain": [
              "<Figure size 1080x720 with 1 Axes>"
            ],
            "image/png": "[encoded data removed]"
          },
          "metadata": {}
        }
      ]
    },
    {
      "cell_type": "code",
      "source": [
        "pred_y_df=pd.DataFrame(\n",
        "    {\n",
        "        \"Actual Value\":y_test,\n",
        "        \"Predicted Value\":y_pred_test,\n",
        "        \"Difference\":y_test-y_pred_test\n",
        "    }\n",
        ")\n",
        "\n",
        "pred_y_df\n"
      ],
      "metadata": {
        "colab": {
          "base_uri": "https://localhost:8080/",
          "height": 990
        },
        "id": "we5fm-kfxYww",
        "outputId": "448918f4-7c10-4d4f-85a6-9b6d227025ed"
      },
      "execution_count": 150,
      "outputs": [
        {
          "output_type": "execute_result",
          "data": {
            "text/plain": [
              "     Actual Value  Predicted Value  Difference\n",
              "120            23        39.686181  -16.686181\n",
              "121            19        30.577361  -11.577361\n",
              "122            11        50.247300  -39.247300\n",
              "123            30        40.508047  -10.508047\n",
              "124            23        50.598816  -27.598816\n",
              "125            34        38.349999   -4.349999\n",
              "126            28        33.679684   -5.679684\n",
              "127            40        52.589305  -12.589305\n",
              "128            42        63.798660  -21.798660\n",
              "129            42        49.652310   -7.652310\n",
              "130            41        37.463014    3.536986\n",
              "131            47        34.765961   12.234039\n",
              "132            53        31.620959   21.379041\n",
              "133            53        48.612457    4.387543\n",
              "134            41        33.440686    7.559314\n",
              "135            38        39.803181   -1.803181\n",
              "136            55        58.805929   -3.805929\n",
              "137            45        47.331709   -2.331709\n",
              "138            56        42.571027   13.428973\n",
              "139            53        42.313133   10.686867\n",
              "140            53        45.638136    7.361864\n",
              "141            54        39.668835   14.331165\n",
              "142            54        40.699076   13.300924\n",
              "143            54        56.548633   -2.548633\n",
              "144            74        52.032248   21.967752\n",
              "145            74        53.018998   20.981002\n",
              "146            95        43.871396   51.128604\n",
              "147            95        58.859320   36.140680\n",
              "148            63        46.897725   16.102275\n",
              "149            68        52.481096   15.518904"
            ],
            "text/html": [
              "\n",
              "  <div id=\"df-3cdd81e9-044e-41d7-971f-14b6ffd77438\">\n",
              "    <div class=\"colab-df-container\">\n",
              "      <div>\n",
              "<style scoped>\n",
              "    .dataframe tbody tr th:only-of-type {\n",
              "        vertical-align: middle;\n",
              "    }\n",
              "\n",
              "    .dataframe tbody tr th {\n",
              "        vertical-align: top;\n",
              "    }\n",
              "\n",
              "    .dataframe thead th {\n",
              "        text-align: right;\n",
              "    }\n",
              "</style>\n",
              "<table border=\"1\" class=\"dataframe\">\n",
              "  <thead>\n",
              "    <tr style=\"text-align: right;\">\n",
              "      <th></th>\n",
              "      <th>Actual Value</th>\n",
              "      <th>Predicted Value</th>\n",
              "      <th>Difference</th>\n",
              "    </tr>\n",
              "  </thead>\n",
              "  <tbody>\n",
              "    <tr>\n",
              "      <th>120</th>\n",
              "      <td>23</td>\n",
              "      <td>39.686181</td>\n",
              "      <td>-16.686181</td>\n",
              "    </tr>\n",
              "    <tr>\n",
              "      <th>121</th>\n",
              "      <td>19</td>\n",
              "      <td>30.577361</td>\n",
              "      <td>-11.577361</td>\n",
              "    </tr>\n",
              "    <tr>\n",
              "      <th>122</th>\n",
              "      <td>11</td>\n",
              "      <td>50.247300</td>\n",
              "      <td>-39.247300</td>\n",
              "    </tr>\n",
              "    <tr>\n",
              "      <th>123</th>\n",
              "      <td>30</td>\n",
              "      <td>40.508047</td>\n",
              "      <td>-10.508047</td>\n",
              "    </tr>\n",
              "    <tr>\n",
              "      <th>124</th>\n",
              "      <td>23</td>\n",
              "      <td>50.598816</td>\n",
              "      <td>-27.598816</td>\n",
              "    </tr>\n",
              "    <tr>\n",
              "      <th>125</th>\n",
              "      <td>34</td>\n",
              "      <td>38.349999</td>\n",
              "      <td>-4.349999</td>\n",
              "    </tr>\n",
              "    <tr>\n",
              "      <th>126</th>\n",
              "      <td>28</td>\n",
              "      <td>33.679684</td>\n",
              "      <td>-5.679684</td>\n",
              "    </tr>\n",
              "    <tr>\n",
              "      <th>127</th>\n",
              "      <td>40</td>\n",
              "      <td>52.589305</td>\n",
              "      <td>-12.589305</td>\n",
              "    </tr>\n",
              "    <tr>\n",
              "      <th>128</th>\n",
              "      <td>42</td>\n",
              "      <td>63.798660</td>\n",
              "      <td>-21.798660</td>\n",
              "    </tr>\n",
              "    <tr>\n",
              "      <th>129</th>\n",
              "      <td>42</td>\n",
              "      <td>49.652310</td>\n",
              "      <td>-7.652310</td>\n",
              "    </tr>\n",
              "    <tr>\n",
              "      <th>130</th>\n",
              "      <td>41</td>\n",
              "      <td>37.463014</td>\n",
              "      <td>3.536986</td>\n",
              "    </tr>\n",
              "    <tr>\n",
              "      <th>131</th>\n",
              "      <td>47</td>\n",
              "      <td>34.765961</td>\n",
              "      <td>12.234039</td>\n",
              "    </tr>\n",
              "    <tr>\n",
              "      <th>132</th>\n",
              "      <td>53</td>\n",
              "      <td>31.620959</td>\n",
              "      <td>21.379041</td>\n",
              "    </tr>\n",
              "    <tr>\n",
              "      <th>133</th>\n",
              "      <td>53</td>\n",
              "      <td>48.612457</td>\n",
              "      <td>4.387543</td>\n",
              "    </tr>\n",
              "    <tr>\n",
              "      <th>134</th>\n",
              "      <td>41</td>\n",
              "      <td>33.440686</td>\n",
              "      <td>7.559314</td>\n",
              "    </tr>\n",
              "    <tr>\n",
              "      <th>135</th>\n",
              "      <td>38</td>\n",
              "      <td>39.803181</td>\n",
              "      <td>-1.803181</td>\n",
              "    </tr>\n",
              "    <tr>\n",
              "      <th>136</th>\n",
              "      <td>55</td>\n",
              "      <td>58.805929</td>\n",
              "      <td>-3.805929</td>\n",
              "    </tr>\n",
              "    <tr>\n",
              "      <th>137</th>\n",
              "      <td>45</td>\n",
              "      <td>47.331709</td>\n",
              "      <td>-2.331709</td>\n",
              "    </tr>\n",
              "    <tr>\n",
              "      <th>138</th>\n",
              "      <td>56</td>\n",
              "      <td>42.571027</td>\n",
              "      <td>13.428973</td>\n",
              "    </tr>\n",
              "    <tr>\n",
              "      <th>139</th>\n",
              "      <td>53</td>\n",
              "      <td>42.313133</td>\n",
              "      <td>10.686867</td>\n",
              "    </tr>\n",
              "    <tr>\n",
              "      <th>140</th>\n",
              "      <td>53</td>\n",
              "      <td>45.638136</td>\n",
              "      <td>7.361864</td>\n",
              "    </tr>\n",
              "    <tr>\n",
              "      <th>141</th>\n",
              "      <td>54</td>\n",
              "      <td>39.668835</td>\n",
              "      <td>14.331165</td>\n",
              "    </tr>\n",
              "    <tr>\n",
              "      <th>142</th>\n",
              "      <td>54</td>\n",
              "      <td>40.699076</td>\n",
              "      <td>13.300924</td>\n",
              "    </tr>\n",
              "    <tr>\n",
              "      <th>143</th>\n",
              "      <td>54</td>\n",
              "      <td>56.548633</td>\n",
              "      <td>-2.548633</td>\n",
              "    </tr>\n",
              "    <tr>\n",
              "      <th>144</th>\n",
              "      <td>74</td>\n",
              "      <td>52.032248</td>\n",
              "      <td>21.967752</td>\n",
              "    </tr>\n",
              "    <tr>\n",
              "      <th>145</th>\n",
              "      <td>74</td>\n",
              "      <td>53.018998</td>\n",
              "      <td>20.981002</td>\n",
              "    </tr>\n",
              "    <tr>\n",
              "      <th>146</th>\n",
              "      <td>95</td>\n",
              "      <td>43.871396</td>\n",
              "      <td>51.128604</td>\n",
              "    </tr>\n",
              "    <tr>\n",
              "      <th>147</th>\n",
              "      <td>95</td>\n",
              "      <td>58.859320</td>\n",
              "      <td>36.140680</td>\n",
              "    </tr>\n",
              "    <tr>\n",
              "      <th>148</th>\n",
              "      <td>63</td>\n",
              "      <td>46.897725</td>\n",
              "      <td>16.102275</td>\n",
              "    </tr>\n",
              "    <tr>\n",
              "      <th>149</th>\n",
              "      <td>68</td>\n",
              "      <td>52.481096</td>\n",
              "      <td>15.518904</td>\n",
              "    </tr>\n",
              "  </tbody>\n",
              "</table>\n",
              "</div>\n",
              "      <button class=\"colab-df-convert\" onclick=\"convertToInteractive('df-3cdd81e9-044e-41d7-971f-14b6ffd77438')\"\n",
              "              title=\"Convert this dataframe to an interactive table.\"\n",
              "              style=\"display:none;\">\n",
              "        \n",
              "  <svg xmlns=\"http://www.w3.org/2000/svg\" height=\"24px\"viewBox=\"0 0 24 24\"\n",
              "       width=\"24px\">\n",
              "    <path d=\"M0 0h24v24H0V0z\" fill=\"none\"/>\n",
              "    <path d=\"M18.56 5.44l.94 2.06.94-2.06 2.06-.94-2.06-.94-.94-2.06-.94 2.06-2.06.94zm-11 1L8.5 8.5l.94-2.06 2.06-.94-2.06-.94L8.5 2.5l-.94 2.06-2.06.94zm10 10l.94 2.06.94-2.06 2.06-.94-2.06-.94-.94-2.06-.94 2.06-2.06.94z\"/><path d=\"M17.41 7.96l-1.37-1.37c-.4-.4-.92-.59-1.43-.59-.52 0-1.04.2-1.43.59L10.3 9.45l-7.72 7.72c-.78.78-.78 2.05 0 2.83L4 21.41c.39.39.9.59 1.41.59.51 0 1.02-.2 1.41-.59l7.78-7.78 2.81-2.81c.8-.78.8-2.07 0-2.86zM5.41 20L4 18.59l7.72-7.72 1.47 1.35L5.41 20z\"/>\n",
              "  </svg>\n",
              "      </button>\n",
              "      \n",
              "  <style>\n",
              "    .colab-df-container {\n",
              "      display:flex;\n",
              "      flex-wrap:wrap;\n",
              "      gap: 12px;\n",
              "    }\n",
              "\n",
              "    .colab-df-convert {\n",
              "      background-color: #E8F0FE;\n",
              "      border: none;\n",
              "      border-radius: 50%;\n",
              "      cursor: pointer;\n",
              "      display: none;\n",
              "      fill: #1967D2;\n",
              "      height: 32px;\n",
              "      padding: 0 0 0 0;\n",
              "      width: 32px;\n",
              "    }\n",
              "\n",
              "    .colab-df-convert:hover {\n",
              "      background-color: #E2EBFA;\n",
              "      box-shadow: 0px 1px 2px rgba(60, 64, 67, 0.3), 0px 1px 3px 1px rgba(60, 64, 67, 0.15);\n",
              "      fill: #174EA6;\n",
              "    }\n",
              "\n",
              "    [theme=dark] .colab-df-convert {\n",
              "      background-color: #3B4455;\n",
              "      fill: #D2E3FC;\n",
              "    }\n",
              "\n",
              "    [theme=dark] .colab-df-convert:hover {\n",
              "      background-color: #434B5C;\n",
              "      box-shadow: 0px 1px 3px 1px rgba(0, 0, 0, 0.15);\n",
              "      filter: drop-shadow(0px 1px 2px rgba(0, 0, 0, 0.3));\n",
              "      fill: #FFFFFF;\n",
              "    }\n",
              "  </style>\n",
              "\n",
              "      <script>\n",
              "        const buttonEl =\n",
              "          document.querySelector('#df-3cdd81e9-044e-41d7-971f-14b6ffd77438 button.colab-df-convert');\n",
              "        buttonEl.style.display =\n",
              "          google.colab.kernel.accessAllowed ? 'block' : 'none';\n",
              "\n",
              "        async function convertToInteractive(key) {\n",
              "          const element = document.querySelector('#df-3cdd81e9-044e-41d7-971f-14b6ffd77438');\n",
              "          const dataTable =\n",
              "            await google.colab.kernel.invokeFunction('convertToInteractive',\n",
              "                                                     [key], {});\n",
              "          if (!dataTable) return;\n",
              "\n",
              "          const docLinkHtml = 'Like what you see? Visit the ' +\n",
              "            '<a target=\"_blank\" href=https://colab.research.google.com/notebooks/data_table.ipynb>data table notebook</a>'\n",
              "            + ' to learn more about interactive tables.';\n",
              "          element.innerHTML = '';\n",
              "          dataTable['output_type'] = 'display_data';\n",
              "          await google.colab.output.renderOutput(dataTable, element);\n",
              "          const docLink = document.createElement('div');\n",
              "          docLink.innerHTML = docLinkHtml;\n",
              "          element.appendChild(docLink);\n",
              "        }\n",
              "      </script>\n",
              "    </div>\n",
              "  </div>\n",
              "  "
            ]
          },
          "metadata": {},
          "execution_count": 150
        }
      ]
    },
    {
      "cell_type": "code",
      "source": [
        "\n",
        "# The mean squared error\n",
        "print(\"Mean squared error: %.2f\" % mean_squared_error(y_test, y_pred_test))\n",
        "# The coefficient of determination: 1 is perfect prediction\n",
        "print(\"Coefficient of determination: %.2f\" % r2_score(y_test, y_pred_test))\n"
      ],
      "metadata": {
        "colab": {
          "base_uri": "https://localhost:8080/"
        },
        "id": "6tYsIrvqxrvH",
        "outputId": "990fc322-5f2d-42c8-bc88-094547b3cc71"
      },
      "execution_count": 151,
      "outputs": [
        {
          "output_type": "stream",
          "name": "stdout",
          "text": [
            "Mean squared error: 345.60\n",
            "Coefficient of determination: 0.09\n"
          ]
        }
      ]
    },
    {
      "cell_type": "code",
      "source": [],
      "metadata": {
        "id": "UJwChuVqxrPJ"
      },
      "execution_count": 151,
      "outputs": []
    },
    {
      "cell_type": "code",
      "source": [
        "import seaborn as sns\n",
        "\n",
        "sns.set(rc={'figure.figsize':(12,10)})\n",
        "scatter_poly2 = sns.lmplot(\n",
        "    data = pred_y_df, \n",
        "    x = \"Actual Value\",\n",
        "    y = \"Predicted Value\",\n",
        "    order = 2\n",
        ")"
      ],
      "metadata": {
        "colab": {
          "base_uri": "https://localhost:8080/",
          "height": 365
        },
        "id": "BTZtbOs9xrLb",
        "outputId": "f8f9b4b0-5663-4a06-9688-e9de25dc35fa"
      },
      "execution_count": 152,
      "outputs": [
        {
          "output_type": "display_data",
          "data": {
            "text/plain": [
              "<Figure size 360x360 with 1 Axes>"
            ],
            "image/png": "[encoded data removed]"
          },
          "metadata": {}
        }
      ]
    },
    {
      "cell_type": "code",
      "source": [
        "sns.regplot(x=\"Actual Value\", y=\"Predicted Value\", data=pred_y_df);"
      ],
      "metadata": {
        "colab": {
          "base_uri": "https://localhost:8080/",
          "height": 611
        },
        "id": "RmChHz5JxrHD",
        "outputId": "bcfe36b9-4084-4e3e-fb66-343bcef8a14f"
      },
      "execution_count": 153,
      "outputs": [
        {
          "output_type": "display_data",
          "data": {
            "text/plain": [
              "<Figure size 864x720 with 1 Axes>"
            ],
            "image/png": "[encoded data removed]"
          },
          "metadata": {}
        }
      ]
    }
  ]
}