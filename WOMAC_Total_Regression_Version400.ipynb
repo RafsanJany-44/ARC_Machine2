{
  "nbformat": 4,
  "nbformat_minor": 0,
  "metadata": {
    "colab": {
      "provenance": [],
      "authorship_tag": "ABX9TyNUZK9odqfNL+1mfc8m8npd",
      "include_colab_link": true
    },
    "kernelspec": {
      "name": "python3",
      "display_name": "Python 3"
    },
    "language_info": {
      "name": "python"
    }
  },
  "cells": [
    {
      "cell_type": "markdown",
      "metadata": {
        "id": "view-in-github",
        "colab_type": "text"
      },
      "source": [
        "<a href=\"https://colab.research.google.com/github/RafsanJany-44/ARC_Machine2/blob/main/WOMAC_Total_Regression_Version400.ipynb\" target=\"_parent\"><img src=\"https://colab.research.google.com/assets/colab-badge.svg\" alt=\"Open In Colab\"/></a>"
      ]
    },
    {
      "cell_type": "code",
      "execution_count": 1,
      "metadata": {
        "colab": {
          "base_uri": "https://localhost:8080/"
        },
        "id": "uBKA50vpSTbx",
        "outputId": "32449ccb-b9eb-4da7-e02a-aaec0f45b73d"
      },
      "outputs": [
        {
          "output_type": "stream",
          "name": "stdout",
          "text": [
            "Mounted at /content/drive\n"
          ]
        }
      ],
      "source": [
        "from google.colab import drive\n",
        "drive.mount('/content/drive')"
      ]
    },
    {
      "cell_type": "code",
      "source": [
        "!pip install smogn"
      ],
      "metadata": {
        "colab": {
          "base_uri": "https://localhost:8080/"
        },
        "id": "ZLIt73KYSboP",
        "outputId": "65a66e69-5136-4ea2-a703-e15d1a20d481"
      },
      "execution_count": 2,
      "outputs": [
        {
          "output_type": "stream",
          "name": "stdout",
          "text": [
            "Looking in indexes: https://pypi.org/simple, https://us-python.pkg.dev/colab-wheels/public/simple/\n",
            "Collecting smogn\n",
            "  Downloading smogn-0.1.2-py3-none-any.whl (30 kB)\n",
            "Requirement already satisfied: numpy in /usr/local/lib/python3.7/dist-packages (from smogn) (1.21.6)\n",
            "Requirement already satisfied: tqdm in /usr/local/lib/python3.7/dist-packages (from smogn) (4.64.0)\n",
            "Requirement already satisfied: pandas in /usr/local/lib/python3.7/dist-packages (from smogn) (1.3.5)\n",
            "Requirement already satisfied: pytz>=2017.3 in /usr/local/lib/python3.7/dist-packages (from pandas->smogn) (2022.2.1)\n",
            "Requirement already satisfied: python-dateutil>=2.7.3 in /usr/local/lib/python3.7/dist-packages (from pandas->smogn) (2.8.2)\n",
            "Requirement already satisfied: six>=1.5 in /usr/local/lib/python3.7/dist-packages (from python-dateutil>=2.7.3->pandas->smogn) (1.15.0)\n",
            "Installing collected packages: smogn\n",
            "Successfully installed smogn-0.1.2\n"
          ]
        }
      ]
    },
    {
      "cell_type": "code",
      "source": [
        "import numpy as np\n",
        "import pandas as pd\n",
        "import smogn\n",
        "#dataset=pd.read_csv(\"/content/drive/MyDrive/Iqram Sir/KOA_EMG_WOMAC__2022.08.29_Final_W-tempo-spatial.csv\")\n",
        "d=pd.read_csv(\"/content/drive/MyDrive/Iqram Sir/KOA_EMG_WOMAC__2022.08.31_Final_Original.csv\")\n",
        "\n",
        "dataset = smogn.smoter(\n",
        "    \n",
        "    data = d, \n",
        "    y = \"WOMAC_total\"\n",
        ")"
      ],
      "metadata": {
        "colab": {
          "base_uri": "https://localhost:8080/"
        },
        "id": "KNaCIRpXScIE",
        "outputId": "c10e8c07-3804-4bdc-ac3b-9e125fda15b1"
      },
      "execution_count": 3,
      "outputs": [
        {
          "output_type": "stream",
          "name": "stderr",
          "text": [
            "dist_matrix: 100%|##########| 25/25 [00:08<00:00,  2.93it/s]\n",
            "synth_matrix: 100%|##########| 25/25 [00:07<00:00,  3.14it/s]\n",
            "dist_matrix: 100%|##########| 24/24 [00:07<00:00,  3.09it/s]\n",
            "synth_matrix: 100%|##########| 24/24 [00:07<00:00,  3.12it/s]\n",
            "r_index: 100%|##########| 2/2 [00:00<00:00,  3.50it/s]\n"
          ]
        }
      ]
    },
    {
      "cell_type": "code",
      "source": [
        "dataset.head(10)"
      ],
      "metadata": {
        "colab": {
          "base_uri": "https://localhost:8080/",
          "height": 473
        },
        "id": "p7yQWgUZSeNZ",
        "outputId": "85f3f2dc-0278-4200-f9db-611d70ec0655"
      },
      "execution_count": 4,
      "outputs": [
        {
          "output_type": "execute_result",
          "data": {
            "text/plain": [
              "   Patient ID Data Type Bone-Attribution  WOMAC_Pain WOMAC_Pain Grade  \\\n",
              "0       13507   Testing                O          13         Moderate   \n",
              "1       14079   Testing                O           9         Moderate   \n",
              "2       14064   Testing                O          10         Moderate   \n",
              "3       14474   Testing                O          15         Moderate   \n",
              "4       14466   Testing                O          15         Moderate   \n",
              "5       13249   Testing                O           9         Moderate   \n",
              "6       13353   Testing                O          13         Moderate   \n",
              "7       13347   Testing                O          14         Moderate   \n",
              "8       13518   Testing                O          13         Moderate   \n",
              "9       14150   Testing                O          11         Moderate   \n",
              "\n",
              "   WOMAC_Stiffness WOMAC_Stiffness Grade  WOMAC_Physical function  \\\n",
              "0                2                  Mild                       50   \n",
              "1                5                  Mild                       49   \n",
              "2                5                  Mild                       49   \n",
              "3                5                  Mild                       45   \n",
              "4                5                  Mild                       46   \n",
              "5                6                  Mild                       52   \n",
              "6                6                  Mild                       49   \n",
              "7                5                  Mild                       50   \n",
              "8                5                  Mild                       49   \n",
              "9                6                  Mild                       52   \n",
              "\n",
              "  WOMAC_MHhysical function Grade  WOMAC_total  ...    TA-G-100  \\\n",
              "0                         Severe           66  ...   79.937851   \n",
              "1                         Severe           66  ...   42.601987   \n",
              "2                         Severe           65  ...   44.004984   \n",
              "3                         Severe           66  ...   85.013484   \n",
              "4                         Severe           67  ...  870.744683   \n",
              "5                         Severe           67  ...   99.491677   \n",
              "6                         Severe           70  ...   97.994128   \n",
              "7                         Severe           70  ...   62.018063   \n",
              "8                         Severe           70  ...  194.867349   \n",
              "9                         Severe           69  ...  267.196207   \n",
              "\n",
              "   Stance_CCI_TA-RF Stance_CCI_G-MH  Stance_CCI_TA-G Swing_CCI_TA-RF  \\\n",
              "0         22.151622      197.372995        17.816809      118.293635   \n",
              "1         28.010216      301.298782        26.930368       67.890208   \n",
              "2        139.017113      158.342973       121.799067       85.689450   \n",
              "3         96.023870       71.831104        84.756438      112.899410   \n",
              "4        243.331217       74.530193       478.061746      322.980752   \n",
              "5         94.006116      141.230466       100.511433      225.871439   \n",
              "6        125.917642      135.213318       121.215941      112.699095   \n",
              "7        290.159806      107.128405       132.866264      157.785168   \n",
              "8         82.192958       65.300421       157.798670      111.993083   \n",
              "9        222.505592      101.319626       252.955295      281.819677   \n",
              "\n",
              "  Swing_CCI_G-MH Swing_CCI_TA-G  swing/stance_cci(TA_RF)  \\\n",
              "0      83.565242     111.540745                 5.431644   \n",
              "1     340.768531      76.531418                 2.396348   \n",
              "2      72.301786     117.300896                 0.627266   \n",
              "3      51.613703     165.477110                 1.110284   \n",
              "4      13.167193     806.923094                 1.377682   \n",
              "5      26.272635     226.119728                 2.336755   \n",
              "6     109.531892     130.117581                 0.875872   \n",
              "7      74.217080     178.040834                 0.573310   \n",
              "8      23.165973     326.354252                 1.329707   \n",
              "9      35.088302     407.364636                 1.237216   \n",
              "\n",
              "   swing/stance_cci(G-MH)  swing/stance_CCI(TA-G)  \n",
              "0                0.420638                5.607971  \n",
              "1                1.124290                2.870203  \n",
              "2                0.467384                0.927110  \n",
              "3                0.734254                1.945224  \n",
              "4                0.209769                1.714426  \n",
              "5                0.173441                2.274752  \n",
              "6                0.822262                0.979593  \n",
              "7                0.721339                1.374334  \n",
              "8                0.362477                2.046901  \n",
              "9                0.343807                1.579850  \n",
              "\n",
              "[10 rows x 812 columns]"
            ],
            "text/html": [
              "\n",
              "  <div id=\"df-b74821c2-5243-453d-90dc-33244c969077\">\n",
              "    <div class=\"colab-df-container\">\n",
              "      <div>\n",
              "<style scoped>\n",
              "    .dataframe tbody tr th:only-of-type {\n",
              "        vertical-align: middle;\n",
              "    }\n",
              "\n",
              "    .dataframe tbody tr th {\n",
              "        vertical-align: top;\n",
              "    }\n",
              "\n",
              "    .dataframe thead th {\n",
              "        text-align: right;\n",
              "    }\n",
              "</style>\n",
              "<table border=\"1\" class=\"dataframe\">\n",
              "  <thead>\n",
              "    <tr style=\"text-align: right;\">\n",
              "      <th></th>\n",
              "      <th>Patient ID</th>\n",
              "      <th>Data Type</th>\n",
              "      <th>Bone-Attribution</th>\n",
              "      <th>WOMAC_Pain</th>\n",
              "      <th>WOMAC_Pain Grade</th>\n",
              "      <th>WOMAC_Stiffness</th>\n",
              "      <th>WOMAC_Stiffness Grade</th>\n",
              "      <th>WOMAC_Physical function</th>\n",
              "      <th>WOMAC_MHhysical function Grade</th>\n",
              "      <th>WOMAC_total</th>\n",
              "      <th>...</th>\n",
              "      <th>TA-G-100</th>\n",
              "      <th>Stance_CCI_TA-RF</th>\n",
              "      <th>Stance_CCI_G-MH</th>\n",
              "      <th>Stance_CCI_TA-G</th>\n",
              "      <th>Swing_CCI_TA-RF</th>\n",
              "      <th>Swing_CCI_G-MH</th>\n",
              "      <th>Swing_CCI_TA-G</th>\n",
              "      <th>swing/stance_cci(TA_RF)</th>\n",
              "      <th>swing/stance_cci(G-MH)</th>\n",
              "      <th>swing/stance_CCI(TA-G)</th>\n",
              "    </tr>\n",
              "  </thead>\n",
              "  <tbody>\n",
              "    <tr>\n",
              "      <th>0</th>\n",
              "      <td>13507</td>\n",
              "      <td>Testing</td>\n",
              "      <td>O</td>\n",
              "      <td>13</td>\n",
              "      <td>Moderate</td>\n",
              "      <td>2</td>\n",
              "      <td>Mild</td>\n",
              "      <td>50</td>\n",
              "      <td>Severe</td>\n",
              "      <td>66</td>\n",
              "      <td>...</td>\n",
              "      <td>79.937851</td>\n",
              "      <td>22.151622</td>\n",
              "      <td>197.372995</td>\n",
              "      <td>17.816809</td>\n",
              "      <td>118.293635</td>\n",
              "      <td>83.565242</td>\n",
              "      <td>111.540745</td>\n",
              "      <td>5.431644</td>\n",
              "      <td>0.420638</td>\n",
              "      <td>5.607971</td>\n",
              "    </tr>\n",
              "    <tr>\n",
              "      <th>1</th>\n",
              "      <td>14079</td>\n",
              "      <td>Testing</td>\n",
              "      <td>O</td>\n",
              "      <td>9</td>\n",
              "      <td>Moderate</td>\n",
              "      <td>5</td>\n",
              "      <td>Mild</td>\n",
              "      <td>49</td>\n",
              "      <td>Severe</td>\n",
              "      <td>66</td>\n",
              "      <td>...</td>\n",
              "      <td>42.601987</td>\n",
              "      <td>28.010216</td>\n",
              "      <td>301.298782</td>\n",
              "      <td>26.930368</td>\n",
              "      <td>67.890208</td>\n",
              "      <td>340.768531</td>\n",
              "      <td>76.531418</td>\n",
              "      <td>2.396348</td>\n",
              "      <td>1.124290</td>\n",
              "      <td>2.870203</td>\n",
              "    </tr>\n",
              "    <tr>\n",
              "      <th>2</th>\n",
              "      <td>14064</td>\n",
              "      <td>Testing</td>\n",
              "      <td>O</td>\n",
              "      <td>10</td>\n",
              "      <td>Moderate</td>\n",
              "      <td>5</td>\n",
              "      <td>Mild</td>\n",
              "      <td>49</td>\n",
              "      <td>Severe</td>\n",
              "      <td>65</td>\n",
              "      <td>...</td>\n",
              "      <td>44.004984</td>\n",
              "      <td>139.017113</td>\n",
              "      <td>158.342973</td>\n",
              "      <td>121.799067</td>\n",
              "      <td>85.689450</td>\n",
              "      <td>72.301786</td>\n",
              "      <td>117.300896</td>\n",
              "      <td>0.627266</td>\n",
              "      <td>0.467384</td>\n",
              "      <td>0.927110</td>\n",
              "    </tr>\n",
              "    <tr>\n",
              "      <th>3</th>\n",
              "      <td>14474</td>\n",
              "      <td>Testing</td>\n",
              "      <td>O</td>\n",
              "      <td>15</td>\n",
              "      <td>Moderate</td>\n",
              "      <td>5</td>\n",
              "      <td>Mild</td>\n",
              "      <td>45</td>\n",
              "      <td>Severe</td>\n",
              "      <td>66</td>\n",
              "      <td>...</td>\n",
              "      <td>85.013484</td>\n",
              "      <td>96.023870</td>\n",
              "      <td>71.831104</td>\n",
              "      <td>84.756438</td>\n",
              "      <td>112.899410</td>\n",
              "      <td>51.613703</td>\n",
              "      <td>165.477110</td>\n",
              "      <td>1.110284</td>\n",
              "      <td>0.734254</td>\n",
              "      <td>1.945224</td>\n",
              "    </tr>\n",
              "    <tr>\n",
              "      <th>4</th>\n",
              "      <td>14466</td>\n",
              "      <td>Testing</td>\n",
              "      <td>O</td>\n",
              "      <td>15</td>\n",
              "      <td>Moderate</td>\n",
              "      <td>5</td>\n",
              "      <td>Mild</td>\n",
              "      <td>46</td>\n",
              "      <td>Severe</td>\n",
              "      <td>67</td>\n",
              "      <td>...</td>\n",
              "      <td>870.744683</td>\n",
              "      <td>243.331217</td>\n",
              "      <td>74.530193</td>\n",
              "      <td>478.061746</td>\n",
              "      <td>322.980752</td>\n",
              "      <td>13.167193</td>\n",
              "      <td>806.923094</td>\n",
              "      <td>1.377682</td>\n",
              "      <td>0.209769</td>\n",
              "      <td>1.714426</td>\n",
              "    </tr>\n",
              "    <tr>\n",
              "      <th>5</th>\n",
              "      <td>13249</td>\n",
              "      <td>Testing</td>\n",
              "      <td>O</td>\n",
              "      <td>9</td>\n",
              "      <td>Moderate</td>\n",
              "      <td>6</td>\n",
              "      <td>Mild</td>\n",
              "      <td>52</td>\n",
              "      <td>Severe</td>\n",
              "      <td>67</td>\n",
              "      <td>...</td>\n",
              "      <td>99.491677</td>\n",
              "      <td>94.006116</td>\n",
              "      <td>141.230466</td>\n",
              "      <td>100.511433</td>\n",
              "      <td>225.871439</td>\n",
              "      <td>26.272635</td>\n",
              "      <td>226.119728</td>\n",
              "      <td>2.336755</td>\n",
              "      <td>0.173441</td>\n",
              "      <td>2.274752</td>\n",
              "    </tr>\n",
              "    <tr>\n",
              "      <th>6</th>\n",
              "      <td>13353</td>\n",
              "      <td>Testing</td>\n",
              "      <td>O</td>\n",
              "      <td>13</td>\n",
              "      <td>Moderate</td>\n",
              "      <td>6</td>\n",
              "      <td>Mild</td>\n",
              "      <td>49</td>\n",
              "      <td>Severe</td>\n",
              "      <td>70</td>\n",
              "      <td>...</td>\n",
              "      <td>97.994128</td>\n",
              "      <td>125.917642</td>\n",
              "      <td>135.213318</td>\n",
              "      <td>121.215941</td>\n",
              "      <td>112.699095</td>\n",
              "      <td>109.531892</td>\n",
              "      <td>130.117581</td>\n",
              "      <td>0.875872</td>\n",
              "      <td>0.822262</td>\n",
              "      <td>0.979593</td>\n",
              "    </tr>\n",
              "    <tr>\n",
              "      <th>7</th>\n",
              "      <td>13347</td>\n",
              "      <td>Testing</td>\n",
              "      <td>O</td>\n",
              "      <td>14</td>\n",
              "      <td>Moderate</td>\n",
              "      <td>5</td>\n",
              "      <td>Mild</td>\n",
              "      <td>50</td>\n",
              "      <td>Severe</td>\n",
              "      <td>70</td>\n",
              "      <td>...</td>\n",
              "      <td>62.018063</td>\n",
              "      <td>290.159806</td>\n",
              "      <td>107.128405</td>\n",
              "      <td>132.866264</td>\n",
              "      <td>157.785168</td>\n",
              "      <td>74.217080</td>\n",
              "      <td>178.040834</td>\n",
              "      <td>0.573310</td>\n",
              "      <td>0.721339</td>\n",
              "      <td>1.374334</td>\n",
              "    </tr>\n",
              "    <tr>\n",
              "      <th>8</th>\n",
              "      <td>13518</td>\n",
              "      <td>Testing</td>\n",
              "      <td>O</td>\n",
              "      <td>13</td>\n",
              "      <td>Moderate</td>\n",
              "      <td>5</td>\n",
              "      <td>Mild</td>\n",
              "      <td>49</td>\n",
              "      <td>Severe</td>\n",
              "      <td>70</td>\n",
              "      <td>...</td>\n",
              "      <td>194.867349</td>\n",
              "      <td>82.192958</td>\n",
              "      <td>65.300421</td>\n",
              "      <td>157.798670</td>\n",
              "      <td>111.993083</td>\n",
              "      <td>23.165973</td>\n",
              "      <td>326.354252</td>\n",
              "      <td>1.329707</td>\n",
              "      <td>0.362477</td>\n",
              "      <td>2.046901</td>\n",
              "    </tr>\n",
              "    <tr>\n",
              "      <th>9</th>\n",
              "      <td>14150</td>\n",
              "      <td>Testing</td>\n",
              "      <td>O</td>\n",
              "      <td>11</td>\n",
              "      <td>Moderate</td>\n",
              "      <td>6</td>\n",
              "      <td>Mild</td>\n",
              "      <td>52</td>\n",
              "      <td>Severe</td>\n",
              "      <td>69</td>\n",
              "      <td>...</td>\n",
              "      <td>267.196207</td>\n",
              "      <td>222.505592</td>\n",
              "      <td>101.319626</td>\n",
              "      <td>252.955295</td>\n",
              "      <td>281.819677</td>\n",
              "      <td>35.088302</td>\n",
              "      <td>407.364636</td>\n",
              "      <td>1.237216</td>\n",
              "      <td>0.343807</td>\n",
              "      <td>1.579850</td>\n",
              "    </tr>\n",
              "  </tbody>\n",
              "</table>\n",
              "<p>10 rows × 812 columns</p>\n",
              "</div>\n",
              "      <button class=\"colab-df-convert\" onclick=\"convertToInteractive('df-b74821c2-5243-453d-90dc-33244c969077')\"\n",
              "              title=\"Convert this dataframe to an interactive table.\"\n",
              "              style=\"display:none;\">\n",
              "        \n",
              "  <svg xmlns=\"http://www.w3.org/2000/svg\" height=\"24px\"viewBox=\"0 0 24 24\"\n",
              "       width=\"24px\">\n",
              "    <path d=\"M0 0h24v24H0V0z\" fill=\"none\"/>\n",
              "    <path d=\"M18.56 5.44l.94 2.06.94-2.06 2.06-.94-2.06-.94-.94-2.06-.94 2.06-2.06.94zm-11 1L8.5 8.5l.94-2.06 2.06-.94-2.06-.94L8.5 2.5l-.94 2.06-2.06.94zm10 10l.94 2.06.94-2.06 2.06-.94-2.06-.94-.94-2.06-.94 2.06-2.06.94z\"/><path d=\"M17.41 7.96l-1.37-1.37c-.4-.4-.92-.59-1.43-.59-.52 0-1.04.2-1.43.59L10.3 9.45l-7.72 7.72c-.78.78-.78 2.05 0 2.83L4 21.41c.39.39.9.59 1.41.59.51 0 1.02-.2 1.41-.59l7.78-7.78 2.81-2.81c.8-.78.8-2.07 0-2.86zM5.41 20L4 18.59l7.72-7.72 1.47 1.35L5.41 20z\"/>\n",
              "  </svg>\n",
              "      </button>\n",
              "      \n",
              "  <style>\n",
              "    .colab-df-container {\n",
              "      display:flex;\n",
              "      flex-wrap:wrap;\n",
              "      gap: 12px;\n",
              "    }\n",
              "\n",
              "    .colab-df-convert {\n",
              "      background-color: #E8F0FE;\n",
              "      border: none;\n",
              "      border-radius: 50%;\n",
              "      cursor: pointer;\n",
              "      display: none;\n",
              "      fill: #1967D2;\n",
              "      height: 32px;\n",
              "      padding: 0 0 0 0;\n",
              "      width: 32px;\n",
              "    }\n",
              "\n",
              "    .colab-df-convert:hover {\n",
              "      background-color: #E2EBFA;\n",
              "      box-shadow: 0px 1px 2px rgba(60, 64, 67, 0.3), 0px 1px 3px 1px rgba(60, 64, 67, 0.15);\n",
              "      fill: #174EA6;\n",
              "    }\n",
              "\n",
              "    [theme=dark] .colab-df-convert {\n",
              "      background-color: #3B4455;\n",
              "      fill: #D2E3FC;\n",
              "    }\n",
              "\n",
              "    [theme=dark] .colab-df-convert:hover {\n",
              "      background-color: #434B5C;\n",
              "      box-shadow: 0px 1px 3px 1px rgba(0, 0, 0, 0.15);\n",
              "      filter: drop-shadow(0px 1px 2px rgba(0, 0, 0, 0.3));\n",
              "      fill: #FFFFFF;\n",
              "    }\n",
              "  </style>\n",
              "\n",
              "      <script>\n",
              "        const buttonEl =\n",
              "          document.querySelector('#df-b74821c2-5243-453d-90dc-33244c969077 button.colab-df-convert');\n",
              "        buttonEl.style.display =\n",
              "          google.colab.kernel.accessAllowed ? 'block' : 'none';\n",
              "\n",
              "        async function convertToInteractive(key) {\n",
              "          const element = document.querySelector('#df-b74821c2-5243-453d-90dc-33244c969077');\n",
              "          const dataTable =\n",
              "            await google.colab.kernel.invokeFunction('convertToInteractive',\n",
              "                                                     [key], {});\n",
              "          if (!dataTable) return;\n",
              "\n",
              "          const docLinkHtml = 'Like what you see? Visit the ' +\n",
              "            '<a target=\"_blank\" href=https://colab.research.google.com/notebooks/data_table.ipynb>data table notebook</a>'\n",
              "            + ' to learn more about interactive tables.';\n",
              "          element.innerHTML = '';\n",
              "          dataTable['output_type'] = 'display_data';\n",
              "          await google.colab.output.renderOutput(dataTable, element);\n",
              "          const docLink = document.createElement('div');\n",
              "          docLink.innerHTML = docLinkHtml;\n",
              "          element.appendChild(docLink);\n",
              "        }\n",
              "      </script>\n",
              "    </div>\n",
              "  </div>\n",
              "  "
            ]
          },
          "metadata": {},
          "execution_count": 4
        }
      ]
    },
    {
      "cell_type": "code",
      "source": [
        "X = dataset.iloc[:,17:]\n",
        "y = dataset.iloc[:, 9]"
      ],
      "metadata": {
        "id": "nA3fGBKkSgNe"
      },
      "execution_count": 5,
      "outputs": []
    },
    {
      "cell_type": "code",
      "source": [
        "'''\n",
        "from sklearn.model_selection import train_test_split\n",
        "X_train, X_test, y_train, y_test = train_test_split(X, y, test_size = 0.2, random_state = 0)\n",
        "'''"
      ],
      "metadata": {
        "id": "2XQF-1u0SioO"
      },
      "execution_count": null,
      "outputs": []
    },
    {
      "cell_type": "code",
      "source": [
        "from sklearn.feature_selection import SelectKBest\n",
        "bestfeatures = SelectKBest(k=10)\n",
        "fit = bestfeatures.fit(X,y)\n",
        "\n",
        "\n",
        "dfscores = pd.DataFrame(fit.scores_)\n",
        "dfcolumns = pd.DataFrame(X.columns)\n",
        "\n",
        "\n",
        "\n",
        "featureScores = pd.concat([dfcolumns,dfscores],axis=1)\n",
        "featureScores.columns = ['Specs','Score']\n",
        "\n",
        "\n",
        "number_of_feat=int(input(\"Number Of Best Features: \"))\n",
        "\n",
        "\n",
        "imp=featureScores.nlargest(number_of_feat,'Score')\n",
        "print(imp)"
      ],
      "metadata": {
        "colab": {
          "base_uri": "https://localhost:8080/"
        },
        "id": "7SolpqyTSkqL",
        "outputId": "8e49b5be-faba-43c4-c1ad-c314b2aefe65"
      },
      "execution_count": 6,
      "outputs": [
        {
          "output_type": "stream",
          "name": "stderr",
          "text": [
            "/usr/local/lib/python3.7/dist-packages/sklearn/feature_selection/_univariate_selection.py:112: UserWarning: Features [21 22 23 24] are constant.\n",
            "  warnings.warn(\"Features %s are constant.\" % constant_features_idx, UserWarning)\n",
            "/usr/local/lib/python3.7/dist-packages/sklearn/feature_selection/_univariate_selection.py:113: RuntimeWarning: invalid value encountered in true_divide\n",
            "  f = msb / msw\n"
          ]
        },
        {
          "output_type": "stream",
          "name": "stdout",
          "text": [
            "Number Of Best Features: 20\n",
            "              Specs      Score\n",
            "777         TA-G-92  10.704290\n",
            "778         TA-G-93  10.435887\n",
            "776         TA-G-91  10.124835\n",
            "779         TA-G-94  10.054740\n",
            "785        TA-G-100   9.326856\n",
            "784         TA-G-99   9.258559\n",
            "783         TA-G-98   9.114356\n",
            "780         TA-G-95   9.028713\n",
            "782         TA-G-97   8.846460\n",
            "781         TA-G-96   8.514041\n",
            "775         TA-G-90   8.418734\n",
            "774         TA-G-89   6.509001\n",
            "791  Swing_CCI_TA-G   5.187424\n",
            "773         TA-G-88   5.087170\n",
            "495        TA-RF-12   4.312089\n",
            "571        TA-RF-88   4.284253\n",
            "570        TA-RF-87   4.135177\n",
            "772         TA-G-87   4.132857\n",
            "496        TA-RF-13   4.006076\n",
            "572        TA-RF-89   3.987610\n"
          ]
        }
      ]
    },
    {
      "cell_type": "code",
      "source": [
        "list_of_feat=[]\n",
        "\n",
        "for i in range(number_of_feat):\n",
        "  list_of_feat.append(imp.iloc[:,0:1].values[i][0])"
      ],
      "metadata": {
        "id": "X2Cw_2lfTe7y"
      },
      "execution_count": 7,
      "outputs": []
    },
    {
      "cell_type": "code",
      "source": [
        "X_new = dataset[list_of_feat]\n",
        "y_new = dataset.iloc[:, 9]"
      ],
      "metadata": {
        "id": "reeIGI19Tfni"
      },
      "execution_count": 8,
      "outputs": []
    },
    {
      "cell_type": "code",
      "source": [
        "X_train=X_new.iloc[:120,:]  \n",
        "X_test=X_new.iloc[120:,:]\n",
        "y_train=y_new.iloc[:120]\n",
        "y_test=y_new.iloc[120:]"
      ],
      "metadata": {
        "id": "Ya-_ahv5Th3i"
      },
      "execution_count": 9,
      "outputs": []
    },
    {
      "cell_type": "markdown",
      "source": [
        "#Model Result Analyzing Functions"
      ],
      "metadata": {
        "id": "wuOb1b4uVI3z"
      }
    },
    {
      "cell_type": "code",
      "source": [
        "from sklearn.metrics import r2_score,mean_squared_error\n",
        "import matplotlib.pyplot as plt \n",
        "import seaborn as sns\n",
        "\n",
        "\n",
        "def R2_Score(temp_y,temp_pred):\n",
        "  return r2_score(temp_y,temp_pred)\n",
        "\n",
        "\n",
        "def MS_error(temp_y,temp_pred):\n",
        "  return mean_squared_error(temp_y, temp_pred)\n",
        "\n",
        "\n",
        "\n",
        "\n",
        "def observe_plot(temp_y,temp_pred,width,height):\n",
        "  plt.figure(figsize=(width,height))\n",
        "  plt.scatter(temp_y, temp_pred, color = \"blue\")\n",
        "  plt.xlabel(\"Actual\")\n",
        "  plt.ylabel(\"Predicted\")\n",
        "  plt.show()\n",
        "\n",
        "\n",
        "def pred_dataframe(temp_y,temp_pred):\n",
        "  return pd.DataFrame(\n",
        "        {\n",
        "            \"Actual Value\":temp_y,\n",
        "            \"Predicted Value\":temp_pred,\n",
        "            \"Difference\":temp_y-temp_pred\n",
        "        })\n",
        "\n",
        "\n",
        "\n",
        "\n",
        "def reg_plot(pred_y_df,width,height):\n",
        "  sns.set(rc={'figure.figsize':(width,height)})\n",
        "  sns.regplot(x=\"Actual Value\", y=\"Predicted Value\", data=pred_y_df);\n",
        "\n",
        "\n",
        "\n"
      ],
      "metadata": {
        "id": "Nz6_30-aVSEI"
      },
      "execution_count": 49,
      "outputs": []
    },
    {
      "cell_type": "markdown",
      "source": [
        "#Linear Regression"
      ],
      "metadata": {
        "id": "NvYTQ9hhTk1T"
      }
    },
    {
      "cell_type": "markdown",
      "source": [
        "###Model Training"
      ],
      "metadata": {
        "id": "QO0R_7BBUu2o"
      }
    },
    {
      "cell_type": "code",
      "source": [
        "from sklearn.linear_model import LinearRegression\n",
        "lin_reg = LinearRegression()\n",
        "lin_reg.fit(X_train, y_train)"
      ],
      "metadata": {
        "colab": {
          "base_uri": "https://localhost:8080/"
        },
        "id": "3Gl3-4OxUjah",
        "outputId": "6d2c209c-a266-44ef-e1c7-879d9b485ba3"
      },
      "execution_count": 12,
      "outputs": [
        {
          "output_type": "execute_result",
          "data": {
            "text/plain": [
              "LinearRegression()"
            ]
          },
          "metadata": {},
          "execution_count": 12
        }
      ]
    },
    {
      "cell_type": "markdown",
      "source": [
        "###Training Results"
      ],
      "metadata": {
        "id": "dL-ceG8PUyZg"
      }
    },
    {
      "cell_type": "code",
      "source": [
        "y_pred_train = lin_reg.predict(X_train)\n",
        "print(\"R2 score of Training: \", R2_Score(y_train,y_pred_train))\n",
        "print(\"Mean squared error: \",MS_error(y_train, y_pred_train))\n"
      ],
      "metadata": {
        "colab": {
          "base_uri": "https://localhost:8080/"
        },
        "id": "M1qdJIe0UeXF",
        "outputId": "623bfa6f-a860-470b-f3c8-2e4b1d84d47e"
      },
      "execution_count": 53,
      "outputs": [
        {
          "output_type": "stream",
          "name": "stdout",
          "text": [
            "R2 score of Training:  0.31803160561334076\n",
            "Mean squared error:  311.27519127020037\n"
          ]
        }
      ]
    },
    {
      "cell_type": "code",
      "source": [
        "observe_plot(y_train,y_pred_train,width=15,height=10)"
      ],
      "metadata": {
        "colab": {
          "base_uri": "https://localhost:8080/",
          "height": 611
        },
        "id": "IGdi6OQ7bYnW",
        "outputId": "35d3c3e4-4367-4d85-a48d-760835839b0c"
      },
      "execution_count": 47,
      "outputs": [
        {
          "output_type": "display_data",
          "data": {
            "text/plain": [
              "<Figure size 1080x720 with 1 Axes>"
            ],
            "image/png": "[encoded data removed]"
          },
          "metadata": {}
        }
      ]
    },
    {
      "cell_type": "code",
      "source": [
        "pred_y_df = pred_dataframe(y_train,y_pred_train)\n",
        "reg_plot(pred_y_df,width=15,height=10)"
      ],
      "metadata": {
        "colab": {
          "base_uri": "https://localhost:8080/",
          "height": 611
        },
        "id": "G8hhgPhac3mu",
        "outputId": "e49a0c5a-be89-4c02-acf2-0341e2b6512c"
      },
      "execution_count": 51,
      "outputs": [
        {
          "output_type": "display_data",
          "data": {
            "text/plain": [
              "<Figure size 1080x720 with 1 Axes>"
            ],
            "image/png": "[encoded data removed]"
          },
          "metadata": {}
        }
      ]
    },
    {
      "cell_type": "markdown",
      "source": [
        "###Testing Results"
      ],
      "metadata": {
        "id": "fRrBDgNqT853"
      }
    },
    {
      "cell_type": "code",
      "source": [
        "y_pred_test = lin_reg.predict(X_test)\n",
        "print(\"R2 score of Testing: \", R2_Score(y_test,y_pred_test))\n",
        "print(\"Mean squared error: \",MS_error(y_test,y_pred_test))"
      ],
      "metadata": {
        "colab": {
          "base_uri": "https://localhost:8080/"
        },
        "id": "1CcTDajGTjrz",
        "outputId": "08e2f43a-4ba6-429c-d8c0-dd82efc9fbc5"
      },
      "execution_count": 54,
      "outputs": [
        {
          "output_type": "stream",
          "name": "stdout",
          "text": [
            "R2 score of Testing:  -5.7475710496283\n",
            "Mean squared error:  3397.8829897905534\n"
          ]
        }
      ]
    },
    {
      "cell_type": "code",
      "source": [
        "observe_plot(y_test,y_pred_test,width=15,height=10)"
      ],
      "metadata": {
        "colab": {
          "base_uri": "https://localhost:8080/",
          "height": 611
        },
        "id": "gmr5YqLrbdp1",
        "outputId": "671edfa6-cd56-4d35-dc31-85c57d54560f"
      },
      "execution_count": 48,
      "outputs": [
        {
          "output_type": "display_data",
          "data": {
            "text/plain": [
              "<Figure size 1080x720 with 1 Axes>"
            ],
            "image/png": "[encoded data removed]"
          },
          "metadata": {}
        }
      ]
    },
    {
      "cell_type": "code",
      "source": [
        "pred_y_df = pred_dataframe(y_test,y_pred_test)\n",
        "reg_plot(pred_y_df,width=15,height=10)"
      ],
      "metadata": {
        "colab": {
          "base_uri": "https://localhost:8080/",
          "height": 611
        },
        "id": "3ks5caHFddBI",
        "outputId": "67b20733-ac46-4472-9a7b-a385730246ef"
      },
      "execution_count": 52,
      "outputs": [
        {
          "output_type": "display_data",
          "data": {
            "text/plain": [
              "<Figure size 1080x720 with 1 Axes>"
            ],
            "image/png": "[encoded data removed]"
          },
          "metadata": {}
        }
      ]
    }
  ]
}